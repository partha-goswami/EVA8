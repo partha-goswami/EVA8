{
  "nbformat": 4,
  "nbformat_minor": 0,
  "metadata": {
    "colab": {
      "provenance": []
    },
    "kernelspec": {
      "name": "python3",
      "display_name": "Python 3"
    },
    "gpuClass": "standard",
    "accelerator": "GPU"
  },
  "cells": [
    {
      "cell_type": "code",
      "metadata": {
        "id": "0m2JWFliFfKT"
      },
      "source": [
        "from __future__ import print_function\n",
        "import torch\n",
        "import torch.nn as nn\n",
        "import torch.nn.functional as F\n",
        "import torch.optim as optim\n",
        "from torchvision import datasets, transforms"
      ],
      "execution_count": 88,
      "outputs": []
    },
    {
      "cell_type": "code",
      "metadata": {
        "id": "h_Cx9q2QFgM7"
      },
      "source": [
        "class Net(nn.Module):\n",
        "    def __init__(self):\n",
        "        super(Net, self).__init__()\n",
        "\n",
        "        self.conv1 = nn.Conv2d(1, 16, 3) # Input (1 * 28 * 28), Output (26 * 26 * 16)\n",
        "        self.bn1 = nn.BatchNorm2d(16) # Input (26 * 26 * 16), Output (26 * 26 * 16)\n",
        "\n",
        "        self.conv2 = nn.Conv2d(16, 16, 3) # Input (26 * 26 * 16), Output (24 * 24 * 16)\n",
        "        self.bn2 = nn.BatchNorm2d(16) # Input (24 * 24 * 16), Output (24 * 24 * 16)\n",
        "\n",
        "        self.conv3 = nn.Conv2d(16, 16, 3) # Input (24 * 24 * 16), Output (22 * 22 * 16)\n",
        "        self.bn3 = nn.BatchNorm2d(16) # Input (22 * 22 * 16), Output (22 * 22 * 16)\n",
        "\n",
        "        self.pool1 = nn.MaxPool2d(2, 2) # Input (22 * 22 * 16), Output (11 * 11 * 16)\n",
        "\n",
        "        self.conv4 = nn.Conv2d(16, 16, 3) # Input (11 * 11 * 16), Output (9 * 9 * 16)\n",
        "        self.bn4 = nn.BatchNorm2d(16) # Input (9 * 9 * 16), Output (9 * 9 * 16)\n",
        "\n",
        "        self.conv5 = nn.Conv2d(16, 16, 3) # Input (9 * 9 * 16), Output (7 * 7 * 16)\n",
        "        self.bn5 = nn.BatchNorm2d(16) # Input (7 * 7 * 16), Output (7 * 7 * 16)\n",
        "\n",
        "        self.conv6 = nn.Conv2d(16, 16, 3) # Input (7 * 7 * 16), Output (5 * 5 * 16)\n",
        "        self.bn6 = nn.BatchNorm2d(16) # Input (5 * 5 * 16), Output (5 * 5 * 16)\n",
        "\n",
        "        self.conv7 = nn.Conv2d(16, 32, 3) # Input (5 * 5 * 16), Output (3 * 3 * 32)\n",
        "        self.bn7 = nn.BatchNorm2d(32) # Input (3 * 3 * 32), Output (3 * 3 * 32)\n",
        "\n",
        "        self.conv8 = nn.Conv2d(32, 10, 1) # Input (3 * 3 * 32), Output (3 * 3 * 10)\n",
        "\n",
        "        self.pool2 = nn.AvgPool2d(2) # Input (3 * 3 * 10), Output (1 * 1 * 10)\n",
        "\n",
        "        self.dense1 = nn.Linear(in_features=1 * 1 * 10, out_features=10)\n",
        "\n",
        "    def forward(self, x):\n",
        "        x = self.bn1((F.relu(self.conv1(x))))\n",
        "        x = F.dropout(self.bn2(F.relu(self.conv2(x))), 0.1)\n",
        "        x = F.dropout(self.bn3(F.relu(self.conv3(x))), 0.1)\n",
        "        x = self.pool1(x)\n",
        "        x = F.dropout(self.bn4(F.relu(self.conv4(x))), 0.1)\n",
        "        x = F.dropout(self.bn5(F.relu(self.conv5(x))), 0.1)\n",
        "        x = F.dropout(self.bn6(F.relu(self.conv6(x))), 0.1)\n",
        "        x = F.dropout(self.bn7(F.relu(self.conv7(x))), 0.1)\n",
        "        x = self.conv8(x)\n",
        "\n",
        "        \n",
        "\n",
        "        x = self.pool2(x)        \n",
        "        x = x.view(-1, 1 * 1 * 10)        \n",
        "        x = self.dense1(x)\n",
        "        \n",
        "        \n",
        "        return F.log_softmax(x)\n",
        "        \n",
        "        "
      ],
      "execution_count": 89,
      "outputs": []
    },
    {
      "cell_type": "code",
      "metadata": {
        "id": "xdydjYTZFyi3",
        "colab": {
          "base_uri": "https://localhost:8080/"
        },
        "outputId": "eff2e378-710b-4341-bc15-c208c1701703"
      },
      "source": [
        "!pip install torchsummary\n",
        "from torchsummary import summary\n",
        "use_cuda = torch.cuda.is_available()\n",
        "device = torch.device(\"cuda\" if use_cuda else \"cpu\")\n",
        "model = Net().to(device)\n",
        "summary(model, input_size=(1, 28, 28))"
      ],
      "execution_count": 90,
      "outputs": [
        {
          "output_type": "stream",
          "name": "stdout",
          "text": [
            "Looking in indexes: https://pypi.org/simple, https://us-python.pkg.dev/colab-wheels/public/simple/\n",
            "Requirement already satisfied: torchsummary in /usr/local/lib/python3.8/dist-packages (1.5.1)\n",
            "----------------------------------------------------------------\n",
            "        Layer (type)               Output Shape         Param #\n",
            "================================================================\n",
            "            Conv2d-1           [-1, 16, 26, 26]             160\n",
            "       BatchNorm2d-2           [-1, 16, 26, 26]              32\n",
            "            Conv2d-3           [-1, 16, 24, 24]           2,320\n",
            "       BatchNorm2d-4           [-1, 16, 24, 24]              32\n",
            "            Conv2d-5           [-1, 16, 22, 22]           2,320\n",
            "       BatchNorm2d-6           [-1, 16, 22, 22]              32\n",
            "         MaxPool2d-7           [-1, 16, 11, 11]               0\n",
            "            Conv2d-8             [-1, 16, 9, 9]           2,320\n",
            "       BatchNorm2d-9             [-1, 16, 9, 9]              32\n",
            "           Conv2d-10             [-1, 16, 7, 7]           2,320\n",
            "      BatchNorm2d-11             [-1, 16, 7, 7]              32\n",
            "           Conv2d-12             [-1, 16, 5, 5]           2,320\n",
            "      BatchNorm2d-13             [-1, 16, 5, 5]              32\n",
            "           Conv2d-14             [-1, 32, 3, 3]           4,640\n",
            "      BatchNorm2d-15             [-1, 32, 3, 3]              64\n",
            "           Conv2d-16             [-1, 10, 3, 3]             330\n",
            "        AvgPool2d-17             [-1, 10, 1, 1]               0\n",
            "           Linear-18                   [-1, 10]             110\n",
            "================================================================\n",
            "Total params: 17,096\n",
            "Trainable params: 17,096\n",
            "Non-trainable params: 0\n",
            "----------------------------------------------------------------\n",
            "Input size (MB): 0.00\n",
            "Forward/backward pass size (MB): 0.48\n",
            "Params size (MB): 0.07\n",
            "Estimated Total Size (MB): 0.55\n",
            "----------------------------------------------------------------\n"
          ]
        },
        {
          "output_type": "stream",
          "name": "stderr",
          "text": [
            "<ipython-input-89-2e8100a8702e>:82: UserWarning: Implicit dimension choice for log_softmax has been deprecated. Change the call to include dim=X as an argument.\n",
            "  return F.log_softmax(x)\n"
          ]
        }
      ]
    },
    {
      "cell_type": "code",
      "metadata": {
        "id": "DqTWLaM5GHgH"
      },
      "source": [
        "\n",
        "\n",
        "torch.manual_seed(1)\n",
        "batch_size = 128\n",
        "\n",
        "kwargs = {'num_workers': 1, 'pin_memory': True} if use_cuda else {}\n",
        "train_loader = torch.utils.data.DataLoader(\n",
        "    datasets.MNIST('../data', train=True, download=True,\n",
        "                    transform=transforms.Compose([\n",
        "                        transforms.ToTensor(),\n",
        "                        transforms.Normalize((0.1307,), (0.3081,))\n",
        "                    ])),\n",
        "    batch_size=batch_size, shuffle=True, **kwargs)\n",
        "test_loader = torch.utils.data.DataLoader(\n",
        "    datasets.MNIST('../data', train=False, transform=transforms.Compose([\n",
        "                        transforms.ToTensor(),\n",
        "                        transforms.Normalize((0.1307,), (0.3081,))\n",
        "                    ])),\n",
        "    batch_size=batch_size, shuffle=True, **kwargs)\n"
      ],
      "execution_count": 91,
      "outputs": []
    },
    {
      "cell_type": "code",
      "metadata": {
        "id": "8fDefDhaFlwH"
      },
      "source": [
        "from tqdm import tqdm\n",
        "\n",
        "target_accuracy = 99.4\n",
        "\n",
        "def train(model, device, train_loader, optimizer, epoch):\n",
        "    model.train()\n",
        "    pbar = tqdm(train_loader)\n",
        "    for batch_idx, (data, target) in enumerate(pbar):\n",
        "        data, target = data.to(device), target.to(device)\n",
        "        optimizer.zero_grad()\n",
        "        output = model(data)\n",
        "        loss = F.nll_loss(output, target)\n",
        "        loss.backward()\n",
        "        optimizer.step()\n",
        "        pbar.set_description(desc= f'loss={loss.item()} batch_id={batch_idx}')\n",
        "\n",
        "\n",
        "def test(model, device, test_loader, epoch):\n",
        "    model.eval()\n",
        "    test_loss = 0\n",
        "    correct = 0\n",
        "    with torch.no_grad():\n",
        "        for data, target in test_loader:\n",
        "            data, target = data.to(device), target.to(device)\n",
        "            output = model(data)\n",
        "            test_loss += F.nll_loss(output, target, reduction='sum').item()  # sum up batch loss\n",
        "            pred = output.argmax(dim=1, keepdim=True)  # get the index of the max log-probability\n",
        "            correct += pred.eq(target.view_as(pred)).sum().item()\n",
        "\n",
        "    test_loss /= len(test_loader.dataset)\n",
        "    test_accuracy = 100. * correct / len(test_loader.dataset)\n",
        "\n",
        "    print('\\nEpoch: {}, Test set: Average loss: {:.4f}, Accuracy: {}/{} ({:.2f}%)\\n'.format(epoch,\n",
        "        test_loss, correct, len(test_loader.dataset),\n",
        "        100. * correct / len(test_loader.dataset)))\n",
        "    \n",
        "    return test_accuracy\n",
        "\n",
        "    '''\n",
        "    print('\\nTest set: Average loss: {:.4f}, Accuracy: {}/{} ({:.2f}%)\\n'.format(\n",
        "        test_loss, correct, len(test_loader.dataset),\n",
        "        100. * correct / len(test_loader.dataset)))\n",
        "    '''"
      ],
      "execution_count": 92,
      "outputs": []
    },
    {
      "cell_type": "code",
      "metadata": {
        "id": "MMWbLWO6FuHb",
        "colab": {
          "base_uri": "https://localhost:8080/"
        },
        "outputId": "5ee1653f-2291-4f65-f21c-ec9d17d9ee85"
      },
      "source": [
        "\n",
        "model = Net().to(device)\n",
        "optimizer = optim.SGD(model.parameters(), lr=0.013, momentum=0.9)\n",
        "\n",
        "best_test_accuracy = 0.0\n",
        "targetAchieved = False\n",
        "\n",
        "\n",
        "for epoch in range(1, 20):\n",
        "    train(model, device, train_loader, optimizer, epoch)\n",
        "    test_accuracy_local = test(model, device, test_loader, epoch)\n",
        "\n",
        "    if test_accuracy_local > best_test_accuracy:\n",
        "      best_test_accuracy = test_accuracy_local\n",
        "\n",
        "    if test_accuracy_local >= target_accuracy:\n",
        "      print('\\nTarget Accuract obtained in {} epochs. Current Test Accuracy is {:.2f}%. Stopping the Program.')\n",
        "      targetAchieved = True\n",
        "      break\n",
        "\n",
        "if not targetAchieved:\n",
        "  print('Best Accuracy Observed as {:.2f}% while within 20 epochs.'.format(best_test_accuracy))"
      ],
      "execution_count": 93,
      "outputs": [
        {
          "output_type": "stream",
          "name": "stderr",
          "text": [
            "  0%|          | 0/469 [00:00<?, ?it/s]<ipython-input-89-2e8100a8702e>:82: UserWarning: Implicit dimension choice for log_softmax has been deprecated. Change the call to include dim=X as an argument.\n",
            "  return F.log_softmax(x)\n",
            "loss=0.03236066922545433 batch_id=468: 100%|██████████| 469/469 [00:16<00:00, 28.05it/s]\n"
          ]
        },
        {
          "output_type": "stream",
          "name": "stdout",
          "text": [
            "\n",
            "Epoch: 1, Test set: Average loss: 0.0672, Accuracy: 9791/10000 (97.91%)\n",
            "\n"
          ]
        },
        {
          "output_type": "stream",
          "name": "stderr",
          "text": [
            "loss=0.05793313682079315 batch_id=468: 100%|██████████| 469/469 [00:16<00:00, 28.24it/s]\n"
          ]
        },
        {
          "output_type": "stream",
          "name": "stdout",
          "text": [
            "\n",
            "Epoch: 2, Test set: Average loss: 0.0498, Accuracy: 9850/10000 (98.50%)\n",
            "\n"
          ]
        },
        {
          "output_type": "stream",
          "name": "stderr",
          "text": [
            "loss=0.019415436312556267 batch_id=468: 100%|██████████| 469/469 [00:16<00:00, 28.02it/s]\n"
          ]
        },
        {
          "output_type": "stream",
          "name": "stdout",
          "text": [
            "\n",
            "Epoch: 3, Test set: Average loss: 0.0396, Accuracy: 9870/10000 (98.70%)\n",
            "\n"
          ]
        },
        {
          "output_type": "stream",
          "name": "stderr",
          "text": [
            "loss=0.12981829047203064 batch_id=468: 100%|██████████| 469/469 [00:16<00:00, 28.16it/s]\n"
          ]
        },
        {
          "output_type": "stream",
          "name": "stdout",
          "text": [
            "\n",
            "Epoch: 4, Test set: Average loss: 0.0404, Accuracy: 9880/10000 (98.80%)\n",
            "\n"
          ]
        },
        {
          "output_type": "stream",
          "name": "stderr",
          "text": [
            "loss=0.030828973278403282 batch_id=468: 100%|██████████| 469/469 [00:16<00:00, 28.20it/s]\n"
          ]
        },
        {
          "output_type": "stream",
          "name": "stdout",
          "text": [
            "\n",
            "Epoch: 5, Test set: Average loss: 0.0355, Accuracy: 9895/10000 (98.95%)\n",
            "\n"
          ]
        },
        {
          "output_type": "stream",
          "name": "stderr",
          "text": [
            "loss=0.015010762959718704 batch_id=468: 100%|██████████| 469/469 [00:16<00:00, 28.46it/s]\n"
          ]
        },
        {
          "output_type": "stream",
          "name": "stdout",
          "text": [
            "\n",
            "Epoch: 6, Test set: Average loss: 0.0372, Accuracy: 9886/10000 (98.86%)\n",
            "\n"
          ]
        },
        {
          "output_type": "stream",
          "name": "stderr",
          "text": [
            "loss=0.013368281535804272 batch_id=468: 100%|██████████| 469/469 [00:17<00:00, 27.23it/s]\n"
          ]
        },
        {
          "output_type": "stream",
          "name": "stdout",
          "text": [
            "\n",
            "Epoch: 7, Test set: Average loss: 0.0330, Accuracy: 9899/10000 (98.99%)\n",
            "\n"
          ]
        },
        {
          "output_type": "stream",
          "name": "stderr",
          "text": [
            "loss=0.021185649558901787 batch_id=468: 100%|██████████| 469/469 [00:16<00:00, 28.51it/s]\n"
          ]
        },
        {
          "output_type": "stream",
          "name": "stdout",
          "text": [
            "\n",
            "Epoch: 8, Test set: Average loss: 0.0318, Accuracy: 9907/10000 (99.07%)\n",
            "\n"
          ]
        },
        {
          "output_type": "stream",
          "name": "stderr",
          "text": [
            "loss=0.008560816757380962 batch_id=468: 100%|██████████| 469/469 [00:16<00:00, 28.22it/s]\n"
          ]
        },
        {
          "output_type": "stream",
          "name": "stdout",
          "text": [
            "\n",
            "Epoch: 9, Test set: Average loss: 0.0316, Accuracy: 9918/10000 (99.18%)\n",
            "\n"
          ]
        },
        {
          "output_type": "stream",
          "name": "stderr",
          "text": [
            "loss=0.008023925125598907 batch_id=468: 100%|██████████| 469/469 [00:16<00:00, 28.17it/s]\n"
          ]
        },
        {
          "output_type": "stream",
          "name": "stdout",
          "text": [
            "\n",
            "Epoch: 10, Test set: Average loss: 0.0317, Accuracy: 9909/10000 (99.09%)\n",
            "\n"
          ]
        },
        {
          "output_type": "stream",
          "name": "stderr",
          "text": [
            "loss=0.06014333292841911 batch_id=468: 100%|██████████| 469/469 [00:16<00:00, 28.45it/s]\n"
          ]
        },
        {
          "output_type": "stream",
          "name": "stdout",
          "text": [
            "\n",
            "Epoch: 11, Test set: Average loss: 0.0282, Accuracy: 9922/10000 (99.22%)\n",
            "\n"
          ]
        },
        {
          "output_type": "stream",
          "name": "stderr",
          "text": [
            "loss=0.022054491564631462 batch_id=468: 100%|██████████| 469/469 [00:16<00:00, 28.26it/s]\n"
          ]
        },
        {
          "output_type": "stream",
          "name": "stdout",
          "text": [
            "\n",
            "Epoch: 12, Test set: Average loss: 0.0303, Accuracy: 9910/10000 (99.10%)\n",
            "\n"
          ]
        },
        {
          "output_type": "stream",
          "name": "stderr",
          "text": [
            "loss=0.03342869505286217 batch_id=468: 100%|██████████| 469/469 [00:16<00:00, 28.76it/s]\n"
          ]
        },
        {
          "output_type": "stream",
          "name": "stdout",
          "text": [
            "\n",
            "Epoch: 13, Test set: Average loss: 0.0340, Accuracy: 9899/10000 (98.99%)\n",
            "\n"
          ]
        },
        {
          "output_type": "stream",
          "name": "stderr",
          "text": [
            "loss=0.06840605288743973 batch_id=468: 100%|██████████| 469/469 [00:16<00:00, 28.52it/s]\n"
          ]
        },
        {
          "output_type": "stream",
          "name": "stdout",
          "text": [
            "\n",
            "Epoch: 14, Test set: Average loss: 0.0300, Accuracy: 9910/10000 (99.10%)\n",
            "\n"
          ]
        },
        {
          "output_type": "stream",
          "name": "stderr",
          "text": [
            "loss=0.0298866406083107 batch_id=468: 100%|██████████| 469/469 [00:16<00:00, 27.96it/s]\n"
          ]
        },
        {
          "output_type": "stream",
          "name": "stdout",
          "text": [
            "\n",
            "Epoch: 15, Test set: Average loss: 0.0293, Accuracy: 9906/10000 (99.06%)\n",
            "\n"
          ]
        },
        {
          "output_type": "stream",
          "name": "stderr",
          "text": [
            "loss=0.019378533586859703 batch_id=468: 100%|██████████| 469/469 [00:16<00:00, 28.61it/s]\n"
          ]
        },
        {
          "output_type": "stream",
          "name": "stdout",
          "text": [
            "\n",
            "Epoch: 16, Test set: Average loss: 0.0352, Accuracy: 9907/10000 (99.07%)\n",
            "\n"
          ]
        },
        {
          "output_type": "stream",
          "name": "stderr",
          "text": [
            "loss=0.02348094992339611 batch_id=468: 100%|██████████| 469/469 [00:16<00:00, 28.46it/s]\n"
          ]
        },
        {
          "output_type": "stream",
          "name": "stdout",
          "text": [
            "\n",
            "Epoch: 17, Test set: Average loss: 0.0270, Accuracy: 9924/10000 (99.24%)\n",
            "\n"
          ]
        },
        {
          "output_type": "stream",
          "name": "stderr",
          "text": [
            "loss=0.013307393528521061 batch_id=468: 100%|██████████| 469/469 [00:16<00:00, 28.25it/s]\n"
          ]
        },
        {
          "output_type": "stream",
          "name": "stdout",
          "text": [
            "\n",
            "Epoch: 18, Test set: Average loss: 0.0305, Accuracy: 9920/10000 (99.20%)\n",
            "\n"
          ]
        },
        {
          "output_type": "stream",
          "name": "stderr",
          "text": [
            "loss=0.002220989903435111 batch_id=468: 100%|██████████| 469/469 [00:16<00:00, 27.79it/s]\n"
          ]
        },
        {
          "output_type": "stream",
          "name": "stdout",
          "text": [
            "\n",
            "Epoch: 19, Test set: Average loss: 0.0267, Accuracy: 9932/10000 (99.32%)\n",
            "\n",
            "Best Accuracy Observed as 99.32% while within 20 epochs.\n"
          ]
        }
      ]
    },
    {
      "cell_type": "code",
      "metadata": {
        "id": "So5uk4EkHW6R"
      },
      "source": [],
      "execution_count": null,
      "outputs": []
    }
  ]
}