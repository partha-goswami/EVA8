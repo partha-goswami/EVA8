{
  "nbformat": 4,
  "nbformat_minor": 0,
  "metadata": {
    "kernelspec": {
      "name": "python3",
      "display_name": "Python 3"
    },
    "language_info": {
      "codemirror_mode": {
        "name": "ipython",
        "version": 3
      },
      "file_extension": ".py",
      "mimetype": "text/x-python",
      "name": "python",
      "nbconvert_exporter": "python",
      "pygments_lexer": "ipython3",
      "version": "3.6.6"
    },
    "colab": {
      "provenance": []
    },
    "gpuClass": "standard"
  },
  "cells": [
    {
      "cell_type": "markdown",
      "source": [
        "##Import Libraries"
      ],
      "metadata": {
        "id": "QpnUiIBsOu18"
      }
    },
    {
      "cell_type": "code",
      "source": [
        "import torch\n",
        "import torchvision\n",
        "from torchvision import datasets, transforms\n",
        "import albumentations\n",
        "from albumentations.pytorch.transforms import ToTensorV2\n",
        "import numpy as np\n",
        "from torchsummary import summary\n",
        "from tqdm import tqdm\n",
        "import torch.optim as optim\n",
        "from torch.optim.lr_scheduler import StepLR,OneCycleLR\n",
        "import seaborn as sns\n",
        "import matplotlib.pyplot as plt"
      ],
      "metadata": {
        "id": "GA5lSYziMY5F"
      },
      "execution_count": 14,
      "outputs": []
    },
    {
      "cell_type": "markdown",
      "source": [
        "#### Get cifar10 data stats\n",
        "*(we are calculating mean and standard deviation for each channel of the input data. We would use this in cutout fillvalue in albumentation transformation, would place it in utils.py file)*"
      ],
      "metadata": {
        "id": "H_ITO11aMvY3"
      }
    },
    {
      "cell_type": "code",
      "source": [
        "def get_cifar10_stats():\n",
        "  '''\n",
        "  we are calculating mean and standard deviation for each channel of the input data. We would use this in cutout fillvalue in albumentation transformation\n",
        "  '''\n",
        "  train_transform = transforms.Compose([transforms.ToTensor()])\n",
        "  train_set = datasets.CIFAR10(root='./data', train=True, download=True, transform=train_transform)\n",
        "  return train_set.data.mean(axis=(0,1,2))/255, train_set.data.std(axis=(0,1,2))/255\n",
        "\n",
        "get_cifar10_stats()"
      ],
      "metadata": {
        "colab": {
          "base_uri": "https://localhost:8080/"
        },
        "id": "gCqrdEnmLqRP",
        "outputId": "bdc5d650-0ba8-4eed-c8a6-c3099d3bacdd"
      },
      "execution_count": 15,
      "outputs": [
        {
          "output_type": "stream",
          "name": "stdout",
          "text": [
            "Files already downloaded and verified\n"
          ]
        },
        {
          "output_type": "execute_result",
          "data": {
            "text/plain": [
              "(array([0.49139968, 0.48215841, 0.44653091]),\n",
              " array([0.24703223, 0.24348513, 0.26158784]))"
            ]
          },
          "metadata": {},
          "execution_count": 15
        }
      ]
    },
    {
      "cell_type": "markdown",
      "source": [
        "#### Config Data Used\n",
        "*(Would be part of utils.py file)*"
      ],
      "metadata": {
        "id": "GDrKqKYsOkfB"
      }
    },
    {
      "cell_type": "code",
      "source": [
        "def get_config_values():\n",
        "  '''\n",
        "  Returns the config data used\n",
        "  '''\n",
        "\n",
        "  dict_config_values = {}\n",
        "  dict_config_values['dropout_rate'] = 0.01\n",
        "  dict_config_values['batch_size'] = 256\n",
        "  dict_config_values['no_of_workers'] = 2\n",
        "  dict_config_values['pin_memory'] = True\n",
        "  dict_config_values['learning_rate'] = 0.01\n",
        "  dict_config_values['epochs'] = 90\n",
        "  dict_config_values['L1_factor'] = 0\n",
        "  dict_config_values['L2_factor'] = 0.0001\n",
        "  dict_config_values['gradient_clip'] = 0.1\n",
        "  dict_config_values['target_test_accuracy'] = 85\n",
        "\n",
        "  \n",
        "  dict_config_values['albumentation'] = {\n",
        "      'horizontalFlip_probability': 0.2,\n",
        "\n",
        "      'shiftScaleRotate_shift_limit': 0.1,\n",
        "      'shiftScaleRotate_scale_limit': 0.1,\n",
        "      'shiftScaleRotate_rotate_limit': 15,\n",
        "      'shiftScaleRotate_probability': 0.25,\n",
        "\n",
        "      'coarseDropout_max_holes': 1,\n",
        "      'coarseDropout_min_holes': 1,\n",
        "      'coarseDropout_max_height': 16,\n",
        "      'coarseDropout_max_width': 16,\n",
        "      'coarseDropout_min_height': 16,\n",
        "      'coarseDropout_min_width': 16,\n",
        "      'coarseDropout_cutout_probability': 0.5,\n",
        "\n",
        "      'colorJitter_probability': 0.25,\n",
        "      'colorJitter_brightness': 0.3,\n",
        "      'colorJitter_contrast': 0.3,\n",
        "      'colorJitter_saturation': 0.3,\n",
        "      'colorJitter_hue': 0.2,\n",
        "\n",
        "      'gray_probability': 0.15\n",
        "  }\n",
        "  return dict_config_values\n",
        "\n",
        "config_dict = get_config_values()"
      ],
      "metadata": {
        "id": "bMQ-XX14Bohw"
      },
      "execution_count": 16,
      "outputs": []
    },
    {
      "cell_type": "markdown",
      "source": [
        "###Data Loaders after applying albumentation transforms\n",
        "*(would be placed in utils.py file)*"
      ],
      "metadata": {
        "id": "mWSpg9QPXo9F"
      }
    },
    {
      "cell_type": "code",
      "source": [
        "def apply_albumentation(config_dict):\n",
        "  '''\n",
        "  Kept separate method to apply albumentation. As it returns the transformation applied in terms of dictionary.\n",
        "  Our next dataset and dataloaders would use the transformation by calling this method.\n",
        "  '''\n",
        "  cifar10_mean,cifar10_std = get_cifar10_stats()\n",
        "\n",
        "  train_transforms = albumentations.Compose([albumentations.HorizontalFlip(p=config_dict['albumentation']['horizontalFlip_probability']),\n",
        "                                  albumentations.ShiftScaleRotate(shift_limit=config_dict['albumentation']['shiftScaleRotate_shift_limit'], \n",
        "                                                                  scale_limit=config_dict['albumentation']['shiftScaleRotate_scale_limit'],\n",
        "                                                                  rotate_limit=config_dict['albumentation']['shiftScaleRotate_rotate_limit'],\n",
        "                                                                  p=config_dict['albumentation']['shiftScaleRotate_probability']),\n",
        "                                  albumentations.CoarseDropout(max_holes=config_dict['albumentation']['coarseDropout_max_holes'],\n",
        "                                                               min_holes =config_dict['albumentation']['coarseDropout_min_holes'], \n",
        "                                                               max_height=config_dict['albumentation']['coarseDropout_max_height'], \n",
        "                                                               max_width=config_dict['albumentation']['coarseDropout_max_width'], \n",
        "                                  p=config_dict['albumentation']['coarseDropout_cutout_probability'],fill_value=tuple([x * 255.0 for x in cifar10_mean]),\n",
        "                                  min_height=config_dict['albumentation']['coarseDropout_min_height'], min_width=config_dict['albumentation']['coarseDropout_min_width']),\n",
        "                                  albumentations.ColorJitter(p=config_dict['albumentation']['colorJitter_probability'],\n",
        "                                                             brightness=config_dict['albumentation']['colorJitter_brightness'], \n",
        "                                                             contrast=config_dict['albumentation']['colorJitter_contrast'], \n",
        "                                                             saturation=config_dict['albumentation']['colorJitter_saturation'], hue=config_dict['albumentation']['colorJitter_hue']),\n",
        "                                  albumentations.ToGray(p=config_dict['albumentation']['gray_probability']),\n",
        "                                  albumentations.Normalize(mean=cifar10_mean, std=cifar10_std,always_apply=True),\n",
        "                                  ToTensorV2()\n",
        "                                ])\n",
        "\n",
        "  test_transforms = albumentations.Compose([albumentations.Normalize(mean=cifar10_mean, std=cifar10_std, always_apply=True),\n",
        "                                 ToTensorV2()])\n",
        "  return lambda img:train_transforms(image=np.array(img))[\"image\"],lambda img:test_transforms(image=np.array(img))[\"image\"]\n",
        "\n",
        "def get_data_loaders(config_dict):\n",
        "  '''\n",
        "  This method applies albumentation transforms and returns the train and test dataloaders\n",
        "  : param config_dict: dictionary of config values\n",
        "  '''\n",
        "  train_transforms, test_transforms = apply_albumentation(config_dict)  \n",
        "  \n",
        "\n",
        "  trainset = datasets.CIFAR10(root='./data', train=True,\n",
        "                                        download=True, transform=train_transforms)  \n",
        "        \n",
        "  testset  = datasets.CIFAR10(root='./data', train=False,\n",
        "                                        download=True, transform=test_transforms)\n",
        "\n",
        "  train_loader = torch.utils.data.DataLoader(trainset, \n",
        "                                                  batch_size=config_dict['batch_size'], \n",
        "                                                  shuffle=True,\n",
        "                                                  num_workers=config_dict['no_of_workers'], \n",
        "                                                  pin_memory=config_dict['pin_memory'])\n",
        "  test_loader = torch.utils.data.DataLoader(testset, \n",
        "                                                 batch_size=config_dict['batch_size'], \n",
        "                                                  shuffle=True,\n",
        "                                                  num_workers=config_dict['no_of_workers'], \n",
        "                                                  pin_memory=config_dict['pin_memory'])\n",
        "  return train_loader, test_loader\n",
        "\n",
        "train_loader, test_loader = get_data_loaders(config_dict)\n",
        "train_loader, test_loader"
      ],
      "metadata": {
        "colab": {
          "base_uri": "https://localhost:8080/"
        },
        "id": "Z3_3NxqlS5WT",
        "outputId": "50e2f6bc-7a94-4775-b4d9-04afe0426458"
      },
      "execution_count": 17,
      "outputs": [
        {
          "output_type": "stream",
          "name": "stdout",
          "text": [
            "Files already downloaded and verified\n",
            "Files already downloaded and verified\n",
            "Files already downloaded and verified\n"
          ]
        },
        {
          "output_type": "execute_result",
          "data": {
            "text/plain": [
              "(<torch.utils.data.dataloader.DataLoader at 0x7efcb0c42880>,\n",
              " <torch.utils.data.dataloader.DataLoader at 0x7efcb0c429a0>)"
            ]
          },
          "metadata": {},
          "execution_count": 17
        }
      ]
    },
    {
      "cell_type": "markdown",
      "source": [
        "##Model\n",
        "*(placed at Model.py python file, in models directory)*"
      ],
      "metadata": {
        "id": "phtCtRaSrWgp"
      }
    },
    {
      "cell_type": "code",
      "source": [
        "import torch.nn as nn\n",
        "import torch.nn.functional as F\n",
        "\n",
        "\n",
        "class Net(nn.Module):\n",
        "    '''\n",
        "    The class responsible for defining the blocks in the neural network and the forward pass of it\n",
        "    '''\n",
        "    def __init__(self, dropout):\n",
        "        '''\n",
        "\n",
        "        :param dropout: dropout rate\n",
        "        '''\n",
        "        super(Net, self).__init__()\n",
        "\n",
        "        #------------------------------------Convolution Block 1--------------------------------------------------\n",
        "        # Input Dimension : 32 * 32 * 3 (32 * 32 color images)\n",
        "        # Initial Receptive Field: 1\n",
        "        # Initial Jump-In (jin) : 1\n",
        "        self.conv1 = nn.Sequential(\n",
        "\n",
        "            nn.Conv2d(3, 32, 3, padding=1, bias=False),\n",
        "            nn.ReLU(),\n",
        "            nn.BatchNorm2d(32),\n",
        "            nn.Dropout2d(dropout),\n",
        "\n",
        "            # Input Dimension : 32 * 32 * 3\n",
        "            # Output Dimension: (32 + (2 * 1) - 3)/1 + 1 -> 32 * 32 * 32\n",
        "            # RF Calculation: 1 + (3 - 1) * 1 -> 3 * 3\n",
        "            # JOut: 1 * 1 = 1\n",
        "\n",
        "            nn.Conv2d(32, 64, 3, padding=1, bias=False),\n",
        "            nn.ReLU(),\n",
        "            nn.BatchNorm2d(64),\n",
        "            nn.Dropout2d(dropout),\n",
        "\n",
        "            # Input Dimension : 32 * 32 * 32\n",
        "            # Output Dimension: (32 + (2 * 1) - 3)/1 + 1 -> 32 * 32 * 64\n",
        "            # RF Calculation: 3 + (3 - 1) * 1 -> 5 * 5\n",
        "            # JOut: 1 * 1 = 1\n",
        "\n",
        "            nn.Conv2d(64, 32, 1, stride=2),\n",
        "            nn.ReLU()\n",
        "\n",
        "            # Input Dimension : 32 * 32 * 64\n",
        "            # Output Dimension: (32 + (2 * 0) - 1)/2 + 1 -> 16 * 16 * 32\n",
        "            # RF Calculation: 5 + (1 - 1) * 1 -> 5 * 5\n",
        "            # JOut: 1 * 2 = 2\n",
        "            # As per requirement, we have used convolution with stride as 2\n",
        "\n",
        "        )\n",
        "        # ------------------------------------------------------------------------------------------------------\n",
        "\n",
        "        #------------------------------------Convolution Block 2--------------------------------------------------\n",
        "        self.conv2 = nn.Sequential(\n",
        "            nn.Conv2d(32, 32, 3, padding=1, bias=False),\n",
        "            nn.ReLU(),\n",
        "            nn.BatchNorm2d(32),\n",
        "            nn.Dropout2d(dropout),\n",
        "\n",
        "            # Input Dimension : 16 * 16 * 32\n",
        "            # Output Dimension: (16 + (2 * 1) - 3)/1 + 1 -> 16 * 16 * 32\n",
        "            # RF Calculation: 5 + (3 - 1) * 2 -> 9 * 9\n",
        "            # JOut: 2 * 1 = 2\n",
        "\n",
        "\n",
        "            nn.Conv2d(32, 32, 3, padding=1, groups=32, bias=False),\n",
        "\n",
        "            # Input Dimension : 16 * 16 * 32\n",
        "            # Output Dimension: (16 + (2 * 1) - 3)/1 + 1 -> 16 * 16 * 32\n",
        "            # RF Calculation: 9 + (3 - 1) * 2 -> 13 * 13\n",
        "            # JOut: 2 * 1 = 2\n",
        "            # We have used depthwise separable convolution\n",
        "\n",
        "            nn.Conv2d(32, 64, 1, padding=1, bias=False),\n",
        "\n",
        "            # Input Dimension : 16 * 16 * 32\n",
        "            # Output Dimension: (16 + (2 * 1) - 1)/1 + 1 -> 18 * 18 * 64\n",
        "            # RF Calculation: 13 + (1 - 1) * 2 -> 13 * 13\n",
        "            # JOut: 2 * 1 = 2\n",
        "\n",
        "            nn.ReLU(),\n",
        "            nn.BatchNorm2d(64),\n",
        "            nn.Dropout2d(dropout),\n",
        "\n",
        "            nn.Conv2d(64, 32, 1, stride=2),  # Input: 18x18x32 | Output: 9x9x64 | RF: 13x13\n",
        "            nn.ReLU()\n",
        "\n",
        "            # Input Dimension : 18 * 18 * 64\n",
        "            # Output Dimension: (18 + (2 * 0) - 1)/2 + 1 -> 9 * 9 * 32\n",
        "            # RF Calculation: 13 + (1 - 1) * 2 -> 13 * 13\n",
        "            # JOut: 2 * 2 = 4\n",
        "        )\n",
        "        # ------------------------------------------------------------------------------------------------------\n",
        "\n",
        "\n",
        "\n",
        "        #------------------------------------Convolution Block 3--------------------------------------------------\n",
        "        self.conv3 = nn.Sequential(\n",
        "\n",
        "            ## Dilation Block\n",
        "            nn.Conv2d(32, 64, 3, padding=1, bias=False, dilation=2),\n",
        "            nn.ReLU(),\n",
        "            nn.BatchNorm2d(64),\n",
        "            nn.Dropout2d(dropout),\n",
        "\n",
        "            # Input Dimension : 9 * 9 * 32\n",
        "            # Output Dimension: (9 + (2 * 1) - (3 + 2))/1 + 1 -> 7 * 7 * 64\n",
        "            # RF Calculation: 13 + ((3 + 2) - 1) * 4 -> 29 * 29\n",
        "            # JOut: 4 * 2 = 8\n",
        "            # We have used dilation block as per requirement\n",
        "\n",
        "            nn.Conv2d(64, 64, 3, padding=1, bias=False),\n",
        "            nn.ReLU(),\n",
        "            nn.BatchNorm2d(64),\n",
        "            nn.Dropout2d(dropout),\n",
        "\n",
        "            # Input Dimension : 7 * 7 * 64\n",
        "            # Output Dimension: (7 + (2 * 1) - 3)/1 + 1 -> 7 * 7 * 64\n",
        "            # RF Calculation: 29 + (3 - 1) * 8 -> 45 * 45\n",
        "            # JOut: 8 * 1 = 8\n",
        "\n",
        "            nn.Conv2d(64, 16, 1, stride=2),  # Input: 7x7x64| Output: 4x4x16 | RF: 61x61\n",
        "            nn.ReLU()\n",
        "\n",
        "            # Input Dimension : 7 * 7 * 64\n",
        "            # Output Dimension: (7 + (2 * 0) - 1)/2 + 1 -> 4 * 4 * 16\n",
        "            # RF Calculation: 45 + (1 - 1) * 8 -> 45 * 45\n",
        "            # JOut: 8 * 2 = 16\n",
        "        )\n",
        "        # ------------------------------------------------------------------------------------------------------\n",
        "\n",
        "        #------------------------------------Convolution Block 4--------------------------------------------------\n",
        "        self.conv4 = nn.Sequential(\n",
        "            nn.Conv2d(16, 32, 3, padding=1, bias=False),\n",
        "            nn.ReLU(),\n",
        "            nn.BatchNorm2d(32),\n",
        "            nn.Dropout2d(dropout),\n",
        "\n",
        "            # Input Dimension : 4 * 4 * 16\n",
        "            # Output Dimension: (4 + (2 * 1) - 3)/1 + 1 -> 4 * 4 * 32\n",
        "            # RF Calculation: 45 + (3 - 1) * 16 -> 77 * 77\n",
        "            # JOut: 16 * 1 = 16\n",
        "\n",
        "            ## Depthwise seperable Convolution2\n",
        "            nn.Conv2d(32, 32, 3, padding=1, groups=32, bias=False),\n",
        "\n",
        "            # Input Dimension : 4 * 4 * 16\n",
        "            # Output Dimension: (4 + (2 * 1) - 3)/1 + 1 -> 4 * 4 * 32\n",
        "            # RF Calculation: 77 + (3 - 1) * 16 -> 109 * 109\n",
        "            # JOut: 16 * 1 = 16\n",
        "            # Used Depthwise seperable Convolution as per requirement\n",
        "\n",
        "            nn.Conv2d(32, 10, 1, padding=1, bias=False),\n",
        "            nn.ReLU(),\n",
        "            nn.BatchNorm2d(10),\n",
        "            nn.Dropout2d(dropout)\n",
        "\n",
        "            # Input Dimension : 4 * 4 * 32\n",
        "            # Output Dimension: (4 + (2 * 1) - 1)/1 + 1 -> 6 * 6 * 10\n",
        "            # RF Calculation: 109 + (1 - 1) * 16 -> 109 * 109\n",
        "            # JOut: 16 * 1 = 16\n",
        "        )\n",
        "        # ------------------------------------------------------------------------------------------------------\n",
        "\n",
        "        self.gap = nn.Sequential(\n",
        "            nn.AdaptiveAvgPool2d(1)\n",
        "        )\n",
        "\n",
        "    def forward(self, x):\n",
        "        '''\n",
        "\n",
        "        :param x: Input\n",
        "        :return: Log softmax output\n",
        "        '''\n",
        "        x = self.conv1(x)\n",
        "        x = self.conv2(x)\n",
        "        x = self.conv3(x)\n",
        "        x = self.conv4(x)\n",
        "        x = self.gap(x)\n",
        "\n",
        "        x = x.view(-1, 10)\n",
        "        return F.log_softmax(x, dim=1)"
      ],
      "metadata": {
        "id": "VQ0yPieLrVFa"
      },
      "execution_count": 18,
      "outputs": []
    },
    {
      "cell_type": "markdown",
      "source": [
        "##Generating Torchsummary and Number of Model Parameters"
      ],
      "metadata": {
        "id": "lm7VU0pxO4L2"
      }
    },
    {
      "cell_type": "code",
      "source": [
        "def print_model_summary(model, device):\n",
        "    '''\n",
        "      THis method returns the model summary.\n",
        "\n",
        "      :param model: model\n",
        "      :param device: device\n",
        "    '''\n",
        "    cifar_model = model.to(device)\n",
        "    return summary(cifar_model, input_size=(3, 32, 32))\n",
        "\n",
        "use_cuda = torch.cuda.is_available()\n",
        "device = torch.device(\"cuda\" if use_cuda else \"cpu\")\n",
        "print_model_summary(Net(dropout = 0.01), device)"
      ],
      "metadata": {
        "colab": {
          "base_uri": "https://localhost:8080/"
        },
        "id": "txZuDwXyu5DP",
        "outputId": "78ac5db1-9cfc-46b0-eb9d-d9ee40f8841d"
      },
      "execution_count": 19,
      "outputs": [
        {
          "output_type": "stream",
          "name": "stdout",
          "text": [
            "----------------------------------------------------------------\n",
            "        Layer (type)               Output Shape         Param #\n",
            "================================================================\n",
            "            Conv2d-1           [-1, 32, 32, 32]             864\n",
            "              ReLU-2           [-1, 32, 32, 32]               0\n",
            "       BatchNorm2d-3           [-1, 32, 32, 32]              64\n",
            "         Dropout2d-4           [-1, 32, 32, 32]               0\n",
            "            Conv2d-5           [-1, 64, 32, 32]          18,432\n",
            "              ReLU-6           [-1, 64, 32, 32]               0\n",
            "       BatchNorm2d-7           [-1, 64, 32, 32]             128\n",
            "         Dropout2d-8           [-1, 64, 32, 32]               0\n",
            "            Conv2d-9           [-1, 32, 16, 16]           2,080\n",
            "             ReLU-10           [-1, 32, 16, 16]               0\n",
            "           Conv2d-11           [-1, 32, 16, 16]           9,216\n",
            "             ReLU-12           [-1, 32, 16, 16]               0\n",
            "      BatchNorm2d-13           [-1, 32, 16, 16]              64\n",
            "        Dropout2d-14           [-1, 32, 16, 16]               0\n",
            "           Conv2d-15           [-1, 32, 16, 16]             288\n",
            "           Conv2d-16           [-1, 64, 18, 18]           2,048\n",
            "             ReLU-17           [-1, 64, 18, 18]               0\n",
            "      BatchNorm2d-18           [-1, 64, 18, 18]             128\n",
            "        Dropout2d-19           [-1, 64, 18, 18]               0\n",
            "           Conv2d-20             [-1, 32, 9, 9]           2,080\n",
            "             ReLU-21             [-1, 32, 9, 9]               0\n",
            "           Conv2d-22             [-1, 64, 7, 7]          18,432\n",
            "             ReLU-23             [-1, 64, 7, 7]               0\n",
            "      BatchNorm2d-24             [-1, 64, 7, 7]             128\n",
            "        Dropout2d-25             [-1, 64, 7, 7]               0\n",
            "           Conv2d-26             [-1, 64, 7, 7]          36,864\n",
            "             ReLU-27             [-1, 64, 7, 7]               0\n",
            "      BatchNorm2d-28             [-1, 64, 7, 7]             128\n",
            "        Dropout2d-29             [-1, 64, 7, 7]               0\n",
            "           Conv2d-30             [-1, 16, 4, 4]           1,040\n",
            "             ReLU-31             [-1, 16, 4, 4]               0\n",
            "           Conv2d-32             [-1, 32, 4, 4]           4,608\n",
            "             ReLU-33             [-1, 32, 4, 4]               0\n",
            "      BatchNorm2d-34             [-1, 32, 4, 4]              64\n",
            "        Dropout2d-35             [-1, 32, 4, 4]               0\n",
            "           Conv2d-36             [-1, 32, 4, 4]             288\n",
            "           Conv2d-37             [-1, 10, 6, 6]             320\n",
            "             ReLU-38             [-1, 10, 6, 6]               0\n",
            "      BatchNorm2d-39             [-1, 10, 6, 6]              20\n",
            "        Dropout2d-40             [-1, 10, 6, 6]               0\n",
            "AdaptiveAvgPool2d-41             [-1, 10, 1, 1]               0\n",
            "================================================================\n",
            "Total params: 97,284\n",
            "Trainable params: 97,284\n",
            "Non-trainable params: 0\n",
            "----------------------------------------------------------------\n",
            "Input size (MB): 0.01\n",
            "Forward/backward pass size (MB): 4.34\n",
            "Params size (MB): 0.37\n",
            "Estimated Total Size (MB): 4.72\n",
            "----------------------------------------------------------------\n"
          ]
        }
      ]
    },
    {
      "cell_type": "markdown",
      "source": [
        "### Train Code\n",
        "*(Would be placed in train.py file)*"
      ],
      "metadata": {
        "id": "SOyh18_i3k6I"
      }
    },
    {
      "cell_type": "code",
      "source": [
        "def train(model, device, train_loader, optimizer, epoch,train_acc,train_loss,l1_factor,scheduler,criterion,grad_clip=None):\n",
        "  '''\n",
        "  This method is responsible for model training\n",
        "\n",
        "  :param model: model\n",
        "  :param device: cuda (gpu) or cpu\n",
        "  :param train_loader: train loader\n",
        "  :param optimizer: Optimizer, for example, Adam, or SGD\n",
        "  :param epoch: epoch, the number of times we are seeing the entire training data\n",
        "  :param train_acc: training accuracy\n",
        "  :param train_loss: training loss\n",
        "  :param l1_factor: L1 Factor\n",
        "  :param scheduler: scheduler\n",
        "  :param criterion: criterion\n",
        "  :param grad_clip: gradient clipping value\n",
        "  '''\n",
        "\n",
        "  model.train()\n",
        "  pbar = tqdm(train_loader)\n",
        "  correct, processed = 0, 0\n",
        "  \n",
        "  for batch_idx, (data, target) in enumerate(pbar):\n",
        "\n",
        "    data, target = data.to(device), target.to(device)\n",
        "    optimizer.zero_grad()\n",
        "    y_pred = model(data)\n",
        "    loss = criterion(y_pred, target)\n",
        "    \n",
        "    if l1_factor > 0:\n",
        "      l1 = 0\n",
        "      for p in model.parameters():\n",
        "        l1 = l1 + p.abs().sum()\n",
        "      loss = loss + l1_factor*l1\n",
        "\n",
        "    train_loss.append(loss.data.cpu().numpy().item())\n",
        "    loss.backward()\n",
        "\n",
        "    if grad_clip: \n",
        "        nn.utils.clip_grad_value_(model.parameters(), grad_clip)\n",
        "        \n",
        "    optimizer.step()\n",
        "    scheduler.step()\n",
        "    pred = y_pred.argmax(dim=1, keepdim=True)\n",
        "    correct += pred.eq(target.view_as(pred)).sum().item()\n",
        "    processed += len(data)\n",
        "\n",
        "    pbar.set_description(desc= f'Loss={loss.item()} Batch_id={batch_idx} Accuracy={100*correct/processed:0.2f}')\n",
        "    train_acc.append(100*correct/processed)"
      ],
      "metadata": {
        "id": "WQnyw4CZ0zbT"
      },
      "execution_count": 20,
      "outputs": []
    },
    {
      "cell_type": "markdown",
      "source": [
        "###Test Code\n",
        "*(Would be placed in test.py file)*"
      ],
      "metadata": {
        "id": "zz6T3cJY4NcQ"
      }
    },
    {
      "cell_type": "code",
      "source": [
        "def test(model, device, test_loader,test_acc,test_losses,criterion):\n",
        "\n",
        "  '''\n",
        "  This method is responsible for model testing\n",
        "  :param model: model\n",
        "  :param device: device, cuda (gpu), or cpu\n",
        "  :param test_loader: test loader\n",
        "  :param test_acc: test accuracy\n",
        "  :param test_losses: test losses\n",
        "  :param criterion: criterion\n",
        "  '''\n",
        "  model.eval()\n",
        "  test_loss = 0\n",
        "  correct = 0\n",
        "  with torch.no_grad():\n",
        "      for data, target in test_loader:\n",
        "          data, target = data.to(device), target.to(device)\n",
        "          output = model(data)\n",
        "          test_loss += criterion(output, target).item()\n",
        "          pred = output.argmax(dim=1, keepdim=True)  \n",
        "          correct += pred.eq(target.view_as(pred)).sum().item()\n",
        "\n",
        "  test_loss /= len(test_loader.dataset)\n",
        "  test_losses.append(test_loss)\n",
        "\n",
        "  print('\\nTest set: Average loss: {:.4f}, Accuracy: {}/{} ({:.2f}%)\\n'.format(\n",
        "      test_loss, correct, len(test_loader.dataset),\n",
        "      100. * correct / len(test_loader.dataset)))\n",
        "  \n",
        "  test_acc.append(100. * correct / len(test_loader.dataset))\n",
        "  return 100. * correct / len(test_loader.dataset)"
      ],
      "metadata": {
        "id": "f7j7oz-74aoM"
      },
      "execution_count": 21,
      "outputs": []
    },
    {
      "cell_type": "markdown",
      "source": [
        "###Optimizer and Scheduler\n",
        "*(Would be placed the relevant code in utils.py)*"
      ],
      "metadata": {
        "id": "xoNVXWa658YK"
      }
    },
    {
      "cell_type": "code",
      "source": [
        "def get_optimizer(config_dict, model):\n",
        "  '''\n",
        "  This method returns the optimizer\n",
        "  :param config_dict: config dictionary\n",
        "  :param model: model\n",
        "  '''\n",
        "  return optim.Adam(model.parameters(), lr=config_dict['learning_rate'], weight_decay=config_dict['L2_factor'])\n",
        "\n",
        "def get_scheduler(train_loader, config_dict, model):\n",
        "  '''\n",
        "  This method returns the scheduler\n",
        "  :param train_loader: train loader\n",
        "  :param config_dict: config dictionary\n",
        "  :param model: model\n",
        "  '''\n",
        "  optimizer = get_optimizer(config_dict, model)\n",
        "  return OneCycleLR(optimizer, max_lr=config_dict['learning_rate'],epochs=config_dict['epochs'],steps_per_epoch=len(train_loader)), optimizer"
      ],
      "metadata": {
        "id": "fXsmfva76VjI"
      },
      "execution_count": 22,
      "outputs": []
    },
    {
      "cell_type": "markdown",
      "source": [
        "### Available device for use\n",
        "*(Would be part of utils.py file)*"
      ],
      "metadata": {
        "id": "ouVkkjKfFeD7"
      }
    },
    {
      "cell_type": "code",
      "source": [
        "def get_device():\n",
        "  '''\n",
        "  This method returns the device in use.\n",
        "  If cuda(gpu) is available it would return that, otherwise it would return cpu.\n",
        "  '''\n",
        "  use_cuda = torch.cuda.is_available()\n",
        "  return torch.device(\"cuda\" if use_cuda else \"cpu\")\n"
      ],
      "metadata": {
        "id": "wCI-kd2TIaV8"
      },
      "execution_count": 23,
      "outputs": []
    },
    {
      "cell_type": "markdown",
      "source": [
        "### Experiment\n",
        "*(Would be part of experiment.py file)*"
      ],
      "metadata": {
        "id": "x5BDPcLyFqKI"
      }
    },
    {
      "cell_type": "code",
      "source": [
        "def experiment(config_dict, train_loader, test_loader):\n",
        "  '''\n",
        "  The method performs the experiment as per our configuration.\n",
        "  To preserve gpu usage, we are exiting while we reach the target validation accuracy.\n",
        "  '''\n",
        "\n",
        "  train_losses = []\n",
        "  test_losses = []\n",
        "  train_accuracy = []\n",
        "  test_accuracy = []\n",
        "\n",
        "  device = get_device()\n",
        "  model = Net(config_dict['dropout_rate']).to(device)\n",
        "  scheduler, optimizer = get_scheduler(train_loader, config_dict, model)\n",
        "\n",
        "  for epoch in range(1, config_dict['epochs'] + 1):\n",
        "    print(f'Epoch {epoch}:')\n",
        "    train(model, device, train_loader, optimizer,epoch, train_accuracy, train_losses, config_dict['L1_factor'],\n",
        "          scheduler,nn.CrossEntropyLoss(),config_dict['gradient_clip'])\n",
        "\n",
        "    test_accuracy_local = test(model, device, test_loader,test_accuracy,test_losses,nn.CrossEntropyLoss())\n",
        "\n",
        "    if test_accuracy_local >= config_dict['target_test_accuracy']:\n",
        "      return (train_accuracy,train_losses,test_accuracy,test_losses)\n",
        "\n",
        "  return (train_accuracy,train_losses,test_accuracy,test_losses)"
      ],
      "metadata": {
        "id": "q6QSOdKEIKco"
      },
      "execution_count": 24,
      "outputs": []
    },
    {
      "cell_type": "code",
      "source": [
        "experiment_results = experiment(config_dict, train_loader, test_loader)"
      ],
      "metadata": {
        "colab": {
          "base_uri": "https://localhost:8080/"
        },
        "id": "bwlJOLYHK5gc",
        "outputId": "6877754d-101b-4a7e-fcb8-8ef3f6ab5193"
      },
      "execution_count": 25,
      "outputs": [
        {
          "output_type": "stream",
          "name": "stdout",
          "text": [
            "Epoch 1:\n"
          ]
        },
        {
          "output_type": "stream",
          "name": "stderr",
          "text": [
            "Loss=1.9371486902236938 Batch_id=195 Accuracy=29.61: 100%|██████████| 196/196 [00:16<00:00, 12.12it/s]\n"
          ]
        },
        {
          "output_type": "stream",
          "name": "stdout",
          "text": [
            "\n",
            "Test set: Average loss: 0.0068, Accuracy: 4361/10000 (43.61%)\n",
            "\n",
            "Epoch 2:\n"
          ]
        },
        {
          "output_type": "stream",
          "name": "stderr",
          "text": [
            "Loss=1.7106716632843018 Batch_id=195 Accuracy=41.54: 100%|██████████| 196/196 [00:16<00:00, 12.05it/s]\n"
          ]
        },
        {
          "output_type": "stream",
          "name": "stdout",
          "text": [
            "\n",
            "Test set: Average loss: 0.0060, Accuracy: 5139/10000 (51.39%)\n",
            "\n",
            "Epoch 3:\n"
          ]
        },
        {
          "output_type": "stream",
          "name": "stderr",
          "text": [
            "Loss=1.5164453983306885 Batch_id=195 Accuracy=48.18: 100%|██████████| 196/196 [00:16<00:00, 11.85it/s]\n"
          ]
        },
        {
          "output_type": "stream",
          "name": "stdout",
          "text": [
            "\n",
            "Test set: Average loss: 0.0053, Accuracy: 5709/10000 (57.09%)\n",
            "\n",
            "Epoch 4:\n"
          ]
        },
        {
          "output_type": "stream",
          "name": "stderr",
          "text": [
            "Loss=1.2748647928237915 Batch_id=195 Accuracy=53.26: 100%|██████████| 196/196 [00:16<00:00, 12.01it/s]\n"
          ]
        },
        {
          "output_type": "stream",
          "name": "stdout",
          "text": [
            "\n",
            "Test set: Average loss: 0.0049, Accuracy: 6098/10000 (60.98%)\n",
            "\n",
            "Epoch 5:\n"
          ]
        },
        {
          "output_type": "stream",
          "name": "stderr",
          "text": [
            "Loss=1.2323343753814697 Batch_id=195 Accuracy=56.88: 100%|██████████| 196/196 [00:16<00:00, 12.21it/s]\n"
          ]
        },
        {
          "output_type": "stream",
          "name": "stdout",
          "text": [
            "\n",
            "Test set: Average loss: 0.0043, Accuracy: 6571/10000 (65.71%)\n",
            "\n",
            "Epoch 6:\n"
          ]
        },
        {
          "output_type": "stream",
          "name": "stderr",
          "text": [
            "Loss=1.280673623085022 Batch_id=195 Accuracy=59.32: 100%|██████████| 196/196 [00:16<00:00, 12.00it/s]\n"
          ]
        },
        {
          "output_type": "stream",
          "name": "stdout",
          "text": [
            "\n",
            "Test set: Average loss: 0.0043, Accuracy: 6530/10000 (65.30%)\n",
            "\n",
            "Epoch 7:\n"
          ]
        },
        {
          "output_type": "stream",
          "name": "stderr",
          "text": [
            "Loss=1.2698378562927246 Batch_id=195 Accuracy=61.85: 100%|██████████| 196/196 [00:16<00:00, 12.11it/s]\n"
          ]
        },
        {
          "output_type": "stream",
          "name": "stdout",
          "text": [
            "\n",
            "Test set: Average loss: 0.0038, Accuracy: 6942/10000 (69.42%)\n",
            "\n",
            "Epoch 8:\n"
          ]
        },
        {
          "output_type": "stream",
          "name": "stderr",
          "text": [
            "Loss=1.017128825187683 Batch_id=195 Accuracy=63.38: 100%|██████████| 196/196 [00:16<00:00, 12.20it/s]\n"
          ]
        },
        {
          "output_type": "stream",
          "name": "stdout",
          "text": [
            "\n",
            "Test set: Average loss: 0.0036, Accuracy: 7053/10000 (70.53%)\n",
            "\n",
            "Epoch 9:\n"
          ]
        },
        {
          "output_type": "stream",
          "name": "stderr",
          "text": [
            "Loss=1.0090224742889404 Batch_id=195 Accuracy=64.97: 100%|██████████| 196/196 [00:15<00:00, 12.28it/s]\n"
          ]
        },
        {
          "output_type": "stream",
          "name": "stdout",
          "text": [
            "\n",
            "Test set: Average loss: 0.0036, Accuracy: 7035/10000 (70.35%)\n",
            "\n",
            "Epoch 10:\n"
          ]
        },
        {
          "output_type": "stream",
          "name": "stderr",
          "text": [
            "Loss=1.0494353771209717 Batch_id=195 Accuracy=65.98: 100%|██████████| 196/196 [00:16<00:00, 12.06it/s]\n"
          ]
        },
        {
          "output_type": "stream",
          "name": "stdout",
          "text": [
            "\n",
            "Test set: Average loss: 0.0036, Accuracy: 7026/10000 (70.26%)\n",
            "\n",
            "Epoch 11:\n"
          ]
        },
        {
          "output_type": "stream",
          "name": "stderr",
          "text": [
            "Loss=0.9911742210388184 Batch_id=195 Accuracy=66.69: 100%|██████████| 196/196 [00:16<00:00, 11.94it/s]\n"
          ]
        },
        {
          "output_type": "stream",
          "name": "stdout",
          "text": [
            "\n",
            "Test set: Average loss: 0.0033, Accuracy: 7216/10000 (72.16%)\n",
            "\n",
            "Epoch 12:\n"
          ]
        },
        {
          "output_type": "stream",
          "name": "stderr",
          "text": [
            "Loss=1.1618266105651855 Batch_id=195 Accuracy=67.42: 100%|██████████| 196/196 [00:16<00:00, 12.04it/s]\n"
          ]
        },
        {
          "output_type": "stream",
          "name": "stdout",
          "text": [
            "\n",
            "Test set: Average loss: 0.0032, Accuracy: 7337/10000 (73.37%)\n",
            "\n",
            "Epoch 13:\n"
          ]
        },
        {
          "output_type": "stream",
          "name": "stderr",
          "text": [
            "Loss=0.9455658793449402 Batch_id=195 Accuracy=67.71: 100%|██████████| 196/196 [00:17<00:00, 11.07it/s]\n"
          ]
        },
        {
          "output_type": "stream",
          "name": "stdout",
          "text": [
            "\n",
            "Test set: Average loss: 0.0033, Accuracy: 7281/10000 (72.81%)\n",
            "\n",
            "Epoch 14:\n"
          ]
        },
        {
          "output_type": "stream",
          "name": "stderr",
          "text": [
            "Loss=1.0856261253356934 Batch_id=195 Accuracy=68.13: 100%|██████████| 196/196 [00:16<00:00, 12.01it/s]\n"
          ]
        },
        {
          "output_type": "stream",
          "name": "stdout",
          "text": [
            "\n",
            "Test set: Average loss: 0.0030, Accuracy: 7541/10000 (75.41%)\n",
            "\n",
            "Epoch 15:\n"
          ]
        },
        {
          "output_type": "stream",
          "name": "stderr",
          "text": [
            "Loss=0.9132341146469116 Batch_id=195 Accuracy=68.76: 100%|██████████| 196/196 [00:16<00:00, 12.01it/s]\n"
          ]
        },
        {
          "output_type": "stream",
          "name": "stdout",
          "text": [
            "\n",
            "Test set: Average loss: 0.0033, Accuracy: 7220/10000 (72.20%)\n",
            "\n",
            "Epoch 16:\n"
          ]
        },
        {
          "output_type": "stream",
          "name": "stderr",
          "text": [
            "Loss=0.805076003074646 Batch_id=195 Accuracy=69.42: 100%|██████████| 196/196 [00:16<00:00, 11.96it/s]\n"
          ]
        },
        {
          "output_type": "stream",
          "name": "stdout",
          "text": [
            "\n",
            "Test set: Average loss: 0.0028, Accuracy: 7569/10000 (75.69%)\n",
            "\n",
            "Epoch 17:\n"
          ]
        },
        {
          "output_type": "stream",
          "name": "stderr",
          "text": [
            "Loss=0.7440102100372314 Batch_id=195 Accuracy=69.56: 100%|██████████| 196/196 [00:16<00:00, 12.01it/s]\n"
          ]
        },
        {
          "output_type": "stream",
          "name": "stdout",
          "text": [
            "\n",
            "Test set: Average loss: 0.0030, Accuracy: 7503/10000 (75.03%)\n",
            "\n",
            "Epoch 18:\n"
          ]
        },
        {
          "output_type": "stream",
          "name": "stderr",
          "text": [
            "Loss=0.9029043316841125 Batch_id=195 Accuracy=69.53: 100%|██████████| 196/196 [00:16<00:00, 11.67it/s]\n"
          ]
        },
        {
          "output_type": "stream",
          "name": "stdout",
          "text": [
            "\n",
            "Test set: Average loss: 0.0030, Accuracy: 7465/10000 (74.65%)\n",
            "\n",
            "Epoch 19:\n"
          ]
        },
        {
          "output_type": "stream",
          "name": "stderr",
          "text": [
            "Loss=0.7610498666763306 Batch_id=195 Accuracy=69.84: 100%|██████████| 196/196 [00:16<00:00, 11.67it/s]\n"
          ]
        },
        {
          "output_type": "stream",
          "name": "stdout",
          "text": [
            "\n",
            "Test set: Average loss: 0.0030, Accuracy: 7493/10000 (74.93%)\n",
            "\n",
            "Epoch 20:\n"
          ]
        },
        {
          "output_type": "stream",
          "name": "stderr",
          "text": [
            "Loss=0.7394888997077942 Batch_id=195 Accuracy=70.00: 100%|██████████| 196/196 [00:17<00:00, 11.53it/s]\n"
          ]
        },
        {
          "output_type": "stream",
          "name": "stdout",
          "text": [
            "\n",
            "Test set: Average loss: 0.0028, Accuracy: 7668/10000 (76.68%)\n",
            "\n",
            "Epoch 21:\n"
          ]
        },
        {
          "output_type": "stream",
          "name": "stderr",
          "text": [
            "Loss=1.1128368377685547 Batch_id=195 Accuracy=70.47: 100%|██████████| 196/196 [00:16<00:00, 11.66it/s]\n"
          ]
        },
        {
          "output_type": "stream",
          "name": "stdout",
          "text": [
            "\n",
            "Test set: Average loss: 0.0031, Accuracy: 7371/10000 (73.71%)\n",
            "\n",
            "Epoch 22:\n"
          ]
        },
        {
          "output_type": "stream",
          "name": "stderr",
          "text": [
            "Loss=0.9401184916496277 Batch_id=195 Accuracy=70.49: 100%|██████████| 196/196 [00:16<00:00, 11.72it/s]\n"
          ]
        },
        {
          "output_type": "stream",
          "name": "stdout",
          "text": [
            "\n",
            "Test set: Average loss: 0.0029, Accuracy: 7527/10000 (75.27%)\n",
            "\n",
            "Epoch 23:\n"
          ]
        },
        {
          "output_type": "stream",
          "name": "stderr",
          "text": [
            "Loss=0.7843496799468994 Batch_id=195 Accuracy=70.72: 100%|██████████| 196/196 [00:16<00:00, 11.59it/s]\n"
          ]
        },
        {
          "output_type": "stream",
          "name": "stdout",
          "text": [
            "\n",
            "Test set: Average loss: 0.0029, Accuracy: 7568/10000 (75.68%)\n",
            "\n",
            "Epoch 24:\n"
          ]
        },
        {
          "output_type": "stream",
          "name": "stderr",
          "text": [
            "Loss=0.7335059642791748 Batch_id=195 Accuracy=70.81: 100%|██████████| 196/196 [00:16<00:00, 11.79it/s]\n"
          ]
        },
        {
          "output_type": "stream",
          "name": "stdout",
          "text": [
            "\n",
            "Test set: Average loss: 0.0034, Accuracy: 7188/10000 (71.88%)\n",
            "\n",
            "Epoch 25:\n"
          ]
        },
        {
          "output_type": "stream",
          "name": "stderr",
          "text": [
            "Loss=1.1092424392700195 Batch_id=195 Accuracy=71.02: 100%|██████████| 196/196 [00:17<00:00, 10.91it/s]\n"
          ]
        },
        {
          "output_type": "stream",
          "name": "stdout",
          "text": [
            "\n",
            "Test set: Average loss: 0.0032, Accuracy: 7402/10000 (74.02%)\n",
            "\n",
            "Epoch 26:\n"
          ]
        },
        {
          "output_type": "stream",
          "name": "stderr",
          "text": [
            "Loss=1.0462005138397217 Batch_id=195 Accuracy=71.05: 100%|██████████| 196/196 [00:16<00:00, 11.73it/s]\n"
          ]
        },
        {
          "output_type": "stream",
          "name": "stdout",
          "text": [
            "\n",
            "Test set: Average loss: 0.0028, Accuracy: 7639/10000 (76.39%)\n",
            "\n",
            "Epoch 27:\n"
          ]
        },
        {
          "output_type": "stream",
          "name": "stderr",
          "text": [
            "Loss=1.0045673847198486 Batch_id=195 Accuracy=71.14: 100%|██████████| 196/196 [00:16<00:00, 11.78it/s]\n"
          ]
        },
        {
          "output_type": "stream",
          "name": "stdout",
          "text": [
            "\n",
            "Test set: Average loss: 0.0026, Accuracy: 7735/10000 (77.35%)\n",
            "\n",
            "Epoch 28:\n"
          ]
        },
        {
          "output_type": "stream",
          "name": "stderr",
          "text": [
            "Loss=0.8853341341018677 Batch_id=195 Accuracy=71.27: 100%|██████████| 196/196 [00:16<00:00, 11.98it/s]\n"
          ]
        },
        {
          "output_type": "stream",
          "name": "stdout",
          "text": [
            "\n",
            "Test set: Average loss: 0.0027, Accuracy: 7647/10000 (76.47%)\n",
            "\n",
            "Epoch 29:\n"
          ]
        },
        {
          "output_type": "stream",
          "name": "stderr",
          "text": [
            "Loss=0.9365090131759644 Batch_id=195 Accuracy=71.17: 100%|██████████| 196/196 [00:16<00:00, 11.78it/s]\n"
          ]
        },
        {
          "output_type": "stream",
          "name": "stdout",
          "text": [
            "\n",
            "Test set: Average loss: 0.0028, Accuracy: 7673/10000 (76.73%)\n",
            "\n",
            "Epoch 30:\n"
          ]
        },
        {
          "output_type": "stream",
          "name": "stderr",
          "text": [
            "Loss=0.916951060295105 Batch_id=195 Accuracy=71.50: 100%|██████████| 196/196 [00:16<00:00, 11.85it/s]\n"
          ]
        },
        {
          "output_type": "stream",
          "name": "stdout",
          "text": [
            "\n",
            "Test set: Average loss: 0.0030, Accuracy: 7444/10000 (74.44%)\n",
            "\n",
            "Epoch 31:\n"
          ]
        },
        {
          "output_type": "stream",
          "name": "stderr",
          "text": [
            "Loss=1.0645740032196045 Batch_id=195 Accuracy=71.37: 100%|██████████| 196/196 [00:16<00:00, 11.82it/s]\n"
          ]
        },
        {
          "output_type": "stream",
          "name": "stdout",
          "text": [
            "\n",
            "Test set: Average loss: 0.0028, Accuracy: 7599/10000 (75.99%)\n",
            "\n",
            "Epoch 32:\n"
          ]
        },
        {
          "output_type": "stream",
          "name": "stderr",
          "text": [
            "Loss=1.024559736251831 Batch_id=195 Accuracy=71.75: 100%|██████████| 196/196 [00:16<00:00, 11.77it/s]\n"
          ]
        },
        {
          "output_type": "stream",
          "name": "stdout",
          "text": [
            "\n",
            "Test set: Average loss: 0.0033, Accuracy: 7246/10000 (72.46%)\n",
            "\n",
            "Epoch 33:\n"
          ]
        },
        {
          "output_type": "stream",
          "name": "stderr",
          "text": [
            "Loss=0.9699963331222534 Batch_id=195 Accuracy=71.66: 100%|██████████| 196/196 [00:16<00:00, 11.71it/s]\n"
          ]
        },
        {
          "output_type": "stream",
          "name": "stdout",
          "text": [
            "\n",
            "Test set: Average loss: 0.0028, Accuracy: 7629/10000 (76.29%)\n",
            "\n",
            "Epoch 34:\n"
          ]
        },
        {
          "output_type": "stream",
          "name": "stderr",
          "text": [
            "Loss=0.8779830932617188 Batch_id=195 Accuracy=71.98: 100%|██████████| 196/196 [00:16<00:00, 11.73it/s]\n"
          ]
        },
        {
          "output_type": "stream",
          "name": "stdout",
          "text": [
            "\n",
            "Test set: Average loss: 0.0026, Accuracy: 7665/10000 (76.65%)\n",
            "\n",
            "Epoch 35:\n"
          ]
        },
        {
          "output_type": "stream",
          "name": "stderr",
          "text": [
            "Loss=0.7946022748947144 Batch_id=195 Accuracy=71.52: 100%|██████████| 196/196 [00:16<00:00, 11.71it/s]\n"
          ]
        },
        {
          "output_type": "stream",
          "name": "stdout",
          "text": [
            "\n",
            "Test set: Average loss: 0.0031, Accuracy: 7438/10000 (74.38%)\n",
            "\n",
            "Epoch 36:\n"
          ]
        },
        {
          "output_type": "stream",
          "name": "stderr",
          "text": [
            "Loss=0.8246749043464661 Batch_id=195 Accuracy=71.94: 100%|██████████| 196/196 [00:16<00:00, 11.69it/s]\n"
          ]
        },
        {
          "output_type": "stream",
          "name": "stdout",
          "text": [
            "\n",
            "Test set: Average loss: 0.0028, Accuracy: 7632/10000 (76.32%)\n",
            "\n",
            "Epoch 37:\n"
          ]
        },
        {
          "output_type": "stream",
          "name": "stderr",
          "text": [
            "Loss=0.8907915353775024 Batch_id=195 Accuracy=71.92: 100%|██████████| 196/196 [00:17<00:00, 10.91it/s]\n"
          ]
        },
        {
          "output_type": "stream",
          "name": "stdout",
          "text": [
            "\n",
            "Test set: Average loss: 0.0030, Accuracy: 7517/10000 (75.17%)\n",
            "\n",
            "Epoch 38:\n"
          ]
        },
        {
          "output_type": "stream",
          "name": "stderr",
          "text": [
            "Loss=0.8354768753051758 Batch_id=195 Accuracy=72.15: 100%|██████████| 196/196 [00:16<00:00, 11.71it/s]\n"
          ]
        },
        {
          "output_type": "stream",
          "name": "stdout",
          "text": [
            "\n",
            "Test set: Average loss: 0.0025, Accuracy: 7892/10000 (78.92%)\n",
            "\n",
            "Epoch 39:\n"
          ]
        },
        {
          "output_type": "stream",
          "name": "stderr",
          "text": [
            "Loss=0.8708763122558594 Batch_id=195 Accuracy=72.14: 100%|██████████| 196/196 [00:16<00:00, 11.77it/s]\n"
          ]
        },
        {
          "output_type": "stream",
          "name": "stdout",
          "text": [
            "\n",
            "Test set: Average loss: 0.0027, Accuracy: 7754/10000 (77.54%)\n",
            "\n",
            "Epoch 40:\n"
          ]
        },
        {
          "output_type": "stream",
          "name": "stderr",
          "text": [
            "Loss=0.738598644733429 Batch_id=195 Accuracy=72.46: 100%|██████████| 196/196 [00:16<00:00, 11.85it/s]\n"
          ]
        },
        {
          "output_type": "stream",
          "name": "stdout",
          "text": [
            "\n",
            "Test set: Average loss: 0.0026, Accuracy: 7822/10000 (78.22%)\n",
            "\n",
            "Epoch 41:\n"
          ]
        },
        {
          "output_type": "stream",
          "name": "stderr",
          "text": [
            "Loss=0.7667247653007507 Batch_id=195 Accuracy=72.83: 100%|██████████| 196/196 [00:16<00:00, 11.77it/s]\n"
          ]
        },
        {
          "output_type": "stream",
          "name": "stdout",
          "text": [
            "\n",
            "Test set: Average loss: 0.0026, Accuracy: 7737/10000 (77.37%)\n",
            "\n",
            "Epoch 42:\n"
          ]
        },
        {
          "output_type": "stream",
          "name": "stderr",
          "text": [
            "Loss=1.013182282447815 Batch_id=195 Accuracy=72.69: 100%|██████████| 196/196 [00:16<00:00, 11.74it/s]\n"
          ]
        },
        {
          "output_type": "stream",
          "name": "stdout",
          "text": [
            "\n",
            "Test set: Average loss: 0.0027, Accuracy: 7702/10000 (77.02%)\n",
            "\n",
            "Epoch 43:\n"
          ]
        },
        {
          "output_type": "stream",
          "name": "stderr",
          "text": [
            "Loss=0.92280513048172 Batch_id=195 Accuracy=72.81: 100%|██████████| 196/196 [00:16<00:00, 11.75it/s]\n"
          ]
        },
        {
          "output_type": "stream",
          "name": "stdout",
          "text": [
            "\n",
            "Test set: Average loss: 0.0030, Accuracy: 7523/10000 (75.23%)\n",
            "\n",
            "Epoch 44:\n"
          ]
        },
        {
          "output_type": "stream",
          "name": "stderr",
          "text": [
            "Loss=0.8970339894294739 Batch_id=195 Accuracy=73.08: 100%|██████████| 196/196 [00:16<00:00, 11.88it/s]\n"
          ]
        },
        {
          "output_type": "stream",
          "name": "stdout",
          "text": [
            "\n",
            "Test set: Average loss: 0.0025, Accuracy: 7903/10000 (79.03%)\n",
            "\n",
            "Epoch 45:\n"
          ]
        },
        {
          "output_type": "stream",
          "name": "stderr",
          "text": [
            "Loss=0.6552590131759644 Batch_id=195 Accuracy=72.96: 100%|██████████| 196/196 [00:16<00:00, 11.75it/s]\n"
          ]
        },
        {
          "output_type": "stream",
          "name": "stdout",
          "text": [
            "\n",
            "Test set: Average loss: 0.0024, Accuracy: 7978/10000 (79.78%)\n",
            "\n",
            "Epoch 46:\n"
          ]
        },
        {
          "output_type": "stream",
          "name": "stderr",
          "text": [
            "Loss=0.8169801831245422 Batch_id=195 Accuracy=73.31: 100%|██████████| 196/196 [00:16<00:00, 11.73it/s]\n"
          ]
        },
        {
          "output_type": "stream",
          "name": "stdout",
          "text": [
            "\n",
            "Test set: Average loss: 0.0024, Accuracy: 7930/10000 (79.30%)\n",
            "\n",
            "Epoch 47:\n"
          ]
        },
        {
          "output_type": "stream",
          "name": "stderr",
          "text": [
            "Loss=0.8236644864082336 Batch_id=195 Accuracy=73.69: 100%|██████████| 196/196 [00:16<00:00, 11.69it/s]\n"
          ]
        },
        {
          "output_type": "stream",
          "name": "stdout",
          "text": [
            "\n",
            "Test set: Average loss: 0.0024, Accuracy: 7954/10000 (79.54%)\n",
            "\n",
            "Epoch 48:\n"
          ]
        },
        {
          "output_type": "stream",
          "name": "stderr",
          "text": [
            "Loss=0.9900811314582825 Batch_id=195 Accuracy=73.46: 100%|██████████| 196/196 [00:16<00:00, 11.68it/s]\n"
          ]
        },
        {
          "output_type": "stream",
          "name": "stdout",
          "text": [
            "\n",
            "Test set: Average loss: 0.0024, Accuracy: 7984/10000 (79.84%)\n",
            "\n",
            "Epoch 49:\n"
          ]
        },
        {
          "output_type": "stream",
          "name": "stderr",
          "text": [
            "Loss=0.8291366696357727 Batch_id=195 Accuracy=74.04: 100%|██████████| 196/196 [00:17<00:00, 10.94it/s]\n"
          ]
        },
        {
          "output_type": "stream",
          "name": "stdout",
          "text": [
            "\n",
            "Test set: Average loss: 0.0027, Accuracy: 7737/10000 (77.37%)\n",
            "\n",
            "Epoch 50:\n"
          ]
        },
        {
          "output_type": "stream",
          "name": "stderr",
          "text": [
            "Loss=0.6869806051254272 Batch_id=195 Accuracy=73.99: 100%|██████████| 196/196 [00:16<00:00, 11.59it/s]\n"
          ]
        },
        {
          "output_type": "stream",
          "name": "stdout",
          "text": [
            "\n",
            "Test set: Average loss: 0.0024, Accuracy: 7911/10000 (79.11%)\n",
            "\n",
            "Epoch 51:\n"
          ]
        },
        {
          "output_type": "stream",
          "name": "stderr",
          "text": [
            "Loss=0.7001036405563354 Batch_id=195 Accuracy=74.43: 100%|██████████| 196/196 [00:16<00:00, 11.67it/s]\n"
          ]
        },
        {
          "output_type": "stream",
          "name": "stdout",
          "text": [
            "\n",
            "Test set: Average loss: 0.0022, Accuracy: 8118/10000 (81.18%)\n",
            "\n",
            "Epoch 52:\n"
          ]
        },
        {
          "output_type": "stream",
          "name": "stderr",
          "text": [
            "Loss=0.7368819713592529 Batch_id=195 Accuracy=74.44: 100%|██████████| 196/196 [00:16<00:00, 11.60it/s]\n"
          ]
        },
        {
          "output_type": "stream",
          "name": "stdout",
          "text": [
            "\n",
            "Test set: Average loss: 0.0024, Accuracy: 7932/10000 (79.32%)\n",
            "\n",
            "Epoch 53:\n"
          ]
        },
        {
          "output_type": "stream",
          "name": "stderr",
          "text": [
            "Loss=0.7317963242530823 Batch_id=195 Accuracy=74.60: 100%|██████████| 196/196 [00:16<00:00, 11.63it/s]\n"
          ]
        },
        {
          "output_type": "stream",
          "name": "stdout",
          "text": [
            "\n",
            "Test set: Average loss: 0.0023, Accuracy: 8031/10000 (80.31%)\n",
            "\n",
            "Epoch 54:\n"
          ]
        },
        {
          "output_type": "stream",
          "name": "stderr",
          "text": [
            "Loss=0.5556869506835938 Batch_id=195 Accuracy=74.85: 100%|██████████| 196/196 [00:16<00:00, 11.82it/s]\n"
          ]
        },
        {
          "output_type": "stream",
          "name": "stdout",
          "text": [
            "\n",
            "Test set: Average loss: 0.0022, Accuracy: 8098/10000 (80.98%)\n",
            "\n",
            "Epoch 55:\n"
          ]
        },
        {
          "output_type": "stream",
          "name": "stderr",
          "text": [
            "Loss=1.094988465309143 Batch_id=195 Accuracy=75.23: 100%|██████████| 196/196 [00:16<00:00, 11.76it/s]\n"
          ]
        },
        {
          "output_type": "stream",
          "name": "stdout",
          "text": [
            "\n",
            "Test set: Average loss: 0.0022, Accuracy: 8106/10000 (81.06%)\n",
            "\n",
            "Epoch 56:\n"
          ]
        },
        {
          "output_type": "stream",
          "name": "stderr",
          "text": [
            "Loss=0.6839620471000671 Batch_id=195 Accuracy=75.13: 100%|██████████| 196/196 [00:16<00:00, 11.83it/s]\n"
          ]
        },
        {
          "output_type": "stream",
          "name": "stdout",
          "text": [
            "\n",
            "Test set: Average loss: 0.0023, Accuracy: 8090/10000 (80.90%)\n",
            "\n",
            "Epoch 57:\n"
          ]
        },
        {
          "output_type": "stream",
          "name": "stderr",
          "text": [
            "Loss=0.7589752078056335 Batch_id=195 Accuracy=75.68: 100%|██████████| 196/196 [00:16<00:00, 12.03it/s]\n"
          ]
        },
        {
          "output_type": "stream",
          "name": "stdout",
          "text": [
            "\n",
            "Test set: Average loss: 0.0024, Accuracy: 8035/10000 (80.35%)\n",
            "\n",
            "Epoch 58:\n"
          ]
        },
        {
          "output_type": "stream",
          "name": "stderr",
          "text": [
            "Loss=0.7050309777259827 Batch_id=195 Accuracy=75.82: 100%|██████████| 196/196 [00:16<00:00, 12.03it/s]\n"
          ]
        },
        {
          "output_type": "stream",
          "name": "stdout",
          "text": [
            "\n",
            "Test set: Average loss: 0.0023, Accuracy: 8074/10000 (80.74%)\n",
            "\n",
            "Epoch 59:\n"
          ]
        },
        {
          "output_type": "stream",
          "name": "stderr",
          "text": [
            "Loss=0.5596480965614319 Batch_id=195 Accuracy=76.24: 100%|██████████| 196/196 [00:16<00:00, 11.86it/s]\n"
          ]
        },
        {
          "output_type": "stream",
          "name": "stdout",
          "text": [
            "\n",
            "Test set: Average loss: 0.0021, Accuracy: 8215/10000 (82.15%)\n",
            "\n",
            "Epoch 60:\n"
          ]
        },
        {
          "output_type": "stream",
          "name": "stderr",
          "text": [
            "Loss=0.7529387474060059 Batch_id=195 Accuracy=76.55: 100%|██████████| 196/196 [00:16<00:00, 11.85it/s]\n"
          ]
        },
        {
          "output_type": "stream",
          "name": "stdout",
          "text": [
            "\n",
            "Test set: Average loss: 0.0020, Accuracy: 8196/10000 (81.96%)\n",
            "\n",
            "Epoch 61:\n"
          ]
        },
        {
          "output_type": "stream",
          "name": "stderr",
          "text": [
            "Loss=0.6616877913475037 Batch_id=195 Accuracy=76.52: 100%|██████████| 196/196 [00:17<00:00, 11.09it/s]\n"
          ]
        },
        {
          "output_type": "stream",
          "name": "stdout",
          "text": [
            "\n",
            "Test set: Average loss: 0.0020, Accuracy: 8246/10000 (82.46%)\n",
            "\n",
            "Epoch 62:\n"
          ]
        },
        {
          "output_type": "stream",
          "name": "stderr",
          "text": [
            "Loss=0.5258587598800659 Batch_id=195 Accuracy=77.19: 100%|██████████| 196/196 [00:16<00:00, 11.72it/s]\n"
          ]
        },
        {
          "output_type": "stream",
          "name": "stdout",
          "text": [
            "\n",
            "Test set: Average loss: 0.0020, Accuracy: 8310/10000 (83.10%)\n",
            "\n",
            "Epoch 63:\n"
          ]
        },
        {
          "output_type": "stream",
          "name": "stderr",
          "text": [
            "Loss=0.8879419565200806 Batch_id=195 Accuracy=77.40: 100%|██████████| 196/196 [00:16<00:00, 11.68it/s]\n"
          ]
        },
        {
          "output_type": "stream",
          "name": "stdout",
          "text": [
            "\n",
            "Test set: Average loss: 0.0020, Accuracy: 8322/10000 (83.22%)\n",
            "\n",
            "Epoch 64:\n"
          ]
        },
        {
          "output_type": "stream",
          "name": "stderr",
          "text": [
            "Loss=0.8439589738845825 Batch_id=195 Accuracy=77.55: 100%|██████████| 196/196 [00:16<00:00, 11.68it/s]\n"
          ]
        },
        {
          "output_type": "stream",
          "name": "stdout",
          "text": [
            "\n",
            "Test set: Average loss: 0.0019, Accuracy: 8395/10000 (83.95%)\n",
            "\n",
            "Epoch 65:\n"
          ]
        },
        {
          "output_type": "stream",
          "name": "stderr",
          "text": [
            "Loss=0.6423452496528625 Batch_id=195 Accuracy=77.89: 100%|██████████| 196/196 [00:16<00:00, 11.74it/s]\n"
          ]
        },
        {
          "output_type": "stream",
          "name": "stdout",
          "text": [
            "\n",
            "Test set: Average loss: 0.0019, Accuracy: 8377/10000 (83.77%)\n",
            "\n",
            "Epoch 66:\n"
          ]
        },
        {
          "output_type": "stream",
          "name": "stderr",
          "text": [
            "Loss=0.6325924396514893 Batch_id=195 Accuracy=78.18: 100%|██████████| 196/196 [00:16<00:00, 11.93it/s]\n"
          ]
        },
        {
          "output_type": "stream",
          "name": "stdout",
          "text": [
            "\n",
            "Test set: Average loss: 0.0019, Accuracy: 8398/10000 (83.98%)\n",
            "\n",
            "Epoch 67:\n"
          ]
        },
        {
          "output_type": "stream",
          "name": "stderr",
          "text": [
            "Loss=0.6742538213729858 Batch_id=195 Accuracy=78.79: 100%|██████████| 196/196 [00:16<00:00, 11.85it/s]\n"
          ]
        },
        {
          "output_type": "stream",
          "name": "stdout",
          "text": [
            "\n",
            "Test set: Average loss: 0.0019, Accuracy: 8390/10000 (83.90%)\n",
            "\n",
            "Epoch 68:\n"
          ]
        },
        {
          "output_type": "stream",
          "name": "stderr",
          "text": [
            "Loss=0.7806583046913147 Batch_id=195 Accuracy=79.01: 100%|██████████| 196/196 [00:16<00:00, 11.59it/s]\n"
          ]
        },
        {
          "output_type": "stream",
          "name": "stdout",
          "text": [
            "\n",
            "Test set: Average loss: 0.0018, Accuracy: 8464/10000 (84.64%)\n",
            "\n",
            "Epoch 69:\n"
          ]
        },
        {
          "output_type": "stream",
          "name": "stderr",
          "text": [
            "Loss=0.5567256808280945 Batch_id=195 Accuracy=79.12: 100%|██████████| 196/196 [00:16<00:00, 11.74it/s]\n"
          ]
        },
        {
          "output_type": "stream",
          "name": "stdout",
          "text": [
            "\n",
            "Test set: Average loss: 0.0019, Accuracy: 8436/10000 (84.36%)\n",
            "\n",
            "Epoch 70:\n"
          ]
        },
        {
          "output_type": "stream",
          "name": "stderr",
          "text": [
            "Loss=0.65577232837677 Batch_id=195 Accuracy=79.57: 100%|██████████| 196/196 [00:16<00:00, 11.84it/s]\n"
          ]
        },
        {
          "output_type": "stream",
          "name": "stdout",
          "text": [
            "\n",
            "Test set: Average loss: 0.0018, Accuracy: 8482/10000 (84.82%)\n",
            "\n",
            "Epoch 71:\n"
          ]
        },
        {
          "output_type": "stream",
          "name": "stderr",
          "text": [
            "Loss=0.5376607775688171 Batch_id=195 Accuracy=80.07: 100%|██████████| 196/196 [00:16<00:00, 11.81it/s]\n"
          ]
        },
        {
          "output_type": "stream",
          "name": "stdout",
          "text": [
            "\n",
            "Test set: Average loss: 0.0018, Accuracy: 8520/10000 (85.20%)\n",
            "\n"
          ]
        }
      ]
    },
    {
      "cell_type": "markdown",
      "source": [
        "### Plotting Validation Loss & Accuracy"
      ],
      "metadata": {
        "id": "7U9wcYHnIM9d"
      }
    },
    {
      "cell_type": "code",
      "source": [
        "def plot_metrics(experiment_results):\n",
        "\n",
        "  '''\n",
        "  This method plots Validation Loss & Accuracy progression.\n",
        "  :param experiment_results: Experiment Results interms of training and testing loss and accuracy\n",
        "  '''\n",
        "  sns.set(font_scale=1)\n",
        "  plt.rcParams[\"figure.figsize\"] = (25,6)\n",
        "  train_accuracy,train_losses,test_accuracy,test_losses  = experiment_results[0], experiment_results[1], experiment_results[2], experiment_results[3]\n",
        "  \n",
        "  # Plot the learning curve.\n",
        "  fig, (ax1,ax2) = plt.subplots(1,2)\n",
        "  ax1.plot(np.array(test_losses), 'b', label=\"Validation Loss\")\n",
        "  \n",
        "  # Label the plot.\n",
        "  ax1.set_title(\"Validation Loss\")\n",
        "  ax1.set_xlabel(\"Epoch\")\n",
        "  ax1.set_ylabel(\"Loss\")\n",
        "  ax1.legend()\n",
        "  \n",
        "  ax2.plot(np.array(test_accuracy), 'b', label=\"Validation Accuracy\")\n",
        "  \n",
        "  # Label the plot.\n",
        "  ax2.set_title(\"Validation Accuracy\")\n",
        "  ax2.set_xlabel(\"Epoch\")\n",
        "  ax2.set_ylabel(\"Accuracy\")\n",
        "  ax2.legend()\n",
        "  \n",
        "plot_metrics(experiment_results)"
      ],
      "metadata": {
        "colab": {
          "base_uri": "https://localhost:8080/",
          "height": 410
        },
        "id": "96gJv0zAubIo",
        "outputId": "acdbc869-3d89-4180-c176-43d18f1fbe82"
      },
      "execution_count": 26,
      "outputs": [
        {
          "output_type": "display_data",
          "data": {
            "text/plain": [
              "<Figure size 1800x432 with 2 Axes>"
            ],
            "image/png": "[encoded data removed]"
          },
          "metadata": {}
        }
      ]
    }
  ]
}