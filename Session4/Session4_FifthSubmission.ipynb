{
  "nbformat": 4,
  "nbformat_minor": 0,
  "metadata": {
    "colab": {
      "provenance": []
    },
    "kernelspec": {
      "name": "python3",
      "display_name": "Python 3"
    },
    "widgets": {
      "application/vnd.jupyter.widget-state+json": {
        "27c48189d7bd4577b48364f551ea7a21": {
          "model_module": "@jupyter-widgets/controls",
          "model_name": "HBoxModel",
          "model_module_version": "1.5.0",
          "state": {
            "_dom_classes": [],
            "_model_module": "@jupyter-widgets/controls",
            "_model_module_version": "1.5.0",
            "_model_name": "HBoxModel",
            "_view_count": null,
            "_view_module": "@jupyter-widgets/controls",
            "_view_module_version": "1.5.0",
            "_view_name": "HBoxView",
            "box_style": "",
            "children": [
              "IPY_MODEL_8d33064c4e5841608292df2cd856942a",
              "IPY_MODEL_2aeecebae1674fbd8b09e06b0f652096",
              "IPY_MODEL_fc8cf967fcd744a7b380a88c0cefe588"
            ],
            "layout": "IPY_MODEL_842516ec12f942e2a0fabeebfe2fbb03"
          }
        },
        "8d33064c4e5841608292df2cd856942a": {
          "model_module": "@jupyter-widgets/controls",
          "model_name": "HTMLModel",
          "model_module_version": "1.5.0",
          "state": {
            "_dom_classes": [],
            "_model_module": "@jupyter-widgets/controls",
            "_model_module_version": "1.5.0",
            "_model_name": "HTMLModel",
            "_view_count": null,
            "_view_module": "@jupyter-widgets/controls",
            "_view_module_version": "1.5.0",
            "_view_name": "HTMLView",
            "description": "",
            "description_tooltip": null,
            "layout": "IPY_MODEL_9f5c1c3905db4886a0c1de57f7395c48",
            "placeholder": "​",
            "style": "IPY_MODEL_68def41e6b3c491a838e1283065a7e88",
            "value": "100%"
          }
        },
        "2aeecebae1674fbd8b09e06b0f652096": {
          "model_module": "@jupyter-widgets/controls",
          "model_name": "FloatProgressModel",
          "model_module_version": "1.5.0",
          "state": {
            "_dom_classes": [],
            "_model_module": "@jupyter-widgets/controls",
            "_model_module_version": "1.5.0",
            "_model_name": "FloatProgressModel",
            "_view_count": null,
            "_view_module": "@jupyter-widgets/controls",
            "_view_module_version": "1.5.0",
            "_view_name": "ProgressView",
            "bar_style": "success",
            "description": "",
            "description_tooltip": null,
            "layout": "IPY_MODEL_8617f909f92e4a8695a9fd001f5e7bef",
            "max": 9912422,
            "min": 0,
            "orientation": "horizontal",
            "style": "IPY_MODEL_51b6ef5280b94fdb9978e2903f1098da",
            "value": 9912422
          }
        },
        "fc8cf967fcd744a7b380a88c0cefe588": {
          "model_module": "@jupyter-widgets/controls",
          "model_name": "HTMLModel",
          "model_module_version": "1.5.0",
          "state": {
            "_dom_classes": [],
            "_model_module": "@jupyter-widgets/controls",
            "_model_module_version": "1.5.0",
            "_model_name": "HTMLModel",
            "_view_count": null,
            "_view_module": "@jupyter-widgets/controls",
            "_view_module_version": "1.5.0",
            "_view_name": "HTMLView",
            "description": "",
            "description_tooltip": null,
            "layout": "IPY_MODEL_a4b3bc87aa1b4da89208787228857629",
            "placeholder": "​",
            "style": "IPY_MODEL_b72011fb282846f29b7e1feea1e535ff",
            "value": " 9912422/9912422 [00:00&lt;00:00, 45545231.56it/s]"
          }
        },
        "842516ec12f942e2a0fabeebfe2fbb03": {
          "model_module": "@jupyter-widgets/base",
          "model_name": "LayoutModel",
          "model_module_version": "1.2.0",
          "state": {
            "_model_module": "@jupyter-widgets/base",
            "_model_module_version": "1.2.0",
            "_model_name": "LayoutModel",
            "_view_count": null,
            "_view_module": "@jupyter-widgets/base",
            "_view_module_version": "1.2.0",
            "_view_name": "LayoutView",
            "align_content": null,
            "align_items": null,
            "align_self": null,
            "border": null,
            "bottom": null,
            "display": null,
            "flex": null,
            "flex_flow": null,
            "grid_area": null,
            "grid_auto_columns": null,
            "grid_auto_flow": null,
            "grid_auto_rows": null,
            "grid_column": null,
            "grid_gap": null,
            "grid_row": null,
            "grid_template_areas": null,
            "grid_template_columns": null,
            "grid_template_rows": null,
            "height": null,
            "justify_content": null,
            "justify_items": null,
            "left": null,
            "margin": null,
            "max_height": null,
            "max_width": null,
            "min_height": null,
            "min_width": null,
            "object_fit": null,
            "object_position": null,
            "order": null,
            "overflow": null,
            "overflow_x": null,
            "overflow_y": null,
            "padding": null,
            "right": null,
            "top": null,
            "visibility": null,
            "width": null
          }
        },
        "9f5c1c3905db4886a0c1de57f7395c48": {
          "model_module": "@jupyter-widgets/base",
          "model_name": "LayoutModel",
          "model_module_version": "1.2.0",
          "state": {
            "_model_module": "@jupyter-widgets/base",
            "_model_module_version": "1.2.0",
            "_model_name": "LayoutModel",
            "_view_count": null,
            "_view_module": "@jupyter-widgets/base",
            "_view_module_version": "1.2.0",
            "_view_name": "LayoutView",
            "align_content": null,
            "align_items": null,
            "align_self": null,
            "border": null,
            "bottom": null,
            "display": null,
            "flex": null,
            "flex_flow": null,
            "grid_area": null,
            "grid_auto_columns": null,
            "grid_auto_flow": null,
            "grid_auto_rows": null,
            "grid_column": null,
            "grid_gap": null,
            "grid_row": null,
            "grid_template_areas": null,
            "grid_template_columns": null,
            "grid_template_rows": null,
            "height": null,
            "justify_content": null,
            "justify_items": null,
            "left": null,
            "margin": null,
            "max_height": null,
            "max_width": null,
            "min_height": null,
            "min_width": null,
            "object_fit": null,
            "object_position": null,
            "order": null,
            "overflow": null,
            "overflow_x": null,
            "overflow_y": null,
            "padding": null,
            "right": null,
            "top": null,
            "visibility": null,
            "width": null
          }
        },
        "68def41e6b3c491a838e1283065a7e88": {
          "model_module": "@jupyter-widgets/controls",
          "model_name": "DescriptionStyleModel",
          "model_module_version": "1.5.0",
          "state": {
            "_model_module": "@jupyter-widgets/controls",
            "_model_module_version": "1.5.0",
            "_model_name": "DescriptionStyleModel",
            "_view_count": null,
            "_view_module": "@jupyter-widgets/base",
            "_view_module_version": "1.2.0",
            "_view_name": "StyleView",
            "description_width": ""
          }
        },
        "8617f909f92e4a8695a9fd001f5e7bef": {
          "model_module": "@jupyter-widgets/base",
          "model_name": "LayoutModel",
          "model_module_version": "1.2.0",
          "state": {
            "_model_module": "@jupyter-widgets/base",
            "_model_module_version": "1.2.0",
            "_model_name": "LayoutModel",
            "_view_count": null,
            "_view_module": "@jupyter-widgets/base",
            "_view_module_version": "1.2.0",
            "_view_name": "LayoutView",
            "align_content": null,
            "align_items": null,
            "align_self": null,
            "border": null,
            "bottom": null,
            "display": null,
            "flex": null,
            "flex_flow": null,
            "grid_area": null,
            "grid_auto_columns": null,
            "grid_auto_flow": null,
            "grid_auto_rows": null,
            "grid_column": null,
            "grid_gap": null,
            "grid_row": null,
            "grid_template_areas": null,
            "grid_template_columns": null,
            "grid_template_rows": null,
            "height": null,
            "justify_content": null,
            "justify_items": null,
            "left": null,
            "margin": null,
            "max_height": null,
            "max_width": null,
            "min_height": null,
            "min_width": null,
            "object_fit": null,
            "object_position": null,
            "order": null,
            "overflow": null,
            "overflow_x": null,
            "overflow_y": null,
            "padding": null,
            "right": null,
            "top": null,
            "visibility": null,
            "width": null
          }
        },
        "51b6ef5280b94fdb9978e2903f1098da": {
          "model_module": "@jupyter-widgets/controls",
          "model_name": "ProgressStyleModel",
          "model_module_version": "1.5.0",
          "state": {
            "_model_module": "@jupyter-widgets/controls",
            "_model_module_version": "1.5.0",
            "_model_name": "ProgressStyleModel",
            "_view_count": null,
            "_view_module": "@jupyter-widgets/base",
            "_view_module_version": "1.2.0",
            "_view_name": "StyleView",
            "bar_color": null,
            "description_width": ""
          }
        },
        "a4b3bc87aa1b4da89208787228857629": {
          "model_module": "@jupyter-widgets/base",
          "model_name": "LayoutModel",
          "model_module_version": "1.2.0",
          "state": {
            "_model_module": "@jupyter-widgets/base",
            "_model_module_version": "1.2.0",
            "_model_name": "LayoutModel",
            "_view_count": null,
            "_view_module": "@jupyter-widgets/base",
            "_view_module_version": "1.2.0",
            "_view_name": "LayoutView",
            "align_content": null,
            "align_items": null,
            "align_self": null,
            "border": null,
            "bottom": null,
            "display": null,
            "flex": null,
            "flex_flow": null,
            "grid_area": null,
            "grid_auto_columns": null,
            "grid_auto_flow": null,
            "grid_auto_rows": null,
            "grid_column": null,
            "grid_gap": null,
            "grid_row": null,
            "grid_template_areas": null,
            "grid_template_columns": null,
            "grid_template_rows": null,
            "height": null,
            "justify_content": null,
            "justify_items": null,
            "left": null,
            "margin": null,
            "max_height": null,
            "max_width": null,
            "min_height": null,
            "min_width": null,
            "object_fit": null,
            "object_position": null,
            "order": null,
            "overflow": null,
            "overflow_x": null,
            "overflow_y": null,
            "padding": null,
            "right": null,
            "top": null,
            "visibility": null,
            "width": null
          }
        },
        "b72011fb282846f29b7e1feea1e535ff": {
          "model_module": "@jupyter-widgets/controls",
          "model_name": "DescriptionStyleModel",
          "model_module_version": "1.5.0",
          "state": {
            "_model_module": "@jupyter-widgets/controls",
            "_model_module_version": "1.5.0",
            "_model_name": "DescriptionStyleModel",
            "_view_count": null,
            "_view_module": "@jupyter-widgets/base",
            "_view_module_version": "1.2.0",
            "_view_name": "StyleView",
            "description_width": ""
          }
        },
        "8e4883d98cd24c36ae1158c866a56cb6": {
          "model_module": "@jupyter-widgets/controls",
          "model_name": "HBoxModel",
          "model_module_version": "1.5.0",
          "state": {
            "_dom_classes": [],
            "_model_module": "@jupyter-widgets/controls",
            "_model_module_version": "1.5.0",
            "_model_name": "HBoxModel",
            "_view_count": null,
            "_view_module": "@jupyter-widgets/controls",
            "_view_module_version": "1.5.0",
            "_view_name": "HBoxView",
            "box_style": "",
            "children": [
              "IPY_MODEL_2f8b98c4e48249b5b3949289672f4605",
              "IPY_MODEL_9a9014e922c14e5bbaf8c9332fafdd58",
              "IPY_MODEL_fc0fe1f873d54a31956990c29f23f82f"
            ],
            "layout": "IPY_MODEL_e01017719d9045f2929f130e002e5ed9"
          }
        },
        "2f8b98c4e48249b5b3949289672f4605": {
          "model_module": "@jupyter-widgets/controls",
          "model_name": "HTMLModel",
          "model_module_version": "1.5.0",
          "state": {
            "_dom_classes": [],
            "_model_module": "@jupyter-widgets/controls",
            "_model_module_version": "1.5.0",
            "_model_name": "HTMLModel",
            "_view_count": null,
            "_view_module": "@jupyter-widgets/controls",
            "_view_module_version": "1.5.0",
            "_view_name": "HTMLView",
            "description": "",
            "description_tooltip": null,
            "layout": "IPY_MODEL_1bfd9f0a8dae4228bf05b23be72a3bbd",
            "placeholder": "​",
            "style": "IPY_MODEL_167cd16df17d448ca829f60ed76a30bb",
            "value": "100%"
          }
        },
        "9a9014e922c14e5bbaf8c9332fafdd58": {
          "model_module": "@jupyter-widgets/controls",
          "model_name": "FloatProgressModel",
          "model_module_version": "1.5.0",
          "state": {
            "_dom_classes": [],
            "_model_module": "@jupyter-widgets/controls",
            "_model_module_version": "1.5.0",
            "_model_name": "FloatProgressModel",
            "_view_count": null,
            "_view_module": "@jupyter-widgets/controls",
            "_view_module_version": "1.5.0",
            "_view_name": "ProgressView",
            "bar_style": "success",
            "description": "",
            "description_tooltip": null,
            "layout": "IPY_MODEL_0e3a37f0a84d4585b640cc278bf90933",
            "max": 28881,
            "min": 0,
            "orientation": "horizontal",
            "style": "IPY_MODEL_bb928fe60bd24541b7289683fd3104e8",
            "value": 28881
          }
        },
        "fc0fe1f873d54a31956990c29f23f82f": {
          "model_module": "@jupyter-widgets/controls",
          "model_name": "HTMLModel",
          "model_module_version": "1.5.0",
          "state": {
            "_dom_classes": [],
            "_model_module": "@jupyter-widgets/controls",
            "_model_module_version": "1.5.0",
            "_model_name": "HTMLModel",
            "_view_count": null,
            "_view_module": "@jupyter-widgets/controls",
            "_view_module_version": "1.5.0",
            "_view_name": "HTMLView",
            "description": "",
            "description_tooltip": null,
            "layout": "IPY_MODEL_aa3a529a8cdb4e3cbc20d92de0509277",
            "placeholder": "​",
            "style": "IPY_MODEL_ab5772f1dd2a4b9ab6892a2589540de8",
            "value": " 28881/28881 [00:00&lt;00:00, 1757908.17it/s]"
          }
        },
        "e01017719d9045f2929f130e002e5ed9": {
          "model_module": "@jupyter-widgets/base",
          "model_name": "LayoutModel",
          "model_module_version": "1.2.0",
          "state": {
            "_model_module": "@jupyter-widgets/base",
            "_model_module_version": "1.2.0",
            "_model_name": "LayoutModel",
            "_view_count": null,
            "_view_module": "@jupyter-widgets/base",
            "_view_module_version": "1.2.0",
            "_view_name": "LayoutView",
            "align_content": null,
            "align_items": null,
            "align_self": null,
            "border": null,
            "bottom": null,
            "display": null,
            "flex": null,
            "flex_flow": null,
            "grid_area": null,
            "grid_auto_columns": null,
            "grid_auto_flow": null,
            "grid_auto_rows": null,
            "grid_column": null,
            "grid_gap": null,
            "grid_row": null,
            "grid_template_areas": null,
            "grid_template_columns": null,
            "grid_template_rows": null,
            "height": null,
            "justify_content": null,
            "justify_items": null,
            "left": null,
            "margin": null,
            "max_height": null,
            "max_width": null,
            "min_height": null,
            "min_width": null,
            "object_fit": null,
            "object_position": null,
            "order": null,
            "overflow": null,
            "overflow_x": null,
            "overflow_y": null,
            "padding": null,
            "right": null,
            "top": null,
            "visibility": null,
            "width": null
          }
        },
        "1bfd9f0a8dae4228bf05b23be72a3bbd": {
          "model_module": "@jupyter-widgets/base",
          "model_name": "LayoutModel",
          "model_module_version": "1.2.0",
          "state": {
            "_model_module": "@jupyter-widgets/base",
            "_model_module_version": "1.2.0",
            "_model_name": "LayoutModel",
            "_view_count": null,
            "_view_module": "@jupyter-widgets/base",
            "_view_module_version": "1.2.0",
            "_view_name": "LayoutView",
            "align_content": null,
            "align_items": null,
            "align_self": null,
            "border": null,
            "bottom": null,
            "display": null,
            "flex": null,
            "flex_flow": null,
            "grid_area": null,
            "grid_auto_columns": null,
            "grid_auto_flow": null,
            "grid_auto_rows": null,
            "grid_column": null,
            "grid_gap": null,
            "grid_row": null,
            "grid_template_areas": null,
            "grid_template_columns": null,
            "grid_template_rows": null,
            "height": null,
            "justify_content": null,
            "justify_items": null,
            "left": null,
            "margin": null,
            "max_height": null,
            "max_width": null,
            "min_height": null,
            "min_width": null,
            "object_fit": null,
            "object_position": null,
            "order": null,
            "overflow": null,
            "overflow_x": null,
            "overflow_y": null,
            "padding": null,
            "right": null,
            "top": null,
            "visibility": null,
            "width": null
          }
        },
        "167cd16df17d448ca829f60ed76a30bb": {
          "model_module": "@jupyter-widgets/controls",
          "model_name": "DescriptionStyleModel",
          "model_module_version": "1.5.0",
          "state": {
            "_model_module": "@jupyter-widgets/controls",
            "_model_module_version": "1.5.0",
            "_model_name": "DescriptionStyleModel",
            "_view_count": null,
            "_view_module": "@jupyter-widgets/base",
            "_view_module_version": "1.2.0",
            "_view_name": "StyleView",
            "description_width": ""
          }
        },
        "0e3a37f0a84d4585b640cc278bf90933": {
          "model_module": "@jupyter-widgets/base",
          "model_name": "LayoutModel",
          "model_module_version": "1.2.0",
          "state": {
            "_model_module": "@jupyter-widgets/base",
            "_model_module_version": "1.2.0",
            "_model_name": "LayoutModel",
            "_view_count": null,
            "_view_module": "@jupyter-widgets/base",
            "_view_module_version": "1.2.0",
            "_view_name": "LayoutView",
            "align_content": null,
            "align_items": null,
            "align_self": null,
            "border": null,
            "bottom": null,
            "display": null,
            "flex": null,
            "flex_flow": null,
            "grid_area": null,
            "grid_auto_columns": null,
            "grid_auto_flow": null,
            "grid_auto_rows": null,
            "grid_column": null,
            "grid_gap": null,
            "grid_row": null,
            "grid_template_areas": null,
            "grid_template_columns": null,
            "grid_template_rows": null,
            "height": null,
            "justify_content": null,
            "justify_items": null,
            "left": null,
            "margin": null,
            "max_height": null,
            "max_width": null,
            "min_height": null,
            "min_width": null,
            "object_fit": null,
            "object_position": null,
            "order": null,
            "overflow": null,
            "overflow_x": null,
            "overflow_y": null,
            "padding": null,
            "right": null,
            "top": null,
            "visibility": null,
            "width": null
          }
        },
        "bb928fe60bd24541b7289683fd3104e8": {
          "model_module": "@jupyter-widgets/controls",
          "model_name": "ProgressStyleModel",
          "model_module_version": "1.5.0",
          "state": {
            "_model_module": "@jupyter-widgets/controls",
            "_model_module_version": "1.5.0",
            "_model_name": "ProgressStyleModel",
            "_view_count": null,
            "_view_module": "@jupyter-widgets/base",
            "_view_module_version": "1.2.0",
            "_view_name": "StyleView",
            "bar_color": null,
            "description_width": ""
          }
        },
        "aa3a529a8cdb4e3cbc20d92de0509277": {
          "model_module": "@jupyter-widgets/base",
          "model_name": "LayoutModel",
          "model_module_version": "1.2.0",
          "state": {
            "_model_module": "@jupyter-widgets/base",
            "_model_module_version": "1.2.0",
            "_model_name": "LayoutModel",
            "_view_count": null,
            "_view_module": "@jupyter-widgets/base",
            "_view_module_version": "1.2.0",
            "_view_name": "LayoutView",
            "align_content": null,
            "align_items": null,
            "align_self": null,
            "border": null,
            "bottom": null,
            "display": null,
            "flex": null,
            "flex_flow": null,
            "grid_area": null,
            "grid_auto_columns": null,
            "grid_auto_flow": null,
            "grid_auto_rows": null,
            "grid_column": null,
            "grid_gap": null,
            "grid_row": null,
            "grid_template_areas": null,
            "grid_template_columns": null,
            "grid_template_rows": null,
            "height": null,
            "justify_content": null,
            "justify_items": null,
            "left": null,
            "margin": null,
            "max_height": null,
            "max_width": null,
            "min_height": null,
            "min_width": null,
            "object_fit": null,
            "object_position": null,
            "order": null,
            "overflow": null,
            "overflow_x": null,
            "overflow_y": null,
            "padding": null,
            "right": null,
            "top": null,
            "visibility": null,
            "width": null
          }
        },
        "ab5772f1dd2a4b9ab6892a2589540de8": {
          "model_module": "@jupyter-widgets/controls",
          "model_name": "DescriptionStyleModel",
          "model_module_version": "1.5.0",
          "state": {
            "_model_module": "@jupyter-widgets/controls",
            "_model_module_version": "1.5.0",
            "_model_name": "DescriptionStyleModel",
            "_view_count": null,
            "_view_module": "@jupyter-widgets/base",
            "_view_module_version": "1.2.0",
            "_view_name": "StyleView",
            "description_width": ""
          }
        },
        "c3327643808245ec969a7f203a43b6b7": {
          "model_module": "@jupyter-widgets/controls",
          "model_name": "HBoxModel",
          "model_module_version": "1.5.0",
          "state": {
            "_dom_classes": [],
            "_model_module": "@jupyter-widgets/controls",
            "_model_module_version": "1.5.0",
            "_model_name": "HBoxModel",
            "_view_count": null,
            "_view_module": "@jupyter-widgets/controls",
            "_view_module_version": "1.5.0",
            "_view_name": "HBoxView",
            "box_style": "",
            "children": [
              "IPY_MODEL_16cf452371fb445685367ab5fcb3b120",
              "IPY_MODEL_54923d0384a14b92899cb213cb401b2e",
              "IPY_MODEL_2bf97ab10c584ef4b09834036201b689"
            ],
            "layout": "IPY_MODEL_423a1c9531c346eca65293ce80a95a78"
          }
        },
        "16cf452371fb445685367ab5fcb3b120": {
          "model_module": "@jupyter-widgets/controls",
          "model_name": "HTMLModel",
          "model_module_version": "1.5.0",
          "state": {
            "_dom_classes": [],
            "_model_module": "@jupyter-widgets/controls",
            "_model_module_version": "1.5.0",
            "_model_name": "HTMLModel",
            "_view_count": null,
            "_view_module": "@jupyter-widgets/controls",
            "_view_module_version": "1.5.0",
            "_view_name": "HTMLView",
            "description": "",
            "description_tooltip": null,
            "layout": "IPY_MODEL_08534dd8df6c43b4829d6a93e7c3520f",
            "placeholder": "​",
            "style": "IPY_MODEL_0a5a464c38be4a6eb917d7e35df38bcf",
            "value": "100%"
          }
        },
        "54923d0384a14b92899cb213cb401b2e": {
          "model_module": "@jupyter-widgets/controls",
          "model_name": "FloatProgressModel",
          "model_module_version": "1.5.0",
          "state": {
            "_dom_classes": [],
            "_model_module": "@jupyter-widgets/controls",
            "_model_module_version": "1.5.0",
            "_model_name": "FloatProgressModel",
            "_view_count": null,
            "_view_module": "@jupyter-widgets/controls",
            "_view_module_version": "1.5.0",
            "_view_name": "ProgressView",
            "bar_style": "success",
            "description": "",
            "description_tooltip": null,
            "layout": "IPY_MODEL_46264e9b78fc4a6b96ed8568053ba3b9",
            "max": 1648877,
            "min": 0,
            "orientation": "horizontal",
            "style": "IPY_MODEL_5e91adb0073043e680117b7bd6b69b88",
            "value": 1648877
          }
        },
        "2bf97ab10c584ef4b09834036201b689": {
          "model_module": "@jupyter-widgets/controls",
          "model_name": "HTMLModel",
          "model_module_version": "1.5.0",
          "state": {
            "_dom_classes": [],
            "_model_module": "@jupyter-widgets/controls",
            "_model_module_version": "1.5.0",
            "_model_name": "HTMLModel",
            "_view_count": null,
            "_view_module": "@jupyter-widgets/controls",
            "_view_module_version": "1.5.0",
            "_view_name": "HTMLView",
            "description": "",
            "description_tooltip": null,
            "layout": "IPY_MODEL_29a61050234345e38701ced235644c92",
            "placeholder": "​",
            "style": "IPY_MODEL_c443ba728e5042e0a61e69ec439a0934",
            "value": " 1648877/1648877 [00:00&lt;00:00, 50841675.22it/s]"
          }
        },
        "423a1c9531c346eca65293ce80a95a78": {
          "model_module": "@jupyter-widgets/base",
          "model_name": "LayoutModel",
          "model_module_version": "1.2.0",
          "state": {
            "_model_module": "@jupyter-widgets/base",
            "_model_module_version": "1.2.0",
            "_model_name": "LayoutModel",
            "_view_count": null,
            "_view_module": "@jupyter-widgets/base",
            "_view_module_version": "1.2.0",
            "_view_name": "LayoutView",
            "align_content": null,
            "align_items": null,
            "align_self": null,
            "border": null,
            "bottom": null,
            "display": null,
            "flex": null,
            "flex_flow": null,
            "grid_area": null,
            "grid_auto_columns": null,
            "grid_auto_flow": null,
            "grid_auto_rows": null,
            "grid_column": null,
            "grid_gap": null,
            "grid_row": null,
            "grid_template_areas": null,
            "grid_template_columns": null,
            "grid_template_rows": null,
            "height": null,
            "justify_content": null,
            "justify_items": null,
            "left": null,
            "margin": null,
            "max_height": null,
            "max_width": null,
            "min_height": null,
            "min_width": null,
            "object_fit": null,
            "object_position": null,
            "order": null,
            "overflow": null,
            "overflow_x": null,
            "overflow_y": null,
            "padding": null,
            "right": null,
            "top": null,
            "visibility": null,
            "width": null
          }
        },
        "08534dd8df6c43b4829d6a93e7c3520f": {
          "model_module": "@jupyter-widgets/base",
          "model_name": "LayoutModel",
          "model_module_version": "1.2.0",
          "state": {
            "_model_module": "@jupyter-widgets/base",
            "_model_module_version": "1.2.0",
            "_model_name": "LayoutModel",
            "_view_count": null,
            "_view_module": "@jupyter-widgets/base",
            "_view_module_version": "1.2.0",
            "_view_name": "LayoutView",
            "align_content": null,
            "align_items": null,
            "align_self": null,
            "border": null,
            "bottom": null,
            "display": null,
            "flex": null,
            "flex_flow": null,
            "grid_area": null,
            "grid_auto_columns": null,
            "grid_auto_flow": null,
            "grid_auto_rows": null,
            "grid_column": null,
            "grid_gap": null,
            "grid_row": null,
            "grid_template_areas": null,
            "grid_template_columns": null,
            "grid_template_rows": null,
            "height": null,
            "justify_content": null,
            "justify_items": null,
            "left": null,
            "margin": null,
            "max_height": null,
            "max_width": null,
            "min_height": null,
            "min_width": null,
            "object_fit": null,
            "object_position": null,
            "order": null,
            "overflow": null,
            "overflow_x": null,
            "overflow_y": null,
            "padding": null,
            "right": null,
            "top": null,
            "visibility": null,
            "width": null
          }
        },
        "0a5a464c38be4a6eb917d7e35df38bcf": {
          "model_module": "@jupyter-widgets/controls",
          "model_name": "DescriptionStyleModel",
          "model_module_version": "1.5.0",
          "state": {
            "_model_module": "@jupyter-widgets/controls",
            "_model_module_version": "1.5.0",
            "_model_name": "DescriptionStyleModel",
            "_view_count": null,
            "_view_module": "@jupyter-widgets/base",
            "_view_module_version": "1.2.0",
            "_view_name": "StyleView",
            "description_width": ""
          }
        },
        "46264e9b78fc4a6b96ed8568053ba3b9": {
          "model_module": "@jupyter-widgets/base",
          "model_name": "LayoutModel",
          "model_module_version": "1.2.0",
          "state": {
            "_model_module": "@jupyter-widgets/base",
            "_model_module_version": "1.2.0",
            "_model_name": "LayoutModel",
            "_view_count": null,
            "_view_module": "@jupyter-widgets/base",
            "_view_module_version": "1.2.0",
            "_view_name": "LayoutView",
            "align_content": null,
            "align_items": null,
            "align_self": null,
            "border": null,
            "bottom": null,
            "display": null,
            "flex": null,
            "flex_flow": null,
            "grid_area": null,
            "grid_auto_columns": null,
            "grid_auto_flow": null,
            "grid_auto_rows": null,
            "grid_column": null,
            "grid_gap": null,
            "grid_row": null,
            "grid_template_areas": null,
            "grid_template_columns": null,
            "grid_template_rows": null,
            "height": null,
            "justify_content": null,
            "justify_items": null,
            "left": null,
            "margin": null,
            "max_height": null,
            "max_width": null,
            "min_height": null,
            "min_width": null,
            "object_fit": null,
            "object_position": null,
            "order": null,
            "overflow": null,
            "overflow_x": null,
            "overflow_y": null,
            "padding": null,
            "right": null,
            "top": null,
            "visibility": null,
            "width": null
          }
        },
        "5e91adb0073043e680117b7bd6b69b88": {
          "model_module": "@jupyter-widgets/controls",
          "model_name": "ProgressStyleModel",
          "model_module_version": "1.5.0",
          "state": {
            "_model_module": "@jupyter-widgets/controls",
            "_model_module_version": "1.5.0",
            "_model_name": "ProgressStyleModel",
            "_view_count": null,
            "_view_module": "@jupyter-widgets/base",
            "_view_module_version": "1.2.0",
            "_view_name": "StyleView",
            "bar_color": null,
            "description_width": ""
          }
        },
        "29a61050234345e38701ced235644c92": {
          "model_module": "@jupyter-widgets/base",
          "model_name": "LayoutModel",
          "model_module_version": "1.2.0",
          "state": {
            "_model_module": "@jupyter-widgets/base",
            "_model_module_version": "1.2.0",
            "_model_name": "LayoutModel",
            "_view_count": null,
            "_view_module": "@jupyter-widgets/base",
            "_view_module_version": "1.2.0",
            "_view_name": "LayoutView",
            "align_content": null,
            "align_items": null,
            "align_self": null,
            "border": null,
            "bottom": null,
            "display": null,
            "flex": null,
            "flex_flow": null,
            "grid_area": null,
            "grid_auto_columns": null,
            "grid_auto_flow": null,
            "grid_auto_rows": null,
            "grid_column": null,
            "grid_gap": null,
            "grid_row": null,
            "grid_template_areas": null,
            "grid_template_columns": null,
            "grid_template_rows": null,
            "height": null,
            "justify_content": null,
            "justify_items": null,
            "left": null,
            "margin": null,
            "max_height": null,
            "max_width": null,
            "min_height": null,
            "min_width": null,
            "object_fit": null,
            "object_position": null,
            "order": null,
            "overflow": null,
            "overflow_x": null,
            "overflow_y": null,
            "padding": null,
            "right": null,
            "top": null,
            "visibility": null,
            "width": null
          }
        },
        "c443ba728e5042e0a61e69ec439a0934": {
          "model_module": "@jupyter-widgets/controls",
          "model_name": "DescriptionStyleModel",
          "model_module_version": "1.5.0",
          "state": {
            "_model_module": "@jupyter-widgets/controls",
            "_model_module_version": "1.5.0",
            "_model_name": "DescriptionStyleModel",
            "_view_count": null,
            "_view_module": "@jupyter-widgets/base",
            "_view_module_version": "1.2.0",
            "_view_name": "StyleView",
            "description_width": ""
          }
        },
        "896f0ea8647e49bc9ed148a9725ba14a": {
          "model_module": "@jupyter-widgets/controls",
          "model_name": "HBoxModel",
          "model_module_version": "1.5.0",
          "state": {
            "_dom_classes": [],
            "_model_module": "@jupyter-widgets/controls",
            "_model_module_version": "1.5.0",
            "_model_name": "HBoxModel",
            "_view_count": null,
            "_view_module": "@jupyter-widgets/controls",
            "_view_module_version": "1.5.0",
            "_view_name": "HBoxView",
            "box_style": "",
            "children": [
              "IPY_MODEL_d27b714457ee41d3b1a939a4a667abe2",
              "IPY_MODEL_e2f2d31b9cbf4d70a1abd014618e629e",
              "IPY_MODEL_a4c150040dbd4bea90cdeab841aa324a"
            ],
            "layout": "IPY_MODEL_6af2a2c51d984baead59c0553fb2b4a0"
          }
        },
        "d27b714457ee41d3b1a939a4a667abe2": {
          "model_module": "@jupyter-widgets/controls",
          "model_name": "HTMLModel",
          "model_module_version": "1.5.0",
          "state": {
            "_dom_classes": [],
            "_model_module": "@jupyter-widgets/controls",
            "_model_module_version": "1.5.0",
            "_model_name": "HTMLModel",
            "_view_count": null,
            "_view_module": "@jupyter-widgets/controls",
            "_view_module_version": "1.5.0",
            "_view_name": "HTMLView",
            "description": "",
            "description_tooltip": null,
            "layout": "IPY_MODEL_ae0c5022aa864cf59904d33caa46fe73",
            "placeholder": "​",
            "style": "IPY_MODEL_19fcc6e3295d4c9886b620a782fb861b",
            "value": "100%"
          }
        },
        "e2f2d31b9cbf4d70a1abd014618e629e": {
          "model_module": "@jupyter-widgets/controls",
          "model_name": "FloatProgressModel",
          "model_module_version": "1.5.0",
          "state": {
            "_dom_classes": [],
            "_model_module": "@jupyter-widgets/controls",
            "_model_module_version": "1.5.0",
            "_model_name": "FloatProgressModel",
            "_view_count": null,
            "_view_module": "@jupyter-widgets/controls",
            "_view_module_version": "1.5.0",
            "_view_name": "ProgressView",
            "bar_style": "success",
            "description": "",
            "description_tooltip": null,
            "layout": "IPY_MODEL_c2c05cb7a092467c9dba3c2de11c5395",
            "max": 4542,
            "min": 0,
            "orientation": "horizontal",
            "style": "IPY_MODEL_44cdcefc72024bd6a75964f6602faa45",
            "value": 4542
          }
        },
        "a4c150040dbd4bea90cdeab841aa324a": {
          "model_module": "@jupyter-widgets/controls",
          "model_name": "HTMLModel",
          "model_module_version": "1.5.0",
          "state": {
            "_dom_classes": [],
            "_model_module": "@jupyter-widgets/controls",
            "_model_module_version": "1.5.0",
            "_model_name": "HTMLModel",
            "_view_count": null,
            "_view_module": "@jupyter-widgets/controls",
            "_view_module_version": "1.5.0",
            "_view_name": "HTMLView",
            "description": "",
            "description_tooltip": null,
            "layout": "IPY_MODEL_e0139ef1f8ac402e8269bfa98b22de0a",
            "placeholder": "​",
            "style": "IPY_MODEL_44f95272fd514e79b81c988131cc3034",
            "value": " 4542/4542 [00:00&lt;00:00, 275826.79it/s]"
          }
        },
        "6af2a2c51d984baead59c0553fb2b4a0": {
          "model_module": "@jupyter-widgets/base",
          "model_name": "LayoutModel",
          "model_module_version": "1.2.0",
          "state": {
            "_model_module": "@jupyter-widgets/base",
            "_model_module_version": "1.2.0",
            "_model_name": "LayoutModel",
            "_view_count": null,
            "_view_module": "@jupyter-widgets/base",
            "_view_module_version": "1.2.0",
            "_view_name": "LayoutView",
            "align_content": null,
            "align_items": null,
            "align_self": null,
            "border": null,
            "bottom": null,
            "display": null,
            "flex": null,
            "flex_flow": null,
            "grid_area": null,
            "grid_auto_columns": null,
            "grid_auto_flow": null,
            "grid_auto_rows": null,
            "grid_column": null,
            "grid_gap": null,
            "grid_row": null,
            "grid_template_areas": null,
            "grid_template_columns": null,
            "grid_template_rows": null,
            "height": null,
            "justify_content": null,
            "justify_items": null,
            "left": null,
            "margin": null,
            "max_height": null,
            "max_width": null,
            "min_height": null,
            "min_width": null,
            "object_fit": null,
            "object_position": null,
            "order": null,
            "overflow": null,
            "overflow_x": null,
            "overflow_y": null,
            "padding": null,
            "right": null,
            "top": null,
            "visibility": null,
            "width": null
          }
        },
        "ae0c5022aa864cf59904d33caa46fe73": {
          "model_module": "@jupyter-widgets/base",
          "model_name": "LayoutModel",
          "model_module_version": "1.2.0",
          "state": {
            "_model_module": "@jupyter-widgets/base",
            "_model_module_version": "1.2.0",
            "_model_name": "LayoutModel",
            "_view_count": null,
            "_view_module": "@jupyter-widgets/base",
            "_view_module_version": "1.2.0",
            "_view_name": "LayoutView",
            "align_content": null,
            "align_items": null,
            "align_self": null,
            "border": null,
            "bottom": null,
            "display": null,
            "flex": null,
            "flex_flow": null,
            "grid_area": null,
            "grid_auto_columns": null,
            "grid_auto_flow": null,
            "grid_auto_rows": null,
            "grid_column": null,
            "grid_gap": null,
            "grid_row": null,
            "grid_template_areas": null,
            "grid_template_columns": null,
            "grid_template_rows": null,
            "height": null,
            "justify_content": null,
            "justify_items": null,
            "left": null,
            "margin": null,
            "max_height": null,
            "max_width": null,
            "min_height": null,
            "min_width": null,
            "object_fit": null,
            "object_position": null,
            "order": null,
            "overflow": null,
            "overflow_x": null,
            "overflow_y": null,
            "padding": null,
            "right": null,
            "top": null,
            "visibility": null,
            "width": null
          }
        },
        "19fcc6e3295d4c9886b620a782fb861b": {
          "model_module": "@jupyter-widgets/controls",
          "model_name": "DescriptionStyleModel",
          "model_module_version": "1.5.0",
          "state": {
            "_model_module": "@jupyter-widgets/controls",
            "_model_module_version": "1.5.0",
            "_model_name": "DescriptionStyleModel",
            "_view_count": null,
            "_view_module": "@jupyter-widgets/base",
            "_view_module_version": "1.2.0",
            "_view_name": "StyleView",
            "description_width": ""
          }
        },
        "c2c05cb7a092467c9dba3c2de11c5395": {
          "model_module": "@jupyter-widgets/base",
          "model_name": "LayoutModel",
          "model_module_version": "1.2.0",
          "state": {
            "_model_module": "@jupyter-widgets/base",
            "_model_module_version": "1.2.0",
            "_model_name": "LayoutModel",
            "_view_count": null,
            "_view_module": "@jupyter-widgets/base",
            "_view_module_version": "1.2.0",
            "_view_name": "LayoutView",
            "align_content": null,
            "align_items": null,
            "align_self": null,
            "border": null,
            "bottom": null,
            "display": null,
            "flex": null,
            "flex_flow": null,
            "grid_area": null,
            "grid_auto_columns": null,
            "grid_auto_flow": null,
            "grid_auto_rows": null,
            "grid_column": null,
            "grid_gap": null,
            "grid_row": null,
            "grid_template_areas": null,
            "grid_template_columns": null,
            "grid_template_rows": null,
            "height": null,
            "justify_content": null,
            "justify_items": null,
            "left": null,
            "margin": null,
            "max_height": null,
            "max_width": null,
            "min_height": null,
            "min_width": null,
            "object_fit": null,
            "object_position": null,
            "order": null,
            "overflow": null,
            "overflow_x": null,
            "overflow_y": null,
            "padding": null,
            "right": null,
            "top": null,
            "visibility": null,
            "width": null
          }
        },
        "44cdcefc72024bd6a75964f6602faa45": {
          "model_module": "@jupyter-widgets/controls",
          "model_name": "ProgressStyleModel",
          "model_module_version": "1.5.0",
          "state": {
            "_model_module": "@jupyter-widgets/controls",
            "_model_module_version": "1.5.0",
            "_model_name": "ProgressStyleModel",
            "_view_count": null,
            "_view_module": "@jupyter-widgets/base",
            "_view_module_version": "1.2.0",
            "_view_name": "StyleView",
            "bar_color": null,
            "description_width": ""
          }
        },
        "e0139ef1f8ac402e8269bfa98b22de0a": {
          "model_module": "@jupyter-widgets/base",
          "model_name": "LayoutModel",
          "model_module_version": "1.2.0",
          "state": {
            "_model_module": "@jupyter-widgets/base",
            "_model_module_version": "1.2.0",
            "_model_name": "LayoutModel",
            "_view_count": null,
            "_view_module": "@jupyter-widgets/base",
            "_view_module_version": "1.2.0",
            "_view_name": "LayoutView",
            "align_content": null,
            "align_items": null,
            "align_self": null,
            "border": null,
            "bottom": null,
            "display": null,
            "flex": null,
            "flex_flow": null,
            "grid_area": null,
            "grid_auto_columns": null,
            "grid_auto_flow": null,
            "grid_auto_rows": null,
            "grid_column": null,
            "grid_gap": null,
            "grid_row": null,
            "grid_template_areas": null,
            "grid_template_columns": null,
            "grid_template_rows": null,
            "height": null,
            "justify_content": null,
            "justify_items": null,
            "left": null,
            "margin": null,
            "max_height": null,
            "max_width": null,
            "min_height": null,
            "min_width": null,
            "object_fit": null,
            "object_position": null,
            "order": null,
            "overflow": null,
            "overflow_x": null,
            "overflow_y": null,
            "padding": null,
            "right": null,
            "top": null,
            "visibility": null,
            "width": null
          }
        },
        "44f95272fd514e79b81c988131cc3034": {
          "model_module": "@jupyter-widgets/controls",
          "model_name": "DescriptionStyleModel",
          "model_module_version": "1.5.0",
          "state": {
            "_model_module": "@jupyter-widgets/controls",
            "_model_module_version": "1.5.0",
            "_model_name": "DescriptionStyleModel",
            "_view_count": null,
            "_view_module": "@jupyter-widgets/base",
            "_view_module_version": "1.2.0",
            "_view_name": "StyleView",
            "description_width": ""
          }
        }
      }
    },
    "gpuClass": "standard"
  },
  "cells": [
    {
      "cell_type": "markdown",
      "source": [
        "#Assignment Target\n",
        "\n",
        "Test Accuracy: 99.4\n",
        "\n",
        "Total Number of Parameters: 8000"
      ],
      "metadata": {
        "id": "w0VvMj7M8hJh"
      }
    },
    {
      "cell_type": "markdown",
      "source": [
        "#Results obtained in Fifth Submission\n",
        "\n",
        "Best Test Accuracy: 99.15\n",
        "\n",
        "Number of Parameters Used: 7770"
      ],
      "metadata": {
        "id": "PqF_kO1D86l5"
      }
    },
    {
      "cell_type": "markdown",
      "source": [
        "#Analysis - Receptive Field & other dimension calculations\n",
        "\n",
        "We have added a little bit image augmentation to increase variability in training and to reduce amount of overfitting. The RF and other calculations remain same as we are not adding any extra layers. \n",
        "\n",
        "![RFCalculation.png](data:image/png;base64,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)"
      ],
      "metadata": {
        "id": "wUglmcLq9kBB"
      }
    },
    {
      "cell_type": "markdown",
      "source": [
        "#Analysis - Train Accuracy Comparison between Without and With Image Augmentation\n",
        "\n",
        "Train accuracy is almost comparable but a little consistent lower.\n",
        "\n",
        "![TrainAccuracyComparison.png](data:image/png;base64,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)"
      ],
      "metadata": {
        "id": "k4J39faMBIHb"
      }
    },
    {
      "cell_type": "markdown",
      "source": [
        "#Analysis - Test Accuracy Comparison between Without Augmented and With Augmented Data\n",
        "\n",
        "Test Accuracy seemed improved and was coming around consistent around 99 and above from 7th epoch. This indicates a stable model for inference, although we haven't yet reached the test accuracy target. We would do certain more optimizations around our model in the coming submissions.\n",
        "\n",
        "\n",
        "![TestAccuracyComparison.png](data:image/png;base64,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)"
      ],
      "metadata": {
        "id": "r0R_5r-FuDSk"
      }
    },
    {
      "cell_type": "markdown",
      "source": [
        "#Comments\n",
        "\n",
        "1. One obvious model performance improvement we can see. The test accuracy hasn't ever come down below 99 percent after epoch number 7. This indicates, the inference accuracy is not by chance, rather the model consistently improved.\n",
        "\n",
        "2. Still we have not touched target test accuracy, so we would do further optimizations and would observe the result in next submissions."
      ],
      "metadata": {
        "id": "OlRPFYkGBbNQ"
      }
    },
    {
      "cell_type": "markdown",
      "metadata": {
        "id": "aO-7t1Y7-hV4"
      },
      "source": [
        "# Import Libraries"
      ]
    },
    {
      "cell_type": "code",
      "metadata": {
        "id": "8kH16rnZ7wt_"
      },
      "source": [
        "from __future__ import print_function\n",
        "import torch\n",
        "import torch.nn as nn\n",
        "import torch.nn.functional as F\n",
        "import torch.optim as optim\n",
        "from torchvision import datasets, transforms"
      ],
      "execution_count": 1,
      "outputs": []
    },
    {
      "cell_type": "markdown",
      "metadata": {
        "id": "ky3f_Odl-7um"
      },
      "source": [
        "## Data Transformations"
      ]
    },
    {
      "cell_type": "code",
      "metadata": {
        "id": "YtssFUKb-jqx"
      },
      "source": [
        "# Train Phase transformations\n",
        "train_transforms = transforms.Compose([\n",
        "                                      #  transforms.Resize((28, 28)),\n",
        "                                      #  transforms.ColorJitter(brightness=0.10, contrast=0.1, saturation=0.10, hue=0.1),\n",
        "                                       transforms.RandomRotation((-7.0, 7.0), fill=(1,)),\n",
        "                                       transforms.ToTensor(),\n",
        "                                       transforms.Normalize((0.1307,), (0.3081,)) # The mean and std have to be sequences (e.g., tuples), therefore you should add a comma after the values. \n",
        "                                       # Note the difference between (0.1307) and (0.1307,)\n",
        "                                       ])\n",
        "\n",
        "# Test Phase transformations\n",
        "test_transforms = transforms.Compose([\n",
        "                                      #  transforms.Resize((28, 28)),\n",
        "                                      #  transforms.ColorJitter(brightness=0.10, contrast=0.1, saturation=0.10, hue=0.1),\n",
        "                                       transforms.ToTensor(),\n",
        "                                       transforms.Normalize((0.1307,), (0.3081,))\n",
        "                                       ])\n"
      ],
      "execution_count": 2,
      "outputs": []
    },
    {
      "cell_type": "markdown",
      "metadata": {
        "id": "oQciFYo2B1mO"
      },
      "source": [
        "# Dataset and Creating Train/Test Split"
      ]
    },
    {
      "cell_type": "code",
      "metadata": {
        "id": "_4A84rlfDA23",
        "colab": {
          "base_uri": "https://localhost:8080/",
          "height": 423,
          "referenced_widgets": [
            "27c48189d7bd4577b48364f551ea7a21",
            "8d33064c4e5841608292df2cd856942a",
            "2aeecebae1674fbd8b09e06b0f652096",
            "fc8cf967fcd744a7b380a88c0cefe588",
            "842516ec12f942e2a0fabeebfe2fbb03",
            "9f5c1c3905db4886a0c1de57f7395c48",
            "68def41e6b3c491a838e1283065a7e88",
            "8617f909f92e4a8695a9fd001f5e7bef",
            "51b6ef5280b94fdb9978e2903f1098da",
            "a4b3bc87aa1b4da89208787228857629",
            "b72011fb282846f29b7e1feea1e535ff",
            "8e4883d98cd24c36ae1158c866a56cb6",
            "2f8b98c4e48249b5b3949289672f4605",
            "9a9014e922c14e5bbaf8c9332fafdd58",
            "fc0fe1f873d54a31956990c29f23f82f",
            "e01017719d9045f2929f130e002e5ed9",
            "1bfd9f0a8dae4228bf05b23be72a3bbd",
            "167cd16df17d448ca829f60ed76a30bb",
            "0e3a37f0a84d4585b640cc278bf90933",
            "bb928fe60bd24541b7289683fd3104e8",
            "aa3a529a8cdb4e3cbc20d92de0509277",
            "ab5772f1dd2a4b9ab6892a2589540de8",
            "c3327643808245ec969a7f203a43b6b7",
            "16cf452371fb445685367ab5fcb3b120",
            "54923d0384a14b92899cb213cb401b2e",
            "2bf97ab10c584ef4b09834036201b689",
            "423a1c9531c346eca65293ce80a95a78",
            "08534dd8df6c43b4829d6a93e7c3520f",
            "0a5a464c38be4a6eb917d7e35df38bcf",
            "46264e9b78fc4a6b96ed8568053ba3b9",
            "5e91adb0073043e680117b7bd6b69b88",
            "29a61050234345e38701ced235644c92",
            "c443ba728e5042e0a61e69ec439a0934",
            "896f0ea8647e49bc9ed148a9725ba14a",
            "d27b714457ee41d3b1a939a4a667abe2",
            "e2f2d31b9cbf4d70a1abd014618e629e",
            "a4c150040dbd4bea90cdeab841aa324a",
            "6af2a2c51d984baead59c0553fb2b4a0",
            "ae0c5022aa864cf59904d33caa46fe73",
            "19fcc6e3295d4c9886b620a782fb861b",
            "c2c05cb7a092467c9dba3c2de11c5395",
            "44cdcefc72024bd6a75964f6602faa45",
            "e0139ef1f8ac402e8269bfa98b22de0a",
            "44f95272fd514e79b81c988131cc3034"
          ]
        },
        "outputId": "785069a1-1253-432c-9933-644fb26a59a7"
      },
      "source": [
        "train = datasets.MNIST('./data', train=True, download=True, transform=train_transforms)\n",
        "test = datasets.MNIST('./data', train=False, download=True, transform=test_transforms)"
      ],
      "execution_count": 3,
      "outputs": [
        {
          "output_type": "stream",
          "name": "stdout",
          "text": [
            "Downloading http://yann.lecun.com/exdb/mnist/train-images-idx3-ubyte.gz\n",
            "Downloading http://yann.lecun.com/exdb/mnist/train-images-idx3-ubyte.gz to ./data/MNIST/raw/train-images-idx3-ubyte.gz\n"
          ]
        },
        {
          "output_type": "display_data",
          "data": {
            "text/plain": [
              "  0%|          | 0/9912422 [00:00<?, ?it/s]"
            ],
            "application/vnd.jupyter.widget-view+json": {
              "version_major": 2,
              "version_minor": 0,
              "model_id": "27c48189d7bd4577b48364f551ea7a21"
            }
          },
          "metadata": {}
        },
        {
          "output_type": "stream",
          "name": "stdout",
          "text": [
            "Extracting ./data/MNIST/raw/train-images-idx3-ubyte.gz to ./data/MNIST/raw\n",
            "\n",
            "Downloading http://yann.lecun.com/exdb/mnist/train-labels-idx1-ubyte.gz\n",
            "Downloading http://yann.lecun.com/exdb/mnist/train-labels-idx1-ubyte.gz to ./data/MNIST/raw/train-labels-idx1-ubyte.gz\n"
          ]
        },
        {
          "output_type": "display_data",
          "data": {
            "text/plain": [
              "  0%|          | 0/28881 [00:00<?, ?it/s]"
            ],
            "application/vnd.jupyter.widget-view+json": {
              "version_major": 2,
              "version_minor": 0,
              "model_id": "8e4883d98cd24c36ae1158c866a56cb6"
            }
          },
          "metadata": {}
        },
        {
          "output_type": "stream",
          "name": "stdout",
          "text": [
            "Extracting ./data/MNIST/raw/train-labels-idx1-ubyte.gz to ./data/MNIST/raw\n",
            "\n",
            "Downloading http://yann.lecun.com/exdb/mnist/t10k-images-idx3-ubyte.gz\n",
            "Downloading http://yann.lecun.com/exdb/mnist/t10k-images-idx3-ubyte.gz to ./data/MNIST/raw/t10k-images-idx3-ubyte.gz\n"
          ]
        },
        {
          "output_type": "display_data",
          "data": {
            "text/plain": [
              "  0%|          | 0/1648877 [00:00<?, ?it/s]"
            ],
            "application/vnd.jupyter.widget-view+json": {
              "version_major": 2,
              "version_minor": 0,
              "model_id": "c3327643808245ec969a7f203a43b6b7"
            }
          },
          "metadata": {}
        },
        {
          "output_type": "stream",
          "name": "stdout",
          "text": [
            "Extracting ./data/MNIST/raw/t10k-images-idx3-ubyte.gz to ./data/MNIST/raw\n",
            "\n",
            "Downloading http://yann.lecun.com/exdb/mnist/t10k-labels-idx1-ubyte.gz\n",
            "Downloading http://yann.lecun.com/exdb/mnist/t10k-labels-idx1-ubyte.gz to ./data/MNIST/raw/t10k-labels-idx1-ubyte.gz\n"
          ]
        },
        {
          "output_type": "display_data",
          "data": {
            "text/plain": [
              "  0%|          | 0/4542 [00:00<?, ?it/s]"
            ],
            "application/vnd.jupyter.widget-view+json": {
              "version_major": 2,
              "version_minor": 0,
              "model_id": "896f0ea8647e49bc9ed148a9725ba14a"
            }
          },
          "metadata": {}
        },
        {
          "output_type": "stream",
          "name": "stdout",
          "text": [
            "Extracting ./data/MNIST/raw/t10k-labels-idx1-ubyte.gz to ./data/MNIST/raw\n",
            "\n"
          ]
        }
      ]
    },
    {
      "cell_type": "markdown",
      "metadata": {
        "id": "qgldp_3-Dn0c"
      },
      "source": [
        "# Dataloader Arguments & Test/Train Dataloaders\n"
      ]
    },
    {
      "cell_type": "code",
      "metadata": {
        "id": "C8OLDR79DrHG",
        "colab": {
          "base_uri": "https://localhost:8080/"
        },
        "outputId": "018d6c55-62f9-4ded-8826-c6461649d819"
      },
      "source": [
        "SEED = 1\n",
        "\n",
        "# CUDA?\n",
        "cuda = torch.cuda.is_available()\n",
        "print(\"CUDA Available?\", cuda)\n",
        "\n",
        "# For reproducibility\n",
        "torch.manual_seed(SEED)\n",
        "\n",
        "if cuda:\n",
        "    torch.cuda.manual_seed(SEED)\n",
        "\n",
        "# dataloader arguments - something you'll fetch these from cmdprmt\n",
        "dataloader_args = dict(shuffle=True, batch_size=128, num_workers=4, pin_memory=True) if cuda else dict(shuffle=True, batch_size=64)\n",
        "\n",
        "# train dataloader\n",
        "train_loader = torch.utils.data.DataLoader(train, **dataloader_args)\n",
        "\n",
        "# test dataloader\n",
        "test_loader = torch.utils.data.DataLoader(test, **dataloader_args)"
      ],
      "execution_count": 4,
      "outputs": [
        {
          "output_type": "stream",
          "name": "stdout",
          "text": [
            "CUDA Available? True\n"
          ]
        },
        {
          "output_type": "stream",
          "name": "stderr",
          "text": [
            "/usr/local/lib/python3.8/dist-packages/torch/utils/data/dataloader.py:554: UserWarning: This DataLoader will create 4 worker processes in total. Our suggested max number of worker in current system is 2, which is smaller than what this DataLoader is going to create. Please be aware that excessive worker creation might get DataLoader running slow or even freeze, lower the worker number to avoid potential slowness/freeze if necessary.\n",
            "  warnings.warn(_create_warning_msg(\n"
          ]
        }
      ]
    },
    {
      "cell_type": "markdown",
      "metadata": {
        "id": "ubQL3H6RJL3h"
      },
      "source": [
        "# The model\n"
      ]
    },
    {
      "cell_type": "code",
      "metadata": {
        "id": "7FXQlB9kH1ov"
      },
      "source": [
        "class Net(nn.Module):\n",
        "    def __init__(self):\n",
        "        super(Net, self).__init__()\n",
        "        self.conv1 = nn.Conv2d(1, 8, 3) # 26 * 26 * 8\n",
        "        self.bn1 = nn.BatchNorm2d(8) # 26 * 26 * 8\n",
        "        self.conv2 = nn.Conv2d(8, 16, 3) # 24 * 24 * 16\n",
        "        self.bn2 = nn.BatchNorm2d(16) # 24 * 24 * 16\n",
        "        self.pool1 = nn.MaxPool2d(2, 2) # 12 * 12 * 16\n",
        "        self.conv3 = nn.Conv2d(16, 8, 1) # 12 * 12 * 8\n",
        "        self.bn3 = nn.BatchNorm2d(8) # 12 * 12 * 8\n",
        "\n",
        "        self.conv4 = nn.Conv2d(8, 16, 3) # 10 * 10 * 16\n",
        "        self.bn4 = nn.BatchNorm2d(16) # 10 * 10 * 16\n",
        "        self.conv5 = nn.Conv2d(16, 24, 3) # 8 * 8 * 24\n",
        "        self.bn5 = nn.BatchNorm2d(24) # 8 * 8 * 24\n",
        "        self.pool2 = nn.AvgPool2d(8) # 1 * 1 * 24\n",
        "\n",
        "        self.conv6 = nn.Conv2d(24, 32, 1) # 1 * 1 * 32\n",
        "        self.bn6 = nn.BatchNorm2d(32) # 1 * 1 * 32\n",
        "        self.conv7 = nn.Conv2d(32, 16, 1) # 1 * 1 * 16\n",
        "        self.bn7 = nn.BatchNorm2d(16) # 1 * 1 * 16\n",
        "        self.conv8 = nn.Conv2d(16, 10, 1) # 1 * 1 * 10\n",
        "\n",
        "        self.dropout = nn.Dropout(0.05)\n",
        "        \n",
        "\n",
        "    def forward(self, x):\n",
        "        x = self.conv1(x)\n",
        "        x = self.bn1(x)\n",
        "        x = self.dropout(x)\n",
        "        x = F.relu(x)\n",
        "\n",
        "        x = self.conv2(x)\n",
        "        x = self.bn2(x)\n",
        "        x = self.dropout(x)\n",
        "        x = self.pool1(x)\n",
        "\n",
        "        x = self.conv3(x)\n",
        "        x = self.bn3(x)\n",
        "        x = self.dropout(x)\n",
        "\n",
        "        x = self.conv4(x)\n",
        "        x = F.relu(x)\n",
        "        x = self.bn4(x)\n",
        "        x = self.dropout(x)\n",
        "\n",
        "        x = self.conv5(x)\n",
        "        x = F.relu(x)\n",
        "        x = self.bn5(x)\n",
        "        x = self.dropout(x)\n",
        "        x = self.pool2(x)\n",
        "\n",
        "        x = self.conv6(x)\n",
        "        x = F.relu(x)\n",
        "        x = self.bn6(x)\n",
        "        x = self.dropout(x)\n",
        "\n",
        "        x = self.conv7(x)\n",
        "        x = F.relu(x)\n",
        "        x = self.bn7(x)\n",
        "        x = self.dropout(x)\n",
        "\n",
        "        x = self.conv8(x)\n",
        "\n",
        "        '''\n",
        "        x = nn.Dropout(self.bn3(self.conv3(self.pool1(nn.Dropout(self.bn2(self.conv2(F.relu(nn.Dropout(self.bn1(self.conv1(x)), 0.05)))), 0.05)))), 0.05)\n",
        "        x = self.pool2(nn.Dropout(self.bn5(F.relu(self.conv5(nn.Dropout(self.bn4(F.relu(self.conv4(x))), 0.05)))), 0.05)),\n",
        "        x = self.conv8(nn.Dropout(self.bn7(F.relu(self.conv7(nn.Dropout(self.bn6(F.relu(self.conv6(x))), 0.05)))), 0.05))\n",
        "        '''\n",
        "        x = x.view(-1, 10)\n",
        "        return F.log_softmax(x, dim=-1)"
      ],
      "execution_count": 5,
      "outputs": []
    },
    {
      "cell_type": "markdown",
      "metadata": {
        "id": "M3-vp8X9LCWo"
      },
      "source": [
        "# Model Params"
      ]
    },
    {
      "cell_type": "code",
      "metadata": {
        "id": "5skB97zIJQQe",
        "colab": {
          "base_uri": "https://localhost:8080/"
        },
        "outputId": "1bc60f3c-b1c9-4311-c140-406efebf76c4"
      },
      "source": [
        "!pip install torchsummary\n",
        "from torchsummary import summary\n",
        "use_cuda = torch.cuda.is_available()\n",
        "device = torch.device(\"cuda\" if use_cuda else \"cpu\")\n",
        "print(device)\n",
        "model = Net().to(device)\n",
        "summary(model, input_size=(1, 28, 28))"
      ],
      "execution_count": 6,
      "outputs": [
        {
          "output_type": "stream",
          "name": "stdout",
          "text": [
            "Looking in indexes: https://pypi.org/simple, https://us-python.pkg.dev/colab-wheels/public/simple/\n",
            "Requirement already satisfied: torchsummary in /usr/local/lib/python3.8/dist-packages (1.5.1)\n",
            "cuda\n",
            "----------------------------------------------------------------\n",
            "        Layer (type)               Output Shape         Param #\n",
            "================================================================\n",
            "            Conv2d-1            [-1, 8, 26, 26]              80\n",
            "       BatchNorm2d-2            [-1, 8, 26, 26]              16\n",
            "           Dropout-3            [-1, 8, 26, 26]               0\n",
            "            Conv2d-4           [-1, 16, 24, 24]           1,168\n",
            "       BatchNorm2d-5           [-1, 16, 24, 24]              32\n",
            "           Dropout-6           [-1, 16, 24, 24]               0\n",
            "         MaxPool2d-7           [-1, 16, 12, 12]               0\n",
            "            Conv2d-8            [-1, 8, 12, 12]             136\n",
            "       BatchNorm2d-9            [-1, 8, 12, 12]              16\n",
            "          Dropout-10            [-1, 8, 12, 12]               0\n",
            "           Conv2d-11           [-1, 16, 10, 10]           1,168\n",
            "      BatchNorm2d-12           [-1, 16, 10, 10]              32\n",
            "          Dropout-13           [-1, 16, 10, 10]               0\n",
            "           Conv2d-14             [-1, 24, 8, 8]           3,480\n",
            "      BatchNorm2d-15             [-1, 24, 8, 8]              48\n",
            "          Dropout-16             [-1, 24, 8, 8]               0\n",
            "        AvgPool2d-17             [-1, 24, 1, 1]               0\n",
            "           Conv2d-18             [-1, 32, 1, 1]             800\n",
            "      BatchNorm2d-19             [-1, 32, 1, 1]              64\n",
            "          Dropout-20             [-1, 32, 1, 1]               0\n",
            "           Conv2d-21             [-1, 16, 1, 1]             528\n",
            "      BatchNorm2d-22             [-1, 16, 1, 1]              32\n",
            "          Dropout-23             [-1, 16, 1, 1]               0\n",
            "           Conv2d-24             [-1, 10, 1, 1]             170\n",
            "================================================================\n",
            "Total params: 7,770\n",
            "Trainable params: 7,770\n",
            "Non-trainable params: 0\n",
            "----------------------------------------------------------------\n",
            "Input size (MB): 0.00\n",
            "Forward/backward pass size (MB): 0.45\n",
            "Params size (MB): 0.03\n",
            "Estimated Total Size (MB): 0.48\n",
            "----------------------------------------------------------------\n"
          ]
        }
      ]
    },
    {
      "cell_type": "markdown",
      "metadata": {
        "id": "1__x_SbrL7z3"
      },
      "source": [
        "# Training and Testing"
      ]
    },
    {
      "cell_type": "code",
      "metadata": {
        "id": "fbkF2nN_LYIb"
      },
      "source": [
        "from tqdm import tqdm\n",
        "\n",
        "train_losses = []\n",
        "test_losses = []\n",
        "train_acc = []\n",
        "test_acc = []\n",
        "\n",
        "def train(model, device, train_loader, optimizer, epoch):\n",
        "  model.train()\n",
        "  pbar = tqdm(train_loader)\n",
        "  correct = 0\n",
        "  processed = 0\n",
        "  for batch_idx, (data, target) in enumerate(pbar):\n",
        "    # get samples\n",
        "    data, target = data.to(device), target.to(device)\n",
        "\n",
        "    # Init\n",
        "    optimizer.zero_grad()\n",
        "    # In PyTorch, we need to set the gradients to zero before starting to do backpropragation because PyTorch accumulates the gradients on subsequent backward passes. \n",
        "    # Because of this, when you start your training loop, ideally you should zero out the gradients so that you do the parameter update correctly.\n",
        "\n",
        "    # Predict\n",
        "    y_pred = model(data)\n",
        "\n",
        "    # Calculate loss\n",
        "    loss = F.nll_loss(y_pred, target)\n",
        "    train_losses.append(loss)\n",
        "\n",
        "    # Backpropagation\n",
        "    loss.backward()\n",
        "    optimizer.step()\n",
        "\n",
        "    # Update pbar-tqdm\n",
        "    \n",
        "    pred = y_pred.argmax(dim=1, keepdim=True)  # get the index of the max log-probability\n",
        "    correct += pred.eq(target.view_as(pred)).sum().item()\n",
        "    processed += len(data)\n",
        "\n",
        "    pbar.set_description(desc= f'Loss={loss.item()} Batch_id={batch_idx} Accuracy={100*correct/processed:0.2f}')\n",
        "    train_acc.append(100*correct/processed)\n",
        "\n",
        "def test(model, device, test_loader):\n",
        "    model.eval()\n",
        "    test_loss = 0\n",
        "    correct = 0\n",
        "    with torch.no_grad():\n",
        "        for data, target in test_loader:\n",
        "            data, target = data.to(device), target.to(device)\n",
        "            output = model(data)\n",
        "            test_loss += F.nll_loss(output, target, reduction='sum').item()  # sum up batch loss\n",
        "            pred = output.argmax(dim=1, keepdim=True)  # get the index of the max log-probability\n",
        "            correct += pred.eq(target.view_as(pred)).sum().item()\n",
        "\n",
        "    test_loss /= len(test_loader.dataset)\n",
        "    test_losses.append(test_loss)\n",
        "\n",
        "    print('\\nTest set: Average loss: {:.4f}, Accuracy: {}/{} ({:.2f}%)\\n'.format(\n",
        "        test_loss, correct, len(test_loader.dataset),\n",
        "        100. * correct / len(test_loader.dataset)))\n",
        "    \n",
        "    test_acc.append(100. * correct / len(test_loader.dataset))"
      ],
      "execution_count": 7,
      "outputs": []
    },
    {
      "cell_type": "markdown",
      "metadata": {
        "id": "drokW8wWODKq"
      },
      "source": [
        "# Let's Train and test our model"
      ]
    },
    {
      "cell_type": "code",
      "metadata": {
        "id": "xMCFxeAKOB53",
        "colab": {
          "base_uri": "https://localhost:8080/"
        },
        "outputId": "8112aa9e-33ef-4097-d91d-bc6200c861c7"
      },
      "source": [
        "model =  Net().to(device)\n",
        "optimizer = optim.SGD(model.parameters(), lr=0.01, momentum=0.9)\n",
        "EPOCHS = 15\n",
        "for epoch in range(EPOCHS):\n",
        "    print(\"EPOCH:\", epoch)\n",
        "    train(model, device, train_loader, optimizer, epoch)\n",
        "    test(model, device, test_loader)"
      ],
      "execution_count": 8,
      "outputs": [
        {
          "output_type": "stream",
          "name": "stdout",
          "text": [
            "EPOCH: 0\n"
          ]
        },
        {
          "output_type": "stream",
          "name": "stderr",
          "text": [
            "Loss=0.2732337415218353 Batch_id=468 Accuracy=88.16: 100%|██████████| 469/469 [00:17<00:00, 27.40it/s]\n"
          ]
        },
        {
          "output_type": "stream",
          "name": "stdout",
          "text": [
            "\n",
            "Test set: Average loss: 0.0872, Accuracy: 9745/10000 (97.45%)\n",
            "\n",
            "EPOCH: 1\n"
          ]
        },
        {
          "output_type": "stream",
          "name": "stderr",
          "text": [
            "Loss=0.16329407691955566 Batch_id=468 Accuracy=96.56: 100%|██████████| 469/469 [00:17<00:00, 26.23it/s]\n"
          ]
        },
        {
          "output_type": "stream",
          "name": "stdout",
          "text": [
            "\n",
            "Test set: Average loss: 0.0748, Accuracy: 9776/10000 (97.76%)\n",
            "\n",
            "EPOCH: 2\n"
          ]
        },
        {
          "output_type": "stream",
          "name": "stderr",
          "text": [
            "Loss=0.04289648309350014 Batch_id=468 Accuracy=97.33: 100%|██████████| 469/469 [00:17<00:00, 27.25it/s]\n"
          ]
        },
        {
          "output_type": "stream",
          "name": "stdout",
          "text": [
            "\n",
            "Test set: Average loss: 0.0474, Accuracy: 9847/10000 (98.47%)\n",
            "\n",
            "EPOCH: 3\n"
          ]
        },
        {
          "output_type": "stream",
          "name": "stderr",
          "text": [
            "Loss=0.11414932459592819 Batch_id=468 Accuracy=97.66: 100%|██████████| 469/469 [00:16<00:00, 27.85it/s]\n"
          ]
        },
        {
          "output_type": "stream",
          "name": "stdout",
          "text": [
            "\n",
            "Test set: Average loss: 0.0401, Accuracy: 9877/10000 (98.77%)\n",
            "\n",
            "EPOCH: 4\n"
          ]
        },
        {
          "output_type": "stream",
          "name": "stderr",
          "text": [
            "Loss=0.03618963062763214 Batch_id=468 Accuracy=97.88: 100%|██████████| 469/469 [00:17<00:00, 27.47it/s]\n"
          ]
        },
        {
          "output_type": "stream",
          "name": "stdout",
          "text": [
            "\n",
            "Test set: Average loss: 0.0491, Accuracy: 9848/10000 (98.48%)\n",
            "\n",
            "EPOCH: 5\n"
          ]
        },
        {
          "output_type": "stream",
          "name": "stderr",
          "text": [
            "Loss=0.07262670248746872 Batch_id=468 Accuracy=98.02: 100%|██████████| 469/469 [00:16<00:00, 27.86it/s]\n"
          ]
        },
        {
          "output_type": "stream",
          "name": "stdout",
          "text": [
            "\n",
            "Test set: Average loss: 0.0388, Accuracy: 9886/10000 (98.86%)\n",
            "\n",
            "EPOCH: 6\n"
          ]
        },
        {
          "output_type": "stream",
          "name": "stderr",
          "text": [
            "Loss=0.10475189238786697 Batch_id=468 Accuracy=98.09: 100%|██████████| 469/469 [00:17<00:00, 27.21it/s]\n"
          ]
        },
        {
          "output_type": "stream",
          "name": "stdout",
          "text": [
            "\n",
            "Test set: Average loss: 0.0370, Accuracy: 9888/10000 (98.88%)\n",
            "\n",
            "EPOCH: 7\n"
          ]
        },
        {
          "output_type": "stream",
          "name": "stderr",
          "text": [
            "Loss=0.014746402390301228 Batch_id=468 Accuracy=98.29: 100%|██████████| 469/469 [00:16<00:00, 27.62it/s]\n"
          ]
        },
        {
          "output_type": "stream",
          "name": "stdout",
          "text": [
            "\n",
            "Test set: Average loss: 0.0315, Accuracy: 9900/10000 (99.00%)\n",
            "\n",
            "EPOCH: 8\n"
          ]
        },
        {
          "output_type": "stream",
          "name": "stderr",
          "text": [
            "Loss=0.07913126051425934 Batch_id=468 Accuracy=98.27: 100%|██████████| 469/469 [00:17<00:00, 27.55it/s]\n"
          ]
        },
        {
          "output_type": "stream",
          "name": "stdout",
          "text": [
            "\n",
            "Test set: Average loss: 0.0305, Accuracy: 9914/10000 (99.14%)\n",
            "\n",
            "EPOCH: 9\n"
          ]
        },
        {
          "output_type": "stream",
          "name": "stderr",
          "text": [
            "Loss=0.015233825892210007 Batch_id=468 Accuracy=98.38: 100%|██████████| 469/469 [00:17<00:00, 27.37it/s]\n"
          ]
        },
        {
          "output_type": "stream",
          "name": "stdout",
          "text": [
            "\n",
            "Test set: Average loss: 0.0322, Accuracy: 9903/10000 (99.03%)\n",
            "\n",
            "EPOCH: 10\n"
          ]
        },
        {
          "output_type": "stream",
          "name": "stderr",
          "text": [
            "Loss=0.023798728361725807 Batch_id=468 Accuracy=98.47: 100%|██████████| 469/469 [00:17<00:00, 27.53it/s]\n"
          ]
        },
        {
          "output_type": "stream",
          "name": "stdout",
          "text": [
            "\n",
            "Test set: Average loss: 0.0301, Accuracy: 9904/10000 (99.04%)\n",
            "\n",
            "EPOCH: 11\n"
          ]
        },
        {
          "output_type": "stream",
          "name": "stderr",
          "text": [
            "Loss=0.07839823514223099 Batch_id=468 Accuracy=98.50: 100%|██████████| 469/469 [00:17<00:00, 27.33it/s]\n"
          ]
        },
        {
          "output_type": "stream",
          "name": "stdout",
          "text": [
            "\n",
            "Test set: Average loss: 0.0270, Accuracy: 9910/10000 (99.10%)\n",
            "\n",
            "EPOCH: 12\n"
          ]
        },
        {
          "output_type": "stream",
          "name": "stderr",
          "text": [
            "Loss=0.16510041058063507 Batch_id=468 Accuracy=98.49: 100%|██████████| 469/469 [00:18<00:00, 25.76it/s]\n"
          ]
        },
        {
          "output_type": "stream",
          "name": "stdout",
          "text": [
            "\n",
            "Test set: Average loss: 0.0317, Accuracy: 9907/10000 (99.07%)\n",
            "\n",
            "EPOCH: 13\n"
          ]
        },
        {
          "output_type": "stream",
          "name": "stderr",
          "text": [
            "Loss=0.014580834656953812 Batch_id=468 Accuracy=98.56: 100%|██████████| 469/469 [00:16<00:00, 27.67it/s]\n"
          ]
        },
        {
          "output_type": "stream",
          "name": "stdout",
          "text": [
            "\n",
            "Test set: Average loss: 0.0274, Accuracy: 9915/10000 (99.15%)\n",
            "\n",
            "EPOCH: 14\n"
          ]
        },
        {
          "output_type": "stream",
          "name": "stderr",
          "text": [
            "Loss=0.012958255596458912 Batch_id=468 Accuracy=98.58: 100%|██████████| 469/469 [00:17<00:00, 27.45it/s]\n"
          ]
        },
        {
          "output_type": "stream",
          "name": "stdout",
          "text": [
            "\n",
            "Test set: Average loss: 0.0276, Accuracy: 9915/10000 (99.15%)\n",
            "\n"
          ]
        }
      ]
    },
    {
      "cell_type": "code",
      "metadata": {
        "id": "odozjbIvY12p"
      },
      "source": [],
      "execution_count": null,
      "outputs": []
    }
  ]
}