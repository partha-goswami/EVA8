{
  "nbformat": 4,
  "nbformat_minor": 0,
  "metadata": {
    "colab": {
      "provenance": []
    },
    "kernelspec": {
      "name": "python3",
      "display_name": "Python 3"
    },
    "widgets": {
      "application/vnd.jupyter.widget-state+json": {
        "af8a19fbdadd4559b8e91137b6ca6e88": {
          "model_module": "@jupyter-widgets/controls",
          "model_name": "HBoxModel",
          "model_module_version": "1.5.0",
          "state": {
            "_dom_classes": [],
            "_model_module": "@jupyter-widgets/controls",
            "_model_module_version": "1.5.0",
            "_model_name": "HBoxModel",
            "_view_count": null,
            "_view_module": "@jupyter-widgets/controls",
            "_view_module_version": "1.5.0",
            "_view_name": "HBoxView",
            "box_style": "",
            "children": [
              "IPY_MODEL_fe42a331d72449a8a620d28344ba4379",
              "IPY_MODEL_46cf288379e642c797dd094d9c591118",
              "IPY_MODEL_d00ed76ea0334eadacb054f814be1e6c"
            ],
            "layout": "IPY_MODEL_9689b27c0d1a422c98858a78380d99f8"
          }
        },
        "fe42a331d72449a8a620d28344ba4379": {
          "model_module": "@jupyter-widgets/controls",
          "model_name": "HTMLModel",
          "model_module_version": "1.5.0",
          "state": {
            "_dom_classes": [],
            "_model_module": "@jupyter-widgets/controls",
            "_model_module_version": "1.5.0",
            "_model_name": "HTMLModel",
            "_view_count": null,
            "_view_module": "@jupyter-widgets/controls",
            "_view_module_version": "1.5.0",
            "_view_name": "HTMLView",
            "description": "",
            "description_tooltip": null,
            "layout": "IPY_MODEL_ce72b56a64c245dbb77f14528b2e0db5",
            "placeholder": "​",
            "style": "IPY_MODEL_b72387d5c4ca45fab78d1084f6911152",
            "value": "100%"
          }
        },
        "46cf288379e642c797dd094d9c591118": {
          "model_module": "@jupyter-widgets/controls",
          "model_name": "FloatProgressModel",
          "model_module_version": "1.5.0",
          "state": {
            "_dom_classes": [],
            "_model_module": "@jupyter-widgets/controls",
            "_model_module_version": "1.5.0",
            "_model_name": "FloatProgressModel",
            "_view_count": null,
            "_view_module": "@jupyter-widgets/controls",
            "_view_module_version": "1.5.0",
            "_view_name": "ProgressView",
            "bar_style": "success",
            "description": "",
            "description_tooltip": null,
            "layout": "IPY_MODEL_7d47464d23ac44708edc042e48935cd2",
            "max": 9912422,
            "min": 0,
            "orientation": "horizontal",
            "style": "IPY_MODEL_01b50563b0364bc4a3588e7192f223de",
            "value": 9912422
          }
        },
        "d00ed76ea0334eadacb054f814be1e6c": {
          "model_module": "@jupyter-widgets/controls",
          "model_name": "HTMLModel",
          "model_module_version": "1.5.0",
          "state": {
            "_dom_classes": [],
            "_model_module": "@jupyter-widgets/controls",
            "_model_module_version": "1.5.0",
            "_model_name": "HTMLModel",
            "_view_count": null,
            "_view_module": "@jupyter-widgets/controls",
            "_view_module_version": "1.5.0",
            "_view_name": "HTMLView",
            "description": "",
            "description_tooltip": null,
            "layout": "IPY_MODEL_ba0c62aab9b6465f9d68008d6f6ae3d4",
            "placeholder": "​",
            "style": "IPY_MODEL_9e7d5117628e477c81cac7b72a45eedd",
            "value": " 9912422/9912422 [00:00&lt;00:00, 32920948.03it/s]"
          }
        },
        "9689b27c0d1a422c98858a78380d99f8": {
          "model_module": "@jupyter-widgets/base",
          "model_name": "LayoutModel",
          "model_module_version": "1.2.0",
          "state": {
            "_model_module": "@jupyter-widgets/base",
            "_model_module_version": "1.2.0",
            "_model_name": "LayoutModel",
            "_view_count": null,
            "_view_module": "@jupyter-widgets/base",
            "_view_module_version": "1.2.0",
            "_view_name": "LayoutView",
            "align_content": null,
            "align_items": null,
            "align_self": null,
            "border": null,
            "bottom": null,
            "display": null,
            "flex": null,
            "flex_flow": null,
            "grid_area": null,
            "grid_auto_columns": null,
            "grid_auto_flow": null,
            "grid_auto_rows": null,
            "grid_column": null,
            "grid_gap": null,
            "grid_row": null,
            "grid_template_areas": null,
            "grid_template_columns": null,
            "grid_template_rows": null,
            "height": null,
            "justify_content": null,
            "justify_items": null,
            "left": null,
            "margin": null,
            "max_height": null,
            "max_width": null,
            "min_height": null,
            "min_width": null,
            "object_fit": null,
            "object_position": null,
            "order": null,
            "overflow": null,
            "overflow_x": null,
            "overflow_y": null,
            "padding": null,
            "right": null,
            "top": null,
            "visibility": null,
            "width": null
          }
        },
        "ce72b56a64c245dbb77f14528b2e0db5": {
          "model_module": "@jupyter-widgets/base",
          "model_name": "LayoutModel",
          "model_module_version": "1.2.0",
          "state": {
            "_model_module": "@jupyter-widgets/base",
            "_model_module_version": "1.2.0",
            "_model_name": "LayoutModel",
            "_view_count": null,
            "_view_module": "@jupyter-widgets/base",
            "_view_module_version": "1.2.0",
            "_view_name": "LayoutView",
            "align_content": null,
            "align_items": null,
            "align_self": null,
            "border": null,
            "bottom": null,
            "display": null,
            "flex": null,
            "flex_flow": null,
            "grid_area": null,
            "grid_auto_columns": null,
            "grid_auto_flow": null,
            "grid_auto_rows": null,
            "grid_column": null,
            "grid_gap": null,
            "grid_row": null,
            "grid_template_areas": null,
            "grid_template_columns": null,
            "grid_template_rows": null,
            "height": null,
            "justify_content": null,
            "justify_items": null,
            "left": null,
            "margin": null,
            "max_height": null,
            "max_width": null,
            "min_height": null,
            "min_width": null,
            "object_fit": null,
            "object_position": null,
            "order": null,
            "overflow": null,
            "overflow_x": null,
            "overflow_y": null,
            "padding": null,
            "right": null,
            "top": null,
            "visibility": null,
            "width": null
          }
        },
        "b72387d5c4ca45fab78d1084f6911152": {
          "model_module": "@jupyter-widgets/controls",
          "model_name": "DescriptionStyleModel",
          "model_module_version": "1.5.0",
          "state": {
            "_model_module": "@jupyter-widgets/controls",
            "_model_module_version": "1.5.0",
            "_model_name": "DescriptionStyleModel",
            "_view_count": null,
            "_view_module": "@jupyter-widgets/base",
            "_view_module_version": "1.2.0",
            "_view_name": "StyleView",
            "description_width": ""
          }
        },
        "7d47464d23ac44708edc042e48935cd2": {
          "model_module": "@jupyter-widgets/base",
          "model_name": "LayoutModel",
          "model_module_version": "1.2.0",
          "state": {
            "_model_module": "@jupyter-widgets/base",
            "_model_module_version": "1.2.0",
            "_model_name": "LayoutModel",
            "_view_count": null,
            "_view_module": "@jupyter-widgets/base",
            "_view_module_version": "1.2.0",
            "_view_name": "LayoutView",
            "align_content": null,
            "align_items": null,
            "align_self": null,
            "border": null,
            "bottom": null,
            "display": null,
            "flex": null,
            "flex_flow": null,
            "grid_area": null,
            "grid_auto_columns": null,
            "grid_auto_flow": null,
            "grid_auto_rows": null,
            "grid_column": null,
            "grid_gap": null,
            "grid_row": null,
            "grid_template_areas": null,
            "grid_template_columns": null,
            "grid_template_rows": null,
            "height": null,
            "justify_content": null,
            "justify_items": null,
            "left": null,
            "margin": null,
            "max_height": null,
            "max_width": null,
            "min_height": null,
            "min_width": null,
            "object_fit": null,
            "object_position": null,
            "order": null,
            "overflow": null,
            "overflow_x": null,
            "overflow_y": null,
            "padding": null,
            "right": null,
            "top": null,
            "visibility": null,
            "width": null
          }
        },
        "01b50563b0364bc4a3588e7192f223de": {
          "model_module": "@jupyter-widgets/controls",
          "model_name": "ProgressStyleModel",
          "model_module_version": "1.5.0",
          "state": {
            "_model_module": "@jupyter-widgets/controls",
            "_model_module_version": "1.5.0",
            "_model_name": "ProgressStyleModel",
            "_view_count": null,
            "_view_module": "@jupyter-widgets/base",
            "_view_module_version": "1.2.0",
            "_view_name": "StyleView",
            "bar_color": null,
            "description_width": ""
          }
        },
        "ba0c62aab9b6465f9d68008d6f6ae3d4": {
          "model_module": "@jupyter-widgets/base",
          "model_name": "LayoutModel",
          "model_module_version": "1.2.0",
          "state": {
            "_model_module": "@jupyter-widgets/base",
            "_model_module_version": "1.2.0",
            "_model_name": "LayoutModel",
            "_view_count": null,
            "_view_module": "@jupyter-widgets/base",
            "_view_module_version": "1.2.0",
            "_view_name": "LayoutView",
            "align_content": null,
            "align_items": null,
            "align_self": null,
            "border": null,
            "bottom": null,
            "display": null,
            "flex": null,
            "flex_flow": null,
            "grid_area": null,
            "grid_auto_columns": null,
            "grid_auto_flow": null,
            "grid_auto_rows": null,
            "grid_column": null,
            "grid_gap": null,
            "grid_row": null,
            "grid_template_areas": null,
            "grid_template_columns": null,
            "grid_template_rows": null,
            "height": null,
            "justify_content": null,
            "justify_items": null,
            "left": null,
            "margin": null,
            "max_height": null,
            "max_width": null,
            "min_height": null,
            "min_width": null,
            "object_fit": null,
            "object_position": null,
            "order": null,
            "overflow": null,
            "overflow_x": null,
            "overflow_y": null,
            "padding": null,
            "right": null,
            "top": null,
            "visibility": null,
            "width": null
          }
        },
        "9e7d5117628e477c81cac7b72a45eedd": {
          "model_module": "@jupyter-widgets/controls",
          "model_name": "DescriptionStyleModel",
          "model_module_version": "1.5.0",
          "state": {
            "_model_module": "@jupyter-widgets/controls",
            "_model_module_version": "1.5.0",
            "_model_name": "DescriptionStyleModel",
            "_view_count": null,
            "_view_module": "@jupyter-widgets/base",
            "_view_module_version": "1.2.0",
            "_view_name": "StyleView",
            "description_width": ""
          }
        },
        "ca91427d9b70442d880118eb7656b488": {
          "model_module": "@jupyter-widgets/controls",
          "model_name": "HBoxModel",
          "model_module_version": "1.5.0",
          "state": {
            "_dom_classes": [],
            "_model_module": "@jupyter-widgets/controls",
            "_model_module_version": "1.5.0",
            "_model_name": "HBoxModel",
            "_view_count": null,
            "_view_module": "@jupyter-widgets/controls",
            "_view_module_version": "1.5.0",
            "_view_name": "HBoxView",
            "box_style": "",
            "children": [
              "IPY_MODEL_1eba05ed87cb4c4da5857b2aa92c5b72",
              "IPY_MODEL_d165220ae14f41ae81feaa16535a4010",
              "IPY_MODEL_6e613bd445f54d42baa41b129a40f192"
            ],
            "layout": "IPY_MODEL_4bc2508f2aa04bdbb0760ee3e3031089"
          }
        },
        "1eba05ed87cb4c4da5857b2aa92c5b72": {
          "model_module": "@jupyter-widgets/controls",
          "model_name": "HTMLModel",
          "model_module_version": "1.5.0",
          "state": {
            "_dom_classes": [],
            "_model_module": "@jupyter-widgets/controls",
            "_model_module_version": "1.5.0",
            "_model_name": "HTMLModel",
            "_view_count": null,
            "_view_module": "@jupyter-widgets/controls",
            "_view_module_version": "1.5.0",
            "_view_name": "HTMLView",
            "description": "",
            "description_tooltip": null,
            "layout": "IPY_MODEL_a5c5091d3f7148a0b7314ed7863dbc7c",
            "placeholder": "​",
            "style": "IPY_MODEL_022b7dc7a1d74aafab2594d5719c3b18",
            "value": "100%"
          }
        },
        "d165220ae14f41ae81feaa16535a4010": {
          "model_module": "@jupyter-widgets/controls",
          "model_name": "FloatProgressModel",
          "model_module_version": "1.5.0",
          "state": {
            "_dom_classes": [],
            "_model_module": "@jupyter-widgets/controls",
            "_model_module_version": "1.5.0",
            "_model_name": "FloatProgressModel",
            "_view_count": null,
            "_view_module": "@jupyter-widgets/controls",
            "_view_module_version": "1.5.0",
            "_view_name": "ProgressView",
            "bar_style": "success",
            "description": "",
            "description_tooltip": null,
            "layout": "IPY_MODEL_11da559f52b346428b80a89d4850eadb",
            "max": 28881,
            "min": 0,
            "orientation": "horizontal",
            "style": "IPY_MODEL_c85a7e561c73414fb8a60fb1d1fdc247",
            "value": 28881
          }
        },
        "6e613bd445f54d42baa41b129a40f192": {
          "model_module": "@jupyter-widgets/controls",
          "model_name": "HTMLModel",
          "model_module_version": "1.5.0",
          "state": {
            "_dom_classes": [],
            "_model_module": "@jupyter-widgets/controls",
            "_model_module_version": "1.5.0",
            "_model_name": "HTMLModel",
            "_view_count": null,
            "_view_module": "@jupyter-widgets/controls",
            "_view_module_version": "1.5.0",
            "_view_name": "HTMLView",
            "description": "",
            "description_tooltip": null,
            "layout": "IPY_MODEL_2fb945543fc2405ba8efec4689fb4d38",
            "placeholder": "​",
            "style": "IPY_MODEL_60b73a1ab17347f7913a98484c301338",
            "value": " 28881/28881 [00:00&lt;00:00, 550759.49it/s]"
          }
        },
        "4bc2508f2aa04bdbb0760ee3e3031089": {
          "model_module": "@jupyter-widgets/base",
          "model_name": "LayoutModel",
          "model_module_version": "1.2.0",
          "state": {
            "_model_module": "@jupyter-widgets/base",
            "_model_module_version": "1.2.0",
            "_model_name": "LayoutModel",
            "_view_count": null,
            "_view_module": "@jupyter-widgets/base",
            "_view_module_version": "1.2.0",
            "_view_name": "LayoutView",
            "align_content": null,
            "align_items": null,
            "align_self": null,
            "border": null,
            "bottom": null,
            "display": null,
            "flex": null,
            "flex_flow": null,
            "grid_area": null,
            "grid_auto_columns": null,
            "grid_auto_flow": null,
            "grid_auto_rows": null,
            "grid_column": null,
            "grid_gap": null,
            "grid_row": null,
            "grid_template_areas": null,
            "grid_template_columns": null,
            "grid_template_rows": null,
            "height": null,
            "justify_content": null,
            "justify_items": null,
            "left": null,
            "margin": null,
            "max_height": null,
            "max_width": null,
            "min_height": null,
            "min_width": null,
            "object_fit": null,
            "object_position": null,
            "order": null,
            "overflow": null,
            "overflow_x": null,
            "overflow_y": null,
            "padding": null,
            "right": null,
            "top": null,
            "visibility": null,
            "width": null
          }
        },
        "a5c5091d3f7148a0b7314ed7863dbc7c": {
          "model_module": "@jupyter-widgets/base",
          "model_name": "LayoutModel",
          "model_module_version": "1.2.0",
          "state": {
            "_model_module": "@jupyter-widgets/base",
            "_model_module_version": "1.2.0",
            "_model_name": "LayoutModel",
            "_view_count": null,
            "_view_module": "@jupyter-widgets/base",
            "_view_module_version": "1.2.0",
            "_view_name": "LayoutView",
            "align_content": null,
            "align_items": null,
            "align_self": null,
            "border": null,
            "bottom": null,
            "display": null,
            "flex": null,
            "flex_flow": null,
            "grid_area": null,
            "grid_auto_columns": null,
            "grid_auto_flow": null,
            "grid_auto_rows": null,
            "grid_column": null,
            "grid_gap": null,
            "grid_row": null,
            "grid_template_areas": null,
            "grid_template_columns": null,
            "grid_template_rows": null,
            "height": null,
            "justify_content": null,
            "justify_items": null,
            "left": null,
            "margin": null,
            "max_height": null,
            "max_width": null,
            "min_height": null,
            "min_width": null,
            "object_fit": null,
            "object_position": null,
            "order": null,
            "overflow": null,
            "overflow_x": null,
            "overflow_y": null,
            "padding": null,
            "right": null,
            "top": null,
            "visibility": null,
            "width": null
          }
        },
        "022b7dc7a1d74aafab2594d5719c3b18": {
          "model_module": "@jupyter-widgets/controls",
          "model_name": "DescriptionStyleModel",
          "model_module_version": "1.5.0",
          "state": {
            "_model_module": "@jupyter-widgets/controls",
            "_model_module_version": "1.5.0",
            "_model_name": "DescriptionStyleModel",
            "_view_count": null,
            "_view_module": "@jupyter-widgets/base",
            "_view_module_version": "1.2.0",
            "_view_name": "StyleView",
            "description_width": ""
          }
        },
        "11da559f52b346428b80a89d4850eadb": {
          "model_module": "@jupyter-widgets/base",
          "model_name": "LayoutModel",
          "model_module_version": "1.2.0",
          "state": {
            "_model_module": "@jupyter-widgets/base",
            "_model_module_version": "1.2.0",
            "_model_name": "LayoutModel",
            "_view_count": null,
            "_view_module": "@jupyter-widgets/base",
            "_view_module_version": "1.2.0",
            "_view_name": "LayoutView",
            "align_content": null,
            "align_items": null,
            "align_self": null,
            "border": null,
            "bottom": null,
            "display": null,
            "flex": null,
            "flex_flow": null,
            "grid_area": null,
            "grid_auto_columns": null,
            "grid_auto_flow": null,
            "grid_auto_rows": null,
            "grid_column": null,
            "grid_gap": null,
            "grid_row": null,
            "grid_template_areas": null,
            "grid_template_columns": null,
            "grid_template_rows": null,
            "height": null,
            "justify_content": null,
            "justify_items": null,
            "left": null,
            "margin": null,
            "max_height": null,
            "max_width": null,
            "min_height": null,
            "min_width": null,
            "object_fit": null,
            "object_position": null,
            "order": null,
            "overflow": null,
            "overflow_x": null,
            "overflow_y": null,
            "padding": null,
            "right": null,
            "top": null,
            "visibility": null,
            "width": null
          }
        },
        "c85a7e561c73414fb8a60fb1d1fdc247": {
          "model_module": "@jupyter-widgets/controls",
          "model_name": "ProgressStyleModel",
          "model_module_version": "1.5.0",
          "state": {
            "_model_module": "@jupyter-widgets/controls",
            "_model_module_version": "1.5.0",
            "_model_name": "ProgressStyleModel",
            "_view_count": null,
            "_view_module": "@jupyter-widgets/base",
            "_view_module_version": "1.2.0",
            "_view_name": "StyleView",
            "bar_color": null,
            "description_width": ""
          }
        },
        "2fb945543fc2405ba8efec4689fb4d38": {
          "model_module": "@jupyter-widgets/base",
          "model_name": "LayoutModel",
          "model_module_version": "1.2.0",
          "state": {
            "_model_module": "@jupyter-widgets/base",
            "_model_module_version": "1.2.0",
            "_model_name": "LayoutModel",
            "_view_count": null,
            "_view_module": "@jupyter-widgets/base",
            "_view_module_version": "1.2.0",
            "_view_name": "LayoutView",
            "align_content": null,
            "align_items": null,
            "align_self": null,
            "border": null,
            "bottom": null,
            "display": null,
            "flex": null,
            "flex_flow": null,
            "grid_area": null,
            "grid_auto_columns": null,
            "grid_auto_flow": null,
            "grid_auto_rows": null,
            "grid_column": null,
            "grid_gap": null,
            "grid_row": null,
            "grid_template_areas": null,
            "grid_template_columns": null,
            "grid_template_rows": null,
            "height": null,
            "justify_content": null,
            "justify_items": null,
            "left": null,
            "margin": null,
            "max_height": null,
            "max_width": null,
            "min_height": null,
            "min_width": null,
            "object_fit": null,
            "object_position": null,
            "order": null,
            "overflow": null,
            "overflow_x": null,
            "overflow_y": null,
            "padding": null,
            "right": null,
            "top": null,
            "visibility": null,
            "width": null
          }
        },
        "60b73a1ab17347f7913a98484c301338": {
          "model_module": "@jupyter-widgets/controls",
          "model_name": "DescriptionStyleModel",
          "model_module_version": "1.5.0",
          "state": {
            "_model_module": "@jupyter-widgets/controls",
            "_model_module_version": "1.5.0",
            "_model_name": "DescriptionStyleModel",
            "_view_count": null,
            "_view_module": "@jupyter-widgets/base",
            "_view_module_version": "1.2.0",
            "_view_name": "StyleView",
            "description_width": ""
          }
        },
        "dd574e83138343bd8535c1c1e3b7ec01": {
          "model_module": "@jupyter-widgets/controls",
          "model_name": "HBoxModel",
          "model_module_version": "1.5.0",
          "state": {
            "_dom_classes": [],
            "_model_module": "@jupyter-widgets/controls",
            "_model_module_version": "1.5.0",
            "_model_name": "HBoxModel",
            "_view_count": null,
            "_view_module": "@jupyter-widgets/controls",
            "_view_module_version": "1.5.0",
            "_view_name": "HBoxView",
            "box_style": "",
            "children": [
              "IPY_MODEL_c60b0a40351b493c90ae70cf32ba3b98",
              "IPY_MODEL_e9595facc035467c9f097212f4ce80c8",
              "IPY_MODEL_f5edbc6c06fe4c2494913fa08fee1073"
            ],
            "layout": "IPY_MODEL_0355cbd77d75478b84b75c37ffd8674d"
          }
        },
        "c60b0a40351b493c90ae70cf32ba3b98": {
          "model_module": "@jupyter-widgets/controls",
          "model_name": "HTMLModel",
          "model_module_version": "1.5.0",
          "state": {
            "_dom_classes": [],
            "_model_module": "@jupyter-widgets/controls",
            "_model_module_version": "1.5.0",
            "_model_name": "HTMLModel",
            "_view_count": null,
            "_view_module": "@jupyter-widgets/controls",
            "_view_module_version": "1.5.0",
            "_view_name": "HTMLView",
            "description": "",
            "description_tooltip": null,
            "layout": "IPY_MODEL_62833dbef982447cae583c5c494aede2",
            "placeholder": "​",
            "style": "IPY_MODEL_0b0f028a81d349a8be8fb93bcc31489c",
            "value": "100%"
          }
        },
        "e9595facc035467c9f097212f4ce80c8": {
          "model_module": "@jupyter-widgets/controls",
          "model_name": "FloatProgressModel",
          "model_module_version": "1.5.0",
          "state": {
            "_dom_classes": [],
            "_model_module": "@jupyter-widgets/controls",
            "_model_module_version": "1.5.0",
            "_model_name": "FloatProgressModel",
            "_view_count": null,
            "_view_module": "@jupyter-widgets/controls",
            "_view_module_version": "1.5.0",
            "_view_name": "ProgressView",
            "bar_style": "success",
            "description": "",
            "description_tooltip": null,
            "layout": "IPY_MODEL_3bd6e24a27a349fb9e4aadf87e3db445",
            "max": 1648877,
            "min": 0,
            "orientation": "horizontal",
            "style": "IPY_MODEL_b19f887fa803438d8635006ea9ef1e34",
            "value": 1648877
          }
        },
        "f5edbc6c06fe4c2494913fa08fee1073": {
          "model_module": "@jupyter-widgets/controls",
          "model_name": "HTMLModel",
          "model_module_version": "1.5.0",
          "state": {
            "_dom_classes": [],
            "_model_module": "@jupyter-widgets/controls",
            "_model_module_version": "1.5.0",
            "_model_name": "HTMLModel",
            "_view_count": null,
            "_view_module": "@jupyter-widgets/controls",
            "_view_module_version": "1.5.0",
            "_view_name": "HTMLView",
            "description": "",
            "description_tooltip": null,
            "layout": "IPY_MODEL_15b766445eb04179b7f749499887be01",
            "placeholder": "​",
            "style": "IPY_MODEL_e83181936322416699efcfdfe94ad75a",
            "value": " 1648877/1648877 [00:00&lt;00:00, 17450579.21it/s]"
          }
        },
        "0355cbd77d75478b84b75c37ffd8674d": {
          "model_module": "@jupyter-widgets/base",
          "model_name": "LayoutModel",
          "model_module_version": "1.2.0",
          "state": {
            "_model_module": "@jupyter-widgets/base",
            "_model_module_version": "1.2.0",
            "_model_name": "LayoutModel",
            "_view_count": null,
            "_view_module": "@jupyter-widgets/base",
            "_view_module_version": "1.2.0",
            "_view_name": "LayoutView",
            "align_content": null,
            "align_items": null,
            "align_self": null,
            "border": null,
            "bottom": null,
            "display": null,
            "flex": null,
            "flex_flow": null,
            "grid_area": null,
            "grid_auto_columns": null,
            "grid_auto_flow": null,
            "grid_auto_rows": null,
            "grid_column": null,
            "grid_gap": null,
            "grid_row": null,
            "grid_template_areas": null,
            "grid_template_columns": null,
            "grid_template_rows": null,
            "height": null,
            "justify_content": null,
            "justify_items": null,
            "left": null,
            "margin": null,
            "max_height": null,
            "max_width": null,
            "min_height": null,
            "min_width": null,
            "object_fit": null,
            "object_position": null,
            "order": null,
            "overflow": null,
            "overflow_x": null,
            "overflow_y": null,
            "padding": null,
            "right": null,
            "top": null,
            "visibility": null,
            "width": null
          }
        },
        "62833dbef982447cae583c5c494aede2": {
          "model_module": "@jupyter-widgets/base",
          "model_name": "LayoutModel",
          "model_module_version": "1.2.0",
          "state": {
            "_model_module": "@jupyter-widgets/base",
            "_model_module_version": "1.2.0",
            "_model_name": "LayoutModel",
            "_view_count": null,
            "_view_module": "@jupyter-widgets/base",
            "_view_module_version": "1.2.0",
            "_view_name": "LayoutView",
            "align_content": null,
            "align_items": null,
            "align_self": null,
            "border": null,
            "bottom": null,
            "display": null,
            "flex": null,
            "flex_flow": null,
            "grid_area": null,
            "grid_auto_columns": null,
            "grid_auto_flow": null,
            "grid_auto_rows": null,
            "grid_column": null,
            "grid_gap": null,
            "grid_row": null,
            "grid_template_areas": null,
            "grid_template_columns": null,
            "grid_template_rows": null,
            "height": null,
            "justify_content": null,
            "justify_items": null,
            "left": null,
            "margin": null,
            "max_height": null,
            "max_width": null,
            "min_height": null,
            "min_width": null,
            "object_fit": null,
            "object_position": null,
            "order": null,
            "overflow": null,
            "overflow_x": null,
            "overflow_y": null,
            "padding": null,
            "right": null,
            "top": null,
            "visibility": null,
            "width": null
          }
        },
        "0b0f028a81d349a8be8fb93bcc31489c": {
          "model_module": "@jupyter-widgets/controls",
          "model_name": "DescriptionStyleModel",
          "model_module_version": "1.5.0",
          "state": {
            "_model_module": "@jupyter-widgets/controls",
            "_model_module_version": "1.5.0",
            "_model_name": "DescriptionStyleModel",
            "_view_count": null,
            "_view_module": "@jupyter-widgets/base",
            "_view_module_version": "1.2.0",
            "_view_name": "StyleView",
            "description_width": ""
          }
        },
        "3bd6e24a27a349fb9e4aadf87e3db445": {
          "model_module": "@jupyter-widgets/base",
          "model_name": "LayoutModel",
          "model_module_version": "1.2.0",
          "state": {
            "_model_module": "@jupyter-widgets/base",
            "_model_module_version": "1.2.0",
            "_model_name": "LayoutModel",
            "_view_count": null,
            "_view_module": "@jupyter-widgets/base",
            "_view_module_version": "1.2.0",
            "_view_name": "LayoutView",
            "align_content": null,
            "align_items": null,
            "align_self": null,
            "border": null,
            "bottom": null,
            "display": null,
            "flex": null,
            "flex_flow": null,
            "grid_area": null,
            "grid_auto_columns": null,
            "grid_auto_flow": null,
            "grid_auto_rows": null,
            "grid_column": null,
            "grid_gap": null,
            "grid_row": null,
            "grid_template_areas": null,
            "grid_template_columns": null,
            "grid_template_rows": null,
            "height": null,
            "justify_content": null,
            "justify_items": null,
            "left": null,
            "margin": null,
            "max_height": null,
            "max_width": null,
            "min_height": null,
            "min_width": null,
            "object_fit": null,
            "object_position": null,
            "order": null,
            "overflow": null,
            "overflow_x": null,
            "overflow_y": null,
            "padding": null,
            "right": null,
            "top": null,
            "visibility": null,
            "width": null
          }
        },
        "b19f887fa803438d8635006ea9ef1e34": {
          "model_module": "@jupyter-widgets/controls",
          "model_name": "ProgressStyleModel",
          "model_module_version": "1.5.0",
          "state": {
            "_model_module": "@jupyter-widgets/controls",
            "_model_module_version": "1.5.0",
            "_model_name": "ProgressStyleModel",
            "_view_count": null,
            "_view_module": "@jupyter-widgets/base",
            "_view_module_version": "1.2.0",
            "_view_name": "StyleView",
            "bar_color": null,
            "description_width": ""
          }
        },
        "15b766445eb04179b7f749499887be01": {
          "model_module": "@jupyter-widgets/base",
          "model_name": "LayoutModel",
          "model_module_version": "1.2.0",
          "state": {
            "_model_module": "@jupyter-widgets/base",
            "_model_module_version": "1.2.0",
            "_model_name": "LayoutModel",
            "_view_count": null,
            "_view_module": "@jupyter-widgets/base",
            "_view_module_version": "1.2.0",
            "_view_name": "LayoutView",
            "align_content": null,
            "align_items": null,
            "align_self": null,
            "border": null,
            "bottom": null,
            "display": null,
            "flex": null,
            "flex_flow": null,
            "grid_area": null,
            "grid_auto_columns": null,
            "grid_auto_flow": null,
            "grid_auto_rows": null,
            "grid_column": null,
            "grid_gap": null,
            "grid_row": null,
            "grid_template_areas": null,
            "grid_template_columns": null,
            "grid_template_rows": null,
            "height": null,
            "justify_content": null,
            "justify_items": null,
            "left": null,
            "margin": null,
            "max_height": null,
            "max_width": null,
            "min_height": null,
            "min_width": null,
            "object_fit": null,
            "object_position": null,
            "order": null,
            "overflow": null,
            "overflow_x": null,
            "overflow_y": null,
            "padding": null,
            "right": null,
            "top": null,
            "visibility": null,
            "width": null
          }
        },
        "e83181936322416699efcfdfe94ad75a": {
          "model_module": "@jupyter-widgets/controls",
          "model_name": "DescriptionStyleModel",
          "model_module_version": "1.5.0",
          "state": {
            "_model_module": "@jupyter-widgets/controls",
            "_model_module_version": "1.5.0",
            "_model_name": "DescriptionStyleModel",
            "_view_count": null,
            "_view_module": "@jupyter-widgets/base",
            "_view_module_version": "1.2.0",
            "_view_name": "StyleView",
            "description_width": ""
          }
        },
        "2fbab2b481384db690427586d4345267": {
          "model_module": "@jupyter-widgets/controls",
          "model_name": "HBoxModel",
          "model_module_version": "1.5.0",
          "state": {
            "_dom_classes": [],
            "_model_module": "@jupyter-widgets/controls",
            "_model_module_version": "1.5.0",
            "_model_name": "HBoxModel",
            "_view_count": null,
            "_view_module": "@jupyter-widgets/controls",
            "_view_module_version": "1.5.0",
            "_view_name": "HBoxView",
            "box_style": "",
            "children": [
              "IPY_MODEL_5b9f6fe3e515447195c72e7974b72a4e",
              "IPY_MODEL_b221ac0c2cfa4bebb4d37a289328bb9b",
              "IPY_MODEL_1a42df8bc2174cbcaf72101ce5ca6cb3"
            ],
            "layout": "IPY_MODEL_f2ba8dfa216147ab9c12d6437156472b"
          }
        },
        "5b9f6fe3e515447195c72e7974b72a4e": {
          "model_module": "@jupyter-widgets/controls",
          "model_name": "HTMLModel",
          "model_module_version": "1.5.0",
          "state": {
            "_dom_classes": [],
            "_model_module": "@jupyter-widgets/controls",
            "_model_module_version": "1.5.0",
            "_model_name": "HTMLModel",
            "_view_count": null,
            "_view_module": "@jupyter-widgets/controls",
            "_view_module_version": "1.5.0",
            "_view_name": "HTMLView",
            "description": "",
            "description_tooltip": null,
            "layout": "IPY_MODEL_fa18c5ee56cd47aab4e3f6370a129f5f",
            "placeholder": "​",
            "style": "IPY_MODEL_9d47560a537d45458917df09569a0a7d",
            "value": "100%"
          }
        },
        "b221ac0c2cfa4bebb4d37a289328bb9b": {
          "model_module": "@jupyter-widgets/controls",
          "model_name": "FloatProgressModel",
          "model_module_version": "1.5.0",
          "state": {
            "_dom_classes": [],
            "_model_module": "@jupyter-widgets/controls",
            "_model_module_version": "1.5.0",
            "_model_name": "FloatProgressModel",
            "_view_count": null,
            "_view_module": "@jupyter-widgets/controls",
            "_view_module_version": "1.5.0",
            "_view_name": "ProgressView",
            "bar_style": "success",
            "description": "",
            "description_tooltip": null,
            "layout": "IPY_MODEL_b3577548c45c42768f798f1a80a04045",
            "max": 4542,
            "min": 0,
            "orientation": "horizontal",
            "style": "IPY_MODEL_de41188b3a4e44c2935715d5fb5d9f34",
            "value": 4542
          }
        },
        "1a42df8bc2174cbcaf72101ce5ca6cb3": {
          "model_module": "@jupyter-widgets/controls",
          "model_name": "HTMLModel",
          "model_module_version": "1.5.0",
          "state": {
            "_dom_classes": [],
            "_model_module": "@jupyter-widgets/controls",
            "_model_module_version": "1.5.0",
            "_model_name": "HTMLModel",
            "_view_count": null,
            "_view_module": "@jupyter-widgets/controls",
            "_view_module_version": "1.5.0",
            "_view_name": "HTMLView",
            "description": "",
            "description_tooltip": null,
            "layout": "IPY_MODEL_7ff2bc05ab514989879048cfebce3539",
            "placeholder": "​",
            "style": "IPY_MODEL_1076caf9757841a7be6368f4c2259d12",
            "value": " 4542/4542 [00:00&lt;00:00, 114261.81it/s]"
          }
        },
        "f2ba8dfa216147ab9c12d6437156472b": {
          "model_module": "@jupyter-widgets/base",
          "model_name": "LayoutModel",
          "model_module_version": "1.2.0",
          "state": {
            "_model_module": "@jupyter-widgets/base",
            "_model_module_version": "1.2.0",
            "_model_name": "LayoutModel",
            "_view_count": null,
            "_view_module": "@jupyter-widgets/base",
            "_view_module_version": "1.2.0",
            "_view_name": "LayoutView",
            "align_content": null,
            "align_items": null,
            "align_self": null,
            "border": null,
            "bottom": null,
            "display": null,
            "flex": null,
            "flex_flow": null,
            "grid_area": null,
            "grid_auto_columns": null,
            "grid_auto_flow": null,
            "grid_auto_rows": null,
            "grid_column": null,
            "grid_gap": null,
            "grid_row": null,
            "grid_template_areas": null,
            "grid_template_columns": null,
            "grid_template_rows": null,
            "height": null,
            "justify_content": null,
            "justify_items": null,
            "left": null,
            "margin": null,
            "max_height": null,
            "max_width": null,
            "min_height": null,
            "min_width": null,
            "object_fit": null,
            "object_position": null,
            "order": null,
            "overflow": null,
            "overflow_x": null,
            "overflow_y": null,
            "padding": null,
            "right": null,
            "top": null,
            "visibility": null,
            "width": null
          }
        },
        "fa18c5ee56cd47aab4e3f6370a129f5f": {
          "model_module": "@jupyter-widgets/base",
          "model_name": "LayoutModel",
          "model_module_version": "1.2.0",
          "state": {
            "_model_module": "@jupyter-widgets/base",
            "_model_module_version": "1.2.0",
            "_model_name": "LayoutModel",
            "_view_count": null,
            "_view_module": "@jupyter-widgets/base",
            "_view_module_version": "1.2.0",
            "_view_name": "LayoutView",
            "align_content": null,
            "align_items": null,
            "align_self": null,
            "border": null,
            "bottom": null,
            "display": null,
            "flex": null,
            "flex_flow": null,
            "grid_area": null,
            "grid_auto_columns": null,
            "grid_auto_flow": null,
            "grid_auto_rows": null,
            "grid_column": null,
            "grid_gap": null,
            "grid_row": null,
            "grid_template_areas": null,
            "grid_template_columns": null,
            "grid_template_rows": null,
            "height": null,
            "justify_content": null,
            "justify_items": null,
            "left": null,
            "margin": null,
            "max_height": null,
            "max_width": null,
            "min_height": null,
            "min_width": null,
            "object_fit": null,
            "object_position": null,
            "order": null,
            "overflow": null,
            "overflow_x": null,
            "overflow_y": null,
            "padding": null,
            "right": null,
            "top": null,
            "visibility": null,
            "width": null
          }
        },
        "9d47560a537d45458917df09569a0a7d": {
          "model_module": "@jupyter-widgets/controls",
          "model_name": "DescriptionStyleModel",
          "model_module_version": "1.5.0",
          "state": {
            "_model_module": "@jupyter-widgets/controls",
            "_model_module_version": "1.5.0",
            "_model_name": "DescriptionStyleModel",
            "_view_count": null,
            "_view_module": "@jupyter-widgets/base",
            "_view_module_version": "1.2.0",
            "_view_name": "StyleView",
            "description_width": ""
          }
        },
        "b3577548c45c42768f798f1a80a04045": {
          "model_module": "@jupyter-widgets/base",
          "model_name": "LayoutModel",
          "model_module_version": "1.2.0",
          "state": {
            "_model_module": "@jupyter-widgets/base",
            "_model_module_version": "1.2.0",
            "_model_name": "LayoutModel",
            "_view_count": null,
            "_view_module": "@jupyter-widgets/base",
            "_view_module_version": "1.2.0",
            "_view_name": "LayoutView",
            "align_content": null,
            "align_items": null,
            "align_self": null,
            "border": null,
            "bottom": null,
            "display": null,
            "flex": null,
            "flex_flow": null,
            "grid_area": null,
            "grid_auto_columns": null,
            "grid_auto_flow": null,
            "grid_auto_rows": null,
            "grid_column": null,
            "grid_gap": null,
            "grid_row": null,
            "grid_template_areas": null,
            "grid_template_columns": null,
            "grid_template_rows": null,
            "height": null,
            "justify_content": null,
            "justify_items": null,
            "left": null,
            "margin": null,
            "max_height": null,
            "max_width": null,
            "min_height": null,
            "min_width": null,
            "object_fit": null,
            "object_position": null,
            "order": null,
            "overflow": null,
            "overflow_x": null,
            "overflow_y": null,
            "padding": null,
            "right": null,
            "top": null,
            "visibility": null,
            "width": null
          }
        },
        "de41188b3a4e44c2935715d5fb5d9f34": {
          "model_module": "@jupyter-widgets/controls",
          "model_name": "ProgressStyleModel",
          "model_module_version": "1.5.0",
          "state": {
            "_model_module": "@jupyter-widgets/controls",
            "_model_module_version": "1.5.0",
            "_model_name": "ProgressStyleModel",
            "_view_count": null,
            "_view_module": "@jupyter-widgets/base",
            "_view_module_version": "1.2.0",
            "_view_name": "StyleView",
            "bar_color": null,
            "description_width": ""
          }
        },
        "7ff2bc05ab514989879048cfebce3539": {
          "model_module": "@jupyter-widgets/base",
          "model_name": "LayoutModel",
          "model_module_version": "1.2.0",
          "state": {
            "_model_module": "@jupyter-widgets/base",
            "_model_module_version": "1.2.0",
            "_model_name": "LayoutModel",
            "_view_count": null,
            "_view_module": "@jupyter-widgets/base",
            "_view_module_version": "1.2.0",
            "_view_name": "LayoutView",
            "align_content": null,
            "align_items": null,
            "align_self": null,
            "border": null,
            "bottom": null,
            "display": null,
            "flex": null,
            "flex_flow": null,
            "grid_area": null,
            "grid_auto_columns": null,
            "grid_auto_flow": null,
            "grid_auto_rows": null,
            "grid_column": null,
            "grid_gap": null,
            "grid_row": null,
            "grid_template_areas": null,
            "grid_template_columns": null,
            "grid_template_rows": null,
            "height": null,
            "justify_content": null,
            "justify_items": null,
            "left": null,
            "margin": null,
            "max_height": null,
            "max_width": null,
            "min_height": null,
            "min_width": null,
            "object_fit": null,
            "object_position": null,
            "order": null,
            "overflow": null,
            "overflow_x": null,
            "overflow_y": null,
            "padding": null,
            "right": null,
            "top": null,
            "visibility": null,
            "width": null
          }
        },
        "1076caf9757841a7be6368f4c2259d12": {
          "model_module": "@jupyter-widgets/controls",
          "model_name": "DescriptionStyleModel",
          "model_module_version": "1.5.0",
          "state": {
            "_model_module": "@jupyter-widgets/controls",
            "_model_module_version": "1.5.0",
            "_model_name": "DescriptionStyleModel",
            "_view_count": null,
            "_view_module": "@jupyter-widgets/base",
            "_view_module_version": "1.2.0",
            "_view_name": "StyleView",
            "description_width": ""
          }
        }
      }
    },
    "gpuClass": "standard"
  },
  "cells": [
    {
      "cell_type": "markdown",
      "metadata": {
        "id": "aO-7t1Y7-hV4"
      },
      "source": [
        "# Import Libraries"
      ]
    },
    {
      "cell_type": "markdown",
      "source": [
        "#Assignment Target\n",
        "\n",
        "Test Accuracy: 99.4\n",
        "\n",
        "Total Number of Parameters: 8000"
      ],
      "metadata": {
        "id": "w0VvMj7M8hJh"
      }
    },
    {
      "cell_type": "markdown",
      "source": [
        "#Results obtained in Third Submission\n",
        "\n",
        "Best Test Accuracy: 99.10\n",
        "\n",
        "Number of Parameters Used: 7770"
      ],
      "metadata": {
        "id": "PqF_kO1D86l5"
      }
    },
    {
      "cell_type": "markdown",
      "source": [
        "#Analysis - Receptive Field & other dimension calculations\n",
        "\n",
        "RF Field and other dimension calculations would be same like 2nd submission. In this submission, we are only adding batch normalization layer (except at the last layer) after convolutions. \n",
        "\n",
        "![RFCalculation.png](data:image/png;base64,iVBORw0KGgoAAAANSUhEUgAABpUAAAJMCAIAAACU27mVAAAAAXNSR0IArs4c6QAAAARnQU1BAACxjwv8YQUAAAAJcEhZcwAAFiUAABYlAUlSJPAAAP+lSURBVHhe7L0HiBTZ9/79VYyYUUcxYsSI8WfEiGHFsGLEjBEja8KIaTEtq7ui64ppMa24BgwrrgEjRozoq2LEiBEz6jjM3/fpOrfvVFdXneqe6ThzPlzGuqFueO6pW7eO1d3/+/8EQRAEQRAEQRAEQRAEQYhV/vf9+3f8g7+CE6IPj+gTQkRMHtGHR/ThEX14RB8e0YdH9OERfWIBmQUe0YdH9OERfXhEHx7Rh0frI/47d0QfHtEnhIiYPKIPj+jDI/rwiD48og+P6MMj+sQCMgs8og+P6MMj+vCIPjyiD4/WR/x37og+PKJPCBExeUQfHtGHR/ThEX14RB8e0YdH9IkFZBZ4RB8e0YdH9OERfXhEHx6tj/jv3BF9eESfECJi8og+PKIPj+jDI/rwiD48og+P6BMLyCzwiD48og+P6MMj+vCIPjxaH/HfuSP68Ig+IUTE5BF9eEQfHtGHR/ThEX14RB8e0ScWkFngEX14RB8e0YdH9OERfXi0PuK/c0f04RF9QoiIySP68Ig+PKIPj+jDI/rwiD48ok8sILPAI/rwiD48og+P6MMj+vBofcR/547owyP6hBARk0f04RF9eEQfHtGHR/ThEX14RJ9YQGaBR/ThEX14RB8e0YdH9OHR+oj/zh3Rh0f0CSEiJo/owyP68Ig+PKIPj+jDI/rwiD6xgMwCj+jDI/rwiD48og+P6MOj9RH/nTuiD4/oE0JETB7Rh0f04RF9eEQfHtGHR/ThEX1iAZkFHtGHR/ThEX14RB8e0YdH6yP+O3dEHx7RJ4SImDyiD4/owyP68Ig+PKIPj+jDI/rEAjILPKIPj+jDI/rwiD48og+P1kf8d+6IPjyiTwgRMXlEHx7Rh0f04RF9eEQfHtGHR/SJBWQWeEQfHtGHR/ThEX14RB8erY/479wRfXhEnxAiYvKIPjyiD4/owyP68Ig+PKIPj+gTC8gs8Ig+PKIPj+jDI/rwiD48Wh/x37kj+vCIPiFExOQRfXhEHx7Rh0f04RF9eEQfHtEnFpBZ4BF9eEQfHtGHR/ThEX14tD7iv3NH9OERfUKIiMkj+vCIPjyiD4/owyP68Ig+PKJPLCCzwCP68Ig+PKIPj+jDI/rwaH3Ef+eO6MMj+oQQEZNH9OERfXhEHx7Rh0f04RF9eESfWEBmgUf04RF9eEQfHtGHR/Th0fqI/84d0YdH9AkhIiaP6MMj+vCIPjyiD4/owyP68Ig+sYDMAo/owyP68Ig+PKIPj+jDo/UR/507og+P6BNCREwe0YdH9OERfXhEHx7Rh0f04RF9YgGZBR7Rh0f04RF9eEQfHtGHR+sj/jt3RB8e0SeEiJg8og+P6MMj+vCIPjyiD4/owyP6xAIyCzyiD4/owyP68Ig+PKIPj9ZH/HfuiD48ok8IETF5RB8e0YdH9OERfXhEHx7Rh0f0iQVkFnhEHx7Rh0f04RF9eEQfHq2P+O/cEX14RJ8QImLyiD48og+P6MMj+vCIPjyiD4/oEwvILPCIPjyiD4/owyP68Ig+PFof8d+5I/rwiD4hRMTkEX14RB8e0YdH9OERfXhEHx7RJxaQWeARfXhEHx7Rh0f04RF9eLQ+4r9zR/ThEX1CiIjJI/rwiD48og+P6MMj+vCIPjyiTywgs8Aj+vCIPjyiD4/owyP68Gh9xH/njujDI/qEEBGTR/ThEX14RB8e0YdH9OERfXhEn1hAZoFH9OERfXhEHx7Rh0f04dH6iP/OHdGHR/QJISImj+jDI/rwiD48og+P6MMj+vCIPrGAzAKP6MMj+vCIPjyiD4/ow6P1Ef+dO6IPj+gTQkRMHtGHR/ThEX14RB8e0YdH9OERfWIBmQUe0YdH9OERfXhEHx7Rh0frI/47d0QfHtEnhIiYPKIPj+jDI/rwiD48og+P6MMj+sQCMgs8og+P6MMj+vCIPjyiD4/WR/x37og+PKJPCBExeUQfHtGHR/ThEX14RB8e0YdH9IkFZBZ4RB8e0YdH9OERfXhEHx6tj/jv3BF9eESfECJi8og+PKIPj+jDI/rwiD48og+P6BMLyCzwiD48og+P6MMj+vCIPjxaH/HfufA/QRAEQRAEQRDiH7W/F+yQR0Ie0YdH9OERfXhEHx6tz/9wJDCou70gCIIgCIIgCPGM2t8LgiAIQhwi79+5QDf7wzffSJAgQYIECRIkSJAgIR4DbenV/l6wQx4JeUif/ycIQvxDF3Ucoddn8d+5QDd7yw5AggQJEiRIkCBBggQJ8RJoS6/294Id8kjII/47QUg30EUdR4j/LlDoZm/ZAUiQIEGCBAkSJEiQICFeAm3p1f5esEMeCXnEfycI6Qa6qOMI8d8FCt3sLTsACRIkSJAgQYIECRIkxEugLb3a3wt2yCMhj/jvBCHdQBd1HCH+u0Chm71lByBBggQJEiRIkCBBgoR4CbSlV/t7wQ55JOQR/50gpBvooo4jxH8XKHSzt+wAJEiQIEGCBAkSJEiQEC+BtvRqfy/YIY+EPOK/E4R0A13UcYT47wKFbvaWHYAECRIkSJAgQYIECRLiJdCWXu3vBTvkkZBH/HeCkG6gizqOEP9doNDN3rIDkCBBglu4uKDH/9Hl879aAxZYczNIuDiyFikwf4M1S4IECRIkSJAQuWDcj8V/xyGPhDzivxOEdANd1HGE+O8ChW72lh2ABCZsWDWARGu/ypolIZjgdf04EdsuoQU9VDcN/m/kAWuBkIQNU5WL0GxsOrHq1Is6MUpB/HcS0kPYsGp++1pedzyo9X9Ve2zdEJ6LWkK6CXopNgHLmb8gDiwnZemOwH8+yfUVsUACq/29YIc8EvKI/04Q0g10UccR4r8LFLrZW3YAEphg61KJYNjanprvsdUvK75CXPvvvLMQ5k7aGNuB+VUp6X+x8NKf+O8kxHvY2t5xIfq/4Bf5cK/P6Wb9Tw/B939xzITrf3RSFWxtxpsY9q7K9RXRQN1X+3vBDnkk5BH/nSCkG+iijiPEfxcodLO37AAkMEH8d2EI2pcXJx9E1U60MM+Cn7FF7KErwCD+OwlxHVL+F8HzQpA3cUHKe1XBXmjiX8hAweu/00ZispwYmiBbm4nM0i3XV6QDdV/t7wU75JGQR/x3gpBuoIs6jhD/XaDQzd6yA5DABPHfhSHEq/8u3J9gtRibft0jSrbnH8R/JyGOg76+/JdTJosN4l/IQMHPf4fgnaAYWhKjZjNyfUU+UPfV/l6wQx4JecR/JwjpBrqo4wjx3wUK3ewtOwAJTLC4VFJSsOE7sHWk6TcNzP+x7FhmVYoDyPswYPJh+fqJ7D6tEyPvYaUx2Prv2ETj6SgQVemsBT3+z/ux0/9VrTXA7fuJLi6YOqCqah34fKWRzSyEba/vY2zeL160a44boEml+fRRpqpTPTUEYrdGYCoX/52E+A16hbFbRf0+qJ6W9VnW/3QZvDPi6r9zuwEZVuEtYHw3XEpugGu7vV0524x56Xa/1VJKsLdRub4iH6jfan8v2CGPhDzivxOEdANd1HGE+O8ChW72lh2ABCaonaK//w7bbuMfEymbP1Wmln+ZlHoyyP7SLtg+P9hIbREkEFVTHqh8YL55x+n7epTUNrOAxwZrJaEJJgVsHwspuAzQRiWjw97KObt1q9z/GU+ChHgJ2rZ9lh1vsHof0rI+B7JSZeD1P16Dd0b0LFzUc0RTZgS3G5B3ls14Tw9+bfdCZZxtxmfpNt1oVM0W23MfhU2Q6ysKgfqt9veCHfJIyCP+O0FIN9BFHUeI/y5Q6GZv2QFIYIL/TleneLaG5t2kaRNvKqN3nN7Xqby+D9f9pRG8e+Kw+YyiEez9dykPNt7BemX03bV7cFX1/9R/xR/wCujgctKb+KpT1UsQ+heHU06xmZewBNMACZvnJdcB2qhkTXe0W7fKxX8nIW6DXl7srTdo/4IR7NfnYFaqDLj+x2vQNwsLVU2z47o+60raq5fFjNfcjBl3PTcQu3KwGd+l2+1W69oTmyDXVzQCdV/t7wU75JGQR/x3gpBuoIs6jhD/XaDQzd6yA5DABL1T9PPfqY2jEay7QLsyVqdVBtlf2gWrFDqkPDaYt/jeHXkAqtrIZXeWDt7yvo8c1qmxmZewhBRj6+H/VEbBfYAplfj6/ux0sNTmWrnvQ6AECXEUouBfMF9rsv7HffBOmQ9m510ASygzoa7nBmRXDk1Ylm7eGt17YhPk+opGoO6r/b1ghzwS8oj/ThDSDXRRxxHivwsUutlbdgASmODdKabdf6c3lCHYv8Z58H/k8Abvu2+GAmrsWg13VfUjhA0+Z6mgy/OPBzbzEpZgNjbvuHwbDWCAtio5pPtal3vllodACRLiKHit3X/Z8QRrblrWZ/eVKkOv//EafGfQ7sOzrkuozRR7g/vyG5BdOdiMdek232uspwTQE7tgvYL43LTYv1xfOlD31f5esEMeCXnEfycI6Qa6qOMI8d8FCt3sLTsACUzw3eaaU8x7R+suUPaXbHD23+nx4jHDqwarvK+qwT546PL844HNvIQl+BqbVwpzzwMYoK1KDum+1uVeufjvJMRv0MuO9dLwBG38XttOy/rsvlJl6PU/XoNlBk1LtHcSXZdQmyn2BtdzA7MrB5vxW7p1cyjmPVa32gB6Yhfk+opCoO6r/b1ghzwS8oj/ThDSDXRRxxHivwsUutlbdgASmODdKabdf2d1Wvltu9Pn/tIuWKUwBy141Vp0kFImAFWDlctb3sch5dc9m3kJS7Aam/838QUwQDuVnNIttblW7lXGRy4JEuIjeJdcmwvZPyst63MAK1VGXv/jNfhPmXXFdp0v7xTbFXCf60DsyqEe/6U75cSRqlq+Bvcg11fkA3Vf7e8FO+SRkEf8d4KQbqCLOo4Q/12g0M3esgOQwAS/Dbrt3tG6C9Rn6WIpKX5l1G5S7+xt95fpymPi/8hhCiYdPJg21gGoqmv2fvG2p0LjC8IdBPR/rkj5/QrdtM2+PyxBD8drbHo4umn3AXorMdunU7rFbl0r9xZIV9YoIcMEnzVW/V4NrBoWrlJNK5K+GFOxPqesS97LLSVF1v+4DYxLyDtBAS+hnkWeChi5nhkPfG0HjnblYDM2S7epNoOUGtx7Yh/k+op4oO6r/b1ghzwS8oj/ThDSDXRRxxHivwsUutlbdgASmKB3gan131mw2/qngP2x5x/T/jLFwWRgbjR+g348sPPfmZ5wgJYdIbWqGqQ8nPgGp/K1TH3zljHPSziCv7GZuucdo9sA7ezTKd1qt26V2zwESpAQT2HVAHsLB7jkzZeMzbUQ6Pos63+6DDb+O7OrixLd1mdbC1QzHuja7o+PYdjZjN3S7duc+VbrPgqnINdXZAP1W+3vBTvkkZBH/HeCkG6gizqOEP9doNDN3rIDkMAE/TZWqvx3/zdy1daR6nOgfvtXhAPz26vd//+q9piPXNpNmveXqNynhpT0+A0pzxL2w9FvwPk6+AJWdevIHv+Xsnev9X/tU94FsAuu5b1PAr7zEvqgH0vsvZb62YntsJ19OqX7+e8QuMrFfych/sOBiwumDqAneaIqjHzVRRuTTu36HPBKlTHX/3gNC+yWVr0+p8ya+w1la3s9p//7v6o9TLkBru28XdnYjP3SneK98jct11E4Bbm+Ihio42p/L9ghj4Q84r8ThHQDXdRxhPjvAoVu9pYdgISQBztfiYSAg/6fc9//7RdVJUiQEPtBVioJ4QhiVxREBx0MHcR/xyGPhDzivxOEdANd1HGE+O8ChW72lh2AhJAH2V+mJXjV8/1Ej6gqQYKEeAiyUkkIRxC7oiA66GDoIP47Dnkk5BH/nSCkG+iijiPEfxcodLO37AAkhDzI/jINwfuhTr9vxxNVJUiQEPtBVioJ4QhiVxREBx0MHcR/xyGPhDzivxOEdANd1HGE+O8ChW72lh2AhJAH2V+mPni//K7qVOtXZYuqEiRIiP0gK5WEcASxKwqigw6GDuK/45BHQh7x3wlCuoEu6jhC/HeBQjd7yw5AggQJEiRIkCBBggQJ8RJoS6/294Id8kjII/47QUg30EUdR4j/LlDoZm/ZAUiQIEGCBAkSJEiQICFeAm3p1f5esEMeCXnEfycI6Qa6qOMI8d8FCt3sLTsACRIkSJAgQYIECRIkxEugLb3a3wt2yCMhj/jvBB6yE1tUiTCjGrNDlRC8KF3iB/HfBQrd7C07AAkSJEiQIEGCBAkSJMRLoC292t8LdsgjIY/47wQeshMnVKFwQg0lJSXRgUZlCyaUNPGD+O8ChW72lh2ABAkSJEiQIEGCBAkS4iXQll7t7wU75JGQR/x3GRCaeo1KtUOVcEaVCyeqpe/fr169Onjw4KFDh65evfrdu3eUqAoJBqRJHCH+u0Chm71lByBBggQJEiRIkCBBgoR4CbSlV/t7wQ55JOQR/11Gg+bdjMrwQ2V///769eu9e/dOmjSpa9eu3bt3nzBhwunTp1VeBF14d+7cadKkCVa8Zs2avX//PjJNxxckVBwh/rtAoZu9ZQcgQYIECRIkSJAgQYKEeAm0pVf7e8EOeSTkEf9d5CHl/VHZYUM14+Xbt2+fP3+mY1XCF8oCffr0yZEjR69evZYuXTp48OB8+fKVKFHi33//pVxVOpxQK/h79OjRTJkyjR8/3mjZp2lKMaMyMhJq5PGD+O8ChW72lh2ABAkSJEiQIEGCBAkS4iXQll7t7wU75JGQR/x3kYeU1wdmqADhn5JGdIV0sHLlylq1aj1+/JgS/aFioFGjRk2bNn3z5g1Fx44di2Wnf//+ycnJiKrS4YRawd81a9ag6VWrVnn6YUAFgIqbUBkZCTXy+EH8d4Fi3OvFfydBggQJEiRIkCBBQrwG2tKr/b1ghzwS8oj/LvKQ8uDNmzeXL19+9uxZYmKiSmJR56cWqoGcbmDWrFlZsmS5c+cOpftDxQB6qN/UA+vWrcOy07FjR/oQqxnzWUBHjfpSD1Xy7du3YcOGFS1a9Pjx45Si0WXQpWvXrt26dStivsWYgkSII8R/Fyh0s7fsACRIkCBBggQJEiRIkBAvgbb0an8v2CGPhDziv4s8pDxYsGBBlixZpk+frn1qX7582b9//+bNm69fv47ox48f/zZ48OABFVBVBAmdawGt58+f/969ezhW5fygkhpKWbp0KZadIUOGUOKLFy927dq1ZcuW58+fI3r37t0NGzbs3r1bv68HqLZUQ5U8evSofv36TZs2pYYuXbq0bds2aHX16lUqAPbu3Yu+VaxY8evXr4iq8zMMJEIcIf67QDHu9eK/kyBBggS3cGBre2PBrDr1ojUrQ4VAdEgvWm2Y+n/GOAYsOGDNir1wcWQto7O15m+wZqXnsKAHP2qvLD22+mXFTghg7mT9keAWDAMR/x2HPBLyiP8u8pDyYM6cObh+J02aRNHPnz8vWrSoffv2RYoUadWq1dmzZ3/99dfu3bvnzp27efPmL168oGIWVKUsqqgvCxcuLFCgwP3791XchDrNhMowXoJDZ7JkyfLff/8h+ujRo8mTJ6PPuXLlwkCOHTuGQbVt2zZ79uzDhg37+PEjylhqCBA6i6CUy5cv582bd9CgQRSdOHEi1CtatOiuXbsoBeAYiWXKlPny5Qui6vwMA4kQR4j/LlA8t3pf/90C9bjyfyPj4HElGmHVAEMfH6rWGjBy1UXfbXfKdnyBT3pMhSh3UozNPeCZrRapBP6vag/9dBcXBhb+4KhPsCEAPQ/Mr2oUiZvnZ5vFyiNRWl1RgehgLRPT5rph1XyTFan1XGXF0xqVInJqrwK/EPs279/DVSqlfZgn0VutlfarkBuswQcwd+lh/ZHNUniD0UXx33HIIyGP+O+iAok/b968LFmyTJs2jaLv37//559/rl27NmjQoPz58/fu3Xvz5s1IxwEu8wsXLlAxfTodGPW5QOUtLF68uFChQq9evVJxE+o0XyhrwYIFOXPmnDNnDkUfPHiwbdu2K1euNGvWrEKFCiNHjsQx0rt37543b17tWaPT9WuGgUCNEpSyc+fOzJkzL1y4EMePHz9u06YNGt23bx/lEnv27IFWFStWFP9dXCD+u0Ax7vW+/jv6r2xxqTgEpy27B2xMU0RT/1Ue20pGuZNibC5h1QB6YPNBvUUSFwYW5sDpg+CVKKD3bgLQM96en50Xq/8zXAypDYHoYC0Ts+bqfSy3ovop/rsYt3n/CUoxe7+lILSjcLq+jIsrWINPh/475/VHNkvhCtRFtb8X7JBHQh7x30UFEt/iv9M0b948e/bsK1asoOiAAQNy5Mhx+/ZtiurTzVC1TqDAt2/f/vzzzy5dunTr1q1Hjx49e/asW7dunjx5Onbs2Lt37+7du3fq1Gno0KG3bt2yVEhR4t9//01ISBg8eDCl66/tw1nVq1cvXbr06dOnKWXu3Lno8+rVq3FsrufChQt9+vTp3LkzWvQH3cPfTZs2UWE6EVB01qxZefPm3bBhw/Hjx/v27Tt69Gj68Q2gy4j/Lr4Q/12g0M3efPsXlwof9JY05QH4wMUFPfQ+dYD3/2bD8CgV+hDlToqxsUF7Frz6kKWph9K4MLCwBl4fBO8TV0D+uwD0jNvnZ+9iddH7xivQK1XwITX+u9g0V21Cno55X0u8uGHVgKq1lFF5NYyLNSoMIse6zdsN2evW1+/fIbh9xjY1wWYzkBKCnYsAysf9+oMhyGYpvMHoovjvOOSRkEf8d1GBxLf1392/f79w4cI1a9b88OEDom/fvm3cuDGi5q+TW7BgQb9+/cyfqFX12kEFkpOTjxw5snjx4t9//33p0qX427lz5wIFCsyaNWv58uW//fbbr7/+unLlymfPnllqoyj+HjhwoFy5cn379jX/lgWxY8eOTJkyjR07lqJfv34dPHhw3rx5t27diqiuBzx48ADNoRtoEX2wgMRFixadPn2aytOJAMdfvnzp0aNHtmzZqlatWqhQoSZNmmhBzK/1if8uvhD/XaDQzd58+xeXCh+ctuw6PV721rEQxNjY4HU/xfYDQ/SCqz5B+e8CCOng+Vk/hablokuN/y4mg/58n/Ml5tVQ/HcxOY8Bdy8c8+i0GUhVyBj+O9/0eBlIHAUSVu3vBTvkkZBH/HdRgcS39d/t2LEja9as2he2c+fOvHnzjhw50uyl6tKlS6tWrcwePQu6CX3gz2+//ZaQkPDu3TsVN2H00efEO3fuVKlSpXHjxuRVtPDLL79ky5Zt+/btFH39+nXt2rUrVaqkf1mCarPU6YrRC3XKy5cvy5cvX7NmzfXr16PyChUqmH/Tgw6A+O/iC/HfBQrd7M23f96l4v89QfqdBe9jofm1Dv8tqed/X2kPCkyne4La1eFh+wBaMQpMVa8aLZia8kE5y1kRDs5bdos3wTp2JaxndKZv7FJjMclS6//0Vy95Q4CibR2p/2fb58MpCE4C2j4zGIXVbALrF2YF1mJAISaNLXaC16Ls9bGMVxc2YZlWZzXiM3D6eE3LjCrmMPV214LnUjUSSTHv92r5PnbGrrB2i5W+dlJEc77QvCEQHVzKWOUNcBkxXoVTmSbS8PKgKWgjYfwvXg2xLPP95DQMZLABCsLam90amMZbp5/PyCuaaQqcyhhjCfxm56iA9YZoCl4PrM8MehN97NM2MW3Baxu29mO3ngQ3dwGuP7EbnPWRzVJKmdAGakHt7wU75JGQR/x3UYHEt/XfTZgwIVu2bDt37qTorFmzcI3//fffFP306dOVK1cOHTpEvxublJR04cIF+tDru3fvLl26ROka3ZZG+wEXLlxYqFAhS3lAPQQqbvywRpcuXerWrfvy5UuV9P37hw8f0DoOvn371r9//xIlSpw7d46yDh8+nDlz5sGDB1PUUpuG0i2oPANz9OrVq9ChT58+OJ4yZQqOjx8/TllAlxT/XXwh/rtAgVkD8+3fuzsP8JEY+D4Vm/dq1m29nYvB9E1MqoZaKdsvz77Htl2fLVREg/OW1Lu9U4I4bEmxw6N/U/g/vwdUs/iBiWZXra7EWUD/LWnKA4MvKbUF0mKAIQaNLaaCSQQ8GGzd4KOSZe7sxmueVpVkJm1fghYDgdHHzn58jcc69X7Xgtei/DE9P8e0sDaXSUqHlRr8heYJgejgXsYqbyDLiO6/HyHx32kpuNqc+5DST1cNgxksv67y9uZ00zGRsiYEFqzrqq4zAP+d3ViYm51SwHxhenG6oLRoJokcXHXaREO3zmvbsOue3b3VSPDFce4Cuu5iOzjr4x2smjgnuw3OflxX40AuMedLxm5CrZ0h/EyabTG0gWpX+3vBDnkk5BH/XVQg8W39d61atcqRI8ejR48oOmTIEFzj586de/r06YsXLy5fvlytWrUiRYqcPHkSucuXL69evXrdunXXrVuHeiobaD8aUO0ZqCQv8+fP1/47VcIXKgZWr16dJ0+e2bNn37hx4+zZs5cuXfrjjz9Gjx5NH+C9f/9+7dq1ExIS6G07RNGfYsWKnTp1yjjbpg/mYwuUpVGp37+vWbMmW7Zss2bNwvGmTZtwjP58+/YNgyVXHSH+u/hC/HeBYtzrA/ffYfM0YMEBtXfcYNkl++2PLXvrlJrpv0wPeDdb3v2Q3u3pUzzp1meDixs8/+Gpt1CRDs5bUot0TltSpOj/RlYJOIW+qUdX7v8gFIBo6j+KrZVwAjp2surUrap+7ywH0WLAwVcxS1Y0jC3mgvWBxOOlUln+jxMq+E+HqxpxGxh9TLm+T+wOU+94Lahv0TI9TseLsHqk2keAy4pStCYuF1pwOjBlrPKaZsFpGUmZPp8JCpn/RRtPgP47x+XOVcNAKgmsIUpwsjdfkbmVP+BgrUT3IRD/HXpCYwnoZmdSwHthTrXefSzBpjMIfvobwX41SEswddgMdcZpPQls7kwaMtddjAetj2yWmIs6tIEqV/t7wQ55JOQR/11UIPH9/XePHj0qVKhQ2bJltU9q8uTJuMY7deo0ZMiQAwcOIGX06NEJCQn0M69///33rl27ypcv37hx4z179uzevbtw4cJ//PGHcarNtFI6MXPmTNRMP4uhsn2hYi9fvqxa1bNS5s2bN0eOHNmyZcuePTui9evXf/78OQqcPn26ePHi6FL//v2nTp3aokWLKlWqrF+/nk4HqrpUQTVAjY4dO2bOnJl+0Pbx48f16tUrUKDA8OHDMYqPHz9SMUD+uwoVKnz9+hVRVUuGgUSII8R/Fygwa2C+/fvuq/hg3RBbzlVRtZWx2T17tzJ6s652Nr67Pb0JUxug6AaHTnqC7/CddnumJw2bxwyLSoGLZp4vh0psBLR0UpdUfaZg6XkALQYaLAbDBmsTlnNVNK3GFoPB5HMh1KCsBqaCfsxLSXdXI56Dkz4I9mbpMPUBXAvWp7tYF1aP1A9ff4dPsAwqGB24MlZztRPKvmk9TeoUcytpCt7mODUC6ad/sBYIpJLABTG363uWkw2n4dZpnUe7G1kgZdxvdrYKeEfkMEc2DSHw/ruQ2Y/usAXqjMNcBD13pt766RzjQesjmyXnFkMcqG61vxfskEdCHvHfRQUS399/9/jx45kzZ27ZskV/yvX69etTpkwZNWrUkSNHKKV3794tW7bUTqvDhw/nzJkTVeF4z549RYoU+ffffykLqPYMdAodHD16dPr06fQlelTAAhV7/vz53Llzhw0bNmLEiOEGOB4yZMjq1avp92c3bNhQoECB8ePHo7ZevXqh/+Rb1KjqUgXVgIZ+//131Ew/rwH27t2LbixYsECnEPr9u8D9d3QiUHEHVCEvKjXGUJ2LH8R/Fyh0szff/n33VZagfpiPSqSgNyI+eyy1TVH7Le/W0w5md2VOJ/6vvfd/O6MSdGf8tqSWJ41QbElTKZp1g+gsoG8ndXO+O0tLE4G0GGCIQWOL1eDjpTJsz2pgVMxrhKZxBaBG/Ad/fRDszdJh6gO4FryJgZtZdIPvhW9Qy3/9ZC+0oHRgyviZawDLSErUOMXW4NMSvPWb12S/ENhy57JYBVKJexl3e3MSmUjVrdM6j3Y3skDKuPtfbBVwuUd4lzvfGbRpCyHk9pMir79/ytpcsHOny6fYmI3OMR6c9bFMnHVqZLOU6kB1q/29YIc8EvKI/y4qkPgW/535FypwDHRJzd27d2vXrj1u3DgV//59xowZFSpUoNfoJk6cWLp0af+vwCNU3MDSlirhC7LoLwPO/emnn9DopUuXVJIfVFvqwOnmrgJKNGNOCcR/RyWB+RhQrgWVZ4cqEUuonsUP4r8LFLrZm2//zttlveXyI2Uj4t2aYIvj3d+orVsqd1cqbDhg+hpj4N3nRT7o7Z3fltQ0dk80hraknmL2AkZ5SxqbxhazQdueYTBWA/ME2wfXANRIH8FXH6TYm6XD1AdwLXgTVf0xL6wWxM6/QMHtQgtKB6aMn7nazYJ1vnT/zTiPJdiQMnamzgD66aZhcIN1LuNub1aRPdWm8dZpnUe7G1kgZcLiv7NrCMHef+dtLlgFnIO2Tzv78Z2LYOdOl/eK4wl+Osd4cNbHMhdWu02N/bgrHNBl6CkWk5ulAAPVrfb3gh3ySMgj/ruoQOKT/2769OkUpSzyppmdVpQOcHzw4MEyZcqsXr2asj59+tS+ffuWLVviODExsU2bNojSq3m6BnWyL5QFVNwBVciuGKW/efMGrTdq1Ej/GK7OomJph2rTqFQ/KDco/50/qoQXlWoC18vAgQPpY7xAlYsZqFdxhPjvAoVu9ubbv+N2OWW/ovZY9lsf747N+zKC3oG571rs9jqWkPI1KKF7igsu6AFaOpAycLW/DMWWNJWiMWdZBLR00nuit890iirj7XmQLXIhto0t5oIer93cIdhOnyk9yNmJu+CrD4L9wB2mPoBrwfr8HOvC+gniF9wvtGB04MpYzdVuFixNq1NS3mvjf4o0+KD1YWbQvZ8BLFYBDDaQMtZT/IL/mpCSlcpbp3Ue7RZtxzJB3exsFfCOyFyVKdg0hMD77xzVCzpo+7GT1GE9CXTuvOW5ayrWg5M+Ot07EKvdpsp+3Oc3gEvMHGJrsxRgoLrV/l6wQx4JecR/FxVIfCf/HUGJgNIBjjds2JArV66ff/553bp1jx8/fvbsWaFChYYMGYKshw8f1qxZs3v37uvXrz948KBxqgd1cqpgaqCsu3fv5smTp169eubPsaoSISLAOqlYUP47lHn58uW3b99U3K+8SjX4+PHj8uXL6asAFy5cSImqXMxAvYojxH8XKMa9Pjj/XdWptO24uMC7CfPZiOiHGSIlS+9svN8u7Cns+dSb/kZtu72OUaHpsc2+TASD3nqmbEmNUVCiaccZki1p6kTzrYQT0KmTKV1K+Upm71S6txhwiDlji6ng+USeyWGhv41bmZDT3PmPyF2NuAwu+iB4U3yH6TD1Fj21aLjSjSZMxmZ97IxVYb0jtfUvGMH9QgtKhwDKeJVxX0bUyhPWK1TbjM8vn2xYNb99LdWuez/dNQygkoDKuNqbr8joWJpvnd6z9Dz6pdjMdepudik1606mpHjLWIL9oGzaMvXToapUBN29APx3Qc5dSnnmmor1YKOPMWRKlM2SNyWUgepW+3vBDnkk5Ikj/x112BVVOrahrgblv6Pjixcv1qlTp0aNGps2bUL0+vXrVapU2bhxI45xypgxY8qWLTt58uSXL18axcOoBtV/48aNggULli5d+s8//0xKSgprizzUn6D8d9CtUqVK+ndygSrhRaV+//7kyZP+/fvXrl0bNaP+5cuXI1EViiWot3GE+O8CxbjX2/rvLGAjlbKhtOKzEfEp5rOvNW1AfeD2Og5nebdQkQ96S2qDz3ceh2RLmjrR/LakFDWjemXtpGNzGBoVCOmWNOaMLaaCfhjwxTtM37mzH693dG5qxGVw0ccTfA1MqeEw9X7Xgk39eBT0/JNywca2sHqx8rk0fEIAF1ogOriXscobwDLijZqo6vn+Pr1ahiI4zSBnLZZ+umsYQCUBlXGztwDWBG3eLsEivqlXNtVa7SF1Nzttrn6YNfEN3mp9LNymLYfEtAXdYbvry289CWruENyvqVgPzhOKYcpmydvtkAaqW+3vBTvkkZAn7vx3+sAJKmCcEbtQV/39d3RgwXwKePfu3YsXL+itsaSkpPfv33/9+pUKJCYmIuvz589GQQ90bpig+tHiy5cv9e9pUFbkodaD8t+tXLkyf/789Ku+hCrhRSfu3r174cKFUP7nn39G/fQLv1QmpqAOxxHivwsU417v479z2HLRjuTiyJT/O/U8R6ltlmUjkrLvNG2/KBzYihpSNj2+X6Zut9cx0j0v2hg5Hv7P/KJEFIL9rtr0HpAKIdqSIgQtmt9zkaOAfltSBLY5hBBuSWPQ2GIpWL8UH2bm+Mxj/yxhGp3btMZh4PWhsHWk6dOXZCEOU297Lcxv771wqvaYj8rJCH2en2NYWP0+iLP/DiGACy0gHfgyVnkDWEa8PfHDp90QhIsLpvqukC6vrfkvdy4aBlJJYA3x9uYncupvnd6mAdTwuVLc7cE7ccHd7FIUWOV72VpaNwfvuudjEjZt2cqb1uCtMzD/HUIwc2eUD+C6i+WQcnfWyGbJrtuhC1S32t8LdsgjIU/c+e+IS5cuLVy4cNmyZR8+fEB09+7dc+bM2bx587t376gAUKeFCF0nHbhCZzlBZebPnx+I/04IHCf/HeVaWLt2bYkSJQ4fPqzivtBZycbXEdKrhQBThvrFfxcqxH8XKMa93sd/F4KgXQnh2aBIkJASxNgkSEiPwebRV39E2vwILSG9hFS52Oy8Kja+Hm8x///mkSAhHQWycrW/F+yQR0KeePTfHTlyZPjw4S1btsyVK9eSJUvWrVs3ffr0Bg0a4FpYsGCBKhT8oPizKBecOXOmT58+AwcOHDRoEP6CAQMG0AFAFtJRhgqrk/2gXIv/Tkg7jP9O++A069evL168OMxJxQ10efNfzZw5c1C/+O9ChfjvAsVzqw+1/479T2kJEkIZxNgkSEiXwfsOToo3Z8Mqr7Ne/HfpMaTKf2dzls1NwfY1PQkS0l0wzFz8dxzySMgTj/6706dPnzp16syZMxUrVqxdu/akSZMSExMvXbqUNWvW9u3bk+MGqNMCg07xR2UbUAqaHjhw4IgRI0Ya4GD48OH4SwwZMgR/z58/T4XVmX5Qrvjv0oKS0gslBvL+nY7+9ddfJUqU0L/1Yf7OQaBP1Adg9uzZqF++/y5UiP8uUIx7fWj9d95XJOQ/uiWEPYixSZCQPoP2wvgRnH9HQryE1PnvfHxz+nVsDyk3hVTWLEFCvAXDzsV/xyGPhDxx57/TB3///XfevHlbtWr14sULRA8fPpw5c+aRI0dSLp1ihtKBiptQGQaJBiriWxhRi4uHR51mBxWw+O9WrFhRq1atlkKQQLQlS5aQhv/++y+WRCf/3cqVKxs3btyiRQuYDU6sUaMGTKhOnTqtW7dGFFlt27Z9+vSp+UQN1TBr1izUL/67UCH+u0Ax7vUh9d+lfHRFPs8oIcxBjE2ChPQb6Hdg6Ro3+D/6FjBLMQnpI6Tay6Ze1aw1f4P23/l8Z5/3w7PyHQsS0nswDF38dxzySMgTd/47zdSpU2H89DOsYNmyZYiuXLkSx7blgSXRHNXH0wzomPDUZUDRz58/3717986dO/hry717996/f0+F1Zl+UK7Ff3fjxo2tW7fu2rVrtxAM//zzz9WrV0lD3n8Hhbdv375jxw6IjJI//fRTQkLCvHnzcIwUpINPnz6ZT9RQDeK/Cy3ivwsUmB2w7AAkSJAgQYIECRIkSJAQL4G29Gp/L9ghj4Q8ceS/I6jboHPnzvny5bt+/TqOv3792qNHj8KFCx86dAhR/Zbcu3fvLl26dO7cOXpHD3z8+PHq1as6ipK3bt16+fIljlHJgQMHypQpg5pPnz795MkTKqMa9ja9devWIkWKlC5dupwdJUuWLF++/O7du6mwOtMPypXPz4Yc3n9nYfPmzSVKlNAfdtaoc3yhLLP/jlDZsYHqU/wg/rtAMe714r+TIEGCBAkSJEiQICFeA23p1f5esEMeCXnizn8HqNuVK1du06bNmzdvEL1+/Xrp0qVbtmypX3wD165d6969e7Vq1apUqdKsWbMrV64kJyfPnTsXJRG9c+cOyly8eLFAgQLz58/HMeps0KBB5syZUb5WrVozZswwqrH6gD58+PDgwYOHDx8+NsABeGSAA2ThgJxHQJ3pB+Va/HeUTgWEYCENnfx3ZqgkWLNmTbFixY4ePUpRle0H5RI///wz6l+xYoWKx9h8qT7FD3p9/h+OBAbjXi/+OwkSJEiQIEGCBAkS4jXQll7t7wUhtain/zgBT/vbt2/PlSvXpEmT6OH/xIkTuBBGjBjx4cOHffv2ffz48eXLly1btqxfv/6VK1devHhRo0aNrl27PnjwYPfu3QsXLixevPj+/ftx4qpVq3LmzKl/wWDGjBmFCxc+fPgwjv19cBQNCnWmH5Rr+/6dKiEECakXJv8d/QWTJ09G/frr9kBycjIViwXU9RyHyPt3Lnhu9fKfdSxiPyFExOQRfXhEHx7Rh0f04RF9eEQfHtEn6siW3hWxUh7SRz39xwno8KRJk2D5a9euNQbx/ebNmyVKlChWrNjQoUNnzJjx7t27VatWFSpUaO/evVSgdevWlSpVQjqOUaBixYq3bt3CMcpXqFDh7du3RqnvgwYNql+/Pn2cVqNaNVBJaVaMKvH336lsIXhIwKD8d8uWLcuaNSt5coHK9gNZnz9/XrBgQZ8+ffLly4f6y5YtO2LEiCVLljCtRAVjHPGEXp/Ff+eC51YvN3sWsZ8QImLyiD48og+P6MMj+vCIPjyiD4/oE3VkS++KWCkP6aOe/uMEdHjfvn3Tpk3TX1GXnJy8e/fu8ePH//nnn0kGrVq1qlOnDv0WwYcPH+rWrduyZUuc++XLl0aNGvXo0QPpyK1Xr1779u1RHtHHjx83aNBgwIABnhoNqC2jzRBD9c+bNy9Lliz65zJUnpAqSMOg/HdXrlz5/fffHz58SFGV7QeyPn/+/Ntvv40ePXrKlClz587F359++gnnkoEx50YY6kwcoddn8d+5IDd7V8R+QoiIySP68Ig+PKIPj+jDI/rwiD48ok/UkS29K2KlPKSPevqPE/TPU4CkpCSkqIiXN2/eVK9evUOHDhTdsGFDvnz5li1bhuOrV6+WKFFi3rx5OF69enX+/PkXLlxolPp+/PjxIkWK0C/Y+n94NrRQ5eK/CyGkYeD+O30A6NjItIeK2ULWqMpFG+pSHKHXZ/HfuSA3e1fEfkKIiMkj+vCIPjyiD4/owyP68Ig+PKJP1JEtvStipTykj3r6jxOo5xbM6UlJSfTB2BMnTpw8ebJmzZpt27alD8kiJSEhYerUqRcuXBg4cGD+/Plnzpy5atWqW7du7d27N0eOHNOmTTt06NCUKVPow7bUYsgxuhmv/jvqLVDx2IC6FNT7d+ZjQLn+qGwv/imASkYd1Zv4Qa/P4r9zQW72roj9hBARk0f04RF9eEQfHtGHR/ThEX14RJ+oI1t6V8RKeUgf9fQfn9BACB19/Phx586dCxYsWLZs2aFDh+rPSL5586Zv374JCQmjRo26cuVKz549UYBewXv//n2vXr3y58/frVu3U6dOUXlqIuRQ5f6/PxtrUMecUIViA+pSIP47jWsBBqO1mJsy6lUcoddn8d+5IDd7V8R+QoiIySP68Ig+PKIPj+jDI/rwiD48ok/UkS29K2KlPKSPevqPW2gswHz85cuXBw8ePHr06Nu3byrJ4PPnz0+ePPnw4QMdP336NDExkbK+fv2K8q9fv6YooPpDDlVO/ruYff+OegXevHlz8ODB9evX79ix4+TJk1CVcqlYjEBdDcp/l/4gEeIIvT6L/84Fudm7Yms/+4b973+NltxRMY6AS95Z0uh//xu2T8UiR0TbjcuL0VAosNlOK6HQJ1qGFAlkMecRfXhEHx5bfQK/2TkQghUpzX0IDRG2n2iNOtXthl+fDLFNSguypXdF7gI8pI96+k9f0AA1tokap/JhgpqIC/8dLKR///4NGjRo3bp1lSpVsmbNOnnyZMoCqmgMQP0R/118oddn8d+5EGM3e2OTFGPbJBv7sd/LOXTefS+8b5hxDgoa5VAPI4BqxYtTLxRMRVFpNzYuRrexWDCKR+Yxyk8f3666dCINExqZ4aUZB/tRY3GbyPSPnT6eBUiTwSVyWsw1oo860hj6+MkS4BUX1IpEONTsseKQL1IBjiKFiK4/Rq2mOlUritCIEWK1/fTx7bOtQgEUMQjpdgWEpV1rtWzRsEDtqohgh8NVLChIH/X0L0QKEj8u/Hdjx47NkyfPoUOHcHzmzJlixYoNGTIEx1SASsYCnr6K/y7e0Ouz+O9ciJ2bvXnbE/lND4O//Rhd9ekj23m3vbAnHzQaNqwRoGOn4p6yKQ3QmaYGjQR9MvWKrcuTH8l2Y+FidBmLP8Z4HKUJKRZ9fLrqMp3eoaRiQl1rjhkcLkYFO4sZAqs+pI5XF99YRsSqj3HJaMOPn+sgXDhcXz4mE8QVF8yKBNiaPXWFcGqCGIWJSK4/FuVDvmKHQ22LPj59Vtbg25SRFlBDdHZItisgPO1aqg3FLAWN0UPx33H4X8WCGdJHPf0LkYLEjwv/Xbdu3TJnznz27FmKHj58+MSJEziIqd9dBUbvxH8XZ+j1Wfx3LsTKzV7ve4wDv91kNPGzH8u+2r3znmT3TZyuJQhog6hb9GvfoUM+RLTdGLwYLWOxwSgRpEKphNcnsI6kekIjM8Q0YdVHj9XR4jIWFn38VImXeQ4XbvpkdDPyW38Mg/FTKMgrTp/D4lazJzlUpuvWlhMRXH/8lPclrVeyW889ycFX72c/Phh9NrWVmjHofgdBxNr109JB3HCCBoGKCHbwViqQPurpX4gUJH5c+O+2bduWL1++cuXKrV69mr40ECQlJVEBKhkLUMfEfxdf6PVZ/HcuxNzNPgobHhes9sNs/hw677JdNM5CgQBfUvDBOFeX9mufVTMa7cbixeg7FhtSs91PJbw+1ucQC2mYUJeaYwZHfRwtLmPhq4+NKBlcJ4v9+KmR0c3Ien0Ff7PzwSgT9IrkUHNYluEgJzwk64+nrGtRt9GGbMUOqdqO+hBGW7rS4JowzkX5tG9Xwteun5Z+CeHH6KH47zhcrDTDQ/qop38hUpD4Meu/o/5otm7dWrly5WzZsnXp0uXevXuUSMWofCxAvRL/XXyh12fx37lgf7NXWxbCvPugTaPGd2PiOcuTYjo7ZaNjJFr2PXabG7u06GK1H6aHTlmGbM6DSsWXBHnxbZGmR6tM0Zhq1+ZiNKryYj6JqtH41uc5y5NiOjvFuozElKiBb4/N+OeYW0Y1RtRSXZjgFyvnMRCpn1C3mmMFR33iZQBhxkcfO7uNoC3HIhb7oQtdy0HRjGxF1uuLuawCuuJStSI51WxMTwDnB0OQ60ZI1h9PWdeibhUG2XFnnCpKldqO+hA+bRkNBLEUhWq7EsZ2japT6qZowL0MDWgRqIhgh4uVZnhIH/X0L0QKEj/G/Xc4eP78Of1679u3b0eMGIHVZvbs2ZQbU5+fpS4B8d/FF3p9Fv+dC8a93vdmb+x1fLYgagPim+EQNyX57l6spVWKdXNjmxhVLPZjjMpnHCk4dt6T4XCOxqg4yJE7iOpJpP8qdmsURLRd68XoW1Gkjc3AWta3Jor5lggjzGJFPQmgG0bBYCY04Jqjj6M+zvObofDRx/8qsFp3hsPffgyRPDoFvGCmZyz6GNbiIEkQV1yQK5JjzZ6MEE9QEKPwEJL1x1PWrSinfGhX7JCq7aiPgdGUrlJZhZHoxb29IG3JIJLtequN2npitC7+Ow7eSgXSRz39C5GCxJ83b57Zf0eoElGFenL//v127dr98ssvFD1+/DhWm4kTJ1KUilH5KEKd0ezZswedFP9dvKDXZ/HfuWDc6803e2ObYrfpMPYllv2L777Iv4RPirVmuwqdUqOJxX64DjrmhWdUhqIOEhLhETIN7fqKGW1jA35j8S9JRey6GXr8FyujP4rQ9iF8NYcPx8XccYIzFj762GqSsYWytR/ThZDRLciiD2cs4TMkx5qZJk1z6INbB4McRUjWH0/ZVPXLPMiQrdiOPQ9mSF4c9QHWW60aTcpAwnSjjXi7pmkKUr5QQA2riGAHZ6WCVx/19C9EChJ/7ty5mTNnnj9/PkVBcnKyKhFVqDMXL14sW7Zs8eLFJ0+ejE62bdu2atWqx44do1xCnRA9qA/UGXD69GksiRUqVBD/XVyg12fx37lgvdkbWxm7nYz9Zs4n1RPxPdW3NiOmq/AvbWDfTjSx2A/XQce8cIzKqNNSKe1EKZHyQ95s2tr1ETPqxqb6am7J9zzCsZ+hh12sqLfh6Ej4ag4xjvoYI/AzmQyHjz6GJpZJNWw54wpltR+Sg/SgiyBjW5FFH+6qCt8V51hzGJoMssrUrz9GAVtsz3Krj6oLxYrt2JLrkGxw1Ed12FydkeI7ApuktBLZdmNgPaFGVUSww9lKBQ+kj3r6FyIFiT9jxgxcvxUrVhw8ePDo0aNPnjwZI3NB3Xvx4sXGjRvHjx/fv3//vn37Tp069fz585QFVNFoQ525d+/erFmzBg4c2KpVK0hapEiRL1++xE4nIwapEUfo9Vn8dy4Y9/oI+e8oqkr7Fybs24kmFvvhOuiYF/JR0T7RIiAlmpsx2g1lw2lt10dM47zAjcAn1RPxPdVSmxFVpf0Le7Adi13Tjv0MPS6LFXXZRtc0E76aQ4qjPvYmk+Fwvb4iaMuxiK/9+Bu9YUYZ2I4s1xd3VYXvinOsOQxNBlllSNYfT1m3ou71MSu2cbLG5Wp3bCmYIXlx0If66r4UhXp1inC71JxZMpqJIEVMG54GxX/H4ngVCwakj3r6FyIFiX/27NkZM2aMGjVq4MCB+Hv69OkYmQvqHo8qGgOgM/fv3581a9aAAQNGjx49YcKEP/74IykpKaY6GRmMmYkn9Pos/jsXrDd7x42M/WbOJ9UT4bdFRtwo7l9WYd9ONLHYD9dBx7wQj8qozq8+u7lznM9UkfZ2fcR07Jy9XD6pnojvqdbajLhR3L8ssB+LbdOO/Qw9botV+LoSwUGmAUd97OYtA+Krj40oGVwn1/UnPi6DsGG5vjhrCZ8lOdbMNGlk2eDWwSBHEZL1x1M2BP0Kkak6thSkNAa2+hgV+ddk9N83ObRXX6TbtasltCMKBM+YxX/H4ngVCwakj3r6FyIFie+Pyo4NVJ/iwTxUR31ReRkJNfL4Qa/P4r9zwe9mH9RuzjfNE/PdqfhvXjxlcIJ/US92zUQXi/1wGzKnzhvnhGpUVJlND+xaCaGcIWnXV0zH3tll+KZ5Yr59Mbrhk+QpgxP8izqPxa5ppnDIcVus/HsXKsJXcyhx1Cc+uh92fPWxvyQyskw++gSzcGUQLNeXvwGlEPmlyG6+0kqQowjJ+uMp61aUU14RogkIqdr++lA1tiPxG2MoJzgK7dpVE6JJCgK0B1REsMPxKhYMSB/19C9EENLfH5UtBIwSzg+VnZFQI48f9Pos/jsX/G/21k0INiAUsWb47VY8WxXf/ZJRxDfJU2jYMM8f+z1N5Pc7bljth+mhU5aNDqnFaMKheZoRUzt+U5R6QtSuRUxrQbRCEWuGX42e/qTW2LixWHOpYRCa6XPDVx+j/yndpL6EpCPhqzm8OC7mxqw5TWnGwXax0vPqG8uI+OrjZ/aUkIHNyNZ+7PUI3xXnVLMxOyE23yBHEZL1x1PWtai1QstJoVuxnXqeKrVt7cd5sEa2t41QXnzRaddvUkI5pEBBg0BFBDscr2LBgPRRT/+CIMQzdFHHEXp9Fv+dC7Y3e9p1eDHvPmhb5MWyufNk+iYZFdmUApY9jW/FXiK78XHAaj/+g3LrvJ0MqcN3ZlJIacvSl5C0GsJ2/S9G36rNM+5bpY0Z+SbZqayq8LEj97H4FPEk+zcWLqz6BChrKghfzeHERR+Fz3xnKGxudj4SZVxlCH994vM6CBdWffwX1fBdcW412y3wqSW1o4jc+uOqfBqVCI/avvqY76NmzPqY+xGiyY1aux5CO0upgNpVEcEOm7ukYIL0UU//giDEM3RRxxF6fRb/nQtys3fFz36C3tkaW7pQ7OnjH7kYeUQfHtGHR/ThEX14/PRJnRsnLMTCbTSC9hNl5VOntlxfUcezoZctPYtYKQ/po57+BUGIZ+iijiP0+iz+OxfkZu+Kv/0YO+vAt7bivktBLkYe0YdH9OERfXhEHx5/fYK82YWPmLiNRtJ+oqp8KtWW6yvqeDb0sqVnESvlIX3U078gCPEMXdRxhF6fxX/ngtzsXbGxn6B21p6dcGy8wBADyMXII/rwiD48og+P6MNjo0+MOPBi4zYaUfuJovKpVVuur6gjW3pXxEp5SB/19C8IQjxDF3Ucoddn8d+5IDd7V2ztJ/D9rbjvzMjFyCP68Ig+PKIPj+jDY6tPLNzCYuQ2GmH7idaoU92uXF9RR7b0roiV8pA+6ulfEIR4hi7qOEKvz+K/c0Fu9q6I/YQQEZNH9OERfXhEHx7Rh0f04RF9eESfqCNbelfESnlIH/X0LwhCPEMXdRyh12fx37kgN3tXxH5CiIjJI/rwiD48og+P6MMj+vCIPjyiT9SRLb0rYqU8pI96+hcEIZ6hizqO0Ouz+O9ckJu9K2I/IUTE5BF9eEQfHtGHR/ThEX14RB8e0SfqyJbeFbFSHtJHPf0LghDP0EUdR+j1Wfx3LsjN3hWxnxAiYvKIPjyiD4/owyP68Ig+PKIPj+gTdWRL74pYKQ/po57+BUGIZ+iijiP0+iz+OxfkZu+K2E8IETF5RB8e0YdH9OERfXhEHx7Rh0f0iTqypXdFrJSH9FFP/4IgxDN0UccRen0W/50LcrN3RewnhIiYPKIPj+jDI/rwiD48og+P6MMj+kQd2dK7IlbKQ/qop39BEOIZuqjjCL0+i//OBbnZuyL2E0JETB7Rh0f04RF9eEQfHtGHR/ThEX2ijmzpXREr5SF91NO/IAjxDF3UcYRen8V/54Lc7F0R+wkhIiaP6MMj+vCIPjyiD4/owyP68Ig+UUe29K6IlfKQPurpXxCEeIYu6jhCr8/iv3NBbvauiP2EEBGTR/ThEX14RB8e0YdH9OFx0OfOkkb/+9+wfSqWgRH7iTqypXdFrJSH9FFP/4IgxDN0UccRen0W/50LcrN3RewnhIiYPKIPj+jDI/rwiD48og+Pnz77hhluu33D/tdoyR3DkResG8/w/YXY+6fqVBg9iwxiP1GH5lxFBDvESnlIH/X0LwhCPEMXdRyh12fx37kgN3tXxH5CiIjJI/rwiD48og+P6MMj+vBY9dk3zNhANRo2rBGg48C9ZWY3Wwj9d55O6eqojUi58MR+og6Zk4oIdoiV8pA+6ulfCA8ktYZSKCsyULv+OGXRWdFC94EOzFABwQklU/yg12fx37kgN3tXxH5CiIjJI/rwiD48og+P6MMj+vA46GO48YL1kemTjIOQvn/ng+HBi5ADT+wn6ng29LKlZxEr5SF91NO/EAZI523btk2YMOH3339/9eoVpajsiEAtgvv378+fP3/kyJG//fbbkydPKNFcgKCzooXqhMH27dtHjx49derUY8eOURaVEWwh0eIIvT6L/84Fudm7IvYTQkRMHtGHR/ThEX14RB8e0YfHqk/a3r9TRMJ/F8b6zYj9RB3DCGVLzyFWykP6qKd/IQyQzuvWrctkcOzYMUpR2RGBWrx+/XrXrl179+5drVo1rBv79++ndPDo0aNZs2ahk1SYzgoH1JwZlWFCp//6668tWrRAn9Hbnj17mrMCgQpbUHnpFDXI+EGvz+K/c8G418vNnkPsJ4SImDyiD4/owyP68Ig+PKIPj58+af/+u7D778JcvQ9iP1HH2NHLlp5DrJSH9FFP/5GCmgYq7sU2MZJQB4CKe1GpXlRqYKhzvn8fNGhQ4cKFDx8+TFGV7QflAhVPM7q2fv36Va5c+fPnz+/fv//777/1+3fgzJkz2bNnb9asGXIRpRP9ocIqEgD+5SmFSEpKwl+VYYJy9+/fD7l++eUXHP/333+nTp3SWVTMH8r1x5xLx+kVGmMcoddn8d+5IDd7V8R+QoiIySP68Ig+PKIPj+jDI/rwOOhjvOKWahdZOB1skf36O7Gf6GPs6GVLzyFWykP6qKf/MEMtBoI6IWDUaQYqyRlVLs0EVRUKjxo1qmjRokeOHFFJocAYkAcVd+bly5cJCQk9evRQcQN94qdPn44fP37p0iWKpppAekIsXLiwZ8+er1+/VnE/xo4dW7hw4ZMnT6q4d7AqEjDXrl3r0KHDtm3bVNxEsLXZlnetxNPpSKGajB/0+iz+OxfkZu+K2E8IETF5RB8e0YdH9OERfXhEH56w6OPuvzNK2OB4kvmEiDnvgNhP1KFJVxHBDrFSHtJHPf2HGWpRHxDJycnqyASVDxB1joFKYkEx20YJJktDlQQFqh0xYkTRokWPHj2qkgIAZzH9oeEQFKV0C5T+6NGjbNmyDR06lBIZnOoJEP50nduiRYsSJUp8+/aNohoqkJSU1Ldv37Jly968edOcngo2bdqUOXPmv/76S8V9sVT79etXdWRHsH3Q5XEQGai5OEKvz+K/c0Fu9q6I/YQQEZNH9OERfXhEHx7Rh0f04QmLPuH9gCu58uT3KzIKntmWLT2LWCkP6aOe/sMMtQhevHhx6NChY8eOffr0CdFbt27t2bPn7Nmz9IFKoE4IABTGWZcuXTpz5sz79+9dzzWq93DlyhX04dq1azi+d+/e/v37T5w48fbtW8p9/fo1+nP69Onnz59TypMnT1BAv6GGISCKIXz8+BGjOHXq1PHjxx8/foys5ORkFPvvv//wV3vfcED+u5MnT6KVI0eOoPWHDx9Sru4YasCJu3btQutfvnyhRPQB5dGZr1+/ol00evjwYds319DKnTt39u7dixouXLhA8gIoM2fOnEyZMrVp0wZZ5o6Bz58/I+XAgQMPHjygFHQDLV68eBHavnz5El1F9NGjR5SL8lAPw79x4waily9fhnpQQP80x5s3b86dO4cZMat39OhRUg9Nb968GVKULl0aBzgXWfS5XQ3ErFmzJsrMmzcPTaNCSsdM/fvvvzt37kTfLKfQBKE2tKvFwYjat2+PRXLChAkQ9uDBg/cNoOHVq1dJBNQDM4Ckurc3b96EGjBLHGOMOAt1alcj9WHfvn2YEVKYpg9/MUCdBQ0TExN1VmTw9C+u0Ouz+O9ckJu9K2I/IUTE5BF9eEQfHtGHR/ThEX14wqJPeP13Ef0BC7GfqGPs6GVLzyFWykP6qKf/MEMt3rx5c8qUKY0aNSpQoMDSpUtPnDgxbdq06tWr58mT548//qAy6oQAQOGnT59WrFixYMGC+/Z51j2V4YBRvafMvHnzsmTJUqNGjb/++mvUqFElSpSg19M+fvyIAnfv3m3bti0ursWLF9MpBw8eRPny5cvTK1rnz5+vWbNmpkyZZs2atXDhwsaNG+fNm7dhw4bHjh3buHHjDz/8kJCQgBHp09Hi8OHDixUrtmDBgvHjx9epUyd79uz16tU7deoUFQA4F40iq0GDBmXLlh05cuS7d+8ovVKlSmh9/vz5kK506dLo2O+//05nARoX/i5fvrx27dqoAfJWqVKlf//+5CK8cePGoEGDcFbJkiXr1q2LPmvXHkArlNunTx8a3fbt24sUKVKmTBkMberUqfR7Fy1btrx37x5yX758CcVy5MiB8aJFelEOw+nUqRN5ANFcq1atzJ08cOAA5IXaOMbpY8eOzZ07d758+Zo2bYrBDh48mHxneoJWrlxZvHhxlKlVq1azZs3IUbht2zaUx9Dq169fuXLlcePGUW/fvHmD8j169OjSpQtGlytXrl69epEzcfPmzZiyrFmzYgg4t3Xr1kjZtGkTmq5QocKLFy9Q5vPnzzT8P//8E1Ewd+5cRDGnq1ev7tatG45z5sz57NkzZO3atat58+YYOHSGPpMnT6Y5gtn8/PPP6FiTJk3QZ/Rh4MCBkf+tYWoujtDrs/jvXIAVAhUR7BD7CSEiJo/owyP68Ig+PKIPj+jDExZ93P135o/DmgnQJ2c48CLyBp7YT9Qhy1ARwQ6xUh7SRz39hxlq8cyZM5s2bTp8+HDNmjVr1ao1bNiwmzdvnj17tlChQs2aNaM3p3RhQMdGBTYg69GjR3nz5sWFsHXrVqYk4anR4MOHD/Xr18dZffr0OWmAziC6a9cuKoDaEJ03bx5FP378WKNGjQoVKujXvn755Zds2bLhrD/++ANDGD9+PMojOnnyZNS2efPmAgUKVK5cmXxPycnJo0ePzpkzZ/v27bdv347E+fPnZ8+eHXWSl+f8+fNlypRp06YNebKQi9oWLlzoaen794kTJyIKfdC9pUuX4njatGmUpVm5cmXmzJn79euHoSE6ffp0FBs+fDjlPnjwAM317duXosCsxtGjR6H/jz/+SB6xxMTEESNGZMmSpWXLlv/88w/6Rm6sqVOnUvlLly6VK1euYMGCQ4YMwWAvX77cq1cvFBgzZgy9p7Z27VpEFy1aROXfvHkD6apXr67fYmvRokXZsmUtbjsNOtC/f/9SpUqdOHGCUo4dO4Zo9+7dv3z5gvKDBg2C+Fu2bEEWNEFbHTt2xFmPHz9u3bo1RrpmzRo6EbODoa1YsYKiAHPRpEmTIkWKkP8OUG+XLFlC0SdPnjRo0CBPnjxQDx2gsT979gwXC87q2rUrGgLIzZEjB30yd/369VmzZp0xYwaOX7582apVq/Lly5vfr4wM1Fwcoddn8d+5ABMEKiLYIfYTQkRMHtGHR/ThEX14RB8e0YcnLPqE+/278DegEfuJOsaOXrb0HGKlPKSPevoPM9SQ0ez3EydOlCxZslKlSlevXkX09u3bRYsW7dKlC+WC5OTkpUuXur6Rh6wPHz4sXrz4559/pu9KUxnOGPV5aN26dbZs2bSFLFy4EFeTbvHIkSOIag/ap0+f6tWrV6VKFe2/W7t2be7cuUePHk3R06dPJyQkYFDksENDffr0Qcr+/fsRxXBGjRqVL1++lStXGsU9BZo2bYomzpw5gyi5/8ghBR4+fIi+tWrVKjExEdFff/01Z86c5B7CicuXLz9p+mEH8OLFi4YNGxYsWJBaBw8ePKhcuXLx4sXJBfbkyZMcOXIMGDCAcjUkyMWLF8uWLdutWzfy34Fp06ZlzZoVDVEUlWTKlKl79+4UvX79erly5TBld+/epZRLly6VLl0aifSO3r///ovh/Pbbb5T78ePHatWq1apVi4YDWrRogcL0kWdbBg8eDDHPnTuHY5yFvuXPn//gwYOUe/ToUQy2bdu2OMZIMU164GvWrEHTel4gOEpqdx7Rvn37YsWKvXz5kqLr16/HKcuWLaPou3fvoHypUqWodVgI6n/z5s2wYcMwKRgaFcNIcdYPP/yAY3KqQt6nT58ieufOnVWrVtGreQAiRwZqLo7QV5/471yAeQEVEewQ+wkhIiaP6MMj+vCIPjyiD4/owxMWfULsXvNUZ6otor9AK/YTdYwdvWzpOcRKeUgf9fQfEajdZcuWwXQnT55M0f379yM6c+ZMioK3b9+WKVOmffv2Ku6ArpCgJlyhwi1btixXrhy9rQZWr16NPugXtQ4ePIio9t+hWJ06dSpXrqz9d3/++Wf+/Pk3btxI0VOnTpUqVapZs2bkwQEjRowoXrz4EeMHZ5O933937NgxygXks/v999+/fv3ap08fHDdq1Khz587dunWjz5/WrVuX3s5bsGBBnjx59LuBBOrUYzlz5gzG0rBhQ/oEK0hMTESdmTJl2r59O6IPHz7MkSNHv379KBeYpTh37lzp0qXN/rtx48YlJCRQ58GjR49weu/evSl69erV8uXLV6tWTX8O98WLF02bNi1cuPD169cR3blzJw2Nct+/f0/+O/3+XfPmzdFh/QlTC0lJSQMHDixRogR9vvjjx49NmjTJmTNnixYtfvzxx06dOuF01F+7dm3z9wDiLGhCL9ONGjWKEjFNBQsWXLVqFUWJtm3bYmq0/+6vv/7CKdp/h7FgIjCVugBAQzgrV65caBod6NKlS4cOHWiOkAt527Rpg2iVKlUmTJignYkESR0BVHvxg16fxX/nAmwLqIhgh9hPCBExeUQfHtGHR/ThEX14RB+eUOpj/6HYUPjxLDVH8AdoxX6iDs25igh2iJXykD7q6T8iULvDhw+H6R46dIiiU6dOzZ49+4YNGygK7t69u337dvp9ia9fvz579oxcS2/fvn358qWuRx9ojEZcoJKtWrUqXbq0dgDRe1vaf4e+IfrLL79Q9OPHj5b378h/t27dOoqeOXMGtTVq1Ih+54Ecdhb/XaFChfSQwezZs3PkyLFgwYIPHz507949ISFh7ty5mzZtQp0bN27ctm3byZMn6Tc9UCZXrlxIoRMJ81hOnTpVpkyZOnXq6BfiyAXm5L+jcwFF/f13EyZMKFKkyIEDByj69OlTTJDFf1e1alX9yxJPnjxp1qwZhmD23+n37z59+lSjRg3z+3fkv9Mfl6ae6APqfMmSJcl/R87TUqVKrV69GspgpvB39+7d0Jz0uXHjBmYKp7Rs2bJy5cqZM2ceO3Ys0gGmqUCBAjiRosQPP/yAqdGfn4XhobdLly6lKAyscePGTZo00a5Y8PjxYwwQlaMYyq9duxbTRB8uxuSiACxz8eLFNWvWRFUQBwrQiYDGFQFUe/GDXp/Ff+cCrAqoiGCH2E8IETF5RB8e0YdH9OERfXhEHx7Rh0f0iTqypXdFrJSH9FFP/xEBzdH7TVWqVCFn05s3bxo3bly5cuXbt297+mT4zsqWLdu8efNHjx7hlJkzZ5YrV27UqFFnz54dMmRIkSJFxo8frz1BKPD8+fPHjx+T78loxB4qr2nTpk3p0qX1K2C2799NmTKFop8+fapWrRo6qT1cK1euzJ8/P339GUDfUBsGgp4gmpycPHLkyBIlSpj9dwkJCeYfrKB37nbv3o3jnj17Zs6cWX/dm4WFCxfmypWLPHEa86DOnz8PidA9/f7dhw8ffvjhB5xFnzmlF+j69+9PuRY1zp07V6ZMGbP/btKkSUWLFmX8d2iuevXq2pv57NmzevXqYWroU8z0nXSzZs2i3C9fvlSqVKlWrVq63SZNmkAN8+dnzV2CXIMGDdLv36EY+e/MDjXNvn370JnOnTujt7DnGTNmZMqUSX9+dtmyZZgm/bFoolWrVhiOdj7SK3v6w8IwCcwj0L9IC3DcrFmzkiVL0ie+Lbx+/Zr6DzuBCeXJk8f8+h6yIgM1F0fo9Vn8dy7AQIGKCHaI/YQQEZNH9OERfXhEHx7Rh0f04RF9eESfqCNbelfESnlIH/X0HxHQ3MmTJwsVKtS9e3fy/jx69CghIeHHH39MTEy8ffv2p0+f3r5927Rp0woVKuD41KlTf/zxx8iRI8uUKdOjR48jR44MGDCgZMmSZ8+e9QzAePOrRo0apUqVom+aU83YQeU1rVu3Rj3aY0UvYWl/HPnvOnToQD+Y8Pfff2fPnr1KlSqIUoG1a9fmzZtXl79w4QJ62Mz7Exxg1KhRRYsWPX36NI5RA4aQI0cO/SFNjLp06dL6VxQWLVqE5vr27fvR+AFcKHPu3Lnz588bZT0/Z8H775KSkrp27YoaNm3aRCmHDx9G9zp27AgxEX38+HGWLFkGDRpEufpE4vr16+hMz549dfrkyZPNn/Z9/vw5Oq+/Po/evzN//93GjRuhT69evUhP8t916dKF3o+DtpkzZ8Y06frpA8IQDcdo3ewpAyg2ZMgQzCkpgOjUqVNRfty4caQ/VELfHjx4AAvp3Lkz+kbiYLD0qeRJkyZ5KjKmCdKhYyh57949+mRru3btUIY8m6ikm/ELFfodPVQO82vcuDF9gZ3u87Rp01Bs7NixlILcS5cuXblyBcfDhw/HiGjsOJ0+LAzL9JxmgFMigGosftDrs/jvXIDlARUR7BD7CSEiJo/owyP68Ig+PKIPj+jDI/rwiD5RR7b0roiV8pA+6uk/IqC55cuXw271j5k+f/68fPnypUuXnjFjxpgxY+gNsk6dOvXq1YsKgOHDhxcqVOi///7D8U8//VSjRg16zwvcu3cvd+7cqJA+XqqasYPKE7t3786RIwfOIgfcp0+fOnbsiCj+3r9/HylPnz6lL1lr1qwZujp48OCCBQsiunjxYuS+evWKyrdr145euKNv9CtcuPCePXsQPXnyZKVKlZAybtw4RMHIkSNz5sxZs2bNWbNmLVmy5IcffihZsuTatWspF5V07tw5W7ZsDRs2HDRoUJ8+fapXrz5//nxkYYDoA6rq0aMH/ToEUEMyDerYsWNVq1aFjOjt77//Xq9ePdRA7699/vx5woQJqKFMmTLaJ2jml19+QW6xYsXIB3r58mWcixRInZiYiFYWGj/ugcrpJx2uXbtGH1Pt3bs32sKIqlSpgvFevHjRqM/T5yZNmqBA27ZtMa1Qj34jWL/jhgqzZs2Kee/bty+UIS+Y5tChQxAH5WfPnk1fmYcKGzVqlD179hYtWsAYIEXdunX//vtvZGG8qApR9HbUqFFDhw7FiQ0aNCBDunv3Ln2mtWfPnpgy+kq+FStWoCpY1LBhw6ZNm0byon768O+uXbswEeCPP/7Qr3mC27dvN23aFGaD8kOGDEEfMFn0qVtyGmIsqJletJw4cSKdRXNkzFXYoRbjCL0+i//OBZgXUBHBDrGfECJi8og+PKIPj+jDI/rwiD48og+P6BN1ZEvvilgpD+mjnv4jAprbt29fly5dzL/ksGnTJqRMmjTp1q1biD548KBs2bL605c4q0mTJm3atMHx+/fvGzRo0K1bN8oC7969w4kjR47UPxpADdmiC6xcubKnwdy5c5Fy/fp18goNHjxY/7TrlStXhg0bho4tWbLk/v37ixYtQoE5c+a8evUK5UePHt21a1cUuHr1amJi4qpVq3r37t2/f/+//vorOTn5wIEDOEb56dOnk4Nv9+7da9as+eOPPwYMGPDjjz+OGjXK/F14gL5ArVevXjhr6NChmzdvpnfNzp8/j1aQiFP0B2xpOASlgMuXL0+ZMqV79+7oM9pFlNLRgXHjxmGwffr0Ifei+SwIOH/+fEjat29f+gFcdAydR8q0adOePn365s2b2bNn4/R+/fqRkxRmU6lSpVKlSkF51IkWIYv5q/fw99y5c5AUlSxduhQT+ssvv6BXCxYsoE+tPn/+HINFyqBBg44ePWqcl8KuXbvQGQwZNkDfJwgwBegG9IHsI0aM+O+//6ghVDVv3jyko6ojR468fv0aB+i/nsfDhw9DT/Tkzz//pM+0QtjVq1ejHpQ8fvw4VB0yZAhOIffl33//jcFiUGjO8oldDAQjpT6MGTMGYtIckfLQB+kDBw5E5Z+MX/aAJZDUxkSFHU8X4wq9Pov/zgW52bsi9hNCREwe0YdH9OERfXhEHx7Rh0f04RF9oo5s6V0RK+UhfdTTf6Sgphn+/fffQoUK7d27l6KXL18uU6YMOdros7f6Z2EttVHUaMQGKuMPkxUglhrSXqHGtiokmlGpDiQbv65gIZATGa5cuVKuXLkaNWroTxNbsG3UFepS6s61JS1j1OhKnGpjOoxT6Cw6CDfUaByh1+f/4UhgoJu9igiCIAiCIAiCEG/Ill4ICerpPyLQ47rGPwXMmTOnWLFiW7ZsoR/xXLNmTd68eendqE2bNuF4+fLliNILd7Z12qKyU4XZRxNIVWlsjscYTQoq1Q7/XEoxzkt9D69du1ahQoXq1avrt8wo3VynPjaaCqitwEtGhbQ4Fmlo4UZdz3GIvH/nAt3sVUSwQ+wnhIiYPKIPj+jDI/rwiD48og+P6MMj+kQd2dK7IlbKQ/qop/9IYW7R6IWVdevWJSQkNG3alL4ebtq0aaVKlaKvSDt79my5cuXq16//559/0icxLZVQtTyqqIFKcoAKJBufgqQDixOH0gmKUrpGZ9liyaVjStRQlkalOqAK2dXMR9WRX/3mRDoGu3fvLlCgQMmSJe/cuaOSTJWYS2rMuZYClGJB5fnl2iZqKBeoeACoE7xQCpNuzqKohlIoi6D0iKFajR/0+iz+OxfkZu+K2E8IETF5RB8e0YdH9OERfXhEHx7Rh0f0iTqypXdFrJSH9FFP/zEA9err169XDegHal+8eHH//n36HQOUefjwIbL0m19An2jUERABlqdi/qjsEMHXSbkalRoY6hzvWSpiV4nKCKAbr1+/7tmzZ6ZMmXLnzt2vXz/6hQcUIM8mFQZGWcfaABUAKh5jqM4F0z0qTGcRlB4xVKvxg16fxX/ngtzsXRH7CSEiJo/owyP68Ig+PKIPj+jDI/rwiD5RR7b0roiV8pA+6uk/ZqC+EeQVIszHgDx32n9nnBqX0HBUxA/KMv8NHE+9BiqeBlRF379/+/bt6dOnDx8+fPDgwaNHjygLfy3+uwwIDd+jkRdKjxiq1fhBr8/iv3NBbvauiP2EEBGTR/ThEX14RB8e0YdH9OERfXhEn6gjW3pXxEp5SB/19B+TUD8DQZ0Qh/D9p1yNSg0MdU6IxFF1saiiGRIlgQmVESlUq/GDXp/Ff+eC3OxdEfsJISImj+jDI/rwiD48og+P6MMj+vCIPlFHtvSuiJXykD7q6V9Id9AsAxUX0jVqsuMHvT6L/84Fudm7IvYTQkRMHtGHR/ThEX14RB8e0YdH9OERfaKObOldESvlIX3U07+Q7qBZBuYoHcc7NBag4oL479IxcrN3Jfz2c2dJo//9b9g+FYscUWg3Li9GQ6dGS1J+Uyl8hEKfaJlTJJDFnEf04RF9eGz12TcsjctfCFakNPchNETYfqI1aud2XaYy/PpE6+4WN3dV2dK7IncBHtJHPf0LYYB0tqDywo9qz2hRHflBJWMT1UUDlWSgkhxQhTIeavzxg16fxX/nQszc7I3tUQoxtFHys58AuhroaPYNM7KwXTZ2yziNGXi02rVWyxZ1ITYuxkBlUhjFI/MY5WJsLp1IgzlFZnhpxsF+1FjSYpnpAzt9PA/jmgwuUWrsx/dCSd8K2uhjDN9v0AFecUHeaDw41Oyx4pAvUgGOIoW0rc9BYtRt6ls42gpc7YCm0kUfR6W9a5RTvodQb5Y8hLxdQrVuXy7ArqUWqlVFBDsc7gKCgvRRT/9CGCB58ffDhw8vX778+PFjJH/nAQ358/Xr1+fPn7958yYpKYlSVOnYg7pHqCQDnYK/0BPDgbYYl07PmNDw4wi9Pov/zoUYudl7tlEp+xjaVIV6X5NaLPbj3lUjLaDdNZ39v0bDhjUCdOx0XrTatVRLm8+AWrEjFi5GdyUtGGNO9ZCDgjM2V+mDmdbgao4Z/O3H/DTEzmKGwKoPqePVxTeWEQnafoxrKh6ujNDgoI+PMEFcccGsSICt2VNXCCciiFGYSNP6HCQW5UPeVnBqBzaVnD6qCr+mzD2xyfQSWAeIaLULWFVVbWmbNxeoaRUR7PBf5QQzpI96+hfCAOmMg99//71ixYp16tQ5ePBgxDSn1s2cPXu2e/fuFSpUKFy48OrVqylRlU4tVIkZlZEGVEV+6Fz6+/79+5kzZ9aoUaNQoULdunV7+fKlLhM4nnp9URnxhup9/KDXZ/HfuRCbN3vaAzF7qkjC24+1q0Y8yP1ZavZ0EWvXKGSeCr+EYIjBi9Hd2FKjbSoJwNhcO5Jqc4rMENOEVR891jRZZfrBoo+fKvEyz+EiOPvJeGr5rT+GBGZdUnPF6XNY3Gr2JIdqMtzaciIU63OA+CnvS1rbSqXa+jR7AtDHvy1qaol9P6y4dMCWyLWrSxkH1lpDah9OoF2gIoIdvJUKpI96+hfCAOkMnj9//sMPP2TPnn3z5s2UokqEE2pIc+nSpbp1606dOvXYsWN16tRZtmwZpavSqYUqIcxRygWWaIDQWcByrKNJSUmjRo1q3rz5qVOnhg8f3rFjxydPnlAWFQsQeiOSQFQdBd/hqKP6HT/o9Vn8dy7E6M0+NZu0cOFiP75dDW6HZpyL8gH+164PkWrXKGveiPolBEMsXoy+StoQkW03wevj8BziJZhpteBSc8zgqE+arDL94KuPjSgZXKeg7CeC132sYNWHkSAQSzLKBL0iOdQclukI8npI0/rsxdOmayG30QbYljsBqh3YVPL6UCWW0zxpniSHfmgC64A9kW/XrtawGLAfRg/Ff8fhYqUZHtJHPf1HBGrXgsoLNap2L/6JlhSKEirJDz5XY1tm/vz5hQoV2r59O0WpKg0lWmCyAOVqVKozEyZMKF269Llz53D85cuXb9++UbrTuYHUSSQnJx89evTy5csqzmKp1tN1AxX38u7du717996/f1/FDcwlL126BD1nzZpF0U+fPtGBGSrvhCr0/fvFixcPHTqUmJio4iYsJUMI1RxCVL3xg16fxX/ngv3NXm1ZCPMmhDaNGt/9iecsT4rp7JTNipFos4Oy3zk550SeQLak3q4Gu0NLxVereIlUuzTlum6KBtxLKzZiGgPxYq6YmtL4tuk5y5NiOjtl/EaiRQ4jzbbf/jnmllGNEbVUFyZ4Y3MeA5F6c3KrOVZw1CdeBhBmfPSxs9sI2nIsEoz9ZESprPowl1VAV1yqViSnmo0JCeD8YAhoFCmkbX1WeIq5lnKrK8iOO+NUkVXtgKaS18emrZRWXAcUqs2SQbjbtanVaDL86wnaBSoi2OFipRke0kc9/UcEapdBlQsFqkYTOtH8ylUg2NamQW1OFRodUef+8ssvhQsX3rZtG0VDAtVPqCQHEhMT27dvX7du3UePHqkkA9dz/XPpFKDi37/fv3+/WrVqgwcPVvEAMJ9uy759+7Jnz7506VIV92Pz5s25c+fWnwJmoN4CFfejR48elSpV0q/vmeFPDAnURNpR1cUPen0W/50LNjd7Y+ehtxmeTYfahvhmOMRNScZ+Re9hrKVViu1WyL9sFOHtx7eralfoVcLAfRzqLBULjEi2661W/fdzWibGKqb/MKJubL41Ucy3RBhhjI16EkA3jIIBTKsm4Jqjj6M+zvObofDRx/8qsFp3hiMY+1HXkZHjJS4ukjRg0ceQwGHMQVxxQa5IjjV7MkI8A0GMwkMo1mejTbcmOeWDacud4NR2mUpGH2A05VOlqQ3HfvgSpC0ZRKFdm1pVDUaOFz990w5VrCKCHbyVCqSPevoPM9QiDxWj8iGBqvVH/3SDLZYTv337xlTlij53/vz5hQsX3rlzJ0VDgmeQgfXtxYsX1atXb9y48atXryglkBNRxuKatJxFL/Ht2bMnT548Y8aMoURXzJXgmFBxL4sWLcL6tnHjRhX3Y968eXnz5v3rr79UPLXcv3+/du3aTZo0efPmDaWYO+PfMQYnNy7g6/GMP82ouuIHvT6L/84Fv5u9scmw21XYbXOMNF3Yv4RPirVmuwoNjIK2OVGBsx9rV40xmUdJBUK+S4t4u6oBD2maGF8xjV7addLONow0Xdi/hE+KtWa7Cg2sStqUDLWWHP7GZvRHEdo+hK/m8OF4MTpOcMbCRx9bTTK2UMHYj7o+Ui6NSC4EUcKiD2cs4TMkx5qZJtVk+eHWwSBHEZL12XNKqvqVirbccVTAMYPB8foCfrdaowU9jtQ0FxBRademViPJPHHhWU+MRsR/x8FZqeDVRz39hxlqMSkpae/evQMHDuzTpw993HLt2rVdunQZOXIkRakknZIKPG14T8fB0aNHe/TosWjRoo8fP1KWZuPGjT/++OPo0aNfvXr1zz//dO3aFV3atWsX5b58+XLmzJnt2rXTr8tduHBh0KBBEydOfPHiBaI3btzAub169dq/f/+1a9cmTJiAGtDQhw8f0NbPP//cqVOnESNGnD59mk4H8+bNK1q06NatW0+ePAkFOnfuPHfu3Ldv3yKLevvt27f169f37t0b5w4ZMuTAgQPGeZ5PdyKK1o8dO4bmBgwYgLZ27NhBuWaePXv266+/9uzZE0ODpIcPH6b05ORktJ49e/aEhAQMatiwYffu3aMsQK2jDPqGhjp27IgaoA/GQumrVq3CHM2aNYtKPn/+fPbs2f369aOP4qJ79evXx1pUtWpVdAwsXbp0z549/fv37969+9mzZ48cOTJ48GDUiRrQQ6rzr7/+ggLTp09HFKDOGTNmYArOnz+PKE6vVKkS6mzYsCEq6datm8XveejQIRTAiOrVq9e2bdstW7ZQ+okTJ+i78NDcmjVrPn/+TOng6tWrc+bMQTrGggP6sQv0p2/fvlmzZi1evHj79u1/+OGHSZMmYUKnTJkCDbWAx48fR9+gIX1KFzaMesaMGXP9+nUYD7LQSVIDwOow9egDpnLlypW6DzAM9BO6YQowIvQBp1MW8Jhs2lAVxQ96fRb/nQvGvd50sze2FHY7Cvtdjk+qJ+J7qm9tRkxX4V+aoF1OyPdTqcfZfvy7aqT4jsomKa1Etl3aZVJz1HIapsdHzFg0Nt/zCMd+hh52saLehqMj4as5xDjqY4zAz2QyHD76GJpYJtWw5YwrVDD2YyOfnaLpCos+3FXF5aUNx5rD0GSQVaZ+faZMO2xbd+sX21ZQOLbk1gU7nPWhDpurs9xqU9NcAESpXZtajaTwryeoEaiIYAd7FQtKH/X0H2aoxePHj48ZM2b06NEFChQYPHjwzJkzly1b9tNPP8GS+/fvTy9zqROChOondMrixYtRc+3atZ8+fWrJOnHiBPqAXPSHPEe5cuXKnz+/9sJMmTKFcil68+bNSpUqFStW7NatW4i+fPlywIABKFC/fv2RI0dOnDixatWqqAFjwehwVqtWrZDbsmXLhw8fUg0LFiwoUqRIhw4dkDt27NgKFSqgwPDhwyk3OTl51qxZ5cqVGzdu3KpVq9q0aVO4cGFy4T158qR79+4o3KRJk8mTJ6MGHI8YMYJOpOEANNS+ffsSJUqg53/88UfDhg0xHFRFufv27atcuXKpUqWg+ebNm8kLaWbhwoVoEYPCKf369cuXL9/AgQPJ77lnzx60WLZsWZqgd+/eYbKQsm7dOkTRvWnTphUsWLB169Z//vnn8uXLMcuPHz9Gb1GmW7du48ePHzVqFH2qq2/fvlTnf//9h2jJkiXpW+e+fv06dOhQpND7dHfv3kUTmTNnRvnVq1ej2qtXryJdg8EOGzYsd+7c6OqSJUsuXLiAxB07dmCOoNWKFSvwF8OfN28e0iHRnDlzKlasCNFWrlzZokWLLFmyTJgwAVlfvnzZtGkTZC9TpgwmaOnSpdu3b0cidebXX3/1NPb9+6lTpwoVKlS9evXnz58jeuXKFXIv9uzZE2rXqVMHx3///Teydu3aVa1atS5duqDPGEJCQgL1AaBFNIS/sHn0AaPT9QPDMNOEqih+0Ouz+O9cgHkBFQGOrgr7XY5Pqifie6qlNvPGyb+wB6NEqDc0acTBfmy7aiOfTVKaiHC71Jx54o059zeFwPAR07GLUTQ2u6Yd+xl6XBYr6nIqtWcJX80hxVEfe5PJcLheXxG05VgkGPuxkSrdq2fRh7uqwnfFOdYchiaDrDIk67OnzUDK8IWYtoyTNS726thSkNIYOOhDffXtiKd6c0pqmnMjWu3a1mqzeNgkpRm0C1REsMPlKs7wkD7q6T/MUIuvXr169+7dzZs3a9asWaZMmRUrViDx6dOnJUqUaNas2fv37xFVJ9hh1OFBxX1ReQYU3bRpU+7cuTt16qQ/NAp0yZ49e2bOnFm/BDd+/HhcUAsXLqTc48ePIzp58mSKJicn9+jRo0qVKug8pezfvz9Xrlw1atQgl9+xY8eKFSuG5v744w9EX79+/cMPP6D+PXv2GMU933+HKBql71l79OhRpUqV8uTJc+TIEUS3b9+O2sipBC5evJg9e/aOHTvSR3137tyZNWvWFi1a3L17F2OBVlOmTKGSejjkBl2yZAlFT5w4UaRIkbJly9JLXl+/fkV/GjZsSIMFZsV27NiRL1++du3a0cti3759Q9Oobf369Yh++fKlatWqdevW1Z87xhgLFCigP9x69uxZjF13iZg2bRpq6N27N3kwHzx40Lp1a6SQhw561qpVC2aAjhnFv69cubJgwYJr1qyh6ObNm1H4n3/+oag/W7ZsgXr693wxL5UrV8Z0kJMRNG/ePCEhgVr/8ccfGzdujEnB8Z07d6BM8eLF6RU8lG/Tpk2DBg3Mv4BBreuf6IVorVq1gnqPHz+mlHHjxmXKlGno0KE4HaZSvnz5gwcP4rhUqVIQSvcB1UIo2Pzz588rVKhQsWJF8gCi6UaNGv3+++9UjMCMpAVVS/yg12fx37kAWwQqAhw3FPa7HJ9U68bIvzYjbhT3LwuM2kK/lUojtvbj0FVjgL7Jod2iRbpdu1rSUrOPmI4VGaP0G6RPqifie6q1NiNuFPcvCxyUtGs6LQMOErfFKnxdieAg04CjPnbzlgHx1cdGlAyuUzD2Y1wRvmnxcZGkAYs+nLWEz5Ica2aaNLJscOtgkKMIyfrsaTME/QqRMTq2FKQ0Brb6GBVZa6JEW0J1gUWrXQ824kVoPTGGIv47DrerOKND+qin/4hA7W7fvj137tzt27enT2ieOXMme/bsQ4cOpVxdLHDolNevX9+9e1e7TkBiYuLjx4/N75rpypOSkjp16pQnTx79ah75g2bMmEHRAwcO4PqaNGkSRT99+tSlSxez/27Xrl05cuTQBR49elSjRo0SJUqQVwiQA0v77+bPn58vXz56S4sYN25c1qxZkY7jCRMmoPDcuXOvXLly9uxZFCtQoEBCQsKlS5eQu3nz5ly5clFJgBFZ3HAYRZ06dYoWLUofUCV69+6NOulDwe/evWvdunW9evUsv+hKYBQoqT+FCtasWYOUgQMH4hjTZPHf/f777/nz59djOXz4MJoeO3YsRQnyh5IHkPj111+RQgp//PixZs2atWvX1vO1bNky1Km/z27t2rUoTFGMUU+cBgUwX9rft3HjRkwHjOr48eMnT568du1amzZtUMPevXuRC7nMn6Wlt+fIkQqzad68OUZn/v2KTZs2oYD+9QzMabNmzRo2bKjLjBo1qlChQv/99x9F37x5k5ycvG/fPpyFPpw7d+7UqVPoBr2EuHv37vfv33fr1g3H3bt3P336NIYDMfXYaXTGKFMPVRVH6PVZ/HcuwG6Ainiw2XcQdhm+aZ6Y717Ef3viKYMT/Iuq3U2I9zKhwN9+mK76jZjK2gkaPFFo164aO0sIFF8xHWuyy/BN87cgPwmMMjjBvyinpH/TTOGQ47ZY+fcuVISv5lDiqE98dD/s+Opjf0lkZJmCsh8/+WglSM/yWfTxN6AUIr8UhUP+IEcRkvXZU8itDKe8IkQTEFK1/fWhagK4e4ZoOF6i1a7Crla/OU2VxG6gRqAigh1uV3FGh/RRT/8Rgdr9+eefYbr6l0NxgOjixYspqouZSfb9ZQBzVJcfPXp0ly5d6Bj41+PpgTcxKSmpffv2+fPn146w3bt3Fy5ceNasWRTdv38/eqXdc58/fyb/HX1+FuzcuTNXrlxz5syh6O3bt2vWrFm+fHntQZs5cyZqIP8RmDdvXkJCAlqhKPjrr78yZ85MjstRo0ahcIMGDZo2bdq4cePmzZvXr19/8ODBDx48QO6mTZvy5cvn/2OsekT0IwylS5c2/7wsvZFHr7DRG2QW/51Wg0pu3bpVJ6Kf2bJl69atG44x9mrVqqF++qwrsPXfoRJdISD/HfkEKX358uVIgSw4Jv9djRo1tFuN/Hf0mVxA/jtyz2G6acZRj27C4r/DiQULFqxevTqkg4BNmjTBX/RZfyAanT9y5MiOHTtWrFhRoEABjI48rRb/HdW/ceNGtE6vUgLtv9Pe3hEjRhQpUuTo0aMUJTChuXPnrly5MrUOMKE4pmJXr17t3Lkzxoim27Zte/LkSSTSiID5OHV4ehBX6PVZ/HcuwBaBihhY9xTYiFDEmuG3+fBsWXz3S34bFio0bJjnj8+uxdjuWNJiBKv9uHTVyPaOOZQbtOi0SzWZ5jBtVVvEtFaGQVDEmuHXqme44TE231xqGPjWHC589TH6n9JN6ktIOhK+msOL42JuzJrTlGYcbBcrPa++sYxIkPbjI5jfGpQOsbUf+yEzWWnEqWabFT7NBDmKkKzPltPssXYslW2546RAqtS2tR/3wXpw6keqiFa7GvtajdQwryeoE6iIYIfjXUAwIH3U039EQHPJyck9e/bMnz8//WDF169fe/XqlZCQoH8rgEDfFi5cOHbs2C1bttBrSg8fPpwzZ86GDRvI45OYmLh69er9+/fj+OXLlyiMSipUqPDTTz+tXbtWvymmUT3wujlQoEOHDuiGfl1u165dhQsXnj17NkXJf6ffKaNuW96/y5kzp/4FBvLflSlTRr+ihSzUsG+fuvLJf0dvwxHLli3LmjUrfUR3yJAhKEyOHmiiPWUE+e/0xy3RGRqIHhH574oWLUr+PoK+xI1++cHff6fPBWPGjEFJ8/t3O3bsQEqfPn1w/OnTp2rVqtWqVUt/wvTPP/8sUKAAekXRQ4cOoenRo0frCsG4ceNQA/n4KH3FihVIIf/dhw8fIBeqfffunaf09++rVq0y++/oBUDt5CWMLqsmUMDsv4OYiP76668QB5MLDc1vYmI2+/btixkcMGBA9+7dc+XKlTdvXnoxkz6PDGW0bw6Q/27RokUUff/+fevWrc3v340YMcLfaGF42bNn1yaBDujeavbs2QODh3owlePHj6tUAxpdqlG1xA96fRb/nQuwRaAiXmhj4cW8waBtkRfL5s6T6ZtktwVUVfhsW3wbTCHke5vU4Gs/gXTVrFKwG2AnotWuB99ZT1PV/hdjLBqbuYgn2b+xcGHVJ4TSWwhfzeHERR+Fz3xnKGxudj4SZVxliODtx1wiTi6SNGDVx39RDd8V51az3QKfWlI7isitz67Kp7Gt8Kjtq4/5PmrGVmejQ6Gwo+i1666qb4kQmksKVLWKCHbY3CUFE6SPevqPCGju2rVrlSpVatGiBb2n9uTJE0QbNmxIX35HHDt2rH79+q1aterevTtyV6xY8e3bt+nTpyOxZMmS9KHFK1eu5MmTh74w7tWrVz169MiUKVPLli2HDh26YMGCL1++IP3cuXMTJ05ct24d/WaC7gPRqVOnvHnzav/dnj17EhIS5s6dS9F///0X1xc6QNE3b95UNrh79y6l7N69O2fOnPp9vdu3b1evXr1cuXL6/bsZM2aghoMHD1LU//Oz6HOOHDnol2Rnz56Nwvrb6yxs27Ytf/78y5cvV3EvekSfPn1q1qwZarhg/JID+Pz5c+vWrXPlynX27FlEyQPVoEED3X99LpgzZw7O/fnnnykKfvnlF6TQby/Q52fLli2LMVLu8OHDs2TJon+c98CBA0WKFOnZs6fZZUbv35nHSw5NGuO7d+9QJ2ZT+0NHjx6dNWtW/YV3q1atQmH9kWF/hyymFXpqBx+mD4Nt06YNRc3cunWrVKlSMB56dzIxMbF06dKwFswpojCepk2booBWBqBytK5/veTOnTslSpRo0qQJfXsdGDt2LKyFvrtQc/r0aZzVtm1bFTcB6TB9+nQIiw7on7YANB1pQVUUP+j1Wfx3LsCqgIoIdoj9hBARk0f04RF9eEQfHtGHx0+f1LlxwkJIHS2pJIL2E2XlU6e2XF9Rx9jRy5aeQ6yUh/RRT/8RAc3Ri13651MfPHiQP3/+9u3bX79+fdmyZffu3Xv27FmdOnXatm1LPzrRrVu3ihUroqtXr179999/S5QoQW6jdevWFSpU6NSpU0Y1HndPkSJFjh07RlFi0aJFaKu29/dndR/A169fmzRpkilTJv3DpuvXr8+RI8eUKVOozIULF0qWLJmQkID08+fPjxo1Cv1Ein5n6q+//sLpw4cPp492op4KFSqggP6JA+MjQSkOrAULFiDaqVMn6sy+ffvy5s3bokUL+lGFs2fPlipVCs1hIJDi5MmTOB2nUGd+//33zJkz6xe7CGM0Hij622+/Uf33799H4q+//potW7affvqJfGpIrFatWvXq1fXnf83nYoCVKlWCgOQbPXPmTLly5WrWrEkOuy9fvmAW0IGxY8deu3YN04SqMHa0aJztcZChZuiDwe7atYveYZw6dSr606dPH3rjb/v27YULF65Xr96NGzcQTUpK6mn8fgjqhHQrV65EDahz/vz55KqDPgUKFEDi/v37MeNolHTWoBUMUH/s+s2bN+TBnDVrFoZz7ty55cuXjxkzBuk4RnqbNm1gRZi+iRMnQmecqz2t6CQKLFy4ELnTpk17+/bt4cOHYV0QAd3G6YMHD86dOzc6Qy+Nooe9e/dGCr3bqPn8+XPTpk0xKFgR7OfixYvodv/+/ZF14MCBnDlz0iuKsD0UyJ49u7YNmos0QlXFEXp9Fv+dC7BOoCKCHWI/IUTE5BF9eEQfHtGHR/Th8dfHcCNF2WtmEAvuu4jaT1SVT6Xacn1FHWNHL1t6DrFSHtJHPf1HBDS3ZMkS2K1+lezz5889evTIly9fx44d//jjj1evXqEAoidOnKACAwYM0B8LXbBgQcWKFckDNW7cuHLlyukXmvr161e9enX94VCCvlmvbdu29ElJ6gCxdOnSPHnyILd///7v379HgU6dOiFauXJl/aMEK1asKFSoEDrTvXv3ZcuWde7cOVOmTOjtkydPbt682apVK5QvVarUoUOHUHjevHnZs2fPli0bea/+/fff4sWLo0CLFi3oQ5eLFy+uVq1a+/btGzZs2Lx581q1anXt2vWC93U5sGPHjnr16pHbCGP54Ycf6MdVr169WrduXVRVvnx53TfSk6AUjAJ9QBOgadOmOGXMmDFan7lz52bJkgU9nDBhAn1k1XwuQIfRsUqVKjVr1qx27dqYDvOnO9HP+vXrZ82aFTXPmTMHleTKlQuF9duFNGtFihTBeP/880+kTJkyBX1GN1Bh48aNq1atCgFPnz5N5cGlS5dQJ3rVpEkTqjNv3rwVKlSgbwz8+PHj+PHj0WHMPjRH9+gs4uTJk1WqVEH96PPFixcpERVCtAIFCmBS0BxEhiAwsMTExL59+yK9bNmy0HzlypU01xMnTqRvPzxw4ADaRf9r1Kgxa9YsehV0/vz56E/hwoVhgRgdrAizj+PXr1/v37+/ZMmSqKFNmzba/0tcv36dvuQOfcBEYGj0eeE7d+6gMM6CIHXq1IHCSNe/rEJzkUaoqjhCr8/iv3MBpgZURLBD7CeEiJg8og+P6MMj+vCIPjw2+sSIA8/jUIr+e4ARtZ8oKp9ateX6ijqypXdFrJSH9FFP/xEBzT158uTUqVP0bh3x5s2bo0ePkifr27dv7du3r1KlCn228d27d40bN27ZsiXORVabNm06duyI9MTExCZNmrRu3ZpeLnv69Gnt2rXpy9oIaguVnD179ubNm/TqFiUSt2/fRjeQi3aR+/HjRxwj5cSJE/oFOpS/cuXKkSNHrl27huizZ8+OHTt26dKlT58+vX///ty5c6dPn8Yp5CNDhTj35MmT9IFQVHLc+CFUFCN/0IsXL+7evYvho8K9e/eeP3+enEdm0ATOOnToEE6k9/IAREAl1Jy5bxqKUvr9+/dxOkDP9QtryL1x4wb19uLFi/ThYuPUFEEA+oaJOHjwIAaiW9c8evQIPYdcEB9yof+oTb/ChjovX76MAtqfRd9/t2jRIpgZ6jxz5oz+qjvdsQcPHqCrUJ7qRN8wfD1GlEdz6JL5S/2Ily9fonWohL9mWyKtaAi3bt3SDWHK0Aq6R7MDg4EamEr6YDVAE2gaZb5+/UopOEB/UA99rhbDRwGMDl3FjNNco7y5deLDhw9IP3DggD4XJCUlQV7qG7JgUbpvgOYijai64ge9Pov/zgW52bsi9hNCREwe0YdH9OERfXhEHx5bfWLBdRYb7rtI20+0Rp3qduX6ijqypXdFrJSH9FFP/5GCmgaWKPHx48cWLVrUqVOHspYvX54nT56VK1fi+N69exUrVpw6dSqO//zzz9y5c8+cOZNcYGfPni1YsCB9Fd2dO3fIqedfuX8Kg9m9Eiz+DTG18b1yGgX+aijdFqYAZQEVTwO2lUycOBELlP6OvKAItlfGOFI5ENupCao218KBFEg7qq74Qa/P4r9zQW72roj9hBARk0f04RF9eEQfHtGHR/ThEX14RJ+oI1t6V8RKeUgf9fQfcagPQMW9KatXry5atOjkyZMXLVpUsWLFgQMH0ntbL1++rFy5cpMmTdasWTNt2rQyZcq0b99++vTpFy5cuHTpUrFixerXr7906dKpU6fq97xUvSxUzFKej/L4F6ao9hPpFPpLBxpKIfxTgiV1NehT6HRAUX9Uthdz4oQJE7BAbd++3ZJOxwxUDOgoHTBQeaDiLKqoUVgd+Z6okuxqUxkODdlmUSKhksKDaiN+0Ouz+O9ckJu9K2I/IUTE5BF9eEQfHtGHR/ThEX14RB8e0SfqyJbeFbFSHtJHPf3HANSr5OTkFStWdOjQoVOnTr/99pv+ICfSV69ejcSff/75+fPna9eu7dq167p165COc9esWdO2bdvx48fr30gFVG3UUb0xUElxgup0kN1G+VOnThUuXBgLVLt27fQvzJIHUxVyhgoDFQ8AdULw8qrTfE9UScHX5oSqLnQV2qLaiB/0+iz+OxfkZu+K2E8IETF5RB8e0YdH9OERfXhEHx7Rh0f0iTqypXdFrJSH9FFP/7EBdSwkqBqFNKCkDFJMlD98+HC/fv1++umnCRMmnPL+RnCA/jshdZDIcYRen8V/54Lc7F0R+wkhIiaP6MMj+vCIPjyiD4/owyP68Ig+UUe29K6IlfKQPurpP2agvqUdVZ2QBpSUQYpJfjozSFRHMi9hQ+kbP+j1Wfx3LsjN3hWxnxAiYvKIPjyiD4/owyP68Ig+PKIPj+gTdWRL74pYKQ/po57+BSF0kIHpA4KyhDChVI4f9Pos/jsX5GbvithPCBExeUQfHtGHR/ThEX14RB8e0YdH9Ik6sqV3RayUh/RRT/9CeoEmF6h4GAh3/UIqoEmJI/T6LP47F+Rm74rYTwgRMXlEHx7Rh0f04RF9eEQfHtGHR/SJOrKld0WslIf0UU//EYGaMxpPgbIEoBQxoCilBwKdZYsqkVpULb6ovGigeuCLymNRRX1RefGPGk/8oNdn8d+5IDd7V8R+QoiIySP68Ig+PKIPj+jDI/rwiD48ok/UkS29K2KlPKSPevqPCNTu7du3//nnnx07dly4cIESKTcjQ8rcunVry5Ytu3fvfvjwIaWo7ACg8raoEqlF1fL9++XLl7du3bpr164nT54gqrIjDnXm8+fPBw4c+Pvvv8+ePUspKtsZKkOFNZSVDlDjiR/0+iz+OxfkZu+K2E8IETF5RB8e0YdH9OERfXhEHx7Rh0f0iTqypXdFrJSH9FFP/xGB2j106FCVKlVgvR07dvz8+XOE+xCbkDJ79uwpUaIElFm6dCmlqGw/KNeWN2/erFq16sCBAyqeZnlVLd+/b926lbr3zz//IKqyIw515t27d/369UNnmjRp8uLFiwD7g2KvXr3666+/jhw5QlFKTwd4RIkr9Pos/jsXYOVARQQ7xH5CiIjJI/rwiD48og+P6MMj+vA46HNnSSPPPmrYPhVPO6pGH0JYfbgQ+4k6ZCsqItghVspD+qin/4hA7YINGzbkypVr8uTJKu5Flcsw6FHTARg9enT27NmXLFlCUSrmD+VaoPQbN25gZWjRogUlAjol1ahaDMaMGYPKt2zZgmOVHXGoJ+DKlSu5c+cO1n93+PBhDKFjx45GHeosOtboFEuWUTZGUV2MH/T6LP47Fzy3ernZs4j9hBARk0f04RF9eEQfHtGHR/Th8dfH7GgLtf+u0ZI7KhoviP1EHTJFFRHsECvlIX3U039EoHbBsmXLsmbNum9fQCupOjmkqKqjh1Mfxo4dmzt3bv3+ncap25s3b543b9779+9V/Pt3HP/+++///vuvigeGbeXUKEEp48ePx7JD798BnU5YommHr/Dq1av58uVr3rz569evEfX00gSV8efZs2d//PFHgLbnj6o99lD9ix/0+iz+OxfkZu+K2E8IETF5RB8e0YdH9OERfXhEHx6rPvuGYfvkcbMZB+K/E/uJOsaOXrb0HGKlPKSPevqPCNQuGDBgQI4cOa5fv67iJszF6Ng4NcRQ/U64FrDFv+bk5GR1FDA//fRTrly5/P13wL9XSGndunXlypVfvnypkkz4lw8Wz3i8UMq4ceOw7Gj/nQVdLFQ4VUjpV65cyZ8/f4sWLWj4nl56MUrZYJ4RHPMThHpsC1ATsYbqXPyg12fx37kgN3tXxH5CiIjJI/rwiD48og+P6MMj+vA46iP+OwOxn6gjW3pXxEp5SB/19B9+qFHw9u3bFi1a1KxZk9wub968efjw4b179+glMpR8+vTpixcvzK4TqiEkqBq9IOXx48c3btx48OABOkYplIX+3L1799atW+ghpYCkpCT0DR3+9OkTohjC/fv3nz9//vXrV0TR52fPnqGqR48effjwAVGUf/36NZp48uTJu3fvaFBoAsVQuW5UY/bfoQlIgapwIuWiTpylvXWnT58uUaJErVq1Tp06hSZQ+PPnz+gMoO5p0A10AGOBzjoL3cDQcBbKI/rlyxeUATigAgSKATom/x19fhb14ESUhxrooS6DRNJT64bWSRYaCIaMY5yYmJiIcwFNPYS6c+cOfRjWAoZ8/fr127dvaynA1atXef8dOoDx4iyMkXpIPUHT9MWL4OPHj+gAytw0gIwoAJ0pF2BmoTkKIN1WmRhB9Sl+0Ouz+O9ckJu9K2I/IUTE5BF9eEQfHtGHR/ThEX14HPUR/52B2E/UkS29K2KlPKSPevoPP9QoOHnyZOnSpQcMGECJEydOhCXnyZPn77//RvT58+cFChQoV67ctWvXjOIeqIaQoGo0QFvjxo2rXr16iRIlihcvXq9ePf1K4F9//dWkSRN0o2TJko0aNVq7di2di1P69++fM2fOwYMHHzhwoHfv3jguVarUpk2b6MQ5c+Zkz549V65cM2bM+PbtW1JS0vLlyxFFmf/++w8FPn78iEarVatWoUKFsmXLdu/eHYLQuWhizJgx+vOzly9fbt26NZRZv349FUArCQkJbdu2ffny5ZcvX9q3b581a9a8efOiKnS1a9euN2/eRPeg59ChQ+kUgBbnzZtXq1YtjAUt4qxdu3ZR1vbt25GCvmG8q1atqlq1Krras2fP+/fvUwFgyKZ0M79/d/Hixbp16yKKs8w9bNasGToD2rVrd+HCBSTSkFESg4VoPXr0yJIlS+XKle/cuTN8+HDq7f79+7t164axlClTZuPGjVQbsXXr1qZNmxYrVgz9b9Wqlf7BWVv/HWWBM2fOQAp0A2cVLly4c+fOEOf169c//PBDtmzZpk6dijLJycmww8yZM8MgK1asWKNGjYIFC6IPf/75J1UCe4AakAi9gp38+uuvmFDKAtRijKD6FD/o9Vn8dy7gCgEqItgh9hNCREwe0YdH9OERfXhEHx7Rh8dRn7D478yEsO4wIvYTdchcVESwQ6yUh/RRT//hhxoF69aty5IlC7moPn782Llz50KFCi1btuzbt29IefjwIdm2dtMAVUUoUDUa34PWokWL4sWLb9u27f3797169UKj5NhavXp13rx5e/Toce/evatXr3bo0AFZ+jclDh06VNSgf//+O3fu/Pnnn3PmzFm9evUrV64g986dOwUKFChcuPCxY8eoPNIzZ848ZMgQHCclJQ0cODBPnjwLFy5Eozgd9ZQvX/7cuXNU2Oy/AwsWLMiaNauOPn36tE6dOlWrVr179y6iN2/ebNy4cb169S5duvTSAIknTpxAb6GqcYbnrTrUieHMnDnz0aNHp0+frlSpEnp46tQp5CYnJw8b5rmpNWjQYMWKFXv27GnXrh2i5N4izLqRG27r1q04xrjKli1bu3btw4cPU+7y5csxlRMmTHjy5AmGX65cOeTS+3SYzdKlS6NdNLdx40akox4ogP7glISEhEGDBu3evRsjzZ49e5UqVW7fvk11rl27tmDBghMnTkQ9GFrlypWRCx2QZfv5WeMkjxVBFoB2nz9/PnToUJgcOYg3bNgAhQcMGIBjmFyjRo1q1ap1/fp1mCJmP0eOHJhKTCJyb926Vb9+/bp16545cwbW0qdPn0yZMmlHLaAWYwTVp/hBr8/iv3MBlwpQEcEOsZ8QImLyiD48og+P6MMj+vCIPjyO+rj774wSNgTimKNz4+B1PLGfqGMYlWzpOcRKeUgf9fQfEajdyZMnw3RPnTr1+vXrMWPG/Pjjj6dPn6Ys8P79++7du/fr1+/BgwcqKTz+uwULFmTKlGnmzJkUvXnz5oABA27fvv358+eyZctWrFhRv4N29uzZzJkzI+Xx48eIIr1GjRplypS5desWot++fcMQMKLdu3cbxT2/IZsrVy5ycoF169aVK1eO1F6/fj1KDh48mD5IC+bPn4+Un376iaIW/x3KFyxY8I8//qAoxGndunXt2rXJf/fp0ydEGzZsaP6E78OHDxMSEnr16kXR/fv358iRo3nz5omJiZSyaNEiDKd///7kMP3tt9/QgenTp1PuuXPnEMWIKKpU8+o2duxY5KLOd+/ede3atU+fPvfu3aMstIthVqpUSb+hNnXqVBQml+jz589btGhRsmTJo0ePIvrff/8NGzYMJXF65cqVy5cvf/78eeOk7+h5gQIFSMxHjx5BdkitO4/5Qp3kibt27ZqT/+7MmTOFChWqU6cOTSL0wYnkJMVslihRAlNgFPwOqamHmPeWLVtCbYyOsjApaEu/HYk68+bNi1HrT9dSizECdSmO0Ouz+O9cgBUCFRHsEPsJISImj+jDI/rwiD48og+P6MPjqE+o37+zQu/jxfxLeGI/UcfY0cuWnkOslIf0UU//EQHNJSUldevWDabbqlWr2rVrN23alJxiuid0bIbSQwXViW78+OOPWbJkoc+06nRw7949dK9NmzYqbnzrXPXq1YsUKUKvBN66datatWpdu3bVZ9GvsuqfNN2/fz+i5CHCuS1atBg6dCg57ObMmYMs+ngmnX748GGkdOrUCcfA4r9bs2ZNgQIFtP/uzZs3LVu2rFOnDnnNXr16hcobNmyoNQTIKly4cM+ePSm6ePHibNmyzZo1i6Lg1KlTpUuXrlWrFnn95s2bhw7s2LGDclFVoUKFMDqKeiQzoCiNFHNXs2bNYsWKkRuROHHiBNotWrQoBjt8+PBRo0ZBNBTGkJH7/Plz9BOdf2/6qVxw6dKlsmXLYi6012/69OnowN69e3F85syZhIQEVIs6wejRo9Eu6pw2bRpyb9y44eS/w9CGDBmCkpip+fPn06uRxMmTJ4sXL252oRI0NLNQnTt3Rkq/fv0wlmHDhtFrmBjUo0ePqAC1GCNQl+IIvT6L/84FmB1QEcEOsZ8QImLyiD48og+P6MMj+vCIPjyO+oTbfxcnX4gn9hN1ZEvvilgpD+mjnv7DDLUIbt26VbNmzVKlSvXs2TNbtmyNGjUiNwr91U4cghJVFSGCak5MTOzYsWOOHDnIf2fm/v37uLLatm2r4saHfBs3bly0aFF6FQtDqFKlSufOnek3KwC9aKarevLkSd26dStXrvzgwQMkli9f/vjx45RFr4/pr1cDR48eRTfatGlDtVn8d2vXri1cuLD237179w4lLf67Bg0amN9VtPjvFi1alCtXrkmTJlEUXL16tUKFClWrViX/3YIFC9Clbdu2US6qKlasWLdu3SiqVPP13/3444/oRvbs2VE5pQOMMSEhoV69ehjC6NGjR44cOXny5J9//plernz69Gn9+vVbt25t+b2Oy5cvlylTBnNhfsMO/SdnKARHZ2rVqoU6f/rpJ9Q5ZcqU2bNnnzlzBrlO79/Re4Xv37+fO3dupUqV0OGyZcuuXLkSieDEiRPFixcfNGiQ2di2bNmC4aAq8y9UdO3aFVMzZMiQcePGjRo1CmOfMWMGSpp/ACR2oC7FEXp9Fv+dC7BgoCKCHWI/IUTE5BF9eEQfHtGHR/ThEX14HPUJ7+dngXG6+O8EN8iqVESwQ6yUh/RRT/9hhloEe/fuzZYt2+jRo3HctWvX/PnzX758mbI0X758+fz5sz6LaggVVGdSUlKnTp1wBfn77+7cuYP05s2bq7jxMdWKFSsWLVqUFLt582blypVxuvb10CeCzVXRS22//PLLiBEjzK6iGTNmIH3x4sUUBfSynv66Otv37+bPn0/Rd+/emd+/e/HiRbNmzWrXrv3w4UMqAO7evVu4cGH9+dmFCxdmz5597NixFAXnzp0rXrx4w4YN6VW4X3/9FR3Qn/a9f/9+sWLFunfvTlEL9P13Bw4c+PbtW4MGDXLlyrVz507KOnz4cJ48eXS7Fh49eoTyrVq1svjv6Ev0IKZ2hkKihIQE8t+dOHGiYMGC+mVAC07ff4e/2hsINSBm6dKlS5YsSa9Pok76/KyelKdPn0JDNEqf4cXplNWhQwfYqvbWmdENxQ7UsThCr8/iv3MBlxxQEcEOsZ8QImLyiD48og+P6MMj+vCIPjyO+kTk87Ox/wV4Yj9RR7b0roiV8pA+6uk/zFCLYOnSpbDb3377Dcf4my1btuXLl+P406dP9Lbdq1evqlSp0qhRoxs3bnhOCHUPqU5Ar8KNHj2anDXfvn2jT4O+fPmyTJkyxYsX178pcerUqSxZsrRp04ZcOQ8ePKhatWrnzp11bVTVkSNHcEyjwClFihQpXbp048aNDx48iBQqvHHjRpT88ccfte9v9uzZSNEOu/Hjx+fOnVu/oLd+/fqcOXN269aN3inbtWsXqm3YsOHz588RhVZt27YtVqwYfakcefGePXtWsGDBfv364Rjs378/V65cderU0R9cXbx4cdasWdGujqID9B1wAKejQic33IQJE1B4z549OIY+CQkJ1atXp5lCZ8qWLYua6ZcxQGJi4u3btz9+/IhjVIs+tGrVyvL5WZxbrly5Ll260AABOoYxHjp0CMeYi8qVK0N8/Q2JmKz79+/TN9DRT4W0bt2aosb0qhnZvHlz9+7d9Y9gTJo0KUeOHFu2bMHx2bNnS5YsOWzYMMoCI0aMQBPr1q2j6NixYzGhOKDBzp07V1cLhUl5QM3FDtSrOEKvz+K/cwFWCFREsEPsJ4SImDyiD4/owyP68Ig+PKIPj6M+ofXfebx15sri4+U7IPYTdYwdvWzpOcRKeUgf9fQfZqjFpKSknj17wm7JW3Tp0qUcOXI0bdp00aJF8+bNe/36NRIfPXpEtq1dNqqKEEF1gjt37pQpUwYdGDp06J9//jl48OCqVavSK1orV67MmjVrs2bNjhw5smfPngYNGiQkJOjfk92xY0e+fPkqVqxI36r2/v17+ma0hQsXUgGib9++SOzVqxe9C0Z+vU+fPvXv3x/pY8eOvXz5MtotXLhwp06daOxPnjxp27YtcqdOnUpexevXr1euXBkpkyZNgkq9e/dG+ezZs+vX5ejTr+gqctu3b3/v3j36Qr0aNWqQOxLtDh8+HMMZNGjQ+fPnt2zZUq5cuSZNmqAt5L5796579+4oT98oB/bt24dozZo16TdeNZDu7du3aAK5+v1B+uAwWqef8liyZAn6hg7//PPPf/zxByStVavWhQsXkIVe5c+fv3Tp0vv37ycpCPQHNVSpUgXGgOiLFy9+NH4M5JdffqECy5YtQ51Qe/bs2agfk4Wh0TT9/fffKFmhQgV9pev5RevIglyoFiNq1KgRRkTFli9fjiyk0IeO6ec76Edmb9y4sWrVKkTRB2QhirYgHQaC9OnTp6MS7fc0rCmGoF7FEXrWxH/nAiwSqIhgh9hPCBExeUQfHtGHR/ThEX14RB8eqz72H4oNgR/PUnE8+O48iP1EHTIYFRHsECvlIX3U03+YoRbfvHkzePDgbt266Rej5s6dW61atf79++tfGHj79m2DBg3atm1LHxEFqorQQdWC8+fPDxo0qE6dOjVr1uzSpcu6des+f/6MdJTZtGlTu3bt6tat27BhQ/SZvnANPH36dNy4cVWqVKlduza9Ofjff/81bty4atWqP/744507KQv4li1bUIxeVQO63efPn8+aNatJkyZot0WLFnPmzNHfXodTMPbKlSv37t1bS7R79+6mTZvWqFFj4sSJ586dGz9+fOnSpYcNG0bvtT158mTIkCFoqHXr1lu3boV6KFC9enWM6Pfff6caPnz4sHDhwpYtWyIRXZ0yZQr9Kis4ePBgo0aN0PlOnTqR4KNHj0YUzf36669mRxvYsWMHKkH3MIP0GhoUQ2G0PnbsWPpgLIaAMphTSIdpRee/fv2KelAbWgfoHn3cFbx69WrMmDGooVatWkuWLEHK0aNHmzdvXrFixZ49e2oxt23bRnVCHChDn9jF8FE/RopzV6xYQSW1yDdv3kTNGBoGgpkaOnQozSCahnSov169ephiGCRms0KFCpgOKFO/fn2klylTBmZJ9Vy+fBnyottopU2bNpCR/J7AY0mxBPUqjtDrs/jvXJCbvStiPyFExOQRfXhEHx7Rh0f04RF9eEQfHtEn6siW3hWxUh7SRz39hxlqEehjffD161f9bWVG2f/37ds3ytV/Q47RmuLTp08fP37Un9/UIOXz58/IolfhAJ2LDiMRZ1E9KPblyxf8RToVAFTev04NTvnw4QO5CzU4kdSwnEiFyZuGv2hdf/yWQFSnoE5UgqhWlUD07du3OFfFDahF6jzVjwOMF5XQh4U1KIkCKEmFKQUlATVHxQAaMutDoBhORBYK63Qc4ESkoDnkUgrKeAbjO0CcTqPGAaWgJJ1FHaAUQAdGEY8U6IZ5IChM9SNRjxcgESloQtdJ5QlkQX9qhaC2YgrVs/hBr8/iv3NBbvauiP2EEBGTR/ThEX14RB8e0YdH9OERfXhEn6gjW3pXxEp5SB/19B9mqEUzTun+UMmQo2q3g881Y1sy8NOji38/0zicoAYeWpVQG0HHlJgWyLvnj24i1qDuxRF6fRb/nQtys3dF7CeEiJg8og+P6MMj+vCIPjyiD4/owyP6RB3Z0rsiVspD+qin/zBDLQJLFFCKRqV6UanRQ/XD6Ik6soMKAxU3YUlnythiLkAHlGKLf65xXkoiRYGKG/inmKFcjUr1ReX5ovLs6rfkqiNfjJPsUSX86vGPWlB5XnQK5RKUAlTcwJxiyYoRqIdxhF6fxX/ngtzsXRH7CSEiJo/owyP68Ig+PKIPj+jDI/rwiD5RR7b0roiV8pA+6uk/slAHgIqbUBleVGr0MHeDjv2hXEKn0AGgdDMqw4tKdUaVM9Ap5nRKJFRSAIn+mMuYj0MF1QlU3A5VIuCu0gEwpwOK2qJKuDVhQZ1joJJiCdWz+EGvz+K/c0Fu9q6I/YQQEZNH9OERfXhEHx7Rh0f04RF9eESfqCNbelfESnlIH/X0LwhCPEMXdRyh1+f/4UhgoJu9igiCIAiCIAiCEG/Ill4ICerpXxCEeEZdz3GIvH/nAt3sVUSwQ+wnhIiYPKIPj+jDI/rwiD48og+P6MMj+kQd2dK7IlbKQ/qop39BEOIZuqjjCL0+i//OBbnZuyL2E0JETB7Rh0f04RF9eEQfHtGHR/ThEX2ijmzpXREr5SF91NO/IAjxDF3UcYRen8V/54Lc7F0R+wkhIiaP6MMj+vCIPjyiD4/owyP68Ig+UUe29K6IlfKQPurpX4gqNCMWVF7wqPNjcnJVz3xReV5Uqhf/FIIKhwnVhgmVEauoXsYPen0W/50LcrN3RewnhIiYPKIPj+jDI/rwiD48og+P6MMj+kQd2dK7IlbKQ/qop38hqtCMmKFEyg0KOp1QSbEEepWcnEzdM6OyDVSSCafE8KHaMKEyYhXVy/hBr8/iv3NBbvauiP2EEBGTR/ThEX14RB8e0YdH9OERfXhEn6gjW3pXxEp5SB/19C9EFZqRRYsWNWvWrGfPnjdv3qQUle0H5WpUqpGenJz8+fNnSidUXmxAXYLtYZiNGjWaOXMmpQBVwiiza9eu5s2bt2zZcufOnTo3KSnJ7PujwmGC6k9MTPz27VsEmks71Mk4Qq/P4r9zQW72roj9hBARk0f04RF9eEQfHtGHR/ThEX14RJ+oI1t6V8RKeUgf9fQvRBWakWPHjhUsWDBbtmyHDh2iFJXtB2VRGUCJAMcXL14sV67cr7/+SllA5cUG1KW3b99Onz4dK1iTJk0oBagSRpkXL140b94cBWbNmkW5EAfjWrRoEUWBKh0eUH9SUlK7du1++OGH9+/fh7u5tGNIEk/o9Vn8dy4Y9/qI3+z3DUOjw/apWIwTfvu5s6RRVOSIQrvp+WIMhVXLYsUj+vCIPjyiD4+tPp6FrdGSOyqWCkJwo0lzH0JDhO0nWqN2btdlKsOvTwbaLKUOY0cv/jsOuQvwkD7q6V+IKjQjoFmzZgUKFDhy5AhFVbYflAteGuBAp589ezZr1qzTp0838j1QVuxAvXr06BFWsLZt21IUqGwDRBcvXowCCxcupNwDBw4gOnnyZIoCVTQ8UP11DD5+/Bju5tKOIUk8oddn8d+54LnVx4r/ztghxd4eyc9+VD+9OPXXGCST72HfMCMXRY3dMmpmSkerXYKdnQC7lr4vRnurDo7UGltGQfThsbu+vAuCQQYXyGH9Cc3ilg6w0ccYvt+gWcVSCN0NzmPFIXRlpXJSLfpYajEItCp3jNpN1aWyzyyqTmtdNmoHNJVBXl9BjSiEm5ZotWsQVOPBQ7WqiGCHg5UKCtJHPf0L0YOmA3z58qVFixYFCxY8fPgwpagSflDu27dvmzRp0rdvX4pSelJS0suXL/VHaKm8P5QLVDwNqIq8qFQWFLt37x5WsDZt2tBZQOV5K/z1119RYMGCBRRNTk7W46IyVDgVGPW5nE5loPC7d+/oWGXEKtTJOEKvz+K/c8G410fff2fe0oR6P5NWLPbj6XtKF42R2HU5ZUTMeOjs/zUaNqwRoGOnR5RotQtcZseojTvfRHq+GA0dGNUDIXXGlnEQfXis1xddul5JfGMZEf/1J4SLWzrAQR8fYVwUM0NXZGhucJ6UUE2EW1uOWPQxpAiXdViUT3WfnWDn0U9tatBtKoO6voIbUWAd0MRgux6M2sJlMQbUtIoIdvhbqWCG9FFP/2GGWuRJTk62lKRzw4dqxhendMBkAf9c/x9q4Bv99OlTs2bNChUqpP13Gv+qwIMHD7Jnz96/f38V94Xq5PvMg3MDrIQp5qnCLv3Zs2dYwcz+OwtLlixBAf3+ncZWCjPUnG2jGj43KDzDc6uNyoQV1VL8oNdn8d+5YNzro+2/03saS3pswNsPbdf8+uwZSaMlSwIbT2r2dJFrV5cyDqy1Gv0IvO/p+WK01SdIUmVsGQjRh8eij59JBnm5pjus9hPSxS0d4Hd9GRKYdeEVs0efEwT+17KnlvBMRuDrhkWfcBqIn/K+BN5ne9zm0UFtl6kM7vryJbARuXRAEZvthtNcNGgXqIhgh98qJ/hA+qin/zBDLYLz589Pnjx56tSpDx8+RHT79u3Dhg1buHDhs2fPqMDNmzfHjRu3fPlyiqrzwwDVv2/fvvHjxw8aNOjnn3/eu3fvp0+fKP327duLFi0aPHjwyJEjt27dqn/EAN1GSZxy9erVV69eLV68eNSoUX/99deHDx+Q+/btW/R80qRJEydOJB8cKty0aRNGtGDBAhoyOHbs2JQpUwYMGAAdzpw5Q4nA4r+7cOECCkybNo0+IZuYmLh79240jT4jeu/evT59+mARKFeuHDo5ZMiQ9evXX79+Hd3DKSdPnvTU6AXRmTNn9u/ff8KECfv376dEiPDff/+NHTt25cqVr1+/Rq8wFhQ4e/Ys5eq/4MuXL1u2bEHrkOXp06foA07EMKkzgEp+/vx527ZtSB86dOjvv/+OkpRLPH78GKcPHDgQ46KPx/7www8qz+DUqVPI6tevH0wC+mTNmpX8dzCPuXPnjhkzBp2kkpACvV29ejVEO3jwILIwwEuXLlEuAYlwOiZx+PDhqBbzgl5hFOafpKC/0AQ1oF0YJ/qPeUxKSsK0YrxQFQUQha1iyCNGjEDHUA9mEDqjaaoKwH5Gjx6NXMz1gwcPKFELCHAcPlQb8YNen8V/54Jxr4+2/04TwGYr8rjYj92+zpMWyObRyEfRAP9r14fIt2tXa7A70vR8MbqpHgipMLYMhejD46uPjUWGwkjjGEf7sdMlIo/bsYVVH0aCQCzJKIMKQnKDC+N0+LXlhEWf1HXJ05rrJehadcB9dsGox7871vaNYkjhpzKo68sKP6LAOmAlltoNowGbMHoo/jsORysVDEgf9fQfZqjFM2fOjBo16scff8yaNev48eNXr149c+bMjh07wpKHDBlCXpUNGzYgWqxYMYqq80OK0RePpwl9qFSpUteuXbt37549e/bixYvfuHEDWadPn65fv3716tWHDRvWoUMHpA8YMIA+R/nixYtOnTqhhxjFxIkTe/ToUbhwYUR/++035H758mXs2LGI5smT58SJE0jBWVOnTkVK8+bNnzx5gpSVK1eWLl26devWw4cPr1u3bokSJbSz0uK/u3TpUoUKFXDuhQsXEE1OTqZX0rp06YLow4cPR48ejYZQZuTIkUOHDt28efPdu3fRYZTB0Dw1GmzcuBFlWrZsOXjw4Hr16pl/BQKnoIYCBQqgM5ga9AfnogzpALRcX79+Xbt2bd68ebNly4Z60BwqxLlIQTqVOXjwIGRp167dTz/9BPUyZcqEYvrzp1evXm3cuDFax+mgQYMGaAuzT7lgy5YtpUqVatiwIc4aOHAgVEKBX375BVnv379HzYiiZiqMQcGKIP6ECRMGDRqE+UJu7dq1teMMQ2jTpk3lypUxiU2bNkUu+oPmdu/eTQUIjGvOnDk4EWaAWcZcQ/+9e/ciC03jLNSAMoi2aNECURRDH9AijsGaNWuMar7DAGBLmBpYMsaIebx37x5lacj8woRqI37Q67P471wgU1MRwrPz8Gw81L7FwG8DZGxFUvDfILEF7DY3HpzSo4qL/fj32Ri6keI6nlR8tYqXyLdrU6vRZDA7UouY3i4b/xLUgF9CCkY3NCm5dIqpMz6d85zlKWs+21qzuVUPfvl8ARt9giZoY8tgiD48Pvr4XAAKu7QMhKP92FhORpTKqg9zQQV0rYXpBhdqAhqLB4s+qTMRT2uujbl2KeA+u+BUj1XtgKYymOvLD5cyodq0+BGhdlNnLEGDdoGKCHY4WqlgQPqop/8wQy3evHnzwoUL+NugQYPKlStPnTqVnDtt2rQpWLAgvYm2a9cuGDZyk5KSEFXnhw5PPwyWLl2KhoYMGULRSZMmFS5cGJqgTI0aNXCsX/Xq1asXSupfdD1w4EDRokWrVav2999/JyYm7tu3L1euXDiF/DXPnj0rVKgQBkg/egDWrFlTunTpq1ev4njv3r1Zs2Zt164d/aTprVu3ypYtm5CQcPr0aUQ/f/5s+fzs5MmTM2XKROcCHJQvX75nz55oF9GXL1/iXD0E4vz581myZNG/84BRoLe1a9emV+FwSt26dVEnRkEFyBWFvw8ePHj16tXAgQMRnTNnDuWaFQPdunUj0e7c8axwO3fuJAciRceOHYvR/ffffzhGQ/Xr18+WLdu5c+cQff78ecuWLTHLe/bsQRT89ddfqApSUBSzX6pUqapVq96/f59S+vbtiwLkvwPQBFE9LphH7969c+fOjUZxyuvXr2matGtyxIgRiG7duhXHb968QevQipyqQI/r4sWL0KdJkybkL969e3elSpXoLFCzZk3M7JcvX9Bc586dUSelb9iwoUCBAmiarHTLli358+fXPtP169ebu6rx2F/YUG3ED3p9Fv+dCzAmoCKEsfPw4N19GPsO817EKGHaiFjjrgWMuM0myCk9qvD24zd2I0UlBDgeQ+Aghx2Fdm1qVTUYOV58OmXFIiaZFlDV0qg8/8vtk6Br9JQ31W+Tq880Iil5uoveAfgU9mCpzC/uWsCImypMDcEaW0ZD9OHx0cdODj+zz1g42o/NxWtIFczilg6wW58dxmyjmBNKSRULDDvj9aSFYwbs2rLHTh8zAQ3S05xbQU55g8D77IJRkV13bNV2mcpgri8rgY0oSFuKoXZVDUaOl1BMoAWqWEUEOxytVDAgfdTTf5ihFomjR48WKVKkdevWr169QjQ5OXnQoEG5c+emF6PevHmzf//+8+fP09ecqfNDh6cHhvenTp06mTJl0p9pfffu3blz51Bg3759uLKGDh1K6eDEiRMoWbt27S9fviCKfhYuXHjkyJGU+/LlyxYtWpQtW/by5cuIotuDBw8uWLDgzp07EU1MTGzfvj1SjLLfBwwYgMq3b99OUTBt2jSkzJ07F8eo3+K/Gz9+fObMma9cuULRs2fPli5dulevXuS/u3PnToECBXr37k25NDqUwSlTp06lxNGjR6P+FStWUBQsXLgQKePGjcMxTkFtqOTUqVOU+99//yF37NixFPVIZoDjjx8/YizI1Z/A/fz5c7du3bJkyfLPP/8geuvWLfrsLUGeQaqZvG/mr+p78OABUvT3302aNAnRP//8k6KAfr+CPj8L0CiiU6ZMoeinT586d+4M2S9evEgpGzZsyOr94V0oiUnJmzcvORYB1W/WgcBVUK1atfz58//222/0Iejbt28/f/4cBxC5evXqNWvWRFtUkt6gPHbsWJ48eWrVqkWfawY9e/ZE5eghrBeJmHpUCAOj8holZXhQbcQPen0W/50LsC2gIoTNdsYnyWZnEmQB2xIenNKjCmc/xpbMp8eeIbiOM81EpV2bWo0kU8OqYylxKxYx/cZhn+BYnzVXn+53mtFT33p8kuwkC66AbYlgCc7YMh6iD4+PPrYGGQorjV8c7cdGFiPJvGiQgfkuIukMiz6csYTVkOyvZaZJNVl+BNDBYNYNbv1RfXC3D085t+Zc1A3hWufYkksXbAnm+vIlTKt3DLVrJIV/PTEaEf8dB3sVC0of9fQfZqhFOqAvPlu/fj0lvnz5smXLlsWKFTt+/DilaOjc0EI1JyYmlipVKnv27OSyMf8kwooVK9A9/TlN8Pbt26xZs6I8+XF27dpVsGBB/YYaEjt16lSuXLnr169Tyo4dO1ADucD+/fff8uXLHz16FMdUMkuWLPrdN7Bp0yYUJm8aClj8d0jPlCnTtWvXKHru3LnSpUv37t2b/He3b9/Onz9/r169KJdGd/r0abP/DoURRZ8pCrZs2VKgQIE+ffpQtEePHuih/ua4ixcvYrATJ06kKIkGcPzx48cffvghV65c+jv7oNuQIUPQ/40bN1IKeP369a1btx4/fkwfNKZv4oMOOB4zZgyOSe27d+8iRfvvyNlHfkBiwYIFSNG/P2vx36EzHTt2rFGjBuqhFMieI0eOWbNmUZRexzty5AhF+/btmzt3bnSDoma2bdtWokQJFIa206dPf/PmDaV//fqV/Hf0siTx4sWLhg0bQiKzuXbu3BmnQ8ayZcvCEnCAeWnfvr3235GApGSYoIbiCL0+i//OBdgWUBHCs82w7ilMuxH7DVEwBZyKOKdHFWf7Mbrr019jR5aSEKbxRKldm1qNJF9jsUkyYRHT6Le5sF+CUZ9jdf7FjRQD35PsqjENyHRoIpgCTkWCIxhjy4iIPjw++hiSWIyero8MK5Oj/dhcvDby2SmarrDoY6OKhstLI0bVNnWHo0mntuxxXn8MmKuL2rHDubhTr4LrswuOLbFdcCCY68tMSEdkJobaNZLCv554BiT+OxaXqzjDQ/qop//wQ42CwYMH58uXTzuMLl++XKBAgTZt2rx+/ZpSNOrMUIOav379WqpUqWzZstGnXJMNjDa/r1q1KlOmTGb/3cuXL7NmzVq+fHn6HrRdu3YVKlRoxowZlIsaOnToUK5cOe1le/bsWc2aNatXr37r1q0hQ4Z0796dTnz79i357/RvPgD6vr8JEybg+NOnT02bNvV//05rhYOyZcv27t2bPuyJ+iGd9t8R/v471L9jxw6Kgs2bN+fNm7dfv344hho9evRAndolRx+/dfLftWvXLkeOHPpTqBBt2DDP6oY6EcXAlyxZ0qdPH8xm48aNMRBk0UeDzf47+szp/fv3kdK2bVscA/rc7pYtWygK6OvntP+OXgw0v38HMatWrXrz5k1K2b59u9l/h2kqXLhw8+bNt27disnCkPv3709vUOoR6Ul/+PDh7NmzK1SogLF37NiR/G6YNcyjxX831vh+Q90KAVny5Mlz8eLFFy9e3Lt378GDB7AZ9JBaAfoAGI2HHlV7/KDXZ/HfuQCDAypCePYU1i2FaTdiszEBwRRwKuKcHlUc7Ie26v7bMXNKOMYTrXZtazU649sXmyQTFjH9CvufbR0bjd+MpTGjm37Dt1bjwTQgm7GBYAo4FQmOIIwtQyL68Pjo438x2adlIBzsx/bitZEq3atn0Ydb0kKx3NnBXMshb5Jpyx5H+1EEZCCeYbiNwnmoAfTZOFnj0h3HllKjdjDXlyboWQiCGGrXxjYCMpcgQbtARQQ73K7ijA7po57+IwKae/r0acOGDatXr66/3X/27Nmw5GXLllH0yZMnq1at0v4mdWZIQbXfvn1DH7Jly6Y/X6nZs2cP+qNfTwOnT59GStu2bcnd8++//xYuXHjmzJmU+/nz5w4dOpQtW1b77wByc+fOPWzYsHbt2tEHaYn+/fujqk2bNqm4d/hLlizBMaoi/51+a2zMmDHI1W/P7d+/P0+ePIMGDSI/1O3btwsUKGD+CQhw7tw5/TFSQP6133//naJg0aJFSKFP7EKHnj17ovP687MXLlzInDkz8/5dzpw59YdkExMTe/TogRTySHbr1q1o0aKbN2/+ZLyoSG+lkWeQPpVsVhUtIkX//uyoUaMQJR2IyZMnI0V//92BAwcQ1V8qB606depkNiSolCNHDj0v9+/fx9BQf5s2bTB3ixcvfvz4MWXpEQEYgHZHwji7du2aP3/+bdu2IZqUlFSrVq3atWtr/x2agP6ojfQ/f/486QYR0Df9NYU81HrIUbXHD3p9Fv+dC7AtoCKEZ+dh3VKYdiP2G6JgCjgVcU6PKrb2Y/TU2lVKtCVUe7RotevBZnZoB+yTxm9JLWL6FfY/29OqTjC6YMq2L07foOfbLZ9qFKYBmQ5NBFPAqUhwBG5sGRPRh8dXHxuLDIWRxjG29uPBRpegF7d0gEUfzlrCY0lGraloks7zh+sg25Y9jvajMKp0MxBPIbdWnYaaij674NSScwZDMNeXIvQjMhND7UZoPfGMSvx3LG5XcUaH9FFP/2GGWgSnT58uUqRIqVKl6HdCt23bljt37rZt2759+5YKbN26FYZdpkyZMP3+LLUCZs2ahYa6det2586dFy9ebN++fcGCBe/evfv69WuFChVy5MhBv7SQlJTUpUuXrFmz6t80QHr+/Pm1g+zz588//PADRmR2BZ48ebJ48eKof8iQISiAFGoa40Vi48aN0SKi58+fR7G6devqX01t2rRpgQIF9Ntw8+bNQ/nu3bs/evTowoULOEC0V69e9ELf48ePa9euDT1379599+7dNWvWoLeXLl1CGe3GOnjwYN68eStXrkyfM3348GH16tVLly5NvzCbnJzcs2fPokWL0pf3gXPnzuF0/foe0LrRR1aRq31qmzdvzpIlS4cOHVAPho/jsmXL3rp1682bNxs3bqxWrRoK08uDMDZSFZ1EPcePHydXZufOnakqKJMrV67y5ctDOhTYsmVLvXr1smXLtnTpUipAn5/VvxGBLrVr106PC+zcuRPT9PPPP1N03LhxmDj9hp0TqL9gwYL687+YLxgkuSO/fPmC+itVqkRqX79+Hd0rV64cfWcicmvUqNG1a1cc4/TMmTM3aNAAE4fphhTQn95J1JCGdBAOqPI4Qq/P4r9zAXYPVIQwdh6+ewqfzYjdjii4ArYlPDilRxV/+6GNWADbrhCPJ1rtKuxq9duAUh8d27aIaX+6zwg9rXoT/HpgLW4U8MT9uqFzUvCpza9qEFwB2xLBkgZjyxCIPjy++thfTWm10XjG334UdsL4yee3qqQ73NZnE2EwJZdrOaTyu7TlgKP9EJxeKXiUcxuFbU2p67MLTvOYKrWDur5AWEZkJpba9ZvTVEnsBmoEKiLY4XIVZ3hIH/X0H06oOWLjxo158+atUKFCt27dunfvXqVKlS5duujfZwBbtmyBYUfAf/fs2bMePXrkz5+/UqVKjRo1qlq16tChQ+kXCQ4dOlSjRg30oX///h06dEBvZ8+eTWc9fPjwxx9/RA9xFn2r3bp163LlyoWUyZMnk6sOJCcnk6trw4YNlEIg/ZdffilZsmS9evX69u3b0EC/bbdixYocOXLgrLFjx1JVT548adu2LVLq1KkzcuTIn376qXjx4nny5NHv0+Ege/bsBQsWbNOmzcyZM69du9anTx+UR5/17+cuXbq0dOnSDRo06NevX+PGjdGifqEPaickJKD8mDFjIPjr16/ppxgqVqyo38jTun348IG+0g5y9e7dGw1BtObNm9PreJ8+fRo4cGCWLFmgDET7+eefyduIRHLO/vPPP0WKFEHnW7RogYHQz2jky5ePXnZD61OnTs2aNSsGiFYgJv3WLYSCeUANescN0tG4IGzu3LmRMmHChKSkJAhFgmPi6H26du3aoXLM6ahRoyDdkCFDUCd5Lc38+++/xYoVK1WqFAaOmYVBjhs3Ds1hyPQDGoDeCkQNOC5fvvzgwYMxKIwCUZyFrMTExOnTp6M5+ilbKIxuW6ZeQ3qGHFV7/KDXZ/HfuWAYoY3/DuiNhpFg2nZYdx1+uxDXAg6bKsf0qGK1H9InoF6GdDzRaldjX6uR6rUO1w2pRUyjvN+O1pxg1O9QPSmSUpzriirrUBhYu26NuxcwajTFU0MajC1DIPrw2OrjaPMZD6s+GvuL10cwvws+HWJrP/ZDZrJSh1EhV6MxAaExX9e2HPDRx9MfcxU+1sLgKefatL+8qe2zC/4NEalSO7jrK0wjMhNT7VJqmNcTz9DEf8fiaKWCAemjnv7DCTVHTJkypVixYisMZs6cuWXLlnfv3lEWlXz8+PGyZcv0L7RSDaGFagYfPnzYu3fvvHnzFi1atG/fPu19A7dv3167du306dORRb/AQKB7GzZs+O233/744w9yBp06dWrp0qVLlizZuXMnfaySOHHiBEqav9RPN41TFi9ePGfOHIjw6NEjSkTu7t27Mfbly5f/888/9M4XuHfvHoqhG5cuXXr//v2OHTtw7sGDB+kzqlAP7c6fP3/Tpk3oP5pbtWoV+oZ6Lly4QDWA48ePo4ezZ89GVfoDp9++fTty5AhKov9oERW+evVq3bp1OB0p2qlqaObpOeTq0KFD9uzZf/nlF3QS/f/777/pRUICp2/cuHHBggX4m5iY+PDhQxSDjE+fPqUCGPjvBpcvX0aBv/76C8eHDh2in+PAXyiAypGOqu7fv79y5Up0+M6dOxgXOvbnn3/qcR09epRkhyAfP358/vw5zkIKytDnWDGKzJkz0zqpadOmjR4+gVFjflF41qxZc+fO/ffff0lY6P/ff/8hHU3ASKAtojhGEyiGsS9cuBBmYLYNdAlTg+GvXr1a/5iJP6RnyFG1xw96fRb/nQtkuypCePYY2GLQ7oLw38XRDsiLzS6PLWDZ3PiW9RLW7VUQ+NqPWRYztr21jDMtRKvdQGbHXMLGFMxYLkZjVOZT/BKMyk0JFrP0RFWu0Qu/urwdVdVYTjeyUvAdqn8+X8DITKPqaTC2DIHow2Nzs/Ox2YyrDGHVx/eC9mJWyVzCZkVIZ1j1Ma4wn2G7K5Y63K9l/76kltSvGxZ9LGKE0j6so019n+1xm8fUqR3M9RXqEZmJxXYJc4lQ2ouGqlYRwQ6bu6RggvRRT//hhJoDHz58aNeuXe3atc1OH6DLmAsD4+ywoBoIBpzl+mFMwlI/RV0btS3AnIXOuNbJlKEfkeChc/GXDt69e4fpy549+wWTZ1BDZZzgc0GA2gYIDKx3796dOnXavXv3oUOHDh48ePjwYXpj7l/jJ2ipP069cu2tmaAKA5QPB6r2+EGvz+K/c8HmZu/ZYIRlYxGniP2EkKiJGSdWLcbGI/rwiD48og+Pnz6pc+OEBcPzEQonSxqIoP1EWfnUqS3XV9QxdvTiv+MQK+UhfdTTf5ihFm/dulWmTJlOnTpRVOV5c1UkIlCLGpVqoJIcEoFKskOV8KJSvahUA5XkgCrkRaX6QunmXKOsB9uohlK0v4wSzVgSqRj48uUL5i5Xrlznz59XSX6ocwwoakm3RDU6nQ7SyF9//YXlUX9PHzFixIjMmTPrX6sA1LQ/TrnMKYRrgfBhdDme0Ouz+O9csLnZi//OF7GfEBI1McV/ly4QfXhEHx7Rh8dfH8ONFGWvmUEsuO8iaj9RVT6Vasv1FXWMHb347zjESnlIH/X0H2aoxYMHD8JoGzZs+OTJE0oxo4rGJKqLAXRSlQvFcFRFAVflX9g/BVAioZJYVFHjFyQKFSqEGVywYIFK8kWdEFWoJ4cOHSpXrhwsbfHixdu2bdu6devEiRMrVqz4008/0cdjCXVOukANKX7Q67P471ww7vXiv+MQ+wkhURNT/HfpAtGHR/ThEX14bPSJEQdebCzgEbWfKCqfWrXl+oo6Nlt6wRexUh7SRz39hxlq8fTp040aNerUqdOePXvMn5dUhYSYhOYI87V8+fLGjRs3a9asX79+2gOrCsUM1Ctw/PjxSZMmtW3btnnz5m3atOnTp8+mTZvoi/Y06px0gRpS/KDXZ/HfuWBzsxf/nS9iPyEkamKK/y5dIPrwiD48og+PrT6xsHbGyPodYfuJ1qhT3a5cX1HHZksv+CJWykP6qKf/MEMtOqEKCTGJmiQ/KIvKxA7UN1dU6XSEGlj8oNdn8d+5IDd7V8R+QoiIySP68Ig+PKIPj+jDI/rwiD48ok/UkS29K2KlPKSPevqPCNQuoZKE+EHNnBeVGquoXvqi06lMeoLGFUfo9Vn8dy7Izd4VsZ8QImLyiD48og+P6MMj+vCIPjyiD4/oE3VkS++KWCkP6aOe/oUYg+YIqLggsChziR/0+iz+OxfkZu+K2E8IETF5RB8e0YdH9OERfXhEHx7Rh0f0iTqypXdFrJSH9FFP/0IMQPNiiyqRAVAD9kXlCc4opeIHvT6L/84Fudm7IvYTQkRMHtGHR/ThEX14RB8e0YdH9OERfaKObOldESvlIX3U078QA2A6kpKSjMmxokqkd/Rg6YCgLIFHiRU/6PVZ/HcuyM3eFbGfECJi8og+PKIPj+jDI/rwiD48og+P6BN1ZEvvilgpD+mjnv6FGIDm5cOHD6dPnz506NCtW7f0r/SqEoGB8jH+875O3VNJhnHu27fv1KlT7969Q1RlpwFLi/Q3PUFDiyP0+iz+OxfkZu+K2E8IETF5RB8e0YdH9OERfXhEHx7Rh0f0iTqypXdFrJSH9FFP/0IMQPPy/Pnzjh074uru1KnT27dvUzFHVM+5c+c2bdr0+vXrVNQQbtCl9+/fr1+//sKFC0ZnVQ/pGCxatChbtmwQ4ciRI4hSblpAJffv31+3bt3t27eNFtKb5dOg4gi9Pov/zgXjXi83ew6xnxAiYvKIPjyiD4/owyP68Ig+PKIPj+gTdWRL74pYKQ/po57+hRiA5gXs27cPV3fbtm0D8d+Z3ywzH/fq1QuVHDhwAMeqaHig5vQBQVlOoMDly5fRvT59+pjL0zHRuXNnFAih/+63335DhQsWLKAKQ1Jt7IDhxBd6fRb/nQuwWqAigh1iPyFExOQRfXhEHx7Rh0f04RF9eEQfHtEn6siW3hWxUh7SRz39CzEAzQs4ceJEjhw5OnToEIj/DgXu3LkzZcqUS5cuGWcrdu7cOXXq1GfPnuFYFQ0P1BxITEz87bff1q9fT1GVbQdynz9/Pn369P3795sL0zExePBgLHFHjx7FMeUGAp2rIiaQeOXKlcmTJ589e5bKAJWXLlBDih/0+iz+OxfkZu+K2E8IETF5RB8e0YdH9OERfXhEHx7Rh0f0iTqypXdFrJSH9FFP/5GCmnaFStIp4YPacsK1QOAEW9XRo0fJf/fmzRuV5MVSFUU3btyI1WDbtm2UaMH8Up4/fN+Qa0alOvD27dvChQuj2yoeGE41m/13POYabKuy8O3bN3Vkh7k2fyg3BlH9ix/0+iz+OxeMe73c7DnEfkKIiMkj+vCIPjyiD4/owyP68Djoc2dJI88+atg+FQ8ZqmIvoW8gxIj9RB2yFBUR7BAr5SF91NN/RKDmjMa/v379+vHjx0+ePHn//r12MOH4zZs32r1CZ4UPaoX4+PHjgwcP0CUcUAoVQN9evnyJ9BcvXuhTcPD27dvnz5+jw4h++vTp2bNn9K4cQP+/fv2Ks169eoVh4hiJiYmJGBoSUb8eL5346NEj3Shx7Ngx8t/RrzegZpz4+fNnykVVSEFtOEAUtQ0fPhyrwZo1a1AetaFagFM+fPhAbemeo8DDhw8hO7IoBSQlJaFC9JYKo2ZzAZyroSilozzagixoi1L++eefTJkydenSBXKRIBg7CtB38AHUjLPoN3ZxoOda14kR4UScjuNBgwZhUPr9OyPfYyGQ/enTp1++fKEU4OmZUUALi85jmKgHB9QEakZPoAmJBtAr1ANQDH+RpftJoP/UGT1AQG3FIKp/8YNen8V/54Jxr5ebPYfYTwgRMXlEHx7Rh0f04RF9eEQfHn99zB62ELvX9g1DnY2W3FHReEDsJ+qQKaqIYIdYKQ/po57+IwK1+/Lly9mzZ9epU6d06dKlSpXCwerVqymrY8eOuXPn3r17N0XVaeGEWtm8eXO7du3KlClTrFix2rVrL1++nDxB9+7dGz58eLVq1ZBVtWrViRMnvnjxgk6ZMGFCvnz5WrRocePGDRwXL14cZX777TdPv79/P3DgAM7KmTNn06ZNb926hZRTp041btw4b968kyZNIhfS3r17W7ZsWblyZZzYsGHDNWvWUH/AsWPHcC7UIM8RTkG0c+fOlHv79u327duXLFny0KFDiKLRwoULYzVASrly5WrUqLF169ZVq1aVKFECYzl//jydBdavX48+VKxYEcq3adNm586dlP7kyZMePXoUKlQIA0E/cZw/f37UQ9+dR3jE8nbv4cOHc+bMoRksW7YsWjl8+PCVK1dwyv/f3n+AW1WcfR+wJmJBwQp2EQmgKDYseBRFLIiomFiwxlhyjCVBxC7YHjV2sIEVGyCKLQoHFBSxo2LjEhWMNe193nx5SvI9JfneK9+95p6zzl7tP7vMPmtt9v935eLaM2vWzKzfutes2Xc2KNOQaxwwYIDc2QkTJixatKilpUU+33zzzVOnTt1jjz3WXnvtW265RaTtt99+Mu1rr71W+xQ+++yzk046SaYn/OQnPxEz0puosIeN1eHDh8tRGXTUqFHhoXBiwt///ne5TBErKkTszjvvLMEm9R988MEuu+yy2mqrPfroo1L8/vvvZVY9e/aUUeTOSp8yGflT768gcqSTvn37itVjjjmm9O8mq4qiYSfXOITrM/N3DoJXPV/2EMaPRygTQz8Y+sHQD4Z+MPSDifsJU2zmg8/8nckLNlbyTmD85I7Z0XNLj2CUYtSP/fbfKei4l1xyyXrrrTdlypQ//elPEydOXG211caMGaOHNGXzwAMPaNGeVjd0lEmTJq299tqnnHLKN9988+CDD8oE9ttvP6n/y1/+sv/++2+22WbTp0//4x//eO2118qhY445Rurl6G9/+9stttjiBz/4wemnn/7II4/ccccdPXv2lGtRq//7v/+r//mIq6++Ohjjn//87//+71GjRvXq1evDDz+U4lNPPbXhhhtK/4sXL/7ss88OP/xw6Upmoo3D39/9m/lNnzRYd911d911Vz0qMx83bpx0Pm3aNK2RUeT0O++8889//vNXX33117/+9T/+4z9GjBghbcIkl1jt1q3bscceKzN84403Wlpa5KoffvhhPTpz5kyZz5ZbbnniiSfK9Z533nldunTZe++9xYk2KDX205/+VBo/+eSTMtyvf/1rGeXiiy+W+vfee6979+5HHHGEyPnuu+/k6N///vcbb7xRGsidvfLKK6+//nr5fNJJJ0lXcrp8bm1t1T4//fRTGW6TTTaZNWuWBIYoFfPSIPz7s21tbTq95cuXv/TSSyJ/p512kovVo+HcnnjiibXWWuvcc8+VW/bCCy9oTlNv2YQJE6RDCTn5LErls2iUsX73u9+dddZZUjznnHNMH/8UAzITKX777bfPP/98jx49hg4dGv46z5goHDq3BiJcn5m/cyChKdgCSYPx4xHKxNAPhn4w9IOhHwz9YDL9+M7fNWb6jvGTP9zSO2GUYtSP/fbfKchwf/vb34YNG7bhhht++eWXUvyf//mfG2644fnnnw8m9M9/jhkzZs8991y0aJEW7Wl1Q4ZYtmzZZpttNnjw4D+2/3cezj//fE26XXnllfKI6X+uVPiv//qvkSNHrrrqqvoDLmm59957r7/++m1t9n0gk5ejDz74oBZ/85vfrL322j//+c/1r4v+7ne/22uvva644gr5/O///u+DBg1aY401lixZYtr+86233urZs2ffvn3191+xf/9OpMkhGc60Dbjxxhu7d+/+xBNPaPG+++6TqYa/W1RkPqutttqbb74pn7/66qstt9xy4MCB3377rR596aWX5BTpU3/i99lnn/Xp02fAgAFLly6VolzsQQcdJDOM3Qv9LJNfa621wsnLQPfee698kOvq1q3bSSedpPXKs88+26VLlyOOOEJzkRdddJH+SlFmIv3/8pe/NK2CTmQ+YepW0ASo5u/Ew5AhQ2R6olGPSthIt2HGM5yb3rXrr79ei08++eQFF1ygfw1Zbpwcmjx5snz+5ptvTjvtNLX96quv9ujRY7/99tNmy5cv32677eQaw782Kz3I9YbZUlVRNHRuDUS4PjN/50CiVrAFkgbjxyOUiaEfDP1g6AdDPxj6wWT68Zy/a9D0HeMnf7ild8Ioxagf++2/U9BxL7nkEgndo4466tNPP9Ua4R//+EfYIETPqh8yxPz582Uyv/jFL+Rz+K+nCf/zP/8zYsSIVVdd9ZVXXrFV//zn5MmTpfFFF10kn//2t78NHjy4X79+4b+ndv/996+//vpTpkzR4r//+78feOCBPXv2XL58uRQffvjh7bff/qOPPpLPb7311uabbz5o0KDwH3GTyQwbNkw618ax39/9+c9/loFK83fXX399t27dwvzdnXfeKec+9dRT8lmuQi/t7LPP/sEPfqD5u/fff18aHHvssUFrw1//+tdtt922d+/emrD78MMPZYjjjz9ejwpnnXVWly5dSv+OqnYrXHHFFdKbnHv++eeX/v3c77//XmY1evRoWzY8+eST3bt3v+6662y5Hbn7q6+++pj2n17K1Umff/rTn7QolP73Kz744IPNNttsyy23lFn98pe/PO+88/bff385euKJJ2rjcG5yQzfeeON11llHrmXWrFnh3RHkFsgpd999ty0bZMTddtttww03DK9UepAJ9+rVS+YmFzhu3Lg999xTTrz00ku1gaooGjq3BiJcn5m/cyDBJ9gCSYPx4xHKxNAPhn4w9IOhHwz9YDL91CN/19pmem2nEdJ5jJ/c0WCxBZIGoxSjfuy3/zqjIyp//vOff/7zn0v09unT57777osdLUXPrR8yhP4MTfN3WqP87W9/O/zww1dbbTVpYKvaf8A1btw4+SwN9txzz2233Tb8z0rItay//vrhv+UnXHPNNdJ+6tSpf//73w866CAdRXjjjTd69eolp5f+RySOOOIIaaz/WF74+zvN38mf/fr1GzJkiGkYcMMNN5Tm7+644w459+mnn5bPpfm78Pd3H374oTQ45phjgtaGv/zlL7vssotMQxNwH3zwQd++fUePHq3/tQdhzJgxXbp0Sf393T/+8Y/Jkyfrv3a30UYbyWT0v9HxzTffaOJMmymzZs3q3r176b9zp2j+Lvz9nebvfv/732tROPXUU6VG83dLlizp0aPHzjvvPHbsWKk/7bTTJITkRsydO1cbl05v/vz5Rx111A9+8AO95O/Nfw1DkBshNbH8nf7N2VtvvdWW//nPl19+WSY8aNCg888//5RTTpGxzj333EsuueS1117TBjpW0dC5NRDh+sz8nQMJUMEWSBqMH49QJoZ+MPSDoR8M/WDoB5Ppx52/i+TiSkg9yTbuSNmZhF7xU3iMn9wxgcMtPYJRilE/9tt/ndERS5k2bdq222677rrr6q/GlH8YbKH+c5MhNH931lln6Yghf/3rXw877DA5NG/ePFv1z3/ecsstUqN/u1YaaP4u/FuWU6ZMWW+99e677z4tCosXL95yyy1HjRo1Y8aMXXfdVYpa/9Zbb22yySbbb799eK6gPyhbsSJY+xcuXLjGGmuU5u+22247GS7MFf76179O5u+mT5+uReWcc87p0qWLjCWfP/jgA2lwxBFH6CFB5r/VVlv17t1b/wm5999/P5a/O/fcc1dfffXU398p33zzzWOPPbbbbrtJz1OnTpWa7777bs011yzNEgpyf9dZZ51rrrlGi2E/En6lv7/bd999pZ/wr8cKpb+/++ijj9Zaa63w13ZJtM/wF5RyFW1tbdJeejjhhBP0V3jJ/J0E4WqrrTZy5Ej9e8p6+vz581ddddXwH+YrRRvoJRQNnWEDEa7PzN85kKgVbIGkwfjxCGVi6AdDPxj6wdAPhn4wmX48//7OdBfN1qVUFQ/GT+4EG3pu6SGMUoz6sd/+64yOuGzZsgsuuOCNN97Qov7HIkp/mXX66advt912mrIJsV3UAel8yZIl3bt333PPPcP/UMO//du/6d/i1P9GROl/gOLII49cd911Z8+eLcW///3ve+21l8xW+xH0788+8sgjWlSOPfbYbt26DR48+Pzzzw9TkzLEgAEDVl111XfeeUdr3nvvvd69ew8ZMkT/Iwlvv/32mmuuOWrUqL/+9a9S/Mtf/iIDbbXVVvrfvvjXf/3Xww47bI011gj/3UD9+7OXX365fP6v//ov/Wfdxo4du/rqq+u/UvfFF1/of2s1/DvLr732mpwiQ+hP55YuXdq3b9/Sf7pOT5eZaDE0tnz58hNPPDG8R7NmzZJ+LrnkEvn8u9/9Tj4PGjRIW8o85c8XXnhh7bXXvuGGG4LWJf18+eWXq622msSD1h9zzDFyrv47eoJMWH+RpxP4/e9/Lw433HDD5557ThvItL/99lv1I2ifcu2XXnpp+GO6v/3tb2K1X79+mp6bPn26dBj+E3syRJ8+fXbddVfVJQEg91duhHwQUZtsskn4g7v//M///O1vf6uiBL2EoqFzayDC9Zn5OwcStYItkDQYPx6hTAz9YOgHQz8Y+sHQDybTj+f8Xcq/f5dSVTwYP7nDLb0TRilG/dhv//VHxnr11VfXXXfdESNGvPfee0uWLDnhhBPWW289TYcp/fr1k6jWH3OF2PPrgHT+v//7v/o3KA888MB77733uuuuO/jgg/W/pvrZZ5/tsMMOMsMHH3zw+++/v/rqq9dee239y7N6tEePHt26dQszXJrvu+yyy8KkkqA5o1VXXVWzluG4MtZaa6211157LVq06KOPPjrssMOktyeffNKcZP+ltt12202ziv/4xz90kkcccYTIGTNmzMCBA6V40UUX6d/AfeWVV7bccsuePXveeuutEyZM+PWvfx3+92f1v6fx//7f/7v22mv1t2ZLly5duHDhnnvuudVWW4V/PXbWrFkyH6n87rvvpCiXMHz4cDk9/I82CDpz/ausgwcPfu2117744oszzjhDJDz22GNySCaz33776X+V4oorrrj00ku//fbb2267Tfo5+eST9beEIWpGLlz/EcAXXnhhww03XGedda666qopU6bIpWkw6H8tRJg8efKaa67Zp0+fW2655Yknnhg7duzQoUNffPFFPapz+6//+i+ZttwyOev3v//9/fffv9FGG8kM9UeFcmukw3PPPVc+/8///M9RRx0lRZnnH//4R7mbalhvgYSBfBbJd9xxh8zzF7/4hURFmHc297Bw6NwaiHB9Zv7OgcSiYAskDcaPRygTQz8Y+sHQD4Z+MPSDyfTjzt+ZFimknqR/XTZyiPk7Ug4aVbZA0mCUYtSP/fZfZ3TEr7766owzzthtt91+9KMf9evX77DDDps5c2b4sybh2GOP3WKLLcJ/1EyxXdQH6f/Pf/7ztddeu9NOO/Xq1WvQoEHnnHOO/iN0wpIlS37605/KVLfbbrshQ4bceOON+p8oFS655JKtttpqyy23lPbSzyeffHLggQduvPHGgwcPnj9/vrYRvv/++/322+/EE0/UH99Jy/BXeDNmzNh///379u0rQx9xxBHhj+m++eabww8/fLPNNhswYECYvfr9739/wgknbLLJJjLKU089NWXKlO23317GeuGFF+SodDt58mT9jd5FF10kPTz22GNyunQiPet/Wve///u/J02aJFchJ+68884nn3xymJCSzk855RQxL1eqv4CbPn36DjvsIEKOPPJIzegJoa5LL710jz32kH5k5kOHDn3wwQfDv7i6cOHCgw8+WE6Ucd9+++3ly5dLUXqWEeV6tY0ghkeNGiX1MskwaynBILHRp0+fn/zkJ++8847clA033HDkyJHh7Xj44YdbWlr0dkjwSLH0N3H64YknnhDhMjfpWXq77LLL/uM//kPqP/jgg2HDhsmIe+65p1z4Rx99JJ1ss802uxrkQiQm5azQiRiWljIZGU4kyCR1LBmomOi0G4hwfWb+zgFf9k4YPx6hTAz9YOgHQz8Y+sHQDybTj+ff3yWzdSkZvQLC+Mkds6Pnlh7BKMWoH/vtv87oiMLf//73//iP//g//+f//OlPf4olX+TP//7v//7rX/8aJoPMqXVER1FkVv/6r//67//+76X/AJ8gk/m///f/ymzDzJ0g5/5nCVIjZ0kP/2bQX3uF/f/tb38r/a+gCuEhuV5RIePqb9AUGVG6km7lz9J66eTPf/5zOA0RJW1Ks59SI13pWPKntJQGUqnzUXRE6ae0UkaUltI+HFH+lBpBavR2BL7apy0XKxclWgRpo5UhMqW//OUv+k/1ySnarRBKkEr5rJ3LUWkf9izjytz0nwWUSj2x9I5It9K5tNH+hfDcEOlQGshlhq4EuV4ZUWxIpXQo6MTkEqSl/Ck3TsYNY0/QyYjS0rEKi86wgQjXZ+bvHPBl74Tx4xHKxNAPhn4w9IOhHwz9YDL9+M7f2R7bM3iNkb1j/BSAYEPPLT2EUYpRP/bbf6eg45aDPaGzsKOWkFUvJA9ltSxFzxJsOY3UBqmVpaSeYj+5MH27T9dmiq2KklUfA5yOe8hqUFoJ2qTWZ5HVXusLi51l4xCuz8zfOeDL3gnjxyOUiaEfDP1g6AdDPxj6wcT9pP+lWF95ttLei/43ZxXGT+5ouNgCSYNRilE/9tt/fuhkBFteKbCXlHZRWfVVox0KtpyGbVFPyXYA1xC2UT1n0pxYrY1DuD4zf+eAL3snjB+PUCaGfjD0g6EfDP1g6AdDPxj6yR1u6Z0wSjHqx377J4Q0MvpQNxDh+sz8nQO+7J0wfjxCmRj6wdAPhn4w9IOhHwz9YOgnd7ild8Ioxagf++2fENLI6EPdQITrM/N3Dviyd8L48QhlYugHQz8Y+sHQD4Z+MPSDoZ/c4ZbeCaMUo37st39CSCOjD3UDEa7PzN854MveCePHI5SJoR8M/WDoB0M/GPrB0A+GfnKHW3onjFKM+rHf/gkhjYw+1A1EuD4zf+eAL3snjB+PUCaGfjD0g6EfDP1g6AdDPxj6yR1u6Z0wSjHqx377J4Q0MvpQNxDh+ryKfCIAfdnbAiGEEEIIIaTR4JaeeMF++yeENDL2eW5A+Ps7B/qytwWSBuPHI5SJoR8M/WDoB0M/GPrB0A+GfnKHW3onjFKM+rHf/gkhjYw+1A1EuD4zf+eAL3snjB+PUCaGfjD0g6EfDP1g6AdDPxj6yR1u6Z0wSjHqx377J4Q0MvpQNxDh+sz8nQO+7J0wfjxCmRj6wdAPhn4w9IOhHwz9YOgnd7ild8Ioxagf++2fENLI6EPdQITrM/N3Dviyd8L48QhlYugHQz8Y+sHQD4Z+MPSDoZ/c4ZbeCaMUo37st39CSCOjD3UDEa7PzN854MveCePHI5SJoR8M/WDoB0M/GPrB0A+GfnKHW3onjFKM+rHf/gkhjYw+1A1EuD4zf+eAL3snjB+PUCaGfjD0g6EfDP1g6AdDPxj6yR1u6Z0wSjHqx377J4Q0MvpQNxDh+sz8nQO+7J3UP35WTGpZZZXWNlvqPHIYtyEfRuOpZdIKW6wnPvzkFU6dARdzDP1g6AeT6qettcblz8OKVPMc/NDJ8ZPXVVc9bv39NNFmqTq4pXfCtwBG/dhv/4SQRkYf6gYiXJ+Zv3NQmJe92R6FFGCnHpIRP3bCiR1d9EIcO762VnNctsvmiuVc5w6xaOMayh68GA9jRa5s884JyQqDLYbv21o8avOz8pPmJ/gyHtLkilL82Nix0I/9FGL8lGiJ+nII87ciBVHscQ2u6Co6SF9/quzMhek20VmGnyrxbLvC9bkicQ2yWYr27Zyid3RcWyBpZEQpsagf++2fENLI6EPdQITrM/N3Dgrysg+2i+FORzdAHvfqtZGMn9IdWmx/FrkQU0JbOD2+Sktra4ugn8FlF3DcANNbmberCA9jZa4Ec/2dE48VBVscv7e1kNTkpwmI+1E77V6ipWYk7ie6dqmfznnSi0nG89URMpUtnj5XpKAvX7emsqsoIelHz65HzMTMC9BPxdTDdkXrc2V3QY8XfLNkGoeHdQ71iA2AmSHzd4iUp5iUoH7st39CSCOjD3UDEa7PzN85KObL3ux7Onnbk0k8fsItmvmQve8L0A0cbhPf9GVRzHErvFUFfBjdrjoxHGsJtnZ83Nai4sPPykzMT8JKJ4ZyIXH5afYwSqzPJmCyhbgXz4DwKYWErTJuQlBdn9At7yoC4n7q+DwlzLv8VEZ9bNeyPndmLJXicdzEaGUM7xsZULAFkkZilSMR1M//I4Q0PvpQNxDh+sz8nYNivuzL3093ApnxU87eDO/6zFE5Xub/pWwp0riVfn8p4sOIXQmVXmQN1B5sXm5rYanJTxMQ9ZMipck9xeInYaPZwyj+fDmXPiMss4E56mtFquMyjK+ihJif6qYUjOaMMdB1hp8q8Wq7pvUZ3wVzVI4XebOUGK2c4T1jZsj8HSIzSolB/fz/CCGNjz7UDUS4PjN/5yD9ZW+3LErp7sNs6jqIbkyCs4KakrM7NjqmMrbvydzcZB7Ig9q3pNltqvgnXQo1bsWb/BSZptt2SrvvpGBLOVI6snRT8VVWT03BJo1MC2lrZlv1bS0utflZ+Yn4SYvbTozlIhKLH33QQx1abOYoij9fzsfK0cDrimRuTxnnV07Zq0fUT5UPUzCaczAwpbJnWxZebde0PjvaNMBmyTjLeT2REQVbIGlkRikxqB/77Z8Q0sjoQ91AhOsz83cOUl72ZjcT2YLYDUj0QEa5pCq6e4m3tjXJzU1sD5Q7tWxJkxedhrni8nd5BRrX9mCOtAOHjcuMTjTozg4Qv4LUckmVRk377OKtbU3qtcbbRnvSUrRFHakl2NqxN8WWnFTQc/748LMyE/ETj+yAaHQ3Hcn4MZICT/rbms55zAtLzI+JFqQkLcSS+FqRggP1uEHlXUVA1I+9rvYQMpTRTdDeZQOZz/RTFZm9BQcqtV3L+myaOAf0FUsd+B3X9BZ0mNd6YkZn/g6RGaXEoH7+QQhpfPShbiDC9Zn5OweJl33mvjFtIxTd+SRbRGriPceam6Kl8zc9gOq3pOaKYYuqKNC49qZ13C8dOvv+RWXmFmwdJFwlW7quySfVB1vV1K/nOpCDn4Yi4ifVSXOLSo0fo0Rp9giK+XEES2Lx9EPmqGA6JfcwQhmTq+Qqon7soB2vhvJeFcFpruHApcJjlZPZWzXDVL8+d3YstVOHcc2YivfrcaMD2wJJIzNKiUH92G//hJBGRh/qBiJcn5m/cxB/2ZvdTNr+M30fFKkNCtFTo72ZUthFsnWI7n9cu+DOototqV5FHTZwBRrXVEVvVEpVCRGZ+Qeb6TIyUvQ8JXOe/qk22Gqgfj3XgRz8NBQRP8ZJLG5NLDevqHj8qA71oYtBc0dRzA98qtRXHWxljgqnUyWVXUXUjzk3+oClVCk6ThqpY6NLRccqJ7O3aoapdn02h/1dUwedPG4B1hMd1BZIGplRSgzqx377J4Q0MvpQNxDh+sz8nYP4yz4zVZG+D4rUBoXoqbHeTNG2TjYuRbdBnbzxyaCqLaleQPYF1kKBxo3d4ICUqhIiMjObpl9hpDYowIFN0bZONg4wLeL1aUPjS/JKVcFWG/XruQ7k4KehcD5fnRjLRSQaP7oClEaNCaMmjqPY85X9VKUunp7IHNX7Q17xVaTET/Tscp6v4DJcV4Eu1anBNAgpYzbebFe1PucSS4L3cbXD0tH0TlQosTaCAZm/g2RGKTGon78TQhoffagbiHB9Zv7OQfxln7n9TN8HRWqDQvTUeG+mbJon20bJnEfnU8WW1Byp266tQOMmN6yOOxeRmdk0/QojtUEhemq8N1M2zZNtBdObYxALviSvVBFstVK/nutADn4aiqifFClN7sm5/nTis15EYs9XVrSY+rqFUWaMguDVGSVBc6ziKqJ+TLBEOygnfoJxXaOCS4XHKiezt2qGqWJ9Nkf8XU6Mzhy3GOtJcFXM30Eyo5QY1M//EkIaH32oG4hwfWb+zkHiZZ+530k7EK0LStGdSnLzErSRE5JNY6SNlhOVbkl1U1/HLVuRxk3cYZ1F5p2Lysy8y2kHonVBKXqtlQQbcJUcuu5iS6g02DxQv57rQA5+Goqon/RHopk1RfykrVVNLij2fCUDSKj7eph1D9LuV9VUdxUuP2VNMbg+11Ukei7Bb4x6tV3p+lzdXaiAzhw3zZjfe1UOMp5gCySNzCglBvVjv/0TQhoZfagbiHB9Zv7OQfJlH9+EyAZEC/EDid1KsFWJ7ohMk2hV0Ki1NfijZE9jKjvK2nMdN3UVUdmW1FQmar1SqHG1tv1eJWIiTkxmvL10poX4gUTHwbDVBZudcqyug+hRHVjonHCsLNi8UL+e60AOfhqKuB+jJQzdaKkZifrRh7tESGKZaTZS4yfiw9TUV1HWs5yywldLtVeRWH8ij1SZ4ROcU1ajjFbgUBVk9VaV7crWZ1Pp70rS6NRxC7GeBJfG/B0kM0qJQf38DyGk8dGHuoEI12fm7xykvux119FO6e5DNz7txDZ3wcFoVdoW0HYR29NEO65421hP4vETm6pFrydqrgMfO7gijquUtnDcueTD2OnBVoar0iZBdXKwelFJsNVG/XquJ53npzFJedlFFDWvGSXpJxZBnfOYF5a4n/iiWsbiWTWuZzltga+O6q8i5fmKzNtf+CSv1u9aVx/blazPecVSPcdNjOwvIMpFx7UFkkbaU0w6UD/22z8hpJHRh7qBCNdn5u8c8GXvhPHjEcrE0A+GfjD0g6EfTMJPdWmcumAyI36SLFXTifGTs/nqbPP5yh2zo+eWHsEoxagf++2fENLI6EPdQITrM/N3Dviyd8L48QhlYugHQz8Y+sHQDybpx6SRcs6aGYqQvuvU+MnVfJW2+XzljtnRc0uPYJRi1M9/E0IaH32oG4hwfWb+zgFf9k4YPx6hTAz9YOgHQz8Y+sGk+ClIAi9IKOX/O8BOjZ8czVdrm89X7nBL74RRilE//0UIaXz0oW4gwvWZ+TsHfNk7Yfx4hDIx9IOhHwz9YOgHk+qnCKmzYqTvOjt+8rrqqsfl85U73NI7YZRi1I/99k8IaWT0oW4gwvWZ+TsHfNk7Yfx4hDIx9IOhHwz9YOgHQz8Y+sHQT+5wS++EUYpRP/9fQkjjow91AxGuz8zfOeDL3gnjxyOUiaEfDP1g6AdDPxj6wdAPhn5yh1t6J4xSjPqx3/4JIY2MPtQNRLg+M3/ngC97J4wfj1Amhn4w9IOhHwz9YOgHQz8Y+skdbumdMEox6sd++yeENDL6UDcQ4frM/J0DvuydMH48QpkY+sHQD4Z+MPSDoR8M/WDoJ3e4pXfCKMWon78RQhoffagbiHB9Zv7OAV/2Thg/HqFMDP1g6AdDPxj6wdAPhn4w9JM73NI7YZRi1M9fCSGNjz7UDUS4PjN/54AveyeMH49QJoZ+MPSDoR8M/WDoB0M/GPrJHW7pnTBKMerHfvsnhDQy+lA3EOH6zPydA77snTB+PEKZGPrB0A+GfjD0g6EfDP1g6Cd3uKV3wijFqJ//JIQ0PvpQNxDh+sz8nQO+7J0wfjxCmRj6wdAPhn4w9IOhHwz9YOgnd7ild8Ioxagf++2fENLI6EPdQITrM/N3Dviyd8L48QhlYugHQz8Y+sHQD4Z+MBl+VkxqWWWV1jZbamIYP7nDLb0TRilG/dhv/4SQRkYf6gYiXJ+Zv3PAl70Txo9HKBNDPxj6wdAPhn4w9INJ+GlrNWm7ttZVWiatMIk8kMYzab4OfCf86tx9OTB+ckdvvi2QNBilGPXzH4SQxkcf6gYiXJ+Zv3PAl70Txo9HKBNDPxj6wdAPhn4w9IOJ+2lrNRuoltbWFkE/B3m8NIK2HTk1PdNfjs30lzl2Z8H4yZ0grLilhzBKMern3wkhjY8+1A1EuD4zf+eAL3snjB+PUCaGfjD0g6EfDP1g6AeT4aea5Jn+Ws5PAs/0lXvyTmD85I7Z0XNLj2CUYtSP/fZPCGlk9KFuIML1mfk7B3zZO2H8eIQyMfSDoR8M/WDoB0M/mLifSn5/F8ffL+YKk75j/OSPCUJu6RGMUoz6+TdCSOOjD3UDEa7PzN854MveCePHI5SJoR8M/WDoB0M/GPrBJPxU9O/fRTH5Ox+/vytO+o7xkz/c0jthlGLUj/32TwhpZPShbiDC9Zn5Owd82Tth/HiEMjH0g6EfDP1g6AdDP5gMPyaDVmEqzvPP71rb7G8BlZzSeYyf3NH7bwskDUYpRv3Yb/+EkEZGH+oGIlyfmb9zwJe9E8aPRygTQz8Y+sHQD4Z+MPSD8ebH5NyyU36RXFwJqSfYxh0pO+08jxQe4yd3TCxwS49glGLUz18IIY2PPtQNRLg+M3/ngC97J4wfj1Amhn4w9IOhHwz9YOgH48mPZtx8/N3ZgJRf8qVUdQqMn9wJIotbegijFKN+/j+EkMZHH+oGIlyfmb9zwJe9E8aPRygTQz8Y+sHQD4Z+MPSD8eHH+6/jTIfR/lKqOgXGT+5wS++EUYpRP/bbPyGkkdGHuoEI12fm7xzwZe+E8eMRysTQD4Z+MPSDoR8M/WBq91PeT+/sX4lNkHpeyt/FZf6uadFAsQWSBqMUo37+TAhpfPShbiDC9Zn5Owd82Tth/HiEMjH0g6EfDP1g6AdDP5ga/Xj/6Z2SyNalZPQ6B8ZP7pgdPbf0CEYpRv3Yb/+EkEZGH+oGIlyfmb9zwJe9E8aPRygTQz8Y+sHQD4Z+MPSDqcmP33/1LkLk37vLLXvH+CkAQYxxSw9hlGLUj/32TwhpZPShbiDC9Zn5Owd82Tth/HiEMjH0g6EfDP1g6AdDP5ga/GhWLYmvPFvpX7nN4W/OKoyf3NEIsAWSBqMUo37+LyGk8dGHuoEI12fm7xzwZe+E8eMRysTQD4Z+MPSDoR8M/WDoB0M/ucMtvRNGKUb9/CshBpsHasfW1g07TBR7jFSOPtQNRLg+M3/ngC97J4wfj1Amhn4w9IOhHwz9YOgHQz8Y+skdbumdMEox6sd++yfNRGqyTCtDbG3d0CF0rBA9RKpAH+oGIlyfmb9zwJe9E8aPRygTQz8Y+sHQD4Z+MPSDoR8M/eQOt/ROGKUY9fN/SJNh8z1lYE+oDzrE8uXL33333U8++eTLL7/USj1KKkUf6gYiXJ+Zv3PAl70Txo9HKBNDPxj6wdAPhn4w9IOhHwz95A639E4YpRj18yfSfGjGZ9myZfPnz3/yySefffbZxYsXa2VpA/1cP2SIiRMnbrTRRl26dDn99NP/+Mc/dsKgKyv6UDcQ4frM/J0DvuydMH48QpkY+sHQD4Z+MPSDoR8M/WDoJ3e4pXfCKMWoH/vtn/jAZL2CDFT4oTPRQRVblYYc/frrrydOnDh8+PBdd921paVliy222GabbS6//PKvvvpKT1fsCXVDhvjd73531llnyVJ22WWXpQ6qlYqtImnoQ91AhOvzKvKJAPRlbwuEEEIIIYSQRoNbeuIF++2f1IxNMpVgD7Rja+uTh9Ken3nmmTvvvHPFihVgFDn0xhtvdO/evW/fvs8995wU5c9evXrJenLbbbcFvbRjT6gbOsoFF1yw+uqrz5kzR4v2WDtaGWJrSQL7PDcg/P2dA33Z2wJJg/HjEcrE0A+GfjD0g6EfDP1g6AdDP7nDLb0TRilG/fyR+MOmUgyxopJVWTva1XHHHde7d+93330XdCuHvvjiiwkTJjz77LPmpAD9EdyJJ55oyxDbUQ3YjgzDhg1bd911P/30U1tuJ9ZM0BrTAYmjD3UDEa7PzN854MveCePHI5SJoR8M/WDoB0M/GPrB0A+GfnKHW3onjFKM+rHf/knN/OlPf/rmm28mTJhw2mmnLVq0yGScLL/73e++/fZb/Swtpdn333+vRUFPrxHtSoYeOHAgzt8J2riUcePGyXpy8skn27KZczhJ+fDVV1/FTtSuqsN28ac/LV26tH///i0tLV988YXWyFEZTkbX4h/+8Idbbrll7733njFjhh4lqehD3UCE6zPzdw74snfC+PEIZWLoB0M/GPrB0A+GfjD0g6Gf3OGW3gmjFKN+/kA88cc//vGLL77Yfffdu3Tp8sgjj2hW5fvvv58xY8ZPfvKTHXbYYeLEiVJzzz337L333oMGDbr99tu1jWC7KBt7WoLTTjttxx13XLx4sS23Y08rwR4wfPfdd/vuu++aa6754IMPSvHbb7+97bbbhg4dus8++zz//PNyUZdddtlOO+100EEHzZkzR09xYodpx9a21+sH+fPxxx/v2bPnmDFj5LNM49xzz91mm2322muvefPmBa3/+Mevv/561KhRstZdeumlUgzPJTH0oW4gwvWZ+TsHfNk7Yfx4hDIx9IOhHwz9YOgHQz8Y+sHQT+5wS++EUYpRP78nnvjDH/6wfPnyAw88sGfPnjNmzNCsynvvvXfmmWdef/31O+yww9577/3LX/7yyiuvfPTRRzfZZJPevXu/+eab2sx2UTZ6yu9+9zs9PeSss87aZZddPvvsM1tuR8+KYY/94Q8PPPDA2muvfdxxx3333XdSnDp16pgxY66++uoePXoceeSRra2t0uD222/fcMMN99xzTwkbaRProSJKT5wwYULXrl1lRPn8xRdf7LvvvrKsjR079uuvv9YG8kEmJpVXXXWVFPVcMziJoA91AxGuz8zfOTDver7sEYwfj1Amhn4w9IOhHwz9YOgHQz8Y+skdbumdMEox6sd++yc18weTgYrl77777rtvvvnm008/Peigg7p27XrhhRdq0k2Km2+++SuvvCKf9dwQaaAdAsKWL7744sMPP/zoo4/KiNOmTRs+fPg222xz++23z5w5Uyrl0KxZs3REe2Y72oPw6quvyil77rlnmPX78ssvpcGiRYs22WST/v37T548WesPP/xwWXPeeOMN+Sx9arfC8uXLn3zySRlLJjDdIEOXMnXqVD1LKR39hBNOWHvttd95551vv/22tbV13333lZnbYwap1/zdlVdeKUU9N7gAEkUf6gYiXJ+Zv3Ng3vV82SMYPx6hTAz9YOgHQz8Y+sHQD4Z+MPSTO9zSO2GUYtSP/fZPauYPf/jD559/PmzYsNL8nTJv3rwePXrsuOOOb7/9thSl2RZbbLH77rt/++232kBOX7BgwX333ac12iFAz/ryyy8vuOCCQYMG7b333vvss8+QIUN69eq10UYbDR48eN9995WaXXbZ5cgjj5RmqX1K5bvvvitnDRw4UGZouuzg7rvvXn311U866SRtKRx22GGy5mgmLqwUXn311eHDh+s0Utl+++1vvvlm27rk3O+++27//feXUc4444wDDzzwkEMOef/99/VQ2Ib5uzLRh7qBCNdn5u8cmHc9X/aI+sfPikktq6zS2mZLnUcO4zbkw2g8tUxaYYv1xIefvMKpM+BijqEfDP1gUv20tda4/HlYkWqegx86OX7yuuqqx62/nybaLFUHt/RO+BbAqB/9IRWpnd///vefffaZ5u+mTZumWRXlwQcflKf13HPP1eILL7yw2mqrnXjiiVoU5PQDDzywe/fuy5Yts1UZ6EBK+Pn777/XD6eccspOO+309ttva+W3336r9cH82tGi/PnFF1+0tLRss802bW1tplWEs88+u2vXrnPmzNHikiVLBg4c2Lt37/fff19rhLA3nYB+EORD6eewpX4IP8+bN69fv36bb775kCFDxM/RRx+t9aV88803xx9/vBy94oorpKjnaiekFH2oG4hwfWb+zkHwqi/Wyz7YOgYUZquUET9mP5cyTVvfDr6MtlZzXK7Z7JblXOdl5zFutG/nFAHFeBgrcmWbd87XqISf6FQdk6jotlbUc1Go8GFsOtL8tK+ohiZXVE38RB+Uldtgih9z+SUXXZEOfy+4IIo9LlJV3tT0+KmyMxem25LOosP4keHZduXPV/mrk8fNkpDXuOHBdpydVYj2agskjYwoJRb1Y7/9k5r5fXv+buONN54+fXqQfGpn7NixXbt2ve+++7R43nnnSfGmm27SonLnnXfefPPNX3/9tS1noAOVfijltNNO23nnnZcsWWLL7ZgJWmzV73//85//fKuttpo5c6YtG8IGQ4cO3XzzzcN84kMPPaT/Rl4yJ6jFMik9ZcqUKWuuueaFF164fPnybbbZZvvtt1+6dKkeConl7wTtgcTQh7qBCNdn5u8cFO1l37G38b2tqZpk/JRuwGLTDHaFHVW6R8y+EruHbGltbRH0M9g05zOuaRwe1jmgWUKK8DBW5kow11z1JVdEzE9kqk71ldzWynouDBU9jE1I3I/aafcSLTUjFcePeaYa4cnwQ4afDjGRdcOuONkBVcmKJMB7EfTl60ZUdhUlJP3o2fWIEGReTdU2aj1sV/Z86bH22mgpgd4lL7GU17hC3aIlRIe2BZJGylNMSlA/+iMpUju/+93vli1btv/++2v+TrMqwmeffTZkyJB+/fq98sorUvzyyy+HDh3ao0ePV199VRu89dZbJ5988pFHHikfpDhjxoxDDjnk7LPPlvY333zzAQcc8Ktf/eqTTz7RxnawBHr01FNP3XHHHbUfeyCBtrznnns23XTTa6+9VovfffddW1vbXXfdJR+k+Oabb26zzTYDBgz45ptvpPj111+PGDFijTXWkLmZ5gG2u6rQHuS6ZBF74IEH5PPxxx8v3p588kn5rIMqX331lebvJkyYoDW2CxJFH+oGIlyfmb9zYN71xXnZ665xUrDHydxPdTbx+Al3YOYDnqZja2gpb0+X07iJ0coYPpsCPoxuV6ZFXffcIdhPeRMp67bG6MRLrIlaHsZmIOYnYaVR7nO9qCx+ms9WYv0xCrKfK3PY+dyFliH4Xujx+tyM8q4iIO6njhFSjvkaRq6P7Yqer0RdOdcU9ggp5Lj1jJYOZFzBFkgaiVWORFA/3xFPfP/9959++ukBBxywySabTJs2TbMqwptvvtm9e/ehQ4d+++23Uvzyyy8HDx687rrrPvbYY1dcccWMGTO+/vpr/U9DPPvssx988IFUHnPMMb179x41atQNN9xw3HHHdevW7YEHHtDe7GAJ9Ojxxx/fr1+/t956C7eUW7/bbruts846w4cPP/LII0eOHCkftthiC5mG6eb7hx56aMMNN9xss83mzp27ePHiU045pWvXrr/85S/1dO2nFqST3/72t+JErvr555+X4uTJk3/wgx+ceuqp8mHixIliKZiHaab//t2ECRO0xnZBouhD3UCE6zPzdw6CV31hXvbBnidz75MbmfFTzjTD/Vwq5qgcL/P/2rV07riJ0coZPpMiPozYldAp224F+zETyXZfyW2N4ei5MNT0MDYBUT8pUprcU0Xx04nPfVGI+3EqMN4yG5ijFa9IGTFax9uBr6KEmJ/qphSM5nwEXV2b4z6eZK+2K3m+yqsKMcdkSjXHUl7j1jOASzAzZP4OkRmlxKB+7Ld/UjPff//9smXLDjzwwI033rg0f/fiiy+us84655xzji1///1VV10lNTvvvPOVV1756aefSs1FF13Ur1+/999/X7u68847pcFZZ50lhx599FHpcOrUqeZUR/5OTtl9993fffdd3HLevHnrrrtu165du3Xrtvbaa8tYq6++uqbPTDffX3bZZRtttNHw4cN32WWX3r1777bbbpMmTdJDgu2oBqSTN998U7odMmTIhx9+KEWJxhEjRqy//vo/+clPFixYYMYJqEf+TvuJYY81LPpQNxDh+sz8nYP0l73dsiilmxDdNIYkN0FBTcnZHZsVUxnbu0T3OKZvU4rW501m/JQzTUebKv5plc4eV295eOe0WMYs00mRaabaTmnHOlRIdMzgrKCm5OxKgq2U5JHSkaUbU4x1VyfwYpV9DUpV4WRw9VwUanoYm4CIn7S47cRYLiKVxE8zqor7cT5WjgZeX3DmhpRxfuU4L7OdqJ8qIyQYzTmYa0plT9mFV9sVPF9p8qBQT7GU17h4EH/IuIItkDQyo5QY1I/99k9q5vuS/N306dM1KyR8/fXX77///ooVK2zZ1HzwwQdSKR+0OHz48P333/+LL77QBmeeeeamm2768ssv6+cf/ehHr7/+uh6ygyXQo9LDJ598op/tgQRy6KuvvpIJ6Bz0g/Dhhx9+9tlneu4xxxyz9dZbL1y48OOPP37zzTfDPhXbUQ1IJ3LV0nk4oiCKFi9eLGFpy4Z65+9Ki3q0QdGHuoEI12fm7xykvOzNziPcZgSbDrsNiR7IKJdUmf1KuIeJt7Y14RYnKNnD0QN5kxk/ZUwzedFpGFHlX2+nj2t6CzrU//vZ2S8gLjM60U4LtlLibaM9aSnaoo6AxUpnUsY0TMMybmtI2T3nTy0PYzMQ8ZN8CuLR3XRUEj/2OTJH2mmIh6QGYn6MAnTNaSGWpMIVKfNZDg7U4w6UdxUBUT9VRkjQ3mUDmzdHPanwaruC58vUxPrX64Juao6lvMZt78EcacfPLYygHdsCSSMzSolB/XxLPPHdd9/p35/t0aPHtGnTpCiV33zzjcmuBGgb/bOUxYsXb7vttmPGjNHi559/PmzYsP32208+//a3v911112HDh2qh4RgpGxsI9isdEqpLFu2TL4E7rbbbjITW9WO7cIHtkdDrCiENV9++aXm78aPH6815uwU9GgMeyyKPdaOXO8jjzzy4YcfatE2ajT0oW4gwvWZ+TsHiZe92WSk7SpSNiSxrVCyRaQm3nPkYFAAHeVJBVvSGGXsCqshj3HNmEpN/UZl5hRspSRcJVtqk7Rp+icZbGY+Fr9zqF/P9aP6h7E5iPhJddLcoiqJH/t8dDwanbkQ5ETMjyNYEounHzJHBdOxNytBGZOr5CqifqqMkOA013Cpl1p6kd7CMHWkgMwDgAqer+wrrHBMSHHG1ar6rydmEObvEJlRSgzqx377Lx4Nl0yR2Sbzdxhzid9NnTp10003nTJlypNPPrls2bL58+f36tXrrLPOkkNvv/229DZ27Ni2tra5c+dKjT2zbsgQzz333FZbbTV69OhgclFso05BR6wof5eaLU0SHhWeffbZ4cOHb7DBBtOnT9cabdNw6EPdQITrM/N3DuIve7OlSNtRpG9wIrVBIXpqtDdTCrsobR09kjFWXlSwJY1gDtfjMjp5XN1laofadw29R2TmE2yl6PWUjhQLRUPmPP0DFyudbT0mUr+ePVPtw9gsRPwYJ7GbamK5eUVVEj8p+tKMrlTE/MCnyhysRyhljgqnUyWVXUXUjzm3zAjRcdJIHdt1qdqdj1DMHMk1hTQqeL5MTewC/K9OxRk3beC0udSK9CjYAkkjM0qJQf18UwBsBgJimxYYmaQoDfN35czZXNm3M2fO3GSTTfbcc8+f//zny5cvv+OOO9ZYY42bb75ZDi1ZsqR3794DBw48++yz58yZIzX2zLohQ9x4442ytvTr12/WrFnB/EqwjToFHXHFihWjR4+W+YwfP15r7OEEenTy5Mnjxo375JNPtGiPRdFDS5cuveiii7bffnvpfO21137iiSe03jZqNPShbiDC9Zn5OwfBq76z8ndatK1LG8dPTB8rLzLjB01TN4RpImunU8fVDktHM8NXe3siMmPh0UH6FUZqg0L01FhvpmhbJxsHpLpKGzpznv5xLFY65SrdQ+rXs1eqehibCOfz1YmxXEQqiZ8UVSu9vZif7KdK14v6qMgc1ftDXvFVRP1UGSHBZbiuwn2pOvfUJubkkDJm4812Bc9Xmqly7FVGccZNG8T/uMzflUFmlBKD+vm6AHzzzTf6J0Bb5gueiRxaunSp5u8ee+wx0DLE9PfNl19+ed99911zzTWvvfaaFBcsWDBp0qT3339fPkubadOmXXXVVXPmzDFt6+5Bhpg3b9611157/fXXv/zyyzpoiG3UKeiIy5cv1/zd5ZdfrjX2cAI9+uMf/3j99dd/9dVXnS0nTJhw6KGH3nrrrTvvvPO66647Y8YMrbeNGg19qBuIcH1m/s5B/GWfuaFI38xFaoMC3p6Ysmle2tZ0ko7nrU1VVLAlbUevKPWQBzpz3LR4yIyRMojIzCPYQjJcpQ1dywVXiGuxqt9UOvEia6CKh7GpiPpJkdLkniqJH/NEROsa4yGpgZifrGgx9XULo8wYBcGrM0qC5ljFVUT9VBkhwbiuUcGltuMpGDNHKmMKCSp5vsqrqpECjdtJ64mMIdgCSSMzSolB/dhv/7mieZMVK1a8/vrrr7322ldffSXFTz/99K233nrvvff0qG3qlbBn/VAmem4SOVRd/q4UvXal9HOIPbNuxAa1tXmgE6g0f3fSSSfpf+4Dt5TLfPHFFz/44AP5PHTo0HXWWWfatGnB+bleci3oQ91AhOsz83cOEi/7zJ1M2oFoXVCK7kWS25OgjZyQbFpK2mUOGF0AAHvvSURBVFD5UcmWNEC3aZ43ZaV05rgpe86abk9UZmZPaQeidUGp+mADrpJD1/2GluBarJKz80X9evZJpQ9jsxH1k/5INLOmiuInoU9XgpVZX8xPMoCEuq+HWUHqVX91V+HyU9YUg+tzXUWi5ySenmWvtit5vpKX6OmKSinQuMmBq1LsQnoUbIGkkRmlxKB+7Lf/XPnmm28+//zzCRMmDBw4cNNNN7311luXLl16/vnn9+rVa7PNNps4cWKdEivarbBkyZJ58+bNnTtX/kwi9QsWLPj000+/+uore2Ya0o/m7zbeeGPN34XYFmnYFqaN/ZSNnlJX7Ejt89HKXNBp1Cl/F/Lll18OGTJknXXW4e/vOplwfWb+zkHyZR/fU8hGRAvxA4nNR7Blie44ExsWbdTaGvyRvWupw3aqBirZktrK+k6+U8fVu1xyDxO3vSJiMuOdyVVoIX4gMWpwvdUGG3YVPaoDC9Ge60XUj5l/xzR1Ll4mUr+e60tlD2PzEfdjtIT3NVpqRiqMn4iwxBq0EpIaP5FLNjX1tZB+L1JX+Gqp9ioS8VNNhATnlNWotFXsJH8rdnygdqqyXdnzZSrDIaIlTxRq3OhQdVpPpE/BFkgamVFKDOrnqwLw9ddfP/XUU1dcccWjjz7aq1evPfbY44wzzrj77rsfeeSRHj16DBgw4OOPP5Y2tnUlmMxGBHvAYKu+/vqGG27YwbBTgoEDB/bv33/w4MEzZ87UxvbkBHLok08+GTZs2MYbbywXoi3NGaR6Pv/8c83fXXbZZVoT2k5FIqdfv35Lly615Xb0FD1X0frly5fvu+++3bp1mz59utbYw42GPtQNRLg+M3/nIPVlrxuLdko3GGb/ERLb8wQHo1VpW0DbBdq2pO998iIeP1EH7eh0o+Y68HExeY2bGLmWrW7yYez0YCvDVWmToDo5WL1wBJvHSdSv53pSycPYjKS87CKKmteMUnn8lLZokIekBuJ+4otqGYtn1bjuRdoCXx3VX0XK81WnCElebcxPjUPVx3bFz1ekgY8oUgo7bqSFv2gpQbu2BZJG2lNMOlA/9tt/rnz99de//e1v5c+33nqrR48em2666cSJE6X46aef9u/ff4cddtB0jG1dIXJiiK1qx9aaJNEnn3zycTYygRUrVmhje3ICORTL3wlyCZdffvl55513ISmbCy64QIxddtlly5cvF4c4f3frrbf+6le/ushw9dVXDxo0aJNNNvn5z38u7ceNGyeHbrvtNrm/2ljPVbTmiy++YP4uF8L1mfk7B3zZO2H8eIQyMfSDoR8M/WDoB5Pw4y9pVjMm8+Ev1VIVnRg/OZuvzjafr9wxO3pu6RGMUoz6+W0x0BzEgw8+KFF90EEHrVixQorTp0/fdNNNjzvuOC2WQ9hVKVOnTr3vvvtswVA6aOopqXz55Zfyp56bRA59/PHHw4YN69GjxyOPPGLO+Oqjjz6S+R922GE/NvyElIGIOvzww48//ngJUXF47LHHSlRcdtllqjS0rYwbN+7QQw896qij5EQ5pW/fvhtuuKHUHH300dLPiBEjpIHcBW2s5ypa89lnnw0ZMkTzd1pjDzca+lA3EOH6zPydA/Ou58sewfjxCGVi6AdDPxj6wdAPJunHpJFyzpoZipC+69T4ydV8lbb5fOWO2dFzS49glGLUz5cFwGYgfvvbc889d+2117711lu1OHbs2C5dutxyyy1aLIfS3pTXXnutT58+xx57rC0bYuPee++9owwmyRZn5MiRJ5544vPPP6+N9dwkcuijjz4K83fa0pxBqmfZsmWav7v00ku1JrSdyumnn963b99PPvnEltvRU/RcReulf83fTZs2TWvs4UZDH+oGIlyfmb9zwJe9E8aPRygTQz8Y+sHQD4Z+MCl+CpLACxJK+f8OsFPjJ0fz1drm85U73NI7YZRi1I/99p8rmjf57LPPBg8evNFGG7322mtac8ghh3Tp0mXevHlaFD766KMJEyYMGTJkzz33HDdu3IcffiiVs2bNGjFixBFHHPHWW29J8d133z366KOvueYa+fz000/vv//+P/jBD/r27Ttw4MAbbrgh6CWRA5IeLrjgAulQ/xpmKRdffPGYMWMuvfTSBQsWaGM9N4kcCvN3Dz/8MGhJMEZzYE/+/Pzzz1Pzd0n06EknndSnT59XX31Vi+Eh/aDoIUWibt999+3evfv06dO1xjZqNPShbiDC9Zn5Owd82Tth/HiEMjH0g6EfDP1g6AeT6qcIqbNipO86O37yuuqqx+XzlTvc0jthlGLUj/32nyuaN3njjTc23njjXXfd9bPPPpPim2++ufPOO2+//fYffPCB1ixbtuyEE07o06fP5ZdfPn78eGksH959993rrrvuuOOO6969+0MPPSTNnnzyyTXXXPPss8+Wz4sXLz788MPXX3/9CRMm3HnnnS+++KJUCqXjls+KFSvkTz03iRzS/J1MjPm7Ggl0G+TWV52/swcSyCG9lcree+/drVu3xx9/3JYNtmnjoA91AxGuz8zfOeDL3gnjxyOUiaEfDP1g6AdDPxj6wdAPhn5yh1t6J4xSjPpZUQA0AXH33XdLSJ9wwgnLly+X4qJFi7YzXHXVVaNGjVqyZMntt9/evXv3a6+9Vo5Kmz59+uy+++7Lli2THiZOnLjRRhs9/vjjcujXv/71Bhts8NBDDwWdfvnlj3/84wEDBmifQjicYAYvC22MT5GjH3744bBhw3r27Pnwww9X1D9JIgIFub/HHHOMBMall16qNfZwAj169NFHi/+XX37Z2VIiasGCBXfeeWe3bt2k/7PPPrutre31118vDZUGQh/qBiJcn5m/cxC86vmyhzB+PEKZGPrB0A+GfjD0g6EfDP1g6Cd3uKV3wijFqB/77T9XNF1y66237rTTTnfddZcWhQsuuKB///4jRoyYMWPGp59+Onz48O222+7tt9+WQ5988knfvn2HDBmiLc8888x+/fq9+eab8vm4444bOHDgO++8I5/lT6k/8sgjTasgI6MfFB3dF9Ih83ceMbeo4vzdhRdeKAHzxhtvaNEei6KHnnrqqcMPP1xCZYBBPuy1115XX3310qVLtYFt3SDoQ91AhOsz83cO+LJ3wvjxCGVi6AdDPxj6wdAPhn4w9IOhn9zhlt4JoxSjfpYXAE1AfPHFF59++ql8CGsEmaRWLly4sFevXsccc4zWP/PMM927dz/nnHPks5y47777HnroofJZmm211VZHHHGEabVi1qxZm2666fjx47UYQ0f3hXT4wQcf7L///j179pw6dar3/psNc4tWyN3X/N0ll1yiNfZwAj26bNkyiQf9LNhjUfSQNJPo+uijj+RPOevDDz9cunTp559/rkcF27pB0Ie6gQjXZ+bvHPBl74Tx4xHKxNAPhn4w9IOhHwz9YOgHQz+5wy29E0YpRv18UQBsBgLy7rvv7rDDDvvuu698/uCDD4YMGbL11lvPnz9figsWLOjXr9/Pf/7zpUuXnn766auvvvq555771FNPzZkz56677urevfvtt9/e1tZ25513mp46sMN7QjpcsmRJmL/z3n+zYW7RconSMH+nNfZwAj0awx6LYo+5sK0bBH2oG4hwfWb+zgFf9k4YPx6hTAz9YOgHQz8Y+sHQD4Z+MPSTO9zSO2GUYtSP/fZfDGziJIPbbrttm222GTx48D777LPDDjvcd999Wv/+++/vu+++PXv2PPnkk6+++mr53KdPn2OPPXa2YZNNNhkwYMCoUaOuu+46bR9iR/WEdFjw/J25aAe2aQHQ+UiUlpm/U7SNYMvlYc8p3i0rH32oG4hwfWb+zgFf9k4YPx6hTAz9YOgHQz8Y+sHQD4Z+MPSTO9zSO2GUYtSP/fZfGGwexWRS7KcSpk+ffsEFF1x11VWzZ8/WGm32zDPPXH311ZMnT162bNmcOXP+5V/+RWq0wcMPP3zppZc+9NBDWgwxo/lE+tT8XY8ePRoif/fee+8tXrxY5izSbFWR5qzzkShl/q4c9KFuIML1mfk7B3zZO2H8eIQyMfSDoR8M/WDoB0M/GPrB0E/ucEvvhFGKUT+fNwg2SxEFHMLoiX6Rbt9///39999/o402evDBB+s0Si2YSw/46KOPLrzwwh133HG77bbr16/fPvvsM2XKFD1kmxYAnc/SpUuPPvpoWesuvvhirbGHM9A2gi03DfpQNxDh+sz8nQO+7J0wfjxCmRj6wdAPhn4w9IOhHwz9YOgnd7ild8Ioxagf++2/8NisjCdsp16RbjV/p39/tk6j1IK59GBWP/vZzzbeeOObb755wYIFra2tspJccskl4dGCoPNh/q5M9KFuIML1mfk7B+Zdz5c9gvHjEcrE0A+GfjD0g6EfDP1gMvysmNSyyiqtbbbUxDB+codbeieMUoz6+Yx44vPPP3/vvfeGDh2q+Tsp2gNFQma1ZMmSbbbZZuuttw6yPoZjjjnmkUce0c+2XQHQ+XzyySdh/k5r7GESRR/qBiJcn5m/c8CXvRPGj0coE0M/GPrB0A+GfjD0g0n4aWs1abu21lVaJq0wiTyQxjNpvg68J/xs/2n9ygQ7qF+mkfGTO3qLbYGkwSjFqJ9lxBOfffbZu+++u99++/Xs2fOBBx6Qoj1QJEyq57Ojjjrqhz/84U9/+tM33nhDa5YuXaofbLsCoPP5+OOPZbay1l100UVaYw+TKPpQNxDh+sz8nQO+7J0wfjxCmRj6wdAPhn4w9IOhH0zcj02LtbS2tgj6OcjjpRG07cic6ZneMmmlqcF4p3qsvTZa8gzjJ3dMCHBLj2CUYtSP/fZPauazxsnfLVy48KCDDpIFpG/fvhMnTtTKTz/9VP607QqAzor5uzLRh7qBCNdn5u8cmHc9X/YIxo9HKBNDPxj6wdAPhn4w9IPJ8GOScZmJu3R85tHC8c2HWJ+JOjNyhbMtE8ZP7sjNFmyBpMEoxagf++2f1MxnifxdoZJNOp+QpUuXXnHFFTLV7t27z5gxQ2q0jTYuAmaazN+Viz7UDUS4PjN/54AveyeMH49QJoZ+MPSDoR8M/WDoBxP3o7+iK+/3d3GqSfq5SMnflVflCcZP7sitFWyBpMEoxaifT4knli1btnjx4v3222+jjTa6//77Nasi2MN5o5NZuHDh4YcfvmDBAi2OHTtWlpEbb7xRPks8yJ+2da6YqVk++ugjzd9deOGFWmMbkSj6UDcQ4frM/J0D867nyx7B+PEIZWLoB0M/GPrB0A+GfjAJPxX9+3dR6pFFS/aZ9mO7+v0Aj/GTO2ZHzy09glGKUT/22z+pmWUl+btp06Zpskmwh/NGJ/PQQw+tuuqqRxxxxAsvvDB79uyDDz54gw02kEo9KtjWuWKn0s4JJ5wgax3zdxh9qBuIcH1m/s4BX/ZOGD8eoUwM/WDoB0M/GPrB0A8mw49JiFWYijOpNt9JtGT+Lm0YM926/ACP8ZM7cmcFWyBpMEox6kf+JF749NNP33zzzd13371Lly7nn3/+448/PnPmzI8//ljqbYtcMUmeT59++unDDz+8f//+vQ177LHHbbfdpodsuwKg85k/f/706dPvv/9+maSsdWPGjNFJ6p8khj7UDUQ4Z+bvHPBl74Tx4xHKxNAPhn4w9IOhHwz9YLz5caTQTNYtBVfOLSN/Fz8ttdIHjJ/cCcKEW3oIoxSjfpYST4jPxYsXt7a27rTTTrvttpv8OXLkyLfeekvqbYtc0WnInx9++OHbb7/9quHdd9+VGkWbFQGdz3XXXbfLLruIRvmzT58+N910k9bbRiSKPtQNhNxK/cD8nQO+7J0wfjxCmRj6wdAPhn4w9IOhH4wnP5qeq0MCLSN/x9/fNQ9BZHFLD2GUYtSP/fZPakZ8Kh9//PFHH320ZMkS+VNrbIsCoPOJYY8VBp3SJ598Ig4F8anzVLQNiaEPdQMht1I/MH/ngC97J4wfj1Amhn4w9IOhHwz9YOgH48OPZs/q8s/PpeTvzGhp+bu6TIDxkztmR88tPYJRilE/9ts/qRnxmYVtQcrDWktgD5M09KFuIOSG6gfm7xzwZe+E8eMRysTQD4Z+MPSDoR8M/WBq91PeT++0VZKyzos2Kq/KE4yf3AnChFt6CKMUo34+IXXDZlbMT8lI1ViJ1AjRh7qBCNdn5u8c8GXvhPHjEcrE0A+GfjD0g6EfDP1gavRTz5/eGVIyc8kf29Uvfcf4yZ9gQ88tPYRRilE/9ts/IaSR0Ye6gQjXZ+bvHPBl74Tx4xHKxNAPhn4w9IOhHwz9YGryY/JmdUqcWVJTc6YyzOBFS55h/OROEGPc0kMYpRj18zEhpPHRh7qBCNdn5u8c8GXvhPHjEcrE0A+GfjD0g6EfDP1gavCjv71L4iOfp5nBOCU9RxrUMYPI+Mkdvce2QNJglGLUz0fEK5pMsQVCOgt9qBuIcH1m/s4BX/ZOGD8eoUwM/WDoB0M/GPrB0A+GfjD0kzvc0jthlGLUj/32XwDCzJd+EPSzOVhEdJJC6WdFG9QbO5jBVpFmRR/qBiJcn5m/c8CXvRPGj0coE0M/GPrB0A+GfjD0g6EfDP3kDrf0ThilGPVjv/0XAJuI+vjj+fPnn3XWWXfddZcW7eHiEU5P/nzjjTcuueSSq6+++sMPP9TKTsCMb7FVpFnRh7qBCNdn5u8c8GXvhPHjEcrE0A+GfjD0g6EfDP1g6AdDP7nDLb0TRilG/XxYAGwG4qOP9PNll10msT1q1Kiwspjo9JRJkybJnAcOHPj+++/bqspnbk8rwR5IYA8nsIdJ86EPdQMRrs/M3zkw73q+7BGMH49QJoZ+MPSDoR8M/WDoB0M/GPrJHW7pnTBKMerHfvvPFZt8aufZZ5+95JJLnn76aS3aRoVEZyi8/PLL//Iv//Lwww9rUQ9pm/LRc0O0Rg8l0TYx7DHSfOhD3UCE6zPzdw74snfC+PEIZWLoB0M/GPrB0A+GfjD0g6Gf3OGW3gmjFKN+PigANgPx4Yfvvvvuyy+//MYbb9jyhx/aFuVhzzHYKohtWjb2tBKkcvHixQsXLgznrPVLliwJP5eJnq689dZb0q0tRPvRotZLs5deemnBggUy+vvvv6+V2ow0G/pQNxDh+ryKfCIAfdnbAiGEEEIIIaTR4JaeeGFJAbAZiA8+eOihh/r06bPWWmv9+Mc/1hrbojz0FMVWQbTle++998ILLzz55JNPP/30U+3MmjVL/pQaQT5LA21sz2xHambMmDF48OBu3brttdder732mjZTbKMy0Pavvvrq66+/Lp0ccMAB48ePl5p58+a9//778sG2K7nGW2+9dciQIaJr6623/tGPfnTssce+/fbbUm/bkSbDPs8NCH9/50Bf9rZA0mD8eIQyMfSDoR8M/WDoB0M/GPrB0E/ucEvvhFGKUT/223+uaEJKeP/9988991wJ7Nrzd4o9kIG2eeWVVw4//PAtttiiXwabb775yJEjtbE9sx2tHD9+/BprrLHXXnu9+eab2kbrBW3mRBvfeuuto0ePfvjhhw866KATTjhh7NixBx544KJFi0r70ZbSpkePHkccccQLL7xw77339jIsXLiwtCVpKvShbiDC9Zn5Owd82Tth/HiEMjH0g6EfDP1g6AdDPxj6wdBP7nBL74RRilE/9tt/rmhOSrnuuuu6det22WWXadG2cKGNU7Et0ggbvP766wsWLHj55ZdfSWP+/PnSIGxcilbefffdPXv2PP3007UovPDCCxMnTpQ+tWhbZ6PN3n333SlTpvziF7/YaaedNt5445EjRz700EN6yLZrb3nRRRetuuqqEyZM0OJNN910wQUXvPPOO/LZtiNNhj7UDUS4PjN/54AveyeMH49QJoZ+MPSDoR8M/WDoB0M/GPrJHW7pnTBKMern/cKwZMmS9957b/To0T169Ljvvvs0K5FEW5YS1oQf7r///quvvrq0PhU9Wj72tBK0/le/+lXXrl0nTpyoReGkk05addVVwVUItot2tPLmm28+9NBDt9122/79+19++eVvvfVWrKU2kwvs3r177969b7rpJq1RbCPSfOhD3UCE6zPzdw74snfC+PEIZWLoB0M/GPrB0A+GfjD0g6Gf3OGW3gmjFKN+7Lf/vNH006JFi7bffvs+ffrIB61xEp4rvPfee/Ln22+/PWjQoMGDB2uloEMk0aOvvvrqL3/5y4MOOuiwNI444gg5dO6552pje2Y7WnnIIYd07dr1ueee06Jw1113jR07duHChbachu3CoDVylsz8/PPPl3F//OMfn3POOaNHj3799ddTG0+YMKFnz55dunQ58cQT586dq5W2BWk+9KFuIML1mfk7B3zZO2H8eIQyMfSDoR8M/WDoB0M/GPrB0E/ucEvvhFGKUT/vFQCbgXj//ba2tq5duw4dOtSWDdddd92BBx7Y0tJy6qmnzp07V2qeeuqpn/zkJyNGjJg5c6a2Ofvss3/xi1/Ih9dff3348OGrr776ZpttJv386le/euedd6TejhTFnPr+a6+9dsUVV5x88smnnXbaGWn89Kc/HT9+vDa2Z7YjNS+99NIuu+yy/fbbL1iwQIs/+9nPhgwZ8thjj0lx+vTphx566LHHHvvMM8/cdNNNMqXRo0frVdguDFIUpk2b9vDDD7/66qs77rjjeeedt3jx4htuuEGmV9pYWyqPPvqoXOwPfvCDE0444d1335Ua24g0H/pQNxDh+sz8nQO+7J0wfjxCmRj6wdAPhn4w9IOhHwz9YOgnd7ild8IoxaifdwuAzUC8995tt922+uqr/+xnP7Pl9947//zzN99885/+9KcXXXTRVlttdfTRR0ulfD7hhBN69Ohx5plnSnH+/Pm9e/ceNmyYOeO9k046STo59thjb7rppqlTp77zzjtSaUeKou3Lx55WglTec889m2666ZFHHvnWW29ps1NPPVWezYsvvlg+ywxlqltuuaVMT67r+OOPX2eddSZMmKAtbS/RmUhRpv3MM8/Y8nvvLV68OGz25ptvjh079sILL9RDL7zwgoy+6667Lly4UIrajDQh+lA3EOH6zPydA77sndQ/flZMalllldY2W+o8chi3IR9G46ll0gpbrCc+/OQVTp0BF3MM/WDoB5Pqp621xuXPw4pU8xz8UKj4ycsJGNeHn/q9v1bmN2MIt/RO+BbAqB/77T9XNBUlnHjiid26dbv55pu1+OCDD/bs2fOkk07S4rBhw7bccktNbP3mN7/p0aPH2WefLZ/vuuuuDTfc8OqrrzatgpTfFltsMWvWLC0KdhivaLfy50UXXSRP4uWXX26GCrjyyitlAjIr+bxo0SKZiVzUAQcc8Pbbb0+dOlWu6KqrrtKW2lWIVoYsXrxY/rTH2o++8cYbgwYN2mCDDf7lX/5FVMjFyudTTjlFj9qmpPnQh7qBCNdn5u8cFORlbzZWMYqyz8qIHzvltFkG+9sQeBltreawnGD2w9Kn86oLOG54sJ3szorxMJY9XcU075wvSgk/0ak6JlHRba2o56JQ+cPYXKT5KX9ZWPlxPF+Zetodruz6UuLHGCq57jKNKf5eNMEd8LhIVXQVHVS+/tTt6TNjlnQYvSI/qiq+F1nxEwINVBgt9eo52m9mx+13Fg7c+eikbIGkkfEUE4v6sd/+c0VzT2+//faOO+7YvXv3MPV20kknrb/++lp85513hg0b1rt37+eee06KV1555QYbbPDAAw/I5/PPP3/DDTe877775PObb745dOjQvfbaSz5IUbHDeMV2/d57Rx11lDyJd9xxhy2/997RRx+9/fbbz549W4vjx4+X6U2ePFk+y1R79Ojx0EMPyWfbUQmmeQR7wKA14mHMmDGDBw/u06fPj370o1133fWcc8558cUX9ahtSpoPfagbiHB9Zv7OQUFe9mbH5HF37pNk/JTu7+KbNz3WXhstJbA7wJbW1hZBPwMJRRxXML2VefOK8DAG8+24DHWRqSrAXH/nRGfMT2SqehvAPCq5rZX1XBgqexibj7gftdPuJVpqRtDzlb0UdMTYyu4u4/mKOirDmEWP+3nRBH35WqIqu4oSKlt/os9btFQr6L7oSLXJQteVfS/ifozasKVjXnofyoyWuvUctI16Tb1pHX5SDuaJTsoWSBrJp5iUon4W54rNPRjmzp27/vrrb7311q+//rrWDBs2rH///q+++qp8fvbZZzfbbLPhw4froUMPPfRHP/rRO++8I5/33nvvbbfddvbs2fL5+eefl1OOOuoo08piB/OH7ffdd19++eVBgwb16NHjiSee0JoXX3xRasJ5vvnmmyNHjtx+++31Kg455JB+/frJWXrUdlce2l7/fOONN6QTGUu7DTENSTOiD3UDEa7PzN85KMjL3myGsvdquZK5JTUfYpu3RF05Vxb2CCnkuJXeuQI+jLoRj19XKZ0YndhPeRMp77ZG6cRLrImKHsYmJOYnYaVR7nO9KOP5SkZRYLFl0qRmiLCEH6Mk+6ozjMUob0VyPct6G+oRuuVdRUBF60+izuPTV859qWEkeF1CUJ3WvWv9yeguQjg2on49x8iIjaCrYq4JMiPBFkga+C1A1I/99p8TNu1kuOaaa7p06XLyySfbsknSbbnllq+88op8PvbYY9ddd92JEyfK50WLFu2000577bWX9DB+/PiuXbsecsghDz300MyZMx955JH111//rLPOeuutt26++eY5c+ZIex3LC8G0Srj33ntXX3314cOHv/3221ozderUjTfe+Oyzz5bJzJ49+4033ujXr98BBxwgh1566aUdd9xx5MiRcmjGjBkyQz3Fdu1CGwNsO9KU6EPdQITrM/N3Dgrysve4sfVOZvyk7BjLqwoxx+TCy/x5gqVA41Z844r4MJrrQtfQidGJ/WR8l2inuttqcPRcGCp5GJuRqJ8UKU3uybH+pC0FQV1Q1RTm4n6cS1+asQ7MUTle+4tGqOMyjK+ihErWn/KqEgRtnGHmcuFtPc+Ycdb4MT+Js6EAc1C6LfdXcvXpOY45N9Y6qAuq4KA5Ya6O+TuE4y3Q9Kifd/JGsw+/+c1v+vfv37Nnz5kzZ2qNMGXKFKncZZdd5HHu16/fuHHj7IHFi0eNGrXuuuuOHDly/Pjxw4cP32STTaRG2r/wwgvbbbfd5ptvfuihh55//vmvvPKKNLYj+UBHV1577bVhw4atscYat9xyi61avPiJJ57Yeuut+/TpM3r0aLkoYa211jr99NPl0MKFC/faa68tt9xSDt1///3a3vZbNnqWYMuEGPShbiDC9Zn5OwfpL3u73VFKtye6LQyJ7lyCs4KakrM7tj2mMmUXpH3UcWteM5nx0zH9dtIuA15aFf88UJHGxYOkkSLTdNtOafem8w6iIwdnBTUlZ3fMw1TGppUye0vySOnI0k3FV1k9eLHKvgalqttqcPVcFCp4GJuSiJ+0uO3EWC4i+PlKiSLjq/2pWvkjLO7HedGOBr5eNIaOe+Gbsu9tBetPtU9f0JNzKq4Jl31BLrI6yrgXMT+mVccFazF7WhVES/16jpM0YAZr7w+NmgsyI8EWSBqOt0DTo37ezpV33nnn0UcfPeKII/r37z9w4MBbbrlFkxF6SLj//vt/YZAPWvnWW2/Jn08//fS4cePGjx//+uuvP/PMM/L59ttvN2e88/DDD59zzjkTJkxYtGiRFM043tAhFixYIHMeMGDAtttue/nll2ulIm3uvvvuMWPGPPLII1KcP3++zGTWrFl6VCplqlOmTNGidmg6JqQm9KFuIML1mfk7Bykve7MniWyM7AYleiCjXFIV3VPFW9saPaxNSyjQnigzfkrmb0leY9xCKh37wbIozrjtPZgj7cTmESUuMzrzoDs7QPySUsslVdHLjbe2NanXGm8b7UlL0RZ1BCxWOpMypmEapl5qBmX3nD8VPIxNScRP8imIR3fTAZ4vIX3ZsBVNEWExPyZa0MKQFmJJKlyRMk2X3A2vlHcVARWsP2mdlvP0Bee5XOH7oqP4EZW8LktwIDlE0o/pIJiO/u6tjFmVGy3167kUM0qk75IrNwcr7LDeBC6Yv4PgtwBRP/bbf06888478+bNu+GGG66//vpnnnnGJLUQ9rT2PFqS2CEtmjO8IR2+/vrrN9100zXXXDN9+nQzTlnouSFaNF0SUiv6UDcQ4frM/J2DxMs+c2eYtlWJ7m2SLSI18Z6z9z7mSOok8iAzfhzX2072dVZJccbVqtJb5frqEJVZgGDTCZccSbZ0XZNPksFm5mPxO4f69Vw/KngYm5KIn1QnzS0qM36ExFJgXIEVZyUk5sdxzUljXsgcFUzHHEqhjMlVchUVrD+pkwVX0E7QxDWZ7L4t3tbzzAmnH0j1UzIx14VVSP16tjTgmmBsMH+HQG8B0u7HfvvPD01mlZJVX0rYoJyW3rFd14ztjpCa0Ye6gQjXZ+bvHMRf9ma/krb5S9+pRGojOxtDtDdTCrtIti6hki11vcmMn6QSUxO7KP+XUpxx0wZOm0sHEZnR8CghZSQhUhsUoqdGezOlsItka8V0GRkpep6SOU//wMVKZ1uPidSvZ89U8DA2JRE/xknspppYbl5R2c+XcyloigiL+YHXnDTmicxR63ELKruKCtYfU1Pu06ezSCN1Zi4R2p2P9TxzpPQDcT96wdqu/RrBvCugfj13oP2W9toAa0IwZebvINlvARKgft5qcN5++237KT80gWILTYkaUGwV6Vz0oW4gwvWZ+TsH8Ze92Z+k7fvSdyqR2qAQPTXWW+nmJ9k4QuY8Op/M+EkqSZu1/yspzrhpg+BxIzIzm6aMJERqgwIc2BRt62TjANMiXp82NL4krzgWK51ywowH6tezVyp4GJsS5/PVibFcRDLiR6M/qiW+aDRFhMX8ZF9zmjFfZI7q/RZUfBUVrD/VPn1BT65rdIvQK0ttYk4OKWM2qd2kH4j6SU5Cx4YzL4v69RyiQ0T1BIOU1mTayZFAA/N3kMynmBjUj/32T2qAeSu9fHrIEX2oG4hwfWb+zkH8ZZ+5wUzfqURq45ubZG+mbJon20YxHaMGnUdm/KQoKa+qRgo0bnIbnR1BhojMXIPN9OYYxIIvySuuxap+U+nEi6yBSh7GZiTqJ0VKk3tKjZ/UpUArUyn8U1I9MT9Z0ZJqzBuZMZp5IPt2oTlWcRWVrD/lVSUI2rjmVEY/ntbzzJHSD0T8pE3Bz7Tq13M75vLi16eVqXgbuGZ0PrZA0sh8iolB/bxJakYTKLaQKzoTjG3qFdt1FOch4hF9qBuIcH1m/s5B4mVf0X4tWheUotuY5JYqaCMnJJtG8bsXq43M+Ekxkn7BqT6rp0DjJgc2FdkDR2VmTjLtQLQuKEUDJN2BnJBsamcZq1SSQ4PG3nEtVsnZ+aJ+PfukkoexGYn6SX8kmllTMn7KfrqbQl3MTzKAhLqvh1mmdWBPt6C6q6hk/UnKKyuEgkauNqn3JYqncK3wXkT8pLXxM6369WzQ7suIDY9jekNmJNgCSSPzKSYG9fMGqRlNoNhCruhMQmxttN5WeUW7ff3113UIJ3oW8Yg+1A1EuD4zf+cg+bKPb41ki6KF+IHEHirYzET3PKZJtCpo1Noa/NFxYtCspKi7ojJ2T51DZvykbt6ic6/LlRRq3OhQiZiIE5MZby+daSF+INFxMGz0Ak2TaFXQKB5sgplyrK6D6FEdWPBtM52oHzP/jmnqXLxMpH4915fKHsbmI+7HaAnva7TUjKT6KS9umiLCUv1ELroCY9WSZTplha+Waq+isvXHVFb69AXNnBOLDxc7yd96Hh+onYx7EfWTmIZWOK/OTf16tpdcXldZdvIkmDzzd5DMp5gY1I/99k9qoB45Ke2zFHsAoi1nz549duzYM888c/78+VKcMmXKLoYzzjhj4cKFUmNb+8MMG3SrH1436Oe2trazzjrr3HPPnTNnjtYIelbVhJ3oB0Hrmxl9qBuIcH1m/s5B6ste90LtlG5PdGvTTmz7FhyMVpmOUloJ0U1PtN/4KfkSj5/YXC0l1xNp4G9zV9hxIy0cty75MHZ6sEUH7KCkUWmToDo5WL1wBJvHSdSv53pS8cPYZKS87CKKmteMEvVTxlLQgfG4svuLx098Ua3IWIW4nuX4XKqn+quoeP2p09OXdBGbSY2eqr0XyfXH77xKqU/PFcWGmYK/u+oFna4tkDRS3pKkBPWjqRZSC5pAsQVPaIfac4geykLbTJ06dbfddhs8ePCkSZO0Zs6cOSNGjJDl4qCDDnr11Velxp7gFR1L+r/66qsPPvjge++9N6y544479tlnnz322OPRRx/VSntOtWgnwvz5859//vmFCxfKZ3usWdGHuoEI12fm7xzwZe+E8eMRysTQD4Z+MPSDoR9Mwo+/pFnNFCFZUpj4yfm+ZN0LPl+5Y3b03NIjGKUY9WO//ZMa0FySLXhC+1y0aNFTTz01Z84cLdpjUfSQ8uijj/bt23efffZ55plntOa1116TP2+88UZZLs4991yttGf6QDtUZPQRI0asttpq3bp1u+uuu2ytYd68efvvv//AgQNnzpxpq2qYhj3/jTcOO+wwuS4dyx5rVvShbiDC9Zn5OwfmXc+XPYLx4xHKxNAPhn4w9IOhH0zSj0kUFeEnRoX4rVNx4ifX+5J5L/h85Y7Z0XNLj2CUYtSP/fbf3GgyyBYqp8bTU9E+586dO3DgwMMPP1yL9lgUPSTI55EjR/bq1euxxx6zVe2cdtppP/zhD3/961/LZz3LF9q/IJ3vueeee++9d8+ePdddd90pU6bYA+088cQTffr02W+//fQ3gILtooSs+iTS7JVXXpHr7d+/v/Rc5lkrMfpQNxDh+sz8nQO+7J0wfjxCmRj6wdAPhn4w9INJ8VOQBF6QMsr/d4AFip8c70v2veDzlTvc0jthlGLUz2uFxOYk0rAt/GH7LRt7msFWZbBo0SL50zatEO1h9uzZffv2Pfjgg7Voj0XRQ8J999233nrrnXzyybbczksvvTRkyJBevXpNmzbNViWwfVWOnr5gwYJx48bdfvvtbW1te+21V9euXadMmSL1aiCktbV1nXXWuemmm7RouzBojZD62TTpQCtLsQeaGH2oG4hwfWb+zgFf9k4YPx6hTAz9YOgHQz8Y+sGk+ilC6qwY6btixU9eTsC4fL5yh1t6J4xSjPpZVDA0GfH444+fdtppxxxzzL333ivFO++8c/To0SeeeOL9998vRdvUH2ZMN9oydsojjzxy0kknnXzyydOnT5fir3/9a5n2qaeeOm3aNG2g7StFz509e/aAAQMOPfRQLdpjJWi98Morr5xwwgkbbLDBHXfcIcVXX301PCoz2Wyzzfbee29pI8Wrr75aZAp33323NlC0Qye2dcKD8vLLL7e0tHTt2jXWuSKuunfvfsghh2hRewjRSuHGG28cP378woULtWgPt6OVchWHH364hMSDDz6oNfZws6IPdQMRrs/M3zngy94J48cjlImhHwz9YOgHQz8Y+sHQD4Z+codbeieMUoz6sd/+C8NrJnl3zDHHjBw5snv37vvtt9/FF198zjnnDBw4UAL+qquuqjRTY3I7HdjaEqTywQcfPPzww2WsA9PYf//9DzrooOuuu660B/181113/fjHPz7kkEO6desmPVxwwQVnnnlm7969u3Tpcvvtt2sbbV8mekrIiy++OGDAgMMOO8yWS4i1nzNnjrTcZptt5s6dK0XN32mDO+6444c//OHo0aNNw9cOPfRQMdm3b9/77rtPa5TS3spB+w/Rynnz5unv78L8XenRl19+eeutt95qq61eeuml8JAixRkzZpx//vmzZ8+Wu3/wwQfLTRk7duzUqVPNqR2NtXj11VevscYaciETJkzQmhDbrsnQh7qBCNdn5u8cBK96vuwhjB+PUCaGfjD0g6EfDP1g6AdDPxj6yR1u6Z0wSjHq59WCsWjRoieffPK+++6bPXt2S0tLly5dRo0a9bThpptuamtr02yFbZ1AjwqxoqBFrS9FKmfOnHneeee1traek8FZZ501efJk002k5+nTp99zzz0y4f79+6+zzjrHH3+8zFCKN9xww0svvbTAoC31rBCtFGzZIMWFCxdKDy+88IJcvvTw+OOPb7fddgcddNDzzz8v9XPmzJEPpX3qB2HWrFlrrLHGzjvvrMXSQ+eff75ovPTSS+XzrbfeutNOOx177LEyST2qaHv5Mxw9iYwuf0qDV155JTyrFKmZO3eu5u/uuuuu0gam+SKZ+aBBg9Zbb72HH35Ya+xh0+DZZ5+VuzBmzJiRI0fKrd9ll10OPvhguTWxloLWyFH9h/a0KEj/L7/8snyw7ZoJfagbiHB9Zv7OAV/2Thg/HqFMDP1g6AdDPxj6wdAPhn4w9JM73NI7YZRi1I/99l8kNBfz4IMPbr311htttNEDDzygNamE7QELFiyYPXv2woULbTma3ymtx0hj/TP8YKoX3XXXXT179txmm22eeuoprRHmz5+/1157HXnkkZpRykJ7U6QoV73HHnv07t27X79+/fv3/9GPftS9e/cNNthAioIUhZ///OelWSrTTfCfqV1ttdWGDRumxRC5dpnD+uuvP3bs2DPPPLOlpeXiiy+2x9oJ+3n66acPO+ww0d63b18dsRSZj0xsxIgR8+bNC88qRSqz8neCFGUycnXdunW7/fbbpZhsIH+OGTNGTMqEZdq/+c1vUpsJckMHDRo0YMAAmbPW3H333VLUNCXA9rLSoQ91AxGuz8zfOeDL3gnjxyOUiaEfDP1g6AdDPxj6wdAPhn5yh1t6J4xSjPqx3/4Lg82yLFp01VVXrbnmmqeccooW9Wgy11Z6ihArKtLJ0KFDbcFgOrNIcc6cOffcc8/kyZOnZBPmiexpJQOdc845q6+++oUXXqhFnaS033nnnU877TStzML2ZZDiggULpk2b9vDDDz/yyCOPP/743Xff3bdv33333VeK06dPl/pHH31UetbG4VnCk08+ufbaax966KFaDHnuuef22GOPNdZYo0ePHrJi7LPPPpr7S2Yz5cMrr7wi/cgoAGmgjfWsUqTSmb/bfffd11lnnUmTJkmxtIF8bmtrGz16tNypESNGHHzwwYcccsh5550nlcmWwp133rn++utLSy0Kd9xxR69eva677jpbzsD2stKhD3UDEa7PzN854MveCePHI5SJoR8M/WDoB0M/GPrB0A+GfnKHW3onjFKM+llYMGw24tVXTz31VInwa665xpZN8k7+/M1vfiOV48aNu+OOO7Rm/vz5N998s1TOmTNHii+//PKDDz549913v/LKK3Pnzh0/fvymm27at2/f888/X06RxtpViBQnTpy4++679+/ff4c0pH677ba75JJLpKViz2yf7RFHHLHqqqtOnTpVi8L06dNlXJlSW1ubFGU+l19++WOPPSaj33rrrVL/1FNPaUvbUTtaGSLtZQIjR4605RLsCe2nPPHEEz/84Q/33XdfLYbMmDGje/fuLS0tMr0dd9xxs8020wScyNEGtheD1pSDPaEdW2v++u3gwYM1f2er2hvLB7kc8ay/vys9JMhnsTR69OiHHnro+OOPP+igg6SHn/3sZ5MnT461FKR48cUXS3j86le/0qMPPPCAGBa3WpwyZcpVV10l1y4j3nDDDVdccYX40UOC7WXlQh/qBiJcn5m/c2De9XzZIxg/HqFMDP1g6AdDPxj6wdAPhn4w9JM73NI7YZRi1M8rBcNmIxYuHDp06HrrrTdlyhRbNjzwwAN77733tttuO2jQoN69e1944YVSeeWVV+6+++7du3cfN26cFJ9//vkddthh8ODB8nnWrFkHHHDAqquuqqecccYZc+fOlXo7mEGL8+bNk0PyZ5K2tjY5tGDBAmmp6ImCfJZDu+yyyxZbbPHEE0/oUeHmm29ed911+/Tp89xzz82cOXPUqFE9evTYZ599LrnkEpnPBhtsIJ9ffPFFaWk7SqD9yOkDBgw4+OCDwxo9WorWP/PMM2uuueb222+vxRCZiSwUo0ePls/HHXecqJg4caIeEmwXNWO7MzZaWlrWWmut0hsXtpk/f764EjPTpk0rPSToZ6287LLLzj777NCP/hlimiw84YQTVlttteuvv16Lv/jFL+QyDzvsMPl8//33jxw5crPNNpMQ0n9NTwJpxIgRch+1se1o5UIf6gYiXJ+Zv3Ng3vV82SMYPx6hTAz9YOgHQz8Y+sHQD4Z+MPSTO9zSO2GUYtSP/fZfDDS9IkydOnWLLbbYfvvtn332WVu1cOFvfvOb3Xbbbdttt50+fboU5XPfvn2lwd13333dddfJ55/+9KdS/8ADD/To0ePEE080JwXZvfXWW++mm27SomLHa8fWlo09zZx45513brTRRvvvv79mBkP23ntvmWFbW9uMGTPuuuuu0aNHd+3a9dRTT33iiSdGjBix6aabvvDCC7ZpWkZJ65977rn+/fuXk7+bM2fODjvssM0225QaE0455ZQuXbqMHTtWPl999dUyBzEzbdq0q666av78+VJpe6kBM47lqaeekhu02mqr3XbbbbbKDKEfZJK9evXaeuutS11pJ4ItpxFr8Pzzz+++++4SIRInWvPII4+IUtErn++5554pU6Ycdthhct/POOMMuUwRKOOGCVbtbSVDH+oGIlyfmb9zwJe9E8aPRygTQz8Y+sHQD4Z+MPSDoR8M/eQOt/ROGKUY9fNykbCpiFdeueaaayS8R44cqUU9dNFFF6211lrjx4/XyoMOOmizzTZ7/PHH5fONN97Ys2fPK6+8Uj5fe+2166+/vjaTE4888sitttrq6aefDs5px4xWGfbM6LlSHDdunEz19NNP16OKDDdw4MBjjz1Wi/PNf8uiT58+zz77rBTl86BBg+bOnatHFdtjO1r53HPPyVkHHHBAWKNHS9F64fjjj19nnXXk8m3Z/Khwl1122WCDDfRvE0tvMm7Xrl2HDh36y1/+Us/VTqrGjBPwwAMPyAR23HHH1VZbTYT0799/1KhRchdK29x1113dunU77LDDbNmg/ZRiDxhslcFWmbHWW2890Th79mytufPOOzfddNOrrrpKi8IOO+zQr1+/NvNfy91jjz1aWlpefPFFPWS7W7nQh7qBCNdn5u8cBK96vuwhjB+PUCaGfjD0g6EfDP1g6AeT4WfFpJZVVmlts6UmhvGTO9zSO2GUYtSP/fZfGDTDMn369Isvvvihhx7SbItWDh8+vFevXnJIPr/44osDBw7cbrvtXnrpJSn+7Gc/23zzzadNmyafjzvuuC222OKxxx6Tz/qrtP32208+l6Jj1Yh29eijj44fP15nFXLDDTdsttlmmk8U7r333k033VTTedJephqm9kqx/Rq0Rq7u5ptvnjJlSlipH0rRlsLdd9+9xhpr/PjHP7Zlw0033XT99dfPmzdPi6J03LhxMr358+drje2lWrQTYebMmZdeeumYMWPkz8svv1xGkQ933XVXaRu56nXWWWfixIm2bNB+ysGeYPTK6nf00Ufb8iuvnHXWWXLTw7sgl9mzZ89TTjlFPouWHj16SITooRDb6cqCPtQNRLg+M3/ngC97J4wfj1Amhn4w9IOhHwz9YOgHk/DT1mrSdm2tq7RMWmESeSCNZ9J8HXhP+Nn+s/uVaRrqlmpk/OSO3mFbIGkwSjHqx377Lxg2xVLC/Pnz99133+22205TUTfeeGPXrl01QSMMHTp04MCB0ubhhx/u3r373nvvrc2eeeaZnj17nnDCCfJ57ty5vpJWivajHcY466yzNt98c/3VmyCz3WCDDS6//HL5fOmll8oMr7vuupdeeil2uunVYqsS2MNRwkMHH3ywXO8999wT1ugHofRzSHBybdiOyuCBBx4QJ/vtt1/4w0PbRdnoWcKpp5666qqrXnLJJVqUey3d7rHHHm1tbZrPFcnrrbfezTffLJ/HjBkjn0W4fA5/gifYTlcW9KFuIML1mfk7B3zZO2H8eIQyMfSDoR8M/WDoB0M/mLgfmxBraW1tEfRzkMdLI2jbkTjTM70l0kpTg1mddrRh/m7lRe+wLZA0GKUY9bOgqLz88svhB+Wcc87p1q1ba2vrNddc86Mf/WiXXXZ5+umn9dC+++67+eabX3bZZfpDvJ122unMM8+UZo8++uhGG200ePDgX/7yl3IobK8914h2JdiyQWuOPvrodddd9/TTTz/vvPPmzp0rQ6+33nqTJ0+WQ2effXbXrl3PPfdcmaGv+WgnwkMPPdS/f/9BgwbJhWuNbWFI1nhBuxVsOYoeeuyxx3bfffdtt9125syZWiPYFuVhz3n55RkzZmy22WYDBgx46qmntOb555/fbrvtBg4cKMKvvPJKqTnkkEPEv44lntdee205JDEwa9Ysc0aA7XdlQR/qBiJcn5m/c8CXvRPGj0coE0M/GPrB0A+GfjD0g8nwY5JxmYm7dDSb5ieTFo5vPmT0GRxrmTQJtKgdxk/uyO0VbIGkwSjFqJ/5jYBmKObOnXv66af369dv4MCBRx111MyZM7VeuPLKK6Vyv/32mzx58lVXXbXjjjsed9xxTz/9tBw644wztt9++4MOOkgOaWPB9lsHtP9bbrllt912k0EffPBBKZ555pkjR4589tln5fMDDzwwZMiQffbZZ+LEiaZtgD25BmxHCxZMnTpVOhcD4sRWRbEndAoy3Lx586677rpBgwbttdded911l85BsY3KQNvfe++9559/vtxl/afutFKQBhdccIFc8vHHH//cc89JzQknnHD44YdLwMjne+65R4YeNmzYnXfeaZp3qoFOQx/qBiJcn5m/c8CXvRPGj0coE0M/GPrB0A+GfjD0g4n70V/Rlff7uzjVJP1cZOfvNHuHM3y1w/jJnSAGuaWHMEox6sd++28ENPkyd+7ctrY2/azoIflz3rx5WvPiiy+G7QUpCrZgCLqrD3aA9iHCz/ohRFNLirb0gnb49NNP/+pXvzrrrLNmz57tt/9KkdGfffZZmYnM54UXXjCz68A2KgNtf+mll8r7d8SIEbfccovWhIeE8O6XVoaUVgY9rnToQ91AhOsz83cO+LJ3wvjxCGVi6AdDPxj6wdAPhn4wCT8V/ft3UeqRScvq0/zYr32mzN+tzAQbem7pIYxSjPp5qUGwWYpKACfqoXpgB8ggtYGe6AXbYwn2QH7YeZQQ1uuHctATY2TVY7TDlQ99qBuIcH1m/s4BX/ZOGD8eoUwM/WDoB0M/GPrB0A8mw09Heqx8TCLN88/vsrJzQbUdivm7lZxgQ88tPYRRilE/9tt/4bHZlxLsAUNpjX4WYkVFKzuZThtXr7EUeyBXSmeiH0prykHbY2zTZkUf6gYiXJ+Zv3PAl70Txo9HKBNDPxj6wdAPhn4w9IPx5sfxr9+ZLFsKrsRbanauJHvH/N1Kj4kTbukRjFKM+rHf/guPTdKUYA+kYVu0Y2ubA3vNBltVJOzMDLaqKmwXTZ+2C9GHuoEI12fm7xzwZe+E8eMRysTQD4Z+MPSDoR8M/WA8+dH0XB2yaCnZudhvA5m/W8kJIotbegijFKN+9N+GI4Q0NPpQNxDh+sz8nQO+7J0wfjxCmRj6wdAPhn4w9IOhH4wPP/rTO99/c1ZJZueCmtKxmL9byQk29NzSQxilGPrB0A+GfjD0gwn9MH/ngC97J4wfj1Amhn4w9IOhHwz9YOgHU7sfkz9zJtC0VZKyzittlNWRUI8MIuMnd/Tm2gJJg1GKoR8M/WDoB0M/mNAP83cO+LJ3wvjxCGVi6AdDPxj6wdAPhn4wNfqp50/vDO5f17lb1ALjJ3eCDT239BBGKYZ+MPSDoR8M/WBCP8zfOeDL3gnjxyOUiaEfDP1g6AdDPxj6wdTkR38LV7fcWQDzd01PEGPc0kMYpRj6wdAPhn4w9IMJ/TB/54AveyeMH49QJoZ+MPSDoR8M/WDoB1ODH/3tXRIfuTTNDMZJ7Zn5u5Ucvfe2QNJglGLoB0M/GPrB0A8m9MP8nQO+7J0wfjxCmRj6wdAPhn4w9IOhHwz9YOgnd7ild8IoxdAPhn4w9IOhH0zoh/k7B3zZO2H8eIQyMfSDoR8M/WDoB0M/GPrB0E/ucEvvhFGKoR8M/WDoB0M/mNAP83cO+LJ3wvjxCGVi6AdDPxj6wdAPhn4w9IOhn9zhlt4JoxRDPxj6wdAPhn4woR/m7xzwZe+E8eMRysTQD4Z+MPSDoR8M/WDoB0M/ucMtvRNGKYZ+MPSDoR8M/WBCP8zfOeDL3gnjxyOUiaEfDP1g6AdDPxj6wdAPhn5yh1t6J4xSDP1g6AdDPxj6wYR+VpFPBKAve1sghBBCCCGENBrc0hNCCGl0+Ps7B/qytwWSBuPHI5SJoR8M/WDoB0M/GPrB0A+GfnKHW3onjFIM/WDoB0M/GPrBhH6Yv3PAl70Txo9HKBNDPxj6wdAPhn4w9IOhHwz95A639E4YpRj6wdAPhn4w9IMJ/TB/54AveyeMH49QJoZ+MPSDoR8M/WDoB0M/GPrJHW7pnTBKMfSDoR8M/WDoBxP6Yf7OAV/2Thg/HqFMDP1g6AdDPxj6wdAPhn4w9JM73NI7YZRi6AdDPxj6wdAPJvTD/J0DvuydMH48QpkY+sHQD4Z+MPSDoR8M/WDoJ3e4pXfCKMXQD4Z+MPSDoR9M6If5Owd82Tth/HiEMjH0g6EfDP1g6AdDPxj6wdBP7nBL74RRiqEfDP1g6AdDP5jQD/N3DvJ52be1yqCtbbZUcHzEz4pJLXW64Pr1XBf4MGLoB0M/GPrB0A8m1U/wum6ZtMKWqsDDS6rmOfihUPGTlxMwrg8/3CzVRD5b+oaCbwEM/WDoB0M/GPrBhH6Yv3OQz8s+nr8z+6oOirXDSomf6HzhdNtazWG5YrPjlTNh83r1XKZhc2PA8Zrhw4ipLdhWfjLixzpqcjlCmp/2h9rA+LGfLEVZGAtC1vpTct1lGlMqfP0FZDzLwR3wmKyq6Co6qHb9qUP8mDEj/UWvycdQFd+L2tZnf9ESpyE3S9Whk7IFkkZGlBIL/WDoB0M/GPrBhH6Yv3OQz8ve7HzCbU9Q6tgD6a6oQHuiePyYCYa7V93rZX6xsHu8ltbWFkE/Z7WtX89B2zIMd+xb66afDyOmpmBrApLxU/plq0CrRk7E/aiddi/RUjMS81OchbEgZDxfUUdlGLPo8TJff45nOejL19JX2VWUUN36U4/4id0XvQiPb4rq7kVN67PeBz/REqWSnoO2Hd3pmSndd4zuGLuz0UnZAkkjGaWkFPrB0A+GfjD0gwn9MH/nIJ+XvdkUZW17dGNUnE1RLH4Sc4cXYzFtXLvp+vUcI8Nw0FXLpEllDFo9fBgxPoJtZSYeP2H4N7sYiyt+zKNf4XKxMoHXnxwXxoKQ8GOUZF91eS/r8CmFuJ5lvQ31CN3yriKgqvVHJ+43fuL3JTE+mpAb13XpJSXvhY/1OTwHUr+eozTcmiAzEmyBpIHfAoR+MPSDoR8M/WBCP8zfOcjnZY+3XNXssupILH4Sc4cXYw7K1ZT7f/zWp+c45txY66AuqIKD1gwfRkxNwdYEZMZPs4uxRP2kSGlyT471x9jJZWEsCHE/JnuB3itpxjowR+V4ZS+pDNPOuVQPvooSqlh/giNB19ktogTtnM0SLhK9lzucg4xusu5FTeuzaSPdeomWCNX1rJhzY62DuqCqnLE7G3N1zN8hHG+Bpod+MPSDoR8M/WBCP8zfOUh52Qd7kmBLYvc8hsQWRf9fyZDkFgY2wNuegm2KYvGjFxbu57SYPdsK/uGV+vUcJ2nYDNbeXx3tJx9GvcwIoQIzl5DIpIJDQUVpk7rNuvOoLdhWfjIX8/qGbcMQ8WPCJQweJa2uiciMHyUZRcaXqWmKCIv7cV60o0FVL6msPjvuhW/KvrcVrz+Vx0/Qztks0ZkZpw5vCvd1RahtffYaLREacrNUHTIjwRZIGo63QNNDPxj6wdAPhn4woR/m7xykvOzNniSgfV+S2AuaFiXfAeNlZwNTztr2JHrLmWT8mBkGk9T/K7eMuWbsdhPUr+dSkoaDGlthDlbYYfnEZJrZt88kGmdBqWSO8Tm3m4q0r+PEOwkfwbYyk7mY1zdsG4aIn/gzE7ByPCZVkxk/hqSwoMZWNEWEofU5jbQQS2K6KV9dpumSu+GV8q4ioNL1p2TGmVcVI2jnapZ6X8wAgtc3ReasS66sBB/rs69oSVJhzwbTfeRCS668grE7DZmRYAskDfwWIPSDoR8M/WDoBxP6Yf7OQcrLPrlhiVal7Vkqa5DawmK2WIXaEqXGj7kCxfNc69ezJWk4GLKce+OBqMz4fjoykRimbcdBM81o25SqhqOTg63hyFzM6xu2DUPET6qT5haVGT9CrgtjQYj5cVxznV7WmaOC6ZhDKZQxuUquorL1J6isOH6Cdq5mWX2ZeqW863GSOev0Azmsz/XrWWjANUFmJNgCSQO9BQj9uKAfDP1g6AcT+mH+zkHKyz6yQbGU7FPStyyVNMhqIpgDqUfyIx4/uqXTSep8fc24fj13kDRsRu2oyLw3XojKjA1txs5KwJm2HQfTmtZ36p1C5wVbY5K5mK8E994HET/GSewh0YBqWlGZ8WOfrlIxnbowFoSYH3jNSWOeyBy1HregsquoZP2pJH50FmmknpE1mq1s7y1rtArInHX6gRzW5/r1bD2W9t0Aa0IwZebvINlvARJAPxj6wdAPhn4woR/m7xykvOyDPUku+TvdgWblb3IjGj86ydK5m4tJXk3F1K/nkDTDwSClNen3xhexh9FMqH30SCFAp1tKx9H4tAPqO/VOobOCrVHJXMxXgnvvg4ifxAMlpNU1ERnxow9aVEt8hWmKCIv5yb7mNGO+yBzV+y2o+CoqWH+CmmriJ2jnapboSy+ktMY0Se1Ij7TjuPjMWacfyGF9rlfPjbomyIwEWyBpZEYpMdAPhn4w9IOhH0zoh/k7Bykv+/geJaBkn5K+ZamkQXoTU5c8L38i8WM2dTE7aXWVU7+e20k1rJWpeBu4hOjDqFvkDkpHNBMrqYi5CA7HJ2hOKWAEVUAnBVvDkrmYrwT33gdRPylSmtxTavwYJzkvjAUh5icrWlKNeSMzRjMPZN8uNMcqrqL89SdrQgKOn+BE15zio9XvTZG4rnbSD+SwPtenZ9NrvFutTKU4a4LOxxZIGplRSgz0g6EfDP1g6AcT+mH+zkHKy95sUqLbkcgWKW2/VFmDZAuz1yzQHqiUSPzoRKMXl3a9lVO/ng1lG/Y4ZgpJmRlDpYdIx/zNcRClDUonBVvDkrmYN7mXdqJ+Ys+M0OyakvFTkIWxIMT8JANIKNtYtWSZTlsPq6a6q6hh/Sk3foJ2rmbx+5Jmxk+8Vngvclif69Bz2bFRv6uqHpmRYAskjcwoJQb6wdAPhn4w9IMJ/TB/5yDlZW/2JEK4fTEVYLOY2Mo5G8S2PTpiyfFCEY2fxNYucXHVUr+eKzIcuzeeicrUaUVov/7YxduWHXbaTw1rTEWJvcaks4KtUclczOsbtg1D3E/0qVg5npFaSPVThIWxIKT6iVx0BcaqJcu0Wf38hG+1V1HD+uNuoQTtnM3indXtTZE164x7kcP67L1n02F5PdbvqqonmDzzd5DMKCUG+sHQD4Z+MPSDCf0wf+cg5WUf7ElkY6YbQCW5T9M9Tjspe2rYILLtKR2olKJsi5LxE722tKuvlvr0XJHhyL3xTlymjFY6lhm8/apjERgUO4QELW1lO55s5UpnBlsjkhI/KRRl6eh8Ul52EUXNa0aJ+inQwlgQ4vFjDJWsORUZqxDXsxyfS/VUfxU1rD9e4yfNRWwuNZmq9l503vpcr54rig2v99QTOl1bIGmkvCVJCfSDoR8M/WDoBxP6Yf7OQcrLPtiTeNklryQwfjwSkRlslWORZnbP5WyIV9IoZbBh6AdDPxj6wST8ZCVqcqAIyZLCxE/O9yXrXvD5yh2zo2f+DsEoxdAPhn4w9IOhH0zoh/k7Bykve+bvojB+PFIqMy1XV/Z3NObvmhL6wdAPhn4wST9l/z8q9aYI6bsCxU+u9yXzXvD5yp1gQ8/8HYRRiqEfDP1g6AdDP5jQD/N3DlJe9szfRWH8eCQi03wLKP0aYCrKi72VNEoZbBj6wdAPhn4wKX4KksArxoJfoPjJ8b5k3ws+X7kT7KmYv4MwSjH0g6EfDP1g6AcT+mH+zkHKy34lzYxUDePHI3GZJmNXQtnfR5i/a0roB0M/GPrBpPopwlpbkPW+UPGTlxMwLp+v3NGNlC2QNBilGPrB0A+GfjD0gwn9MH/ngC97J4wfj1Amhn4w9IOhHwz9YOgHQz8Y+skdbumdMEox9IOhHwz9YOgHE/ph/s4BX/ZOGD8eoUwM/WDoB0M/GPrB0A+GfjD0kzvc0jthlGLoB0M/GPrB0A8m9MP8nQO+7J0wfjxCmRj6wdAPhn4w9IOhHwz9YOgnd7ild8IoxdAPhn4w9IOhH0zoh/k7B3zZO2H8eIQyMfSDoR8M/WDoB0M/GPrB0E/ucEvvhFGKoR8M/WDoB0M/mNAP83cO+LJ3wvjxCGVi6AdDPxj6wdAPhn4w9IOhn9zhlt4JoxRDPxj6wdAPhn4woR/m7xzwZe+E8eMRysTQD4Z+MPSDoR8M/WDoB0M/ucMtvRNGKYZ+MPSDoR8M/WBCP8zfOeDL3gnjxyOUiaEfDP1g6AdDPxj6wdAPhn5yh1t6J4xSDP1g6AdDPxj6wYR+mL9zwJe9E8aPRygTQz8Y+sHQD4Z+MPSDoR8M/eQOt/ROGKUY+sHQD4Z+MPSDCf0wf+eAL3snjB+PUCaGfjD0g6EfDP1g6AeT4WfFpJZVVmlts6UmhvGTO9zSO2GUYugHQz8Y+sHQDyb0w/ydA77snTB+PEKZGPrB0A+GfjD0g6EfTMJPW6tJ27W1rtIyaYVJ5IE0nknzdeAx4efqOXq8fplGxk/u6C22BZIGoxRDPxj6wdAPhn4woR/m7xzwZe+E8eMRysTQD4Z+MPSDoR8M/WDiftpazQaqpbW1RdDPQR4vjaBtR+ZMz/STSXP0bCrCaWkqL3OWtcH4yZ3g5nNLD2GUYugHQz8Y+sHQDyb0w/ydA77snTB+PEKZGPrB0A+GfjD0g6EfTIafaIasPDSPVo+fwsV6NpMrHSdR4Q/GT+7IvRVsgaTBKMXQD4Z+MPSDoR9M6If5Owd82Tth/HiEMjH0g6EfDP1g6AdDP5i4H/2tW3m/v4tTTdKvPKI9M3/XVMi9FWyBpMEoxdAPhn4w9IOhH0zoh/k7B3zZO2H8eIQyMfSDoR8M/WDoB0M/mISfiv79uyj1S6NFe479hdn6/e5PYPzkjtxcwRZIGoxSDP1g6AdDPxj6wYR+mL9zwJe9E8aPRygTQz8Y+sHQD4Z+MPSDyfBjcmIVpsRMkq0Tfn4XYGqCSv2NYF1GNTB+csfcaG7pEYxSDP1g6AdDPxj6wYR+mL9zwJe9E8aPRygTQz8Y+sHQD4Z+MPSD8ebH8Su49oRbnDJyhBk9l/RYp9/eBTB+ckfvsS2QNBilGPrB0A+GfjD0gwn9MH/ngC97J4wfj1Amhn4w9IOhHwz9YOgH48mPJtPqkUdL61kzelrZnsarUw6P8ZM7en9tgaTBKMXQD4Z+MPSDoR9M6If5Owd82Tth/HiEMjH0g6EfDP1g6AdDPxgffjSdVo+/w5rac/L3ePXLHjJ+8ie4t9zSQxilGPrB0A+GfjD0gwn9MH/ngC97J4wfj1Amhn4w9IOhHwz9YOgHU7uf8pJn7T+Ti4POS+/ZpO/SUnp1+UfwGD+5Y+KEW3oEoxRDPxj6wdAPhn4woR/m7xzwZe+E8eMRysTQD4Z+MPSDoR8M/WBq9NPJP70LSP78zmb6+Pu7lRO5tYItkDQYpRj6wdAPhn4w9IMJ/TB/54AveyeMH49QJoZ+MPSDoR8M/WDoB1OTn/r9vVXUcyKzl5bR8wXjJ3eCSOCWHsIoxdAPhn4w9IOhH0zoh/k7B3zZO2H8eIQyMfSDoR8M/WDoB0M/mBr8aNosSe2JNHfPsb+OW5e/Omtg/OSO3mJbIGkwSjH0g6EfDP1g6AcT+mH+zgFf9k4YPx6hTAz9YOgHQz8Y+sHQD4Z+MPSTO9zSO2GUYugHQz8Y+sHQDyb0w/ydA77snTB+PEKZGPrB0A+GfjD0g6EfDP1g6Cd3uKV3wijF0A+GfjD0g6EfTOiH+TsHfNk7Yfx4hDIx9IOhHwz9YOgHQz8Y+sHQT+5wS++EUYqhHwz9YOgHQz+Y0A/zdw74snfC+PEIZWLoB0M/GPrB0A+GfjD0g6Gf3OGW3gmjFEM/GPrB0A+GfjChH+bvHPBl74Tx4xHKxNAPhn4w9IOhHwz9YOgHQz+5wy29E0YpoPe4g/m/cv5nfZEEfL4w9IMJ/awinwhAX/a2QAghhBBCCGk0uKUntRDLUvF/Wf+zvggh9YG/v3OgL3tbIGkwfjxCmRj6wdAPhn4w9IOhHwz9YOgnd7ild8IoBWhyyhZIGlSE4fOFoR9M6If5Owd82Tth/HiEMjH0g6EfDP1g6AdDPxj6wdBP7nBL74RRCmByygkVYfh8YegHE/ph/s4BX/ZOGD8eoUwM/WDoB0M/GPrB0A+GfjD0kzvc0jthlAKYnHJCRRg+Xxj6wYR+mL9zwJe9E8aPRygTQz8Y+sHQD4Z+MPSDoR8M/eQOt/ROGKUAJqecUBGGzxeGfjChH+bvHPBl74Tx4xHKxNAPhn4w9IOhHwz9YOgHQz+5wy29E0YpgMkpJ1SE4fOFoR9M6If5Owd82Tth/HiEMjH0g6EfDP1g6AdDPxj6wdBP7nBL74RRCmByygkVYfh8YegHE/ph/s4BX/ZOfMTPikktq6zS2mZLPqlfz3WhIR9G47hl0gpbrCfFDrb84WKOoR8M/WBS/bS11rj8eViRap6DHwoVP3k5AeP68OPx/bUyvwqz4JbeCd8CACannFARhs8Xhn4woR/m7xwU62VvtlsdFGPjlRE/dq6uOba1mhay5TU7XjnLeVX16LlMs8HOHB2vmWI8jGXaaMc075wvSkUNtqJQm5+VnzQ/7Q+1ockVJfzYyLHEH/Lo0SaQlxI/xkHJlVfkxN+KFESxxzW4yjvriJ9kP9Hj5Q5TDqbnrPE8DZTRW/a9qG199vj+qmF3FL+y6FFfauuGztIWSBoZUUoCmJxyQkUYPl8Y+sGEfpi/c1Cgl32wKfS5Q/dFMn5KN3SO3Zy5KLms1tYWQT+DS6xTz0Hbju70zJTuO0Z3jF09RXgYy7TRgfHSOZFZ0GArDDX5aQLiftROu5doqRmJ+YksBWqn5ImpeKFofDKer6iF8p3ocT8rUtCXr0W4sqsoAcVPsh9TEc45EV81EbsvArRXMdXdi5rWZ/XnJVoq6SpoG56vnZa0jRy1/TquI1+CCTJ/B0lGKQlhcsoJFWH4fGHoBxP6Yf7OQVFe9mbb5Gtr65d4/JgtXDBV86G8rVx4DqR+PUfRPWqi/6CrlkmTyh+7Cgr4MGbYKKETg7PYwZY/PvyszMT8JKwUeJ3tFPD6g+24F4rGJ+HHXHT2NZfnJHxKIa5nOaiuT+iWf2fLiJ+OfhLXkXFh1ZC4Ly57leHqLahOuxc+1ufwHEhZPZfXVRRjNvOc8kMlL2R6gi2QNPBT3OQwOeWEijB8vjD0gwn9MH/noCAve7xnypfM+ClnS2rayKWV+X8pW+rXs5K2rQ3qgqpyxq6eIj6MaTYidGJ0FjTYCkNNfpqAqJ8UKU3uCa8/ji/nxl3nrAN5EffjXPqwE3PU14pUx2W47DuL4yfWT+I6Mi4sStDI+YACF2UNUjYZvWWNX9P6bNpItx6ipbquDI2+CJiLZf4O4XiKmxsmp5xQEYbPF4Z+MKEf5u8cpL/s7e5HKd3J6N4mJLrJCc4KakrO7tjnpG17TF1wRh135rWTGT/h9BFV/JMu9exZSfZv7kB7f+6xqyZFphmwndKB6xRsCZJHSkeWbkwx1l2dKGqwFYXa/Kz8RPykxW0nxnIRyYwfgyOImiDG4n6cl+xUZo5JKw8rkondMs6vnLLvLI6fWD9mvh0PmxadowR9lNUoo1XZ11IWWb1l3Iva1meP0VL97sgx07IuJE9keoItkDQcT3Fzw+SUEyrC8PnC0A8m9MP8nYOUl73ZoEQ2nXa3Ej2QUS6piu5X461tjTlsN4PtHRgiTfMkM3465u/EXqAtOalfz4b0W2ErKhi7CuIyo1PplGCLE28b7UlL0RZ1pNjBlj8+/KzMRPzEIzsgGt1NR2b8tJsBj3mazpWNmB/jBF1yeU58rUjBgXrcgPLvLIgfIdmPqQkq9Udg5YwRnOJyhe6LGdLbA57ZW3AgOQMf67OvaBEq7MqegG6TGa2c25gbMj/BFkga+ClucpicckJFGD5fGPrBhH6Yv3OQeNln7gzTtknRzUyyRaQm3nPJQfOx9KBzG9WJZMZP8np9Ub+eBXVb2nswHLiLPonKzCXYoiRsJFt2ZjCubMHmmxz8NBQRP6lOmltUMn6MDwt6xpPL5spIzI8jWOrkJHNUMJ3S21hKGZOr5Coy1x8ho5+SmZU1RtDe1RCIgMcqJ7O39AM5rM8+ejZ9WBp9EdCrsAWSBnqKmx4mp5xQEYbPF4Z+MKEf5u8cxF/2ZoOStoNJ3yVFaoNC9NRob6YUdlHa2nQTPTWlKicy4ydy8V6pX8/adaTv6G2p59hCRGY+wVaK6TIyUsyGIXOe/lm5gs0/OfhpKCJ+jJNY3JpYbl5RmfEToKtB6oOuh1Z+bTE/8Kmqm5PMUeF0qqSyq8iOn7R+9GHTSj2eNVL70SSp7ZEIdKxyMntLP5DD+uy5Z9NdIy8CwRyZv4PAt0Czw+SUEyrC8PnC0A8m9MP8nYP4yz4zVZG+S4rUBoXoqbHeTNG2jjROGTVzIp1OZvykK/FBvXo2UmNW43etflcVEJGZeY/T5xCpjU870Zsp2tbJxgFpNlKHzpynf1aiYKsLOfhpKJzPVyfGchHJjB9Fl4R4GKUuFCsnMT/ZT1U9nWSO6v0hr/gqMuIntZ9kMJn5uy4gaOS6RiTCKUln0Y7j4jN7Sz+Qw/rsvefkfQuoZ8B7RWYp2AJJw/EWaG6YnHJCRRg+Xxj6wYR+mL9zEH/Zm11K2iYlfZcUqQ0K0VPjvZmyaR5tm7JjypxIp5MZP943jiH16dn0Gu9WK1Oph/2IzHyCzaIXjgexdGIsrjTBVidy8NNQRP2kSGlyT5nxY0l51I2xZlEW85MVLfV1khmjIHh1RknQHKu4itT4Se8n7a1Rzpsk6M01JyACHquczN7SD+SwPvvvubEXgWCizN9BXG+BpobJKSdUhOHzhaEfTOiH+TsHiZd9Rfu1aF1Qiu56khuhoI2cEG+aaGgqirFfyoyfNCN+qEPPKjR6e1Kp31UFRGVmjpV2IFoXlKoMNgHYSA5dtjoPrBzBVj9y8NNQRP2kPxLNrCkzfixxP5357BeBmJ9kAAl1d5IVpDqwp+it7iqS8ZPZT9psy3n8gjauazR9Z8zd7yNe4b3IYX3233O8x+pCJS9kqoItkDRcb4GmhskpJ1SE4fOFoR9M6If5OwfJl318YyabGS3EDyR2cMG2J7rJMU2iVUGj1tbgj44TA8yeqb1pous8yYyf+DbPH957Nh2W12P9riogJjOfYMM2okd1YCHac71YGYKtnuTgp6GI+zFawtCNlpqRqJ/AR0nM6LNe4sf4aqqoSo2fiIBOcJIcVElZ4aul2qtI9ZPRTyKctMI1aNClc2JZigRwqAqyesu4Fzmsz7X2HJxfcnrDLwLBbJm/g2RGKWFyqgyoCMPnC0M/mNAP83cOUl/2uoVpp3TnonuZdmLbt+BgtCptk2e7SNkPlXae3BnmRjx+og7a8bG/q1fP0fvZQWrPZhI+riaV5MPY6cFWho3SJkF1crB60fjBVl86z09jkvKyiyhqXjOKI34iD3lFy+ZKQtxPfFGtpxPXsxyfS/VUfxVRP+5+UHzVQtKF35Ww2nvReeuzx57RTao+VPJC52cLJI2UtyRph8kpJ1SE4fOFoR9M6If5Owd82Tth/HiEMjH0g6EfDP1g6AeT8JOVqMkBk2bJOW9SmPjJ+b5k3Qs+X7ljdvTc0iMYpQAmp5xQEYbPF4Z+MKEf5u8c8GXvhPHjEcrE0A+GfjD0g6EfTNKPSRTlnDUzFCF9V6D4yfW+ZN4LPl+5Y3b03NIjGKUAJqecUBGGzxeGfjChH+bvHPBl74Tx4xHKxNAPhn4w9IOhH0yKn4Ik8IKUUf6/AyxQ/OR4X7LvBZ+v3OGW3gmjFMDklBMqwvD5wtAPJvTD/J0DvuydMH48QpkY+sHQD4Z+MPSDSfVThNRZMdJ3xYqfvJyAcfl85Q639E4YpQAmp5xQEYbPF4Z+MKEf5u8c8GXvhPHjEcrE0A+GfjD0g6EfDP1g6AdDP7nDLb0TRimAySknVITh84WhH0zoh/k7B3zZO2H8eIQyMfSDoR8M/WDoB0M/GPrB0E/ucEvvhFEKYHLKCRVh+Hxh6AcT+mH+zgFf9k4YPx6hTAz9YOgHQz8Y+sHQD4Z+MPSTO9zSO2GUApicckJFGD5fGPrBhH6Yv3PAl70Txo9HKBNDPxj6wdAPhn4w9IOhHwz95A639E4YpQAmp5xQEYbPF4Z+MKEf5u8c8GXvhPHjEcrE0A+GfjD0g6EfDP1g6AdDP7nDLb0TRimAySknVITh84WhH0zoh/k7B3zZO2H8eIQyMfSDoR8M/WDoB0M/GPrB0E/ucEvvhFEKYHLKCRVh+Hxh6AcT+mH+zgFf9k4YPx6hTAz9YOgHQz8Y+sHQD4Z+MPSTO9zSO2GUApicckJFGD5fGPrBhH6Yv3PAl70Txo9HKBNDPxj6wdAPhn4w9IOhHwz95A639E4YpQAmp5xQEYbPF4Z+MKEf5u8c8GXvhPHjEcrE0A+GfjD0g6EfDP1gMvysmNSyyiqtbbbUxDB+codbeieMUgCTU06oCMPnC0M/mNAP83cO+LJ3wvjxCGVi6AdDPxj6wdAPhn4wCT9trSZt19a6SsukFSaRB9J4Js3XgceEn6vn6HGPA8dg/OSO3mJbIGkwSgFMTjmhIgyfLwz9YEI/zN854MveCePHI5SJoR8M/WDoB0M/GPrBxP20tZoNVEtra4ugn4M8XhpB247MmZ7pJ5Pm6NlUhNPSVF7mLGuD8ZM7wc3nlh7CKAUwOeWEijB8vjD0gwn9MH/ngC97J4wfj1Amhn4w9IOhHwz9YOgHk+EnmiErD82j+UngRYn1bCZXOk6iwh+Mn9yReyvYAkmDUQpgcsoJFWH4fGHoBxP6Yf7OAV/2Thg/HqFMDP1g6AdDPxj6wdAPJu5Hf+tW3u/v4lST9CuPaM/M3zUVcm8FWyBpMEoBTE45oSIMny8M/WBCP8zfOeDL3gnjxyOUiaEfDP1g6AdDPxj6wST8VPTv30WpXxot2nPsL8zW73d/AuMnd+TmCrZA0mCUApicckJFGD5fGPrBhH6Yv3PAl70Txo9HKBNDPxj6wdAPhn4w9IPJ8GNyYhWmxEySrRN+fhdgaoJK/Y1gXUY1MH5yx9xobukRjFIAk1NOqAjD5wtDP5jQD/N3Dviyd8L48QhlYugHQz8Y+sHQD4Z+MN78OH4F155wi1NGjjCj55Iey+ikWhg/uaP32BZIGoxSAJNTTqgIw+cLQz+Y0A/zdw74snfC+PEIZWLoB0M/GPrB0A+GfjCe/GgyrR55tLSeNaOnle1pvHqMLTB+ckfvry2QNBilACannFARhs8Xhn4woR/m7xzwZe+E8eMRysTQD4Z+MPSDoR8M/WB8+NF0Wj3+Dmtqz8nf49Uve8j4yZ/g3nJLD2GUApicckJFGD5fGPrBhH6Yv3PAl70Txo9HKBNDPxj6wdAPhn4w9IOp3U95ybP2n8nFQeel92zSd2kpvbr8I3iMn9wxccItPYJRCmByygkVYfh8YegHE/ph/s4BX/ZOGD8eoUwM/WDoB0M/GPrB0A+mRj+d/NO7gOTP72ymD6UCq4bxkztyawVbIGkwSgFMTjmhIgyfLwz9YEI/zN854MveCePHI5SJoR8M/WDoB0M/GPrB1OSnfn9vFfWcyOylZfR8wfjJnSASuKWHMEoBTE45oSIMny8M/WBCP8zfOeDL3gnjxyOUiaEfDP1g6AdDPxj6wdTgR9NmSWpPpLl7jv113Lr81VkD4yd39BbbAkmDUQpgcsoJFWH4fGHoBxP6Yf7OAV/2Thg/HqFMDP1g6AdDPxj6wdAPhn4w9JM73NI7YZQCmJxyQkUYPl8Y+sGEfpi/c8CXvRPGj0coE0M/GPrB0A+GfjD0g6EfDP3kDrf0ThilACanSI3w+cLQDyb0w/ydA77snTB+PEKZGPrB0A+GfjD0g6EfDP1g6Cd3uKV3wigFMH+XhZop/Z89QKLw+cLQDyb0w/ydA77snTB+PEKZGPrB0A+GfjD0g6EfDP1g6Cd3uKV3wigFMDOVRZi2C/9nD5AofL4w9IMJ/TB/54AveyeMH49QJoZ+MPSDoR8M/WDoB0M/GPrJHW7pnTBKAcxMZRGm7cL/2QMkCp8vDP1gQj+ryCcC0Je9LRBCCCGEEEIaDW7pSS3EUlT8n/7vn2n5O6uMEFIH+Ps7B/qytwWSBuPHI5SJoR8M/WDoB0M/GPrB0A+GfnKHW3onjFJALEXF/+n/Us2oMRKDzxeGfjChH+bvHPBl74Tx4xHKxNAPhn4w9IOhHwz9YOgHQz+5wy29E0Yphn5SiSXv5H/2AInC+MHQDyb0w/ydA77snTB+PEKZGPrB0A+GfjD0g6EfDP1g6Cd3uKV3wijF0A+GfjD0g6EfTOiH+TsHfNk7Yfx4hDIx9IOhHwz9YOgHQz8Y+sHQT+5wS++EUYqhHwz9YOgHQz+Y0A/zdw74snfC+PEIZWLoB0M/GPrB0A+GfjD0g6Gf3OGW3gmjFEM/GPrB0A+GfjChH+bvHPBl74Tx4xHKxNAPhn4w9IOhHwz9YOgHQz+5wy29E0Yphn4w9IOhHwz9YEI/zN854MveiY/4WTGpZZVVWttsqSY8dpUDDfkwGuUtk1bYYj0pWLAVDi7mGPrB0A8m1U9ba43Ln4cVqeY5+KFQ8ZOXEzCuDz/cLNUEt/RO+BbA0A+GfjD0g6EfTOiH+TsHxXjZBxvCNAqwYc+MH7M1dG8O21pNC7lCczFylnM7mdVzRV3ZTixxkdGjnbjDLcbDWOHlm+adE4uFCbaCUpuflZ80P5HVtckVVR4/zWUvxY9xU3Lh1lU7WIm/FSm4Dx7X4IquooOEH1c/0ePlDlMOpues8TwNlNFb9r2obX3Oa7OkgEkGFxzi7ChfdJK2QNLIiFJioR8M/WDoB0M/mNAP83cOivqy171UIXZKyfixGz2DY4p249fS2toi6GfwJQT1XElXQdvwfO20pG3kqO23k1QX4WGs+PKNQHTb/FGUYCsqNflpAuJ+1E67l2ipGaksfprPXoafjouubPH0uSIFfflahCu7ihJifhz9mIpwznp1vi4hdl8EaK9iqrsXNa3P6q/TN0sC6kqPtddGS0XEXATzd4hklJJS6AdDPxj6wdAPJvTD/J2Dgr7szS7J1063RuLxE27KzYfydnLhOZCyei6vqyhYZ2duSQv4MLovvxOjsWDBVjh8+FmZiflJWCnSwpoHFcVPE9pLrM/mkrOfK/fiGRBahsB7IQTV9ZFf3lUEJPxEiPWTuI6MC6uGxH1x2asMV29Bddq98LE+h+dAyurZQ1eJOmPe2Wd+yHQFWyBp4KeY0A+GfjD0g6EfTOiH+TsHxXzZl7ft6iQy4ydttxfHtJFrKfP/B7ak9lxdVwbH95NO1F3Eh9F5+Z24Yy9KsBWVmvw0AVE/KVKa3FMl8dOM9uJ+nEufMZLZwBz1tSLVcRnGV1FCZvwo0X4S15FxYVGCRs4QAy7KGqRsMnrLGr+m9dm0kW5z2yyldFVeVZEIrpX5O4jjKW566AdDPxj6wdAPJvTD/J2D9Je93f0opTsVs23rILmvCWpKzu7YM5nK2BYqayOU1jY/MuMna/oRqvh3WLJ6rqorg2OmZV2IH1JkmtHbKZ1F5wRb2pHSkaUbU4x1VycKE2wFpTY/Kz8RP2lx24mxXEQqiJ+mtBf343ysHA28rkjGfhnnV47zMtvJjB8l2o+Zb0e4aNE5StBHWY0yWpV9LWWR1VvGvahtfc57s5Tsylxm7IFPqysQcgmCLZA0HE9x00M/GPrB0A+GfjChH+bvHKS87M0mJrLptDua6IGMckmV2eeE26F4a1uT3FVFT8ufzPjJmH8a5prKvyTUc4VdtfuMmI+SvDP1Iy4zOnYwVXtp8UmllkuqolGTvCRTk6ot3jbak5aiLepIwYKtcPjwszIT8ROP7IBodDcdFcRPU9qL+THXi1a+NElJfK1IwYF6rMPlXUVAZvwYkv2YmqBSfwRWzhjBKS5X6L6YIb2FaGZvwYHkDHysz76iRai5K1MTu0zTaQW9djIyN8EWSBr4KSb0g6EfDP1g6AcT+mH+zkHiZZ+5M0zbJkV3Nxm7n/aaeM9pHQqF2x1lxk/GBXjAR8+mD0va/Wync31HZeYebCmXn2ypTZBDfzRosHUaOfhpKCJ+Up00t6gK4qcp7cX8OC63Tu+OzFHBdMyhFMqYXCVXkRk/QkY/JTMra4ygvashEAGPVU5mb+kHclifPfac7Cq18/pdiw9kboItkDTQU0zoxwX9YOgHQz+Y0A/zdw7iL3uzBy03oxKrDQrRU6O9mVLYRbK1wfTYObmSMsmMn3QlPvDcs+kuXaoeqstFpBKRmXuwpVx+9Dwlc57+afxgqy85+GkoIn6Mk1jcmlhuXlEVxE9T2ov5gU+VOVgPGZmjwulUSWVXkRk/qf1ouGilHs8aqf1oktT2SAQ6VjmZvaUfyGF99thzsitT01iLgMxNsAWSRvZTTALoB0M/GPrB0A8m9MP8nYP4yz4zVZG+S4rUBoXoqbHeTNG2TjY2pO2XciYzftKV+MB7z+lbTq3tVNsRmTkHW+rlpw2dOU//rAzBVk9y8NNQOJ+vTozlIlJB/DSlvZif7KfKmKiTisxRvT/kFV9FRvyk9qOVpdM183ddQNDIdY1IhFOSzqIdx8Vn9pZ+IIf12WPPya7SHvi0ugIhlyDYAkkjM0qJgX4w9IOhHwz9YEI/zN85iL/sM/cm6bukSG1QiJ4a782UTfNk2wBz3NNezBuZ8ZOuxAf+e065r2aQzpYdkZlrsGVcftrQmfP0z0oRbHUkBz8NRdRPipQm91RJ/DSjvZifrOs19XUTkWkZ6NcZJUFzrOIqUuMnvZ+0t0Y5b5KgN9ecgAh4rHIye0s/kMP67LHnlK7KqyoSMjnBFkgamVFKDPSDoR8M/WDoBxP6Yf7OQeJln7k5STsQrQtK0b1pcrsatJETkk0DTPPC7Ywy4yfNiB/89xzvUVU7vknUgajMzOtMOxCtC0rVBxu4/OTQnelqpQi2OpKDn4Yi6if9kWhmTZXETzPai/lJKhDqvh5madaBPfmv7iqS8ZPZT9psywmgoI3rGk3fGXP3G6QV3osc1mePPad0lTRdvyvxg8xOsAWSRmaUEgP9YOgHQz8Y+sGEfpi/c5B82cc3ZrJd0UL8QGIHF2xsonvK5ObHNGptDf5I7IDMxihjU5ojmfFTv41crT0byR2n650qMWv6r8/UHcRk5hNs+PKjR3VgoXMCswGDrVPJwU9DEfdjtIShGy01I5XFT/PZS42fiBZTU98nLfVeCCkrfLVUexWpfjL60VdHyXwTL7FUgi6dE8tSJIBDVZDVW8a9yGF99thzalemsoEWAZmfYAskjcwoJQb6wdAPhn4w9IMJ/TB/5yD1ZR/mLAyl+xmzewmJbWOCg9GqtE2e7SK54SrqzigeP1EH7fjYQHrsOdZVRGv09nbg4xJcJB/GTg+2Mi6/tElQnRysXjRksHUineenMUl52UUUNa8ZpeL4aTJ7cT/xRbWMxbNqXPcibYGvjuqvIurH3U/smry9RJIunJFcEdXei85bnz327Owq0sDH5OuJztIWSBopb0lSAv1g6AdDPxj6wYR+mL9zwJe9E8aPRygTQz8Y+sHQD4Z+MAk//pJmNWOyKDlnTwoTPznfl6x7wecrd8yOnlt6BKMUQz8Y+sHQD4Z+MKEf5u8c8GXvhPHjEcrE0A+GfjD0g6EfTNKPSRQV4TdHRUjfFSh+cr0vmfeCz1fumB09t/QIRimGfjD0g6EfDP1gQj/M3zngy94J48cjlImhHwz9YOgHQz+YFD8FSeAFKaP8fwdYoPjJ8b5k3ws+X7nDLb0TRimGfjD0g6EfDP1gQj/M3zngy94J48cjlImhHwz9YOgHQz+YVD9FSJ0VI31XrPjJywkYl89X7nBL74RRiqEfDP1g6AdDP5jQD/N3Dviyd8L48QhlYugHQz8Y+sHQD4Z+MPSDoZ/c4ZbeCaMUQz8Y+sHQD4Z+MKEf5u8c8GXvhPHjEcrE0A+GfjD0g6EfDP1g6AdDP7nDLb0TRimGfjD0g6EfDP1gQj/M3zngy94J48cjlImhHwz9YOgHQz8Y+sHQD4Z+codbeieMUgz9YOgHQz8Y+sGEfpi/c8CXvRPGj0coE0M/GPrB0A+GfjD0g6EfDP3kDrf0ThilGPrB0A+GfjD0gwn9MH/ngC97J4wfj1Amhn4w9IOhHwz9YOgHQz8Y+skdbumdMEox9IOhHwz9YOgHE/ph/s4BX/ZOGD8eoUwM/WDoB0M/GPrB0A+GfjD0kzvc0jthlGLoB0M/GPrB0A8m9MP8nQO+7J0wfjxCmRj6wdAPhn4w9IOhHwz9YOgnd7ild8IoxdAPhn4w9IOhH0zoh/k7B3zZO2H8eIQyMfSDoR8M/WDoB0M/GPrB0E/ucEvvhFGKoR8M/WDoB0M/mNAP83cO+LJ3wvjxCGVi6AdDPxj6wdAPhn4wGX5WTGpZZZXWNltqYhg/ucMtvRNGKYZ+MPSDoR8M/WBCP8zfOeDL3gnjxyOUiaEfDP1g6AdDPxj6wST8tLWatF1b6yotk1aYRB5I45k0XwceE36unqPH65dpZPzkjt5iWyBpMEox9IOhHwz9YOgHE/ph/s4BX/ZOGD8eoUwM/WDoB0M/GPrB0A8m7qet1WygWlpbWwT9HOTx0gjadmTO9Ew/mTRHz6YinJam8jJnWRuMn9wJbj639BBGKYZ+MPSDoR8M/WBCP8zfOeDL3gnjxyOUiaEfDP1g6AdDPxj6wWT4iWbIykPzaPX4KVysZzO50nESFf5g/OSO3FvBFkgajFIM/WDoB0M/GPrBhH6Yv3PAl70Txo9HKBNDPxj6wdAPhn4w9IOJ+9HfupX3+7s41ST9yiPaM/N3TYXcW8EWSBqMUgz9YOgHQz8Y+sGEfpi/c8CXvRPGj0coE0M/GPrB0A+GfjD0g0n4qejfv4tSvzRatOfYX5it3+/+BMZP7sjNFWyBpMEoxdAPhn4w9IOhH0zoh/k7B3zZO2H8eIQyMfSDoR8M/WDoB0M/mAw/JidWYUrMJNk64ed3AaYmqNTfCNZlVAPjJ3fMjeaWHsEoxdAPhn4w9IOhH0zoh/k7B3zZO2H8eIQyMfSDoR8M/WDoB0M/GG9+HL+Ca0+4xSkjR5jRc0mPdfrtXQDjJ3f0HtsCSYNRiqEfDP1g6AdDP5jQD/N3Dviyd8L48QhlYugHQz8Y+sHQD4Z+MJ78aDKtHnm0tJ41o6eV7Wm8OuXwGD+5o/fXFkgajFIM/WDoB0M/GPrBhH6Yv3PAl70Txo9HKBNDPxj6wdAPhn4w9IPx4UfTafX4O6ypPSd/j1e/7CHjJ3+Ce8stPYRRiqEfDP1g6AdDP5jQD/N3Dviyd8L48QhlYugHQz8Y+sHQD4Z+MLX7KS951v4zuTjovPSeTfouLaVXl38Ej/GTOyZOuKVHMEox9IOhHwz9YOgHE/ph/s4BX/ZOGD8eoUwM/WDoB0M/GPrB0A+mRj+d/NO7gOTP72ymj7+/WzmRWyvYAkmDUYqhHwz9YOgHQz+Y0A/zdw74snfC+PEIZWLoB0M/GPrB0A+GfjA1+anf31tFPScye2kZPV8wfnIniARu6SGMUgz9YOgHQz8Y+sGEfpi/c8CXvRPGj0coE0M/GPrB0A+GfjD0g6nBj6bNktSeSHP3HPvruHX5q7MGxk/u6C22BZIGoxRDPxj6wdAPhn4woR/m7xzwZe+E8eMRysTQD4Z+MPSDoR8M/WDoB0M/ucMtvRNGKYZ+MPSDoR8M/WBCP8zfOeDL3gnjxyOUiaEfDP1g6AdDPxj6wdAPhn5yh1t6J4xSDP1g6AdDPxj6wYR+mL9zwJe9E8aPRygTQz8Y+sHQD4Z+MPSDoR8M/eQOt/ROGKUY+sHQD4Z+MPSDCf0wf+eAL3snjB+PUCaGfjD0g6EfDP1g6AdDPxj6yR1u6Z0wSjH0g6EfDP1g6AcT+mH+zgFf9k4YPx6hTAz9YOgHQz8Y+sHQD4Z+MPSTO9zSO2GUYugHQz8Y+sHQDyb0w/ydA33ZE0IIIYQQQhoau78nafArIYZ+MPSDoR8M/WBCP6vIJwKwb3tCCCGEEEJII2P394QQQkgDwt/fuaEfDP14hDIx9IOhHwz9YOgHQz8Y+sHQTxHgXcDQD4Z+MPSDoR8M/WBCP8zfuaEfDP14hDIx9IOhHwz9YOgHQz8Y+sHQTxHgXcDQD4Z+MPSDoR8M/WBCP8zfuaEfDP14hDIx9IOhHwz9YOgHQz8Y+sHQTxHgXcDQD4Z+MPSDoR8M/WBCP8zfuaEfDP14hDIx9IOhHwz9YOgHQz8Y+sHQTxHgXcDQD4Z+MPSDoR8M/WBCP8zfuaEfDP14hDIx9IOhHwz9YOgHQz8Y+sHQTxHgXcDQD4Z+MPSDoR8M/WBCP8zfuaEfDP14hDIx9IOhHwz9YOgHQz8Y+sHQTxHgXcDQD4Z+MPSDoR8M/WBCP8zfuaEfDP14hDIx9IOhHwz9YOgHQz8Y+sHQTxHgXcDQD4Z+MPSDoR8M/WBCP8zfuaEfDP14hDIx9IOhHwz9YOgHQz8Y+sHQTxHgXcDQD4Z+MPSDoR8M/WBCP8zfuaEfDP14hDIx9IOhHwz9YOgHQz8Y+sHQTxHgXcDQD4Z+MPSDoR8M/WBCP8zfuaEfDP14hDIx9IOhHwz9YOgHQz8Y+sHQTxHgXcDQD4Z+MPSDoR8M/WBCP8zfuaEfDP14hDIx9IOhHwz9YOgHQz8Y+sHQTxHgXcDQD4Z+MPSDoR8M/WBCP8zfuaEfDP14hDIx9IOhHwz9YOgHQz8Y+sHQTxHgXcDQD4Z+MPSDoR8M/WBCP8zfuaEfDP14hDIx9IOhHwz9YOgHQz8Y+sHQTxHgXcDQD4Z+MPSDoR8M/WBCP8zfuaEfDP14hDIx9IOhHwz9YOgHQz8Y+sHQTxHgXcDQD4Z+MPSDoR8M/WBCP8zfuaEfDP14hDIx9IOhHwz9YOgHQz8Y+sHQTxHgXcDQD4Z+MPSDoR8M/WBCP8zfuaEfDP14hDIx9IOhHwz9YOgHQz8Y+sHQTxHgXcDQD4Z+MPSDoR8M/WBCP8zfuaEfDP14hDIx9IOhHwz9YOgHQz8Y+sHQTxHgXcDQD4Z+MPSDoR8M/WBCP8zfuaEfDP14hDIx9IOhHwz9YOgHQz8Y+sHQTxHgXcDQD4Z+MPSDoR8M/WBCP8zfuaEfDP14hDIx9IOhHwz9YOgHQz8Y+sHQTxHgXcDQD4Z+MPSDoR8M/WBCP8zfuaEfDP14hDIx9IOhHwz9YOgHQz8Y+sHQTxHgXcDQD4Z+MPSDoR8M/WBCP8zfuaEfDP14hDIx9IOhHwz9YOgHQz8Y+sHQTxHgXcDQD4Z+MPSDoR8M/WBCP8zfuaEfDP14hDIx9IOhHwz9YOgHQz8Y+sHQTxHgXcDQD4Z+MPSDoR8M/WBCP8zfuaEfDP14hDIx9IOhHwz9YOgHQz8Y+sHQTxHgXcDQD4Z+MPSDoR8M/WBCP8zfuaEfDP14hDIx9IOhHwz9YOgHQz8Y+sHQTxHgXcDQD4Z+MPSDoR8M/WBCP8zfuaEfDP14hDIx9IOhHwz9YOgHQz8Y+sHQTxHgXcDQD4Z+MPSDoR8M/WBCP8zfuaEfDP14hDIx9IOhHwz9YOgHQz8Y+sHQTxHgXcDQD4Z+MPSDoR8M/WBCP8zfuaEfDP14hDIx9IOhHwz9YOgHQz8Y+sHQTxHgXcDQD4Z+MPSDoR8M/WBCP8zfuaEfDP14hDIx9IOhHwz9YOgHQz8Y+sHQTxHgXcDQD4Z+MPSDoR8M/WBCP6vIJ0IIIYQQQgghhBBCSDHh7+/c0A+GfjxCmRj6wdAPhn4w9IOhHwz9YOinCPAuYOgHQz8Y+sHQD4Z+MNbPP//5/wfAmQXTumqimwAAAABJRU5ErkJggg==)"
      ],
      "metadata": {
        "id": "wUglmcLq9kBB"
      }
    },
    {
      "cell_type": "markdown",
      "source": [
        "#Analysis - Train Accuracy between 2nd and 3rd Submission (with batch normalization)\n",
        "\n",
        "Here main focus is how soon we are reaching 98% accuracy in training and whether it lasts. With batch normalization, convergence in train is lot faster.\n",
        "\n",
        "![TrainAccuracy.png](data:image/png;base64,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)"
      ],
      "metadata": {
        "id": "k4J39faMBIHb"
      }
    },
    {
      "cell_type": "markdown",
      "source": [
        "#Test Accuracy Comparison between 2nd and 3rd Submission\n",
        "\n",
        "Comfortably we can say that test accuracy has improved while using batch normalization and we are reaching 98 % accuracy faster than earlier. Although we are yet to reach the target test accuracy.\n",
        "\n",
        "\n",
        "![TestAccuracy.png](data:image/png;base64,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)"
      ],
      "metadata": {
        "id": "r0R_5r-FuDSk"
      }
    },
    {
      "cell_type": "markdown",
      "source": [
        "#Comments\n",
        "\n",
        "1. Batch normalization has improved both average train and test accuracy and the model is converging faster.\n",
        "\n",
        "2. Batch normalization increased the number of parameters by around 200. Still we are using only 7700 odd parameters, well within the specified limit."
      ],
      "metadata": {
        "id": "OlRPFYkGBbNQ"
      }
    },
    {
      "cell_type": "code",
      "metadata": {
        "id": "8kH16rnZ7wt_"
      },
      "source": [
        "from __future__ import print_function\n",
        "import torch\n",
        "import torch.nn as nn\n",
        "import torch.nn.functional as F\n",
        "import torch.optim as optim\n",
        "from torchvision import datasets, transforms"
      ],
      "execution_count": null,
      "outputs": []
    },
    {
      "cell_type": "markdown",
      "metadata": {
        "id": "ky3f_Odl-7um"
      },
      "source": [
        "## Data Transformations"
      ]
    },
    {
      "cell_type": "code",
      "metadata": {
        "id": "YtssFUKb-jqx"
      },
      "source": [
        "# Train Phase transformations\n",
        "train_transforms = transforms.Compose([\n",
        "                                      #  transforms.Resize((28, 28)),\n",
        "                                      #  transforms.ColorJitter(brightness=0.10, contrast=0.1, saturation=0.10, hue=0.1),\n",
        "                                       transforms.ToTensor(),\n",
        "                                       transforms.Normalize((0.1307,), (0.3081,)) # The mean and std have to be sequences (e.g., tuples), therefore you should add a comma after the values. \n",
        "                                       # Note the difference between (0.1307) and (0.1307,)\n",
        "                                       ])\n",
        "\n",
        "# Test Phase transformations\n",
        "test_transforms = transforms.Compose([\n",
        "                                      #  transforms.Resize((28, 28)),\n",
        "                                      #  transforms.ColorJitter(brightness=0.10, contrast=0.1, saturation=0.10, hue=0.1),\n",
        "                                       transforms.ToTensor(),\n",
        "                                       transforms.Normalize((0.1307,), (0.3081,))\n",
        "                                       ])\n"
      ],
      "execution_count": null,
      "outputs": []
    },
    {
      "cell_type": "markdown",
      "metadata": {
        "id": "oQciFYo2B1mO"
      },
      "source": [
        "# Dataset and Creating Train/Test Split"
      ]
    },
    {
      "cell_type": "code",
      "metadata": {
        "id": "_4A84rlfDA23",
        "colab": {
          "base_uri": "https://localhost:8080/",
          "height": 423,
          "referenced_widgets": [
            "af8a19fbdadd4559b8e91137b6ca6e88",
            "fe42a331d72449a8a620d28344ba4379",
            "46cf288379e642c797dd094d9c591118",
            "d00ed76ea0334eadacb054f814be1e6c",
            "9689b27c0d1a422c98858a78380d99f8",
            "ce72b56a64c245dbb77f14528b2e0db5",
            "b72387d5c4ca45fab78d1084f6911152",
            "7d47464d23ac44708edc042e48935cd2",
            "01b50563b0364bc4a3588e7192f223de",
            "ba0c62aab9b6465f9d68008d6f6ae3d4",
            "9e7d5117628e477c81cac7b72a45eedd",
            "ca91427d9b70442d880118eb7656b488",
            "1eba05ed87cb4c4da5857b2aa92c5b72",
            "d165220ae14f41ae81feaa16535a4010",
            "6e613bd445f54d42baa41b129a40f192",
            "4bc2508f2aa04bdbb0760ee3e3031089",
            "a5c5091d3f7148a0b7314ed7863dbc7c",
            "022b7dc7a1d74aafab2594d5719c3b18",
            "11da559f52b346428b80a89d4850eadb",
            "c85a7e561c73414fb8a60fb1d1fdc247",
            "2fb945543fc2405ba8efec4689fb4d38",
            "60b73a1ab17347f7913a98484c301338",
            "dd574e83138343bd8535c1c1e3b7ec01",
            "c60b0a40351b493c90ae70cf32ba3b98",
            "e9595facc035467c9f097212f4ce80c8",
            "f5edbc6c06fe4c2494913fa08fee1073",
            "0355cbd77d75478b84b75c37ffd8674d",
            "62833dbef982447cae583c5c494aede2",
            "0b0f028a81d349a8be8fb93bcc31489c",
            "3bd6e24a27a349fb9e4aadf87e3db445",
            "b19f887fa803438d8635006ea9ef1e34",
            "15b766445eb04179b7f749499887be01",
            "e83181936322416699efcfdfe94ad75a",
            "2fbab2b481384db690427586d4345267",
            "5b9f6fe3e515447195c72e7974b72a4e",
            "b221ac0c2cfa4bebb4d37a289328bb9b",
            "1a42df8bc2174cbcaf72101ce5ca6cb3",
            "f2ba8dfa216147ab9c12d6437156472b",
            "fa18c5ee56cd47aab4e3f6370a129f5f",
            "9d47560a537d45458917df09569a0a7d",
            "b3577548c45c42768f798f1a80a04045",
            "de41188b3a4e44c2935715d5fb5d9f34",
            "7ff2bc05ab514989879048cfebce3539",
            "1076caf9757841a7be6368f4c2259d12"
          ]
        },
        "outputId": "4ecc8507-97ca-4a45-d352-a05b006edaee"
      },
      "source": [
        "train = datasets.MNIST('./data', train=True, download=True, transform=train_transforms)\n",
        "test = datasets.MNIST('./data', train=False, download=True, transform=test_transforms)"
      ],
      "execution_count": null,
      "outputs": [
        {
          "output_type": "stream",
          "name": "stdout",
          "text": [
            "Downloading http://yann.lecun.com/exdb/mnist/train-images-idx3-ubyte.gz\n",
            "Downloading http://yann.lecun.com/exdb/mnist/train-images-idx3-ubyte.gz to ./data/MNIST/raw/train-images-idx3-ubyte.gz\n"
          ]
        },
        {
          "output_type": "display_data",
          "data": {
            "text/plain": [
              "  0%|          | 0/9912422 [00:00<?, ?it/s]"
            ],
            "application/vnd.jupyter.widget-view+json": {
              "version_major": 2,
              "version_minor": 0,
              "model_id": "af8a19fbdadd4559b8e91137b6ca6e88"
            }
          },
          "metadata": {}
        },
        {
          "output_type": "stream",
          "name": "stdout",
          "text": [
            "Extracting ./data/MNIST/raw/train-images-idx3-ubyte.gz to ./data/MNIST/raw\n",
            "\n",
            "Downloading http://yann.lecun.com/exdb/mnist/train-labels-idx1-ubyte.gz\n",
            "Downloading http://yann.lecun.com/exdb/mnist/train-labels-idx1-ubyte.gz to ./data/MNIST/raw/train-labels-idx1-ubyte.gz\n"
          ]
        },
        {
          "output_type": "display_data",
          "data": {
            "text/plain": [
              "  0%|          | 0/28881 [00:00<?, ?it/s]"
            ],
            "application/vnd.jupyter.widget-view+json": {
              "version_major": 2,
              "version_minor": 0,
              "model_id": "ca91427d9b70442d880118eb7656b488"
            }
          },
          "metadata": {}
        },
        {
          "output_type": "stream",
          "name": "stdout",
          "text": [
            "Extracting ./data/MNIST/raw/train-labels-idx1-ubyte.gz to ./data/MNIST/raw\n",
            "\n",
            "Downloading http://yann.lecun.com/exdb/mnist/t10k-images-idx3-ubyte.gz\n",
            "Downloading http://yann.lecun.com/exdb/mnist/t10k-images-idx3-ubyte.gz to ./data/MNIST/raw/t10k-images-idx3-ubyte.gz\n"
          ]
        },
        {
          "output_type": "display_data",
          "data": {
            "text/plain": [
              "  0%|          | 0/1648877 [00:00<?, ?it/s]"
            ],
            "application/vnd.jupyter.widget-view+json": {
              "version_major": 2,
              "version_minor": 0,
              "model_id": "dd574e83138343bd8535c1c1e3b7ec01"
            }
          },
          "metadata": {}
        },
        {
          "output_type": "stream",
          "name": "stdout",
          "text": [
            "Extracting ./data/MNIST/raw/t10k-images-idx3-ubyte.gz to ./data/MNIST/raw\n",
            "\n",
            "Downloading http://yann.lecun.com/exdb/mnist/t10k-labels-idx1-ubyte.gz\n",
            "Downloading http://yann.lecun.com/exdb/mnist/t10k-labels-idx1-ubyte.gz to ./data/MNIST/raw/t10k-labels-idx1-ubyte.gz\n"
          ]
        },
        {
          "output_type": "display_data",
          "data": {
            "text/plain": [
              "  0%|          | 0/4542 [00:00<?, ?it/s]"
            ],
            "application/vnd.jupyter.widget-view+json": {
              "version_major": 2,
              "version_minor": 0,
              "model_id": "2fbab2b481384db690427586d4345267"
            }
          },
          "metadata": {}
        },
        {
          "output_type": "stream",
          "name": "stdout",
          "text": [
            "Extracting ./data/MNIST/raw/t10k-labels-idx1-ubyte.gz to ./data/MNIST/raw\n",
            "\n"
          ]
        }
      ]
    },
    {
      "cell_type": "markdown",
      "metadata": {
        "id": "qgldp_3-Dn0c"
      },
      "source": [
        "# Dataloader Arguments & Test/Train Dataloaders\n"
      ]
    },
    {
      "cell_type": "code",
      "metadata": {
        "id": "C8OLDR79DrHG",
        "colab": {
          "base_uri": "https://localhost:8080/"
        },
        "outputId": "350657cb-2450-4792-da0d-9b7c95cc3ff4"
      },
      "source": [
        "SEED = 1\n",
        "\n",
        "# CUDA?\n",
        "cuda = torch.cuda.is_available()\n",
        "print(\"CUDA Available?\", cuda)\n",
        "\n",
        "# For reproducibility\n",
        "torch.manual_seed(SEED)\n",
        "\n",
        "if cuda:\n",
        "    torch.cuda.manual_seed(SEED)\n",
        "\n",
        "# dataloader arguments - something you'll fetch these from cmdprmt\n",
        "dataloader_args = dict(shuffle=True, batch_size=128, num_workers=4, pin_memory=True) if cuda else dict(shuffle=True, batch_size=64)\n",
        "\n",
        "# train dataloader\n",
        "train_loader = torch.utils.data.DataLoader(train, **dataloader_args)\n",
        "\n",
        "# test dataloader\n",
        "test_loader = torch.utils.data.DataLoader(test, **dataloader_args)"
      ],
      "execution_count": null,
      "outputs": [
        {
          "output_type": "stream",
          "name": "stdout",
          "text": [
            "CUDA Available? True\n"
          ]
        },
        {
          "output_type": "stream",
          "name": "stderr",
          "text": [
            "/usr/local/lib/python3.8/dist-packages/torch/utils/data/dataloader.py:554: UserWarning: This DataLoader will create 4 worker processes in total. Our suggested max number of worker in current system is 2, which is smaller than what this DataLoader is going to create. Please be aware that excessive worker creation might get DataLoader running slow or even freeze, lower the worker number to avoid potential slowness/freeze if necessary.\n",
            "  warnings.warn(_create_warning_msg(\n"
          ]
        }
      ]
    },
    {
      "cell_type": "markdown",
      "metadata": {
        "id": "-TFjoFekE_va"
      },
      "source": [
        "# Data Statistics"
      ]
    },
    {
      "cell_type": "code",
      "metadata": {
        "id": "hWZPPo3yEHDW",
        "colab": {
          "base_uri": "https://localhost:8080/",
          "height": 491
        },
        "outputId": "618ce2f1-e6b3-4865-e6a2-4590f3e7d623"
      },
      "source": [
        "# We'd need to convert it into Numpy! Remember above we have converted it into tensors already\n",
        "train_data = train.train_data\n",
        "train_data = train.transform(train_data.numpy())\n",
        "\n",
        "print('[Train]')\n",
        "print(' - Numpy Shape:', train.train_data.cpu().numpy().shape)\n",
        "print(' - Tensor Shape:', train.train_data.size())\n",
        "print(' - min:', torch.min(train_data))\n",
        "print(' - max:', torch.max(train_data))\n",
        "print(' - mean:', torch.mean(train_data))\n",
        "print(' - std:', torch.std(train_data))\n",
        "print(' - var:', torch.var(train_data))\n",
        "\n",
        "dataiter = iter(train_loader)\n",
        "images, labels = next(dataiter)\n",
        "\n",
        "print(images.shape)\n",
        "print(labels.shape)\n",
        "\n",
        "# Let's visualize some of the images\n",
        "%matplotlib inline\n",
        "import matplotlib.pyplot as plt\n",
        "\n",
        "plt.imshow(images[0].numpy().squeeze(), cmap='gray_r')\n"
      ],
      "execution_count": null,
      "outputs": [
        {
          "output_type": "stream",
          "name": "stderr",
          "text": [
            "/usr/local/lib/python3.8/dist-packages/torchvision/datasets/mnist.py:75: UserWarning: train_data has been renamed data\n",
            "  warnings.warn(\"train_data has been renamed data\")\n"
          ]
        },
        {
          "output_type": "stream",
          "name": "stdout",
          "text": [
            "[Train]\n",
            " - Numpy Shape: (60000, 28, 28)\n",
            " - Tensor Shape: torch.Size([60000, 28, 28])\n",
            " - min: tensor(-0.4242)\n",
            " - max: tensor(2.8215)\n",
            " - mean: tensor(-0.0001)\n",
            " - std: tensor(1.0000)\n",
            " - var: tensor(1.0001)\n",
            "torch.Size([128, 1, 28, 28])\n",
            "torch.Size([128])\n"
          ]
        },
        {
          "output_type": "execute_result",
          "data": {
            "text/plain": [
              "<matplotlib.image.AxesImage at 0x7fe1d1b805e0>"
            ]
          },
          "metadata": {},
          "execution_count": 5
        },
        {
          "output_type": "display_data",
          "data": {
            "text/plain": [
              "<Figure size 432x288 with 1 Axes>"
            ],
            "image/png": "[encoded data removed]"
          },
          "metadata": {
            "needs_background": "light"
          }
        }
      ]
    },
    {
      "cell_type": "markdown",
      "metadata": {
        "id": "7l9lNaWYKuik"
      },
      "source": [
        "## MORE\n",
        "\n",
        "It is important that we view as many images as possible."
      ]
    },
    {
      "cell_type": "code",
      "metadata": {
        "id": "hXXAg8hbK16u",
        "colab": {
          "base_uri": "https://localhost:8080/",
          "height": 246
        },
        "outputId": "165c722f-124f-42e3-eb29-8516bb6ad8ee"
      },
      "source": [
        "figure = plt.figure()\n",
        "num_of_images = 60\n",
        "for index in range(1, num_of_images + 1):\n",
        "    plt.subplot(6, 10, index)\n",
        "    plt.axis('off')\n",
        "    plt.imshow(images[index].numpy().squeeze(), cmap='gray_r')"
      ],
      "execution_count": null,
      "outputs": [
        {
          "output_type": "display_data",
          "data": {
            "text/plain": [
              "<Figure size 432x288 with 60 Axes>"
            ],
            "image/png": "[encoded data removed]"
          },
          "metadata": {
            "needs_background": "light"
          }
        }
      ]
    },
    {
      "cell_type": "markdown",
      "metadata": {
        "id": "JF5-8_I3G6ix"
      },
      "source": [
        "# How did we get those mean and std values which we used above?\n",
        "\n"
      ]
    },
    {
      "cell_type": "code",
      "metadata": {
        "id": "yooPHm_aFc5A",
        "colab": {
          "base_uri": "https://localhost:8080/"
        },
        "outputId": "53de5064-f3ce-45ce-e086-e3919d20df0b"
      },
      "source": [
        "# simple transform\n",
        "simple_transforms = transforms.Compose([\n",
        "                                      #  transforms.Resize((28, 28)),\n",
        "                                      #  transforms.ColorJitter(brightness=0.10, contrast=0.1, saturation=0.10, hue=0.1),\n",
        "                                       transforms.ToTensor(),\n",
        "                                      #  transforms.Normalize((0.1307,), (0.3081,)) # The mean and std have to be sequences (e.g., tuples), therefore you should add a comma after the values. \n",
        "                                       # Note the difference between (0.1307) and (0.1307,)\n",
        "                                       ])\n",
        "exp = datasets.MNIST('./data', train=True, download=True, transform=simple_transforms)\n",
        "exp_data = exp.train_data\n",
        "exp_data = exp.transform(exp_data.numpy())\n",
        "\n",
        "print('[Train]')\n",
        "print(' - Numpy Shape:', exp.train_data.cpu().numpy().shape)\n",
        "print(' - Tensor Shape:', exp.train_data.size())\n",
        "print(' - min:', torch.min(exp_data))\n",
        "print(' - max:', torch.max(exp_data))\n",
        "print(' - mean:', torch.mean(exp_data))\n",
        "print(' - std:', torch.std(exp_data))\n",
        "print(' - var:', torch.var(exp_data))"
      ],
      "execution_count": null,
      "outputs": [
        {
          "output_type": "stream",
          "name": "stdout",
          "text": [
            "[Train]\n",
            " - Numpy Shape: (60000, 28, 28)\n",
            " - Tensor Shape: torch.Size([60000, 28, 28])\n",
            " - min: tensor(0.)\n",
            " - max: tensor(1.)\n",
            " - mean: tensor(0.1307)\n",
            " - std: tensor(0.3081)\n",
            " - var: tensor(0.0949)\n"
          ]
        }
      ]
    },
    {
      "cell_type": "markdown",
      "metadata": {
        "id": "ubQL3H6RJL3h"
      },
      "source": [
        "# The model\n"
      ]
    },
    {
      "cell_type": "code",
      "metadata": {
        "id": "7FXQlB9kH1ov"
      },
      "source": [
        "class Net(nn.Module):\n",
        "    def __init__(self):\n",
        "        super(Net, self).__init__()\n",
        "        self.conv1 = nn.Conv2d(1, 8, 3) # 26 * 26 * 8\n",
        "        self.bn1 = nn.BatchNorm2d(8) # 26 * 26 * 8\n",
        "        self.conv2 = nn.Conv2d(8, 16, 3) # 24 * 24 * 16\n",
        "        self.bn2 = nn.BatchNorm2d(16) # 24 * 24 * 16\n",
        "        self.pool1 = nn.MaxPool2d(2, 2) # 12 * 12 * 16\n",
        "        self.conv3 = nn.Conv2d(16, 8, 1) # 12 * 12 * 8\n",
        "        self.bn3 = nn.BatchNorm2d(8) # 12 * 12 * 8\n",
        "\n",
        "        self.conv4 = nn.Conv2d(8, 16, 3) # 10 * 10 * 16\n",
        "        self.bn4 = nn.BatchNorm2d(16) # 10 * 10 * 16\n",
        "        self.conv5 = nn.Conv2d(16, 24, 3) # 8 * 8 * 24\n",
        "        self.bn5 = nn.BatchNorm2d(24) # 8 * 8 * 24\n",
        "        self.pool2 = nn.AvgPool2d(8) # 1 * 1 * 24\n",
        "\n",
        "        self.conv6 = nn.Conv2d(24, 32, 1) # 1 * 1 * 32\n",
        "        self.bn6 = nn.BatchNorm2d(32) # 1 * 1 * 32\n",
        "        self.conv7 = nn.Conv2d(32, 16, 1) # 1 * 1 * 16\n",
        "        self.bn7 = nn.BatchNorm2d(16) # 1 * 1 * 16\n",
        "        self.conv8 = nn.Conv2d(16, 10, 1) # 1 * 1 * 10\n",
        "\n",
        "        \n",
        "\n",
        "    def forward(self, x):\n",
        "        x = self.bn3(self.conv3(self.pool1(self.bn2(self.conv2(F.relu(self.bn1(self.conv1(x))))))))\n",
        "        x = self.pool2(self.bn5(F.relu(self.conv5(self.bn4(F.relu(self.conv4(x)))))))\n",
        "        x = self.conv8(self.bn7(F.relu(self.conv7(self.bn6(F.relu(self.conv6(x)))))))\n",
        "        x = x.view(-1, 10)\n",
        "        return F.log_softmax(x, dim=-1)"
      ],
      "execution_count": null,
      "outputs": []
    },
    {
      "cell_type": "markdown",
      "metadata": {
        "id": "M3-vp8X9LCWo"
      },
      "source": [
        "# Model Params"
      ]
    },
    {
      "cell_type": "code",
      "metadata": {
        "id": "5skB97zIJQQe",
        "colab": {
          "base_uri": "https://localhost:8080/"
        },
        "outputId": "6ca0517c-440c-447f-87ee-9a1b7dcd171e"
      },
      "source": [
        "!pip install torchsummary\n",
        "from torchsummary import summary\n",
        "use_cuda = torch.cuda.is_available()\n",
        "device = torch.device(\"cuda\" if use_cuda else \"cpu\")\n",
        "print(device)\n",
        "model = Net().to(device)\n",
        "summary(model, input_size=(1, 28, 28))"
      ],
      "execution_count": null,
      "outputs": [
        {
          "output_type": "stream",
          "name": "stdout",
          "text": [
            "Looking in indexes: https://pypi.org/simple, https://us-python.pkg.dev/colab-wheels/public/simple/\n",
            "Requirement already satisfied: torchsummary in /usr/local/lib/python3.8/dist-packages (1.5.1)\n",
            "cuda\n",
            "----------------------------------------------------------------\n",
            "        Layer (type)               Output Shape         Param #\n",
            "================================================================\n",
            "            Conv2d-1            [-1, 8, 26, 26]              80\n",
            "       BatchNorm2d-2            [-1, 8, 26, 26]              16\n",
            "            Conv2d-3           [-1, 16, 24, 24]           1,168\n",
            "       BatchNorm2d-4           [-1, 16, 24, 24]              32\n",
            "         MaxPool2d-5           [-1, 16, 12, 12]               0\n",
            "            Conv2d-6            [-1, 8, 12, 12]             136\n",
            "       BatchNorm2d-7            [-1, 8, 12, 12]              16\n",
            "            Conv2d-8           [-1, 16, 10, 10]           1,168\n",
            "       BatchNorm2d-9           [-1, 16, 10, 10]              32\n",
            "           Conv2d-10             [-1, 24, 8, 8]           3,480\n",
            "      BatchNorm2d-11             [-1, 24, 8, 8]              48\n",
            "        AvgPool2d-12             [-1, 24, 1, 1]               0\n",
            "           Conv2d-13             [-1, 32, 1, 1]             800\n",
            "      BatchNorm2d-14             [-1, 32, 1, 1]              64\n",
            "           Conv2d-15             [-1, 16, 1, 1]             528\n",
            "      BatchNorm2d-16             [-1, 16, 1, 1]              32\n",
            "           Conv2d-17             [-1, 10, 1, 1]             170\n",
            "================================================================\n",
            "Total params: 7,770\n",
            "Trainable params: 7,770\n",
            "Non-trainable params: 0\n",
            "----------------------------------------------------------------\n",
            "Input size (MB): 0.00\n",
            "Forward/backward pass size (MB): 0.31\n",
            "Params size (MB): 0.03\n",
            "Estimated Total Size (MB): 0.34\n",
            "----------------------------------------------------------------\n"
          ]
        }
      ]
    },
    {
      "cell_type": "markdown",
      "metadata": {
        "id": "1__x_SbrL7z3"
      },
      "source": [
        "# Training and Testing"
      ]
    },
    {
      "cell_type": "code",
      "metadata": {
        "id": "fbkF2nN_LYIb"
      },
      "source": [
        "from tqdm import tqdm\n",
        "\n",
        "train_losses = []\n",
        "test_losses = []\n",
        "train_acc = []\n",
        "test_acc = []\n",
        "\n",
        "def train(model, device, train_loader, optimizer, epoch):\n",
        "  model.train()\n",
        "  pbar = tqdm(train_loader)\n",
        "  correct = 0\n",
        "  processed = 0\n",
        "  for batch_idx, (data, target) in enumerate(pbar):\n",
        "    # get samples\n",
        "    data, target = data.to(device), target.to(device)\n",
        "\n",
        "    # Init\n",
        "    optimizer.zero_grad()\n",
        "    # In PyTorch, we need to set the gradients to zero before starting to do backpropragation because PyTorch accumulates the gradients on subsequent backward passes. \n",
        "    # Because of this, when you start your training loop, ideally you should zero out the gradients so that you do the parameter update correctly.\n",
        "\n",
        "    # Predict\n",
        "    y_pred = model(data)\n",
        "\n",
        "    # Calculate loss\n",
        "    loss = F.nll_loss(y_pred, target)\n",
        "    train_losses.append(loss)\n",
        "\n",
        "    # Backpropagation\n",
        "    loss.backward()\n",
        "    optimizer.step()\n",
        "\n",
        "    # Update pbar-tqdm\n",
        "    \n",
        "    pred = y_pred.argmax(dim=1, keepdim=True)  # get the index of the max log-probability\n",
        "    correct += pred.eq(target.view_as(pred)).sum().item()\n",
        "    processed += len(data)\n",
        "\n",
        "    pbar.set_description(desc= f'Loss={loss.item()} Batch_id={batch_idx} Accuracy={100*correct/processed:0.2f}')\n",
        "    train_acc.append(100*correct/processed)\n",
        "\n",
        "def test(model, device, test_loader):\n",
        "    model.eval()\n",
        "    test_loss = 0\n",
        "    correct = 0\n",
        "    with torch.no_grad():\n",
        "        for data, target in test_loader:\n",
        "            data, target = data.to(device), target.to(device)\n",
        "            output = model(data)\n",
        "            test_loss += F.nll_loss(output, target, reduction='sum').item()  # sum up batch loss\n",
        "            pred = output.argmax(dim=1, keepdim=True)  # get the index of the max log-probability\n",
        "            correct += pred.eq(target.view_as(pred)).sum().item()\n",
        "\n",
        "    test_loss /= len(test_loader.dataset)\n",
        "    test_losses.append(test_loss)\n",
        "\n",
        "    print('\\nTest set: Average loss: {:.4f}, Accuracy: {}/{} ({:.2f}%)\\n'.format(\n",
        "        test_loss, correct, len(test_loader.dataset),\n",
        "        100. * correct / len(test_loader.dataset)))\n",
        "    \n",
        "    test_acc.append(100. * correct / len(test_loader.dataset))"
      ],
      "execution_count": null,
      "outputs": []
    },
    {
      "cell_type": "markdown",
      "metadata": {
        "id": "drokW8wWODKq"
      },
      "source": [
        "# Let's Train and test our model"
      ]
    },
    {
      "cell_type": "code",
      "metadata": {
        "id": "xMCFxeAKOB53",
        "colab": {
          "base_uri": "https://localhost:8080/"
        },
        "outputId": "baf36dd2-4ad6-48d6-8c06-a03b8c3de6e2"
      },
      "source": [
        "model =  Net().to(device)\n",
        "optimizer = optim.SGD(model.parameters(), lr=0.01, momentum=0.9)\n",
        "EPOCHS = 15\n",
        "for epoch in range(EPOCHS):\n",
        "    print(\"EPOCH:\", epoch)\n",
        "    train(model, device, train_loader, optimizer, epoch)\n",
        "    test(model, device, test_loader)"
      ],
      "execution_count": null,
      "outputs": [
        {
          "output_type": "stream",
          "name": "stdout",
          "text": [
            "EPOCH: 0\n"
          ]
        },
        {
          "output_type": "stream",
          "name": "stderr",
          "text": [
            "Loss=0.08500686287879944 Batch_id=468 Accuracy=91.89: 100%|██████████| 469/469 [00:19<00:00, 23.87it/s]\n"
          ]
        },
        {
          "output_type": "stream",
          "name": "stdout",
          "text": [
            "\n",
            "Test set: Average loss: 0.0995, Accuracy: 9714/10000 (97.14%)\n",
            "\n",
            "EPOCH: 1\n"
          ]
        },
        {
          "output_type": "stream",
          "name": "stderr",
          "text": [
            "Loss=0.07431977242231369 Batch_id=468 Accuracy=97.82: 100%|██████████| 469/469 [00:14<00:00, 32.84it/s]\n"
          ]
        },
        {
          "output_type": "stream",
          "name": "stdout",
          "text": [
            "\n",
            "Test set: Average loss: 0.0708, Accuracy: 9797/10000 (97.97%)\n",
            "\n",
            "EPOCH: 2\n"
          ]
        },
        {
          "output_type": "stream",
          "name": "stderr",
          "text": [
            "Loss=0.11868520826101303 Batch_id=468 Accuracy=98.36: 100%|██████████| 469/469 [00:14<00:00, 32.26it/s]\n"
          ]
        },
        {
          "output_type": "stream",
          "name": "stdout",
          "text": [
            "\n",
            "Test set: Average loss: 0.0440, Accuracy: 9866/10000 (98.66%)\n",
            "\n",
            "EPOCH: 3\n"
          ]
        },
        {
          "output_type": "stream",
          "name": "stderr",
          "text": [
            "Loss=0.11161275953054428 Batch_id=468 Accuracy=98.67: 100%|██████████| 469/469 [00:14<00:00, 32.99it/s]\n"
          ]
        },
        {
          "output_type": "stream",
          "name": "stdout",
          "text": [
            "\n",
            "Test set: Average loss: 0.0359, Accuracy: 9887/10000 (98.87%)\n",
            "\n",
            "EPOCH: 4\n"
          ]
        },
        {
          "output_type": "stream",
          "name": "stderr",
          "text": [
            "Loss=0.04690796509385109 Batch_id=468 Accuracy=98.80: 100%|██████████| 469/469 [00:14<00:00, 32.46it/s]\n"
          ]
        },
        {
          "output_type": "stream",
          "name": "stdout",
          "text": [
            "\n",
            "Test set: Average loss: 0.0447, Accuracy: 9857/10000 (98.57%)\n",
            "\n",
            "EPOCH: 5\n"
          ]
        },
        {
          "output_type": "stream",
          "name": "stderr",
          "text": [
            "Loss=0.08476153016090393 Batch_id=468 Accuracy=98.90: 100%|██████████| 469/469 [00:14<00:00, 32.54it/s]\n"
          ]
        },
        {
          "output_type": "stream",
          "name": "stdout",
          "text": [
            "\n",
            "Test set: Average loss: 0.0385, Accuracy: 9877/10000 (98.77%)\n",
            "\n",
            "EPOCH: 6\n"
          ]
        },
        {
          "output_type": "stream",
          "name": "stderr",
          "text": [
            "Loss=0.010062671266496181 Batch_id=468 Accuracy=98.96: 100%|██████████| 469/469 [00:15<00:00, 30.17it/s]\n"
          ]
        },
        {
          "output_type": "stream",
          "name": "stdout",
          "text": [
            "\n",
            "Test set: Average loss: 0.0340, Accuracy: 9893/10000 (98.93%)\n",
            "\n",
            "EPOCH: 7\n"
          ]
        },
        {
          "output_type": "stream",
          "name": "stderr",
          "text": [
            "Loss=0.06732156127691269 Batch_id=468 Accuracy=99.00: 100%|██████████| 469/469 [00:14<00:00, 33.13it/s]\n"
          ]
        },
        {
          "output_type": "stream",
          "name": "stdout",
          "text": [
            "\n",
            "Test set: Average loss: 0.0278, Accuracy: 9910/10000 (99.10%)\n",
            "\n",
            "EPOCH: 8\n"
          ]
        },
        {
          "output_type": "stream",
          "name": "stderr",
          "text": [
            "Loss=0.0017466951394453645 Batch_id=468 Accuracy=99.12: 100%|██████████| 469/469 [00:14<00:00, 33.07it/s]\n"
          ]
        },
        {
          "output_type": "stream",
          "name": "stdout",
          "text": [
            "\n",
            "Test set: Average loss: 0.0327, Accuracy: 9897/10000 (98.97%)\n",
            "\n",
            "EPOCH: 9\n"
          ]
        },
        {
          "output_type": "stream",
          "name": "stderr",
          "text": [
            "Loss=0.0023736897855997086 Batch_id=468 Accuracy=99.19: 100%|██████████| 469/469 [00:13<00:00, 33.63it/s]\n"
          ]
        },
        {
          "output_type": "stream",
          "name": "stdout",
          "text": [
            "\n",
            "Test set: Average loss: 0.0342, Accuracy: 9883/10000 (98.83%)\n",
            "\n",
            "EPOCH: 10\n"
          ]
        },
        {
          "output_type": "stream",
          "name": "stderr",
          "text": [
            "Loss=0.008427104912698269 Batch_id=468 Accuracy=99.19: 100%|██████████| 469/469 [00:14<00:00, 33.33it/s]\n"
          ]
        },
        {
          "output_type": "stream",
          "name": "stdout",
          "text": [
            "\n",
            "Test set: Average loss: 0.0336, Accuracy: 9888/10000 (98.88%)\n",
            "\n",
            "EPOCH: 11\n"
          ]
        },
        {
          "output_type": "stream",
          "name": "stderr",
          "text": [
            "Loss=0.04995420202612877 Batch_id=468 Accuracy=99.27: 100%|██████████| 469/469 [00:13<00:00, 33.55it/s]\n"
          ]
        },
        {
          "output_type": "stream",
          "name": "stdout",
          "text": [
            "\n",
            "Test set: Average loss: 0.0386, Accuracy: 9879/10000 (98.79%)\n",
            "\n",
            "EPOCH: 12\n"
          ]
        },
        {
          "output_type": "stream",
          "name": "stderr",
          "text": [
            "Loss=0.06207267567515373 Batch_id=468 Accuracy=99.30: 100%|██████████| 469/469 [00:14<00:00, 33.29it/s]\n"
          ]
        },
        {
          "output_type": "stream",
          "name": "stdout",
          "text": [
            "\n",
            "Test set: Average loss: 0.0286, Accuracy: 9908/10000 (99.08%)\n",
            "\n",
            "EPOCH: 13\n"
          ]
        },
        {
          "output_type": "stream",
          "name": "stderr",
          "text": [
            "Loss=0.02146131545305252 Batch_id=468 Accuracy=99.35: 100%|██████████| 469/469 [00:14<00:00, 32.79it/s]\n"
          ]
        },
        {
          "output_type": "stream",
          "name": "stdout",
          "text": [
            "\n",
            "Test set: Average loss: 0.0295, Accuracy: 9903/10000 (99.03%)\n",
            "\n",
            "EPOCH: 14\n"
          ]
        },
        {
          "output_type": "stream",
          "name": "stderr",
          "text": [
            "Loss=0.07630743086338043 Batch_id=468 Accuracy=99.41: 100%|██████████| 469/469 [00:13<00:00, 33.54it/s]\n"
          ]
        },
        {
          "output_type": "stream",
          "name": "stdout",
          "text": [
            "\n",
            "Test set: Average loss: 0.0295, Accuracy: 9907/10000 (99.07%)\n",
            "\n"
          ]
        }
      ]
    },
    {
      "cell_type": "code",
      "metadata": {
        "id": "odozjbIvY12p"
      },
      "source": [],
      "execution_count": null,
      "outputs": []
    }
  ]
}