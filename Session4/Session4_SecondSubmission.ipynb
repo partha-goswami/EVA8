{
  "nbformat": 4,
  "nbformat_minor": 0,
  "metadata": {
    "colab": {
      "provenance": []
    },
    "kernelspec": {
      "name": "python3",
      "display_name": "Python 3"
    },
    "widgets": {
      "application/vnd.jupyter.widget-state+json": {
        "20573bcd2024438292e04aba6896965c": {
          "model_module": "@jupyter-widgets/controls",
          "model_name": "HBoxModel",
          "model_module_version": "1.5.0",
          "state": {
            "_dom_classes": [],
            "_model_module": "@jupyter-widgets/controls",
            "_model_module_version": "1.5.0",
            "_model_name": "HBoxModel",
            "_view_count": null,
            "_view_module": "@jupyter-widgets/controls",
            "_view_module_version": "1.5.0",
            "_view_name": "HBoxView",
            "box_style": "",
            "children": [
              "IPY_MODEL_393eff3fb1344ad7b93ae8e61532bc84",
              "IPY_MODEL_5a42adf943024425a721d66423795239",
              "IPY_MODEL_153c357f173a4a459a1723ea47088c1e"
            ],
            "layout": "IPY_MODEL_af9d90896a1343bb991d1e2aeaa15f31"
          }
        },
        "393eff3fb1344ad7b93ae8e61532bc84": {
          "model_module": "@jupyter-widgets/controls",
          "model_name": "HTMLModel",
          "model_module_version": "1.5.0",
          "state": {
            "_dom_classes": [],
            "_model_module": "@jupyter-widgets/controls",
            "_model_module_version": "1.5.0",
            "_model_name": "HTMLModel",
            "_view_count": null,
            "_view_module": "@jupyter-widgets/controls",
            "_view_module_version": "1.5.0",
            "_view_name": "HTMLView",
            "description": "",
            "description_tooltip": null,
            "layout": "IPY_MODEL_7dc37b478d8049a5993fb904883ef403",
            "placeholder": "​",
            "style": "IPY_MODEL_ecbfa020adc4495cbb09496464bc8ea6",
            "value": "100%"
          }
        },
        "5a42adf943024425a721d66423795239": {
          "model_module": "@jupyter-widgets/controls",
          "model_name": "FloatProgressModel",
          "model_module_version": "1.5.0",
          "state": {
            "_dom_classes": [],
            "_model_module": "@jupyter-widgets/controls",
            "_model_module_version": "1.5.0",
            "_model_name": "FloatProgressModel",
            "_view_count": null,
            "_view_module": "@jupyter-widgets/controls",
            "_view_module_version": "1.5.0",
            "_view_name": "ProgressView",
            "bar_style": "success",
            "description": "",
            "description_tooltip": null,
            "layout": "IPY_MODEL_e7e125edce1142b38aeba8ae86895d90",
            "max": 9912422,
            "min": 0,
            "orientation": "horizontal",
            "style": "IPY_MODEL_c1c6b2b557eb4fcb850fb06d63a8b031",
            "value": 9912422
          }
        },
        "153c357f173a4a459a1723ea47088c1e": {
          "model_module": "@jupyter-widgets/controls",
          "model_name": "HTMLModel",
          "model_module_version": "1.5.0",
          "state": {
            "_dom_classes": [],
            "_model_module": "@jupyter-widgets/controls",
            "_model_module_version": "1.5.0",
            "_model_name": "HTMLModel",
            "_view_count": null,
            "_view_module": "@jupyter-widgets/controls",
            "_view_module_version": "1.5.0",
            "_view_name": "HTMLView",
            "description": "",
            "description_tooltip": null,
            "layout": "IPY_MODEL_16c587bd9c04418d9ecc427997c82d35",
            "placeholder": "​",
            "style": "IPY_MODEL_66e03065e7024f13b67adf36f10cc638",
            "value": " 9912422/9912422 [00:00&lt;00:00, 123459452.08it/s]"
          }
        },
        "af9d90896a1343bb991d1e2aeaa15f31": {
          "model_module": "@jupyter-widgets/base",
          "model_name": "LayoutModel",
          "model_module_version": "1.2.0",
          "state": {
            "_model_module": "@jupyter-widgets/base",
            "_model_module_version": "1.2.0",
            "_model_name": "LayoutModel",
            "_view_count": null,
            "_view_module": "@jupyter-widgets/base",
            "_view_module_version": "1.2.0",
            "_view_name": "LayoutView",
            "align_content": null,
            "align_items": null,
            "align_self": null,
            "border": null,
            "bottom": null,
            "display": null,
            "flex": null,
            "flex_flow": null,
            "grid_area": null,
            "grid_auto_columns": null,
            "grid_auto_flow": null,
            "grid_auto_rows": null,
            "grid_column": null,
            "grid_gap": null,
            "grid_row": null,
            "grid_template_areas": null,
            "grid_template_columns": null,
            "grid_template_rows": null,
            "height": null,
            "justify_content": null,
            "justify_items": null,
            "left": null,
            "margin": null,
            "max_height": null,
            "max_width": null,
            "min_height": null,
            "min_width": null,
            "object_fit": null,
            "object_position": null,
            "order": null,
            "overflow": null,
            "overflow_x": null,
            "overflow_y": null,
            "padding": null,
            "right": null,
            "top": null,
            "visibility": null,
            "width": null
          }
        },
        "7dc37b478d8049a5993fb904883ef403": {
          "model_module": "@jupyter-widgets/base",
          "model_name": "LayoutModel",
          "model_module_version": "1.2.0",
          "state": {
            "_model_module": "@jupyter-widgets/base",
            "_model_module_version": "1.2.0",
            "_model_name": "LayoutModel",
            "_view_count": null,
            "_view_module": "@jupyter-widgets/base",
            "_view_module_version": "1.2.0",
            "_view_name": "LayoutView",
            "align_content": null,
            "align_items": null,
            "align_self": null,
            "border": null,
            "bottom": null,
            "display": null,
            "flex": null,
            "flex_flow": null,
            "grid_area": null,
            "grid_auto_columns": null,
            "grid_auto_flow": null,
            "grid_auto_rows": null,
            "grid_column": null,
            "grid_gap": null,
            "grid_row": null,
            "grid_template_areas": null,
            "grid_template_columns": null,
            "grid_template_rows": null,
            "height": null,
            "justify_content": null,
            "justify_items": null,
            "left": null,
            "margin": null,
            "max_height": null,
            "max_width": null,
            "min_height": null,
            "min_width": null,
            "object_fit": null,
            "object_position": null,
            "order": null,
            "overflow": null,
            "overflow_x": null,
            "overflow_y": null,
            "padding": null,
            "right": null,
            "top": null,
            "visibility": null,
            "width": null
          }
        },
        "ecbfa020adc4495cbb09496464bc8ea6": {
          "model_module": "@jupyter-widgets/controls",
          "model_name": "DescriptionStyleModel",
          "model_module_version": "1.5.0",
          "state": {
            "_model_module": "@jupyter-widgets/controls",
            "_model_module_version": "1.5.0",
            "_model_name": "DescriptionStyleModel",
            "_view_count": null,
            "_view_module": "@jupyter-widgets/base",
            "_view_module_version": "1.2.0",
            "_view_name": "StyleView",
            "description_width": ""
          }
        },
        "e7e125edce1142b38aeba8ae86895d90": {
          "model_module": "@jupyter-widgets/base",
          "model_name": "LayoutModel",
          "model_module_version": "1.2.0",
          "state": {
            "_model_module": "@jupyter-widgets/base",
            "_model_module_version": "1.2.0",
            "_model_name": "LayoutModel",
            "_view_count": null,
            "_view_module": "@jupyter-widgets/base",
            "_view_module_version": "1.2.0",
            "_view_name": "LayoutView",
            "align_content": null,
            "align_items": null,
            "align_self": null,
            "border": null,
            "bottom": null,
            "display": null,
            "flex": null,
            "flex_flow": null,
            "grid_area": null,
            "grid_auto_columns": null,
            "grid_auto_flow": null,
            "grid_auto_rows": null,
            "grid_column": null,
            "grid_gap": null,
            "grid_row": null,
            "grid_template_areas": null,
            "grid_template_columns": null,
            "grid_template_rows": null,
            "height": null,
            "justify_content": null,
            "justify_items": null,
            "left": null,
            "margin": null,
            "max_height": null,
            "max_width": null,
            "min_height": null,
            "min_width": null,
            "object_fit": null,
            "object_position": null,
            "order": null,
            "overflow": null,
            "overflow_x": null,
            "overflow_y": null,
            "padding": null,
            "right": null,
            "top": null,
            "visibility": null,
            "width": null
          }
        },
        "c1c6b2b557eb4fcb850fb06d63a8b031": {
          "model_module": "@jupyter-widgets/controls",
          "model_name": "ProgressStyleModel",
          "model_module_version": "1.5.0",
          "state": {
            "_model_module": "@jupyter-widgets/controls",
            "_model_module_version": "1.5.0",
            "_model_name": "ProgressStyleModel",
            "_view_count": null,
            "_view_module": "@jupyter-widgets/base",
            "_view_module_version": "1.2.0",
            "_view_name": "StyleView",
            "bar_color": null,
            "description_width": ""
          }
        },
        "16c587bd9c04418d9ecc427997c82d35": {
          "model_module": "@jupyter-widgets/base",
          "model_name": "LayoutModel",
          "model_module_version": "1.2.0",
          "state": {
            "_model_module": "@jupyter-widgets/base",
            "_model_module_version": "1.2.0",
            "_model_name": "LayoutModel",
            "_view_count": null,
            "_view_module": "@jupyter-widgets/base",
            "_view_module_version": "1.2.0",
            "_view_name": "LayoutView",
            "align_content": null,
            "align_items": null,
            "align_self": null,
            "border": null,
            "bottom": null,
            "display": null,
            "flex": null,
            "flex_flow": null,
            "grid_area": null,
            "grid_auto_columns": null,
            "grid_auto_flow": null,
            "grid_auto_rows": null,
            "grid_column": null,
            "grid_gap": null,
            "grid_row": null,
            "grid_template_areas": null,
            "grid_template_columns": null,
            "grid_template_rows": null,
            "height": null,
            "justify_content": null,
            "justify_items": null,
            "left": null,
            "margin": null,
            "max_height": null,
            "max_width": null,
            "min_height": null,
            "min_width": null,
            "object_fit": null,
            "object_position": null,
            "order": null,
            "overflow": null,
            "overflow_x": null,
            "overflow_y": null,
            "padding": null,
            "right": null,
            "top": null,
            "visibility": null,
            "width": null
          }
        },
        "66e03065e7024f13b67adf36f10cc638": {
          "model_module": "@jupyter-widgets/controls",
          "model_name": "DescriptionStyleModel",
          "model_module_version": "1.5.0",
          "state": {
            "_model_module": "@jupyter-widgets/controls",
            "_model_module_version": "1.5.0",
            "_model_name": "DescriptionStyleModel",
            "_view_count": null,
            "_view_module": "@jupyter-widgets/base",
            "_view_module_version": "1.2.0",
            "_view_name": "StyleView",
            "description_width": ""
          }
        },
        "bb2f8239f5c1414f824cd8478d9d1f0d": {
          "model_module": "@jupyter-widgets/controls",
          "model_name": "HBoxModel",
          "model_module_version": "1.5.0",
          "state": {
            "_dom_classes": [],
            "_model_module": "@jupyter-widgets/controls",
            "_model_module_version": "1.5.0",
            "_model_name": "HBoxModel",
            "_view_count": null,
            "_view_module": "@jupyter-widgets/controls",
            "_view_module_version": "1.5.0",
            "_view_name": "HBoxView",
            "box_style": "",
            "children": [
              "IPY_MODEL_732f9cc3884b4f66bf0c248283a1077d",
              "IPY_MODEL_46a416fdd52d4fb6803fe0cbb829a05c",
              "IPY_MODEL_4bad33e89e6a4d42aaed6fa6ec242762"
            ],
            "layout": "IPY_MODEL_1e5ce985a8b545d0b2b336d8a374c50e"
          }
        },
        "732f9cc3884b4f66bf0c248283a1077d": {
          "model_module": "@jupyter-widgets/controls",
          "model_name": "HTMLModel",
          "model_module_version": "1.5.0",
          "state": {
            "_dom_classes": [],
            "_model_module": "@jupyter-widgets/controls",
            "_model_module_version": "1.5.0",
            "_model_name": "HTMLModel",
            "_view_count": null,
            "_view_module": "@jupyter-widgets/controls",
            "_view_module_version": "1.5.0",
            "_view_name": "HTMLView",
            "description": "",
            "description_tooltip": null,
            "layout": "IPY_MODEL_d1942bd8263247b3bf7c2fb2f172afed",
            "placeholder": "​",
            "style": "IPY_MODEL_657c46183a6149ab9d6b49b0b2f632a6",
            "value": "100%"
          }
        },
        "46a416fdd52d4fb6803fe0cbb829a05c": {
          "model_module": "@jupyter-widgets/controls",
          "model_name": "FloatProgressModel",
          "model_module_version": "1.5.0",
          "state": {
            "_dom_classes": [],
            "_model_module": "@jupyter-widgets/controls",
            "_model_module_version": "1.5.0",
            "_model_name": "FloatProgressModel",
            "_view_count": null,
            "_view_module": "@jupyter-widgets/controls",
            "_view_module_version": "1.5.0",
            "_view_name": "ProgressView",
            "bar_style": "success",
            "description": "",
            "description_tooltip": null,
            "layout": "IPY_MODEL_c3b93ea26b4d4ddeb7907194fe784120",
            "max": 28881,
            "min": 0,
            "orientation": "horizontal",
            "style": "IPY_MODEL_2fa5d8d29ba6406896df972647e9799e",
            "value": 28881
          }
        },
        "4bad33e89e6a4d42aaed6fa6ec242762": {
          "model_module": "@jupyter-widgets/controls",
          "model_name": "HTMLModel",
          "model_module_version": "1.5.0",
          "state": {
            "_dom_classes": [],
            "_model_module": "@jupyter-widgets/controls",
            "_model_module_version": "1.5.0",
            "_model_name": "HTMLModel",
            "_view_count": null,
            "_view_module": "@jupyter-widgets/controls",
            "_view_module_version": "1.5.0",
            "_view_name": "HTMLView",
            "description": "",
            "description_tooltip": null,
            "layout": "IPY_MODEL_00fcfd551fd0462ca257abfdb2afb1b9",
            "placeholder": "​",
            "style": "IPY_MODEL_e62c48f452d842439574ac88f7091740",
            "value": " 28881/28881 [00:00&lt;00:00, 1492480.58it/s]"
          }
        },
        "1e5ce985a8b545d0b2b336d8a374c50e": {
          "model_module": "@jupyter-widgets/base",
          "model_name": "LayoutModel",
          "model_module_version": "1.2.0",
          "state": {
            "_model_module": "@jupyter-widgets/base",
            "_model_module_version": "1.2.0",
            "_model_name": "LayoutModel",
            "_view_count": null,
            "_view_module": "@jupyter-widgets/base",
            "_view_module_version": "1.2.0",
            "_view_name": "LayoutView",
            "align_content": null,
            "align_items": null,
            "align_self": null,
            "border": null,
            "bottom": null,
            "display": null,
            "flex": null,
            "flex_flow": null,
            "grid_area": null,
            "grid_auto_columns": null,
            "grid_auto_flow": null,
            "grid_auto_rows": null,
            "grid_column": null,
            "grid_gap": null,
            "grid_row": null,
            "grid_template_areas": null,
            "grid_template_columns": null,
            "grid_template_rows": null,
            "height": null,
            "justify_content": null,
            "justify_items": null,
            "left": null,
            "margin": null,
            "max_height": null,
            "max_width": null,
            "min_height": null,
            "min_width": null,
            "object_fit": null,
            "object_position": null,
            "order": null,
            "overflow": null,
            "overflow_x": null,
            "overflow_y": null,
            "padding": null,
            "right": null,
            "top": null,
            "visibility": null,
            "width": null
          }
        },
        "d1942bd8263247b3bf7c2fb2f172afed": {
          "model_module": "@jupyter-widgets/base",
          "model_name": "LayoutModel",
          "model_module_version": "1.2.0",
          "state": {
            "_model_module": "@jupyter-widgets/base",
            "_model_module_version": "1.2.0",
            "_model_name": "LayoutModel",
            "_view_count": null,
            "_view_module": "@jupyter-widgets/base",
            "_view_module_version": "1.2.0",
            "_view_name": "LayoutView",
            "align_content": null,
            "align_items": null,
            "align_self": null,
            "border": null,
            "bottom": null,
            "display": null,
            "flex": null,
            "flex_flow": null,
            "grid_area": null,
            "grid_auto_columns": null,
            "grid_auto_flow": null,
            "grid_auto_rows": null,
            "grid_column": null,
            "grid_gap": null,
            "grid_row": null,
            "grid_template_areas": null,
            "grid_template_columns": null,
            "grid_template_rows": null,
            "height": null,
            "justify_content": null,
            "justify_items": null,
            "left": null,
            "margin": null,
            "max_height": null,
            "max_width": null,
            "min_height": null,
            "min_width": null,
            "object_fit": null,
            "object_position": null,
            "order": null,
            "overflow": null,
            "overflow_x": null,
            "overflow_y": null,
            "padding": null,
            "right": null,
            "top": null,
            "visibility": null,
            "width": null
          }
        },
        "657c46183a6149ab9d6b49b0b2f632a6": {
          "model_module": "@jupyter-widgets/controls",
          "model_name": "DescriptionStyleModel",
          "model_module_version": "1.5.0",
          "state": {
            "_model_module": "@jupyter-widgets/controls",
            "_model_module_version": "1.5.0",
            "_model_name": "DescriptionStyleModel",
            "_view_count": null,
            "_view_module": "@jupyter-widgets/base",
            "_view_module_version": "1.2.0",
            "_view_name": "StyleView",
            "description_width": ""
          }
        },
        "c3b93ea26b4d4ddeb7907194fe784120": {
          "model_module": "@jupyter-widgets/base",
          "model_name": "LayoutModel",
          "model_module_version": "1.2.0",
          "state": {
            "_model_module": "@jupyter-widgets/base",
            "_model_module_version": "1.2.0",
            "_model_name": "LayoutModel",
            "_view_count": null,
            "_view_module": "@jupyter-widgets/base",
            "_view_module_version": "1.2.0",
            "_view_name": "LayoutView",
            "align_content": null,
            "align_items": null,
            "align_self": null,
            "border": null,
            "bottom": null,
            "display": null,
            "flex": null,
            "flex_flow": null,
            "grid_area": null,
            "grid_auto_columns": null,
            "grid_auto_flow": null,
            "grid_auto_rows": null,
            "grid_column": null,
            "grid_gap": null,
            "grid_row": null,
            "grid_template_areas": null,
            "grid_template_columns": null,
            "grid_template_rows": null,
            "height": null,
            "justify_content": null,
            "justify_items": null,
            "left": null,
            "margin": null,
            "max_height": null,
            "max_width": null,
            "min_height": null,
            "min_width": null,
            "object_fit": null,
            "object_position": null,
            "order": null,
            "overflow": null,
            "overflow_x": null,
            "overflow_y": null,
            "padding": null,
            "right": null,
            "top": null,
            "visibility": null,
            "width": null
          }
        },
        "2fa5d8d29ba6406896df972647e9799e": {
          "model_module": "@jupyter-widgets/controls",
          "model_name": "ProgressStyleModel",
          "model_module_version": "1.5.0",
          "state": {
            "_model_module": "@jupyter-widgets/controls",
            "_model_module_version": "1.5.0",
            "_model_name": "ProgressStyleModel",
            "_view_count": null,
            "_view_module": "@jupyter-widgets/base",
            "_view_module_version": "1.2.0",
            "_view_name": "StyleView",
            "bar_color": null,
            "description_width": ""
          }
        },
        "00fcfd551fd0462ca257abfdb2afb1b9": {
          "model_module": "@jupyter-widgets/base",
          "model_name": "LayoutModel",
          "model_module_version": "1.2.0",
          "state": {
            "_model_module": "@jupyter-widgets/base",
            "_model_module_version": "1.2.0",
            "_model_name": "LayoutModel",
            "_view_count": null,
            "_view_module": "@jupyter-widgets/base",
            "_view_module_version": "1.2.0",
            "_view_name": "LayoutView",
            "align_content": null,
            "align_items": null,
            "align_self": null,
            "border": null,
            "bottom": null,
            "display": null,
            "flex": null,
            "flex_flow": null,
            "grid_area": null,
            "grid_auto_columns": null,
            "grid_auto_flow": null,
            "grid_auto_rows": null,
            "grid_column": null,
            "grid_gap": null,
            "grid_row": null,
            "grid_template_areas": null,
            "grid_template_columns": null,
            "grid_template_rows": null,
            "height": null,
            "justify_content": null,
            "justify_items": null,
            "left": null,
            "margin": null,
            "max_height": null,
            "max_width": null,
            "min_height": null,
            "min_width": null,
            "object_fit": null,
            "object_position": null,
            "order": null,
            "overflow": null,
            "overflow_x": null,
            "overflow_y": null,
            "padding": null,
            "right": null,
            "top": null,
            "visibility": null,
            "width": null
          }
        },
        "e62c48f452d842439574ac88f7091740": {
          "model_module": "@jupyter-widgets/controls",
          "model_name": "DescriptionStyleModel",
          "model_module_version": "1.5.0",
          "state": {
            "_model_module": "@jupyter-widgets/controls",
            "_model_module_version": "1.5.0",
            "_model_name": "DescriptionStyleModel",
            "_view_count": null,
            "_view_module": "@jupyter-widgets/base",
            "_view_module_version": "1.2.0",
            "_view_name": "StyleView",
            "description_width": ""
          }
        },
        "0d8d9195f31d439eb56a2a64d9f9cb43": {
          "model_module": "@jupyter-widgets/controls",
          "model_name": "HBoxModel",
          "model_module_version": "1.5.0",
          "state": {
            "_dom_classes": [],
            "_model_module": "@jupyter-widgets/controls",
            "_model_module_version": "1.5.0",
            "_model_name": "HBoxModel",
            "_view_count": null,
            "_view_module": "@jupyter-widgets/controls",
            "_view_module_version": "1.5.0",
            "_view_name": "HBoxView",
            "box_style": "",
            "children": [
              "IPY_MODEL_eeb92eaf80214fcebf1f3f4046edc7a7",
              "IPY_MODEL_221fdea8d0c64437b98b55f204966f0c",
              "IPY_MODEL_ae8743391a7b426f87cbf074b404d67d"
            ],
            "layout": "IPY_MODEL_521c798858d54fb8b5323030db16b2df"
          }
        },
        "eeb92eaf80214fcebf1f3f4046edc7a7": {
          "model_module": "@jupyter-widgets/controls",
          "model_name": "HTMLModel",
          "model_module_version": "1.5.0",
          "state": {
            "_dom_classes": [],
            "_model_module": "@jupyter-widgets/controls",
            "_model_module_version": "1.5.0",
            "_model_name": "HTMLModel",
            "_view_count": null,
            "_view_module": "@jupyter-widgets/controls",
            "_view_module_version": "1.5.0",
            "_view_name": "HTMLView",
            "description": "",
            "description_tooltip": null,
            "layout": "IPY_MODEL_54605646fc58469a9225575a07d0a8da",
            "placeholder": "​",
            "style": "IPY_MODEL_69f67942b31148c0ba74daf242f1075b",
            "value": "100%"
          }
        },
        "221fdea8d0c64437b98b55f204966f0c": {
          "model_module": "@jupyter-widgets/controls",
          "model_name": "FloatProgressModel",
          "model_module_version": "1.5.0",
          "state": {
            "_dom_classes": [],
            "_model_module": "@jupyter-widgets/controls",
            "_model_module_version": "1.5.0",
            "_model_name": "FloatProgressModel",
            "_view_count": null,
            "_view_module": "@jupyter-widgets/controls",
            "_view_module_version": "1.5.0",
            "_view_name": "ProgressView",
            "bar_style": "success",
            "description": "",
            "description_tooltip": null,
            "layout": "IPY_MODEL_144ebca11c3747b39f39058d9aeffb97",
            "max": 1648877,
            "min": 0,
            "orientation": "horizontal",
            "style": "IPY_MODEL_c297d5eff85b466c9c6a0729aca59d26",
            "value": 1648877
          }
        },
        "ae8743391a7b426f87cbf074b404d67d": {
          "model_module": "@jupyter-widgets/controls",
          "model_name": "HTMLModel",
          "model_module_version": "1.5.0",
          "state": {
            "_dom_classes": [],
            "_model_module": "@jupyter-widgets/controls",
            "_model_module_version": "1.5.0",
            "_model_name": "HTMLModel",
            "_view_count": null,
            "_view_module": "@jupyter-widgets/controls",
            "_view_module_version": "1.5.0",
            "_view_name": "HTMLView",
            "description": "",
            "description_tooltip": null,
            "layout": "IPY_MODEL_b55a52bd228e4575b6e2e5f6f38271c7",
            "placeholder": "​",
            "style": "IPY_MODEL_a90e7771741141708f411538a3668ae4",
            "value": " 1648877/1648877 [00:00&lt;00:00, 60161727.60it/s]"
          }
        },
        "521c798858d54fb8b5323030db16b2df": {
          "model_module": "@jupyter-widgets/base",
          "model_name": "LayoutModel",
          "model_module_version": "1.2.0",
          "state": {
            "_model_module": "@jupyter-widgets/base",
            "_model_module_version": "1.2.0",
            "_model_name": "LayoutModel",
            "_view_count": null,
            "_view_module": "@jupyter-widgets/base",
            "_view_module_version": "1.2.0",
            "_view_name": "LayoutView",
            "align_content": null,
            "align_items": null,
            "align_self": null,
            "border": null,
            "bottom": null,
            "display": null,
            "flex": null,
            "flex_flow": null,
            "grid_area": null,
            "grid_auto_columns": null,
            "grid_auto_flow": null,
            "grid_auto_rows": null,
            "grid_column": null,
            "grid_gap": null,
            "grid_row": null,
            "grid_template_areas": null,
            "grid_template_columns": null,
            "grid_template_rows": null,
            "height": null,
            "justify_content": null,
            "justify_items": null,
            "left": null,
            "margin": null,
            "max_height": null,
            "max_width": null,
            "min_height": null,
            "min_width": null,
            "object_fit": null,
            "object_position": null,
            "order": null,
            "overflow": null,
            "overflow_x": null,
            "overflow_y": null,
            "padding": null,
            "right": null,
            "top": null,
            "visibility": null,
            "width": null
          }
        },
        "54605646fc58469a9225575a07d0a8da": {
          "model_module": "@jupyter-widgets/base",
          "model_name": "LayoutModel",
          "model_module_version": "1.2.0",
          "state": {
            "_model_module": "@jupyter-widgets/base",
            "_model_module_version": "1.2.0",
            "_model_name": "LayoutModel",
            "_view_count": null,
            "_view_module": "@jupyter-widgets/base",
            "_view_module_version": "1.2.0",
            "_view_name": "LayoutView",
            "align_content": null,
            "align_items": null,
            "align_self": null,
            "border": null,
            "bottom": null,
            "display": null,
            "flex": null,
            "flex_flow": null,
            "grid_area": null,
            "grid_auto_columns": null,
            "grid_auto_flow": null,
            "grid_auto_rows": null,
            "grid_column": null,
            "grid_gap": null,
            "grid_row": null,
            "grid_template_areas": null,
            "grid_template_columns": null,
            "grid_template_rows": null,
            "height": null,
            "justify_content": null,
            "justify_items": null,
            "left": null,
            "margin": null,
            "max_height": null,
            "max_width": null,
            "min_height": null,
            "min_width": null,
            "object_fit": null,
            "object_position": null,
            "order": null,
            "overflow": null,
            "overflow_x": null,
            "overflow_y": null,
            "padding": null,
            "right": null,
            "top": null,
            "visibility": null,
            "width": null
          }
        },
        "69f67942b31148c0ba74daf242f1075b": {
          "model_module": "@jupyter-widgets/controls",
          "model_name": "DescriptionStyleModel",
          "model_module_version": "1.5.0",
          "state": {
            "_model_module": "@jupyter-widgets/controls",
            "_model_module_version": "1.5.0",
            "_model_name": "DescriptionStyleModel",
            "_view_count": null,
            "_view_module": "@jupyter-widgets/base",
            "_view_module_version": "1.2.0",
            "_view_name": "StyleView",
            "description_width": ""
          }
        },
        "144ebca11c3747b39f39058d9aeffb97": {
          "model_module": "@jupyter-widgets/base",
          "model_name": "LayoutModel",
          "model_module_version": "1.2.0",
          "state": {
            "_model_module": "@jupyter-widgets/base",
            "_model_module_version": "1.2.0",
            "_model_name": "LayoutModel",
            "_view_count": null,
            "_view_module": "@jupyter-widgets/base",
            "_view_module_version": "1.2.0",
            "_view_name": "LayoutView",
            "align_content": null,
            "align_items": null,
            "align_self": null,
            "border": null,
            "bottom": null,
            "display": null,
            "flex": null,
            "flex_flow": null,
            "grid_area": null,
            "grid_auto_columns": null,
            "grid_auto_flow": null,
            "grid_auto_rows": null,
            "grid_column": null,
            "grid_gap": null,
            "grid_row": null,
            "grid_template_areas": null,
            "grid_template_columns": null,
            "grid_template_rows": null,
            "height": null,
            "justify_content": null,
            "justify_items": null,
            "left": null,
            "margin": null,
            "max_height": null,
            "max_width": null,
            "min_height": null,
            "min_width": null,
            "object_fit": null,
            "object_position": null,
            "order": null,
            "overflow": null,
            "overflow_x": null,
            "overflow_y": null,
            "padding": null,
            "right": null,
            "top": null,
            "visibility": null,
            "width": null
          }
        },
        "c297d5eff85b466c9c6a0729aca59d26": {
          "model_module": "@jupyter-widgets/controls",
          "model_name": "ProgressStyleModel",
          "model_module_version": "1.5.0",
          "state": {
            "_model_module": "@jupyter-widgets/controls",
            "_model_module_version": "1.5.0",
            "_model_name": "ProgressStyleModel",
            "_view_count": null,
            "_view_module": "@jupyter-widgets/base",
            "_view_module_version": "1.2.0",
            "_view_name": "StyleView",
            "bar_color": null,
            "description_width": ""
          }
        },
        "b55a52bd228e4575b6e2e5f6f38271c7": {
          "model_module": "@jupyter-widgets/base",
          "model_name": "LayoutModel",
          "model_module_version": "1.2.0",
          "state": {
            "_model_module": "@jupyter-widgets/base",
            "_model_module_version": "1.2.0",
            "_model_name": "LayoutModel",
            "_view_count": null,
            "_view_module": "@jupyter-widgets/base",
            "_view_module_version": "1.2.0",
            "_view_name": "LayoutView",
            "align_content": null,
            "align_items": null,
            "align_self": null,
            "border": null,
            "bottom": null,
            "display": null,
            "flex": null,
            "flex_flow": null,
            "grid_area": null,
            "grid_auto_columns": null,
            "grid_auto_flow": null,
            "grid_auto_rows": null,
            "grid_column": null,
            "grid_gap": null,
            "grid_row": null,
            "grid_template_areas": null,
            "grid_template_columns": null,
            "grid_template_rows": null,
            "height": null,
            "justify_content": null,
            "justify_items": null,
            "left": null,
            "margin": null,
            "max_height": null,
            "max_width": null,
            "min_height": null,
            "min_width": null,
            "object_fit": null,
            "object_position": null,
            "order": null,
            "overflow": null,
            "overflow_x": null,
            "overflow_y": null,
            "padding": null,
            "right": null,
            "top": null,
            "visibility": null,
            "width": null
          }
        },
        "a90e7771741141708f411538a3668ae4": {
          "model_module": "@jupyter-widgets/controls",
          "model_name": "DescriptionStyleModel",
          "model_module_version": "1.5.0",
          "state": {
            "_model_module": "@jupyter-widgets/controls",
            "_model_module_version": "1.5.0",
            "_model_name": "DescriptionStyleModel",
            "_view_count": null,
            "_view_module": "@jupyter-widgets/base",
            "_view_module_version": "1.2.0",
            "_view_name": "StyleView",
            "description_width": ""
          }
        },
        "99e15c7138c24ea78fa0c58042d573b1": {
          "model_module": "@jupyter-widgets/controls",
          "model_name": "HBoxModel",
          "model_module_version": "1.5.0",
          "state": {
            "_dom_classes": [],
            "_model_module": "@jupyter-widgets/controls",
            "_model_module_version": "1.5.0",
            "_model_name": "HBoxModel",
            "_view_count": null,
            "_view_module": "@jupyter-widgets/controls",
            "_view_module_version": "1.5.0",
            "_view_name": "HBoxView",
            "box_style": "",
            "children": [
              "IPY_MODEL_be68aaa00e9841e6a1bba68d55e9e1ca",
              "IPY_MODEL_8984f37949324c60932f23045b825a81",
              "IPY_MODEL_26a11b2164d84a74b89c022f4102a6dd"
            ],
            "layout": "IPY_MODEL_1398ac54c92d4bdc8e5de41d1f747781"
          }
        },
        "be68aaa00e9841e6a1bba68d55e9e1ca": {
          "model_module": "@jupyter-widgets/controls",
          "model_name": "HTMLModel",
          "model_module_version": "1.5.0",
          "state": {
            "_dom_classes": [],
            "_model_module": "@jupyter-widgets/controls",
            "_model_module_version": "1.5.0",
            "_model_name": "HTMLModel",
            "_view_count": null,
            "_view_module": "@jupyter-widgets/controls",
            "_view_module_version": "1.5.0",
            "_view_name": "HTMLView",
            "description": "",
            "description_tooltip": null,
            "layout": "IPY_MODEL_440dabea1170411bade572bc12bd3148",
            "placeholder": "​",
            "style": "IPY_MODEL_b94ec7ff5b4f409aa8e008ff860b8f47",
            "value": "100%"
          }
        },
        "8984f37949324c60932f23045b825a81": {
          "model_module": "@jupyter-widgets/controls",
          "model_name": "FloatProgressModel",
          "model_module_version": "1.5.0",
          "state": {
            "_dom_classes": [],
            "_model_module": "@jupyter-widgets/controls",
            "_model_module_version": "1.5.0",
            "_model_name": "FloatProgressModel",
            "_view_count": null,
            "_view_module": "@jupyter-widgets/controls",
            "_view_module_version": "1.5.0",
            "_view_name": "ProgressView",
            "bar_style": "success",
            "description": "",
            "description_tooltip": null,
            "layout": "IPY_MODEL_36371971f6094439a630adee26e49cec",
            "max": 4542,
            "min": 0,
            "orientation": "horizontal",
            "style": "IPY_MODEL_bcaa7dd45c3a42b9ace0dcaff97f27a0",
            "value": 4542
          }
        },
        "26a11b2164d84a74b89c022f4102a6dd": {
          "model_module": "@jupyter-widgets/controls",
          "model_name": "HTMLModel",
          "model_module_version": "1.5.0",
          "state": {
            "_dom_classes": [],
            "_model_module": "@jupyter-widgets/controls",
            "_model_module_version": "1.5.0",
            "_model_name": "HTMLModel",
            "_view_count": null,
            "_view_module": "@jupyter-widgets/controls",
            "_view_module_version": "1.5.0",
            "_view_name": "HTMLView",
            "description": "",
            "description_tooltip": null,
            "layout": "IPY_MODEL_55a0a8d2eb9b42dbb681db457a10b52b",
            "placeholder": "​",
            "style": "IPY_MODEL_a417e2b44f0342ccbe9501710ca855c3",
            "value": " 4542/4542 [00:00&lt;00:00, 281400.45it/s]"
          }
        },
        "1398ac54c92d4bdc8e5de41d1f747781": {
          "model_module": "@jupyter-widgets/base",
          "model_name": "LayoutModel",
          "model_module_version": "1.2.0",
          "state": {
            "_model_module": "@jupyter-widgets/base",
            "_model_module_version": "1.2.0",
            "_model_name": "LayoutModel",
            "_view_count": null,
            "_view_module": "@jupyter-widgets/base",
            "_view_module_version": "1.2.0",
            "_view_name": "LayoutView",
            "align_content": null,
            "align_items": null,
            "align_self": null,
            "border": null,
            "bottom": null,
            "display": null,
            "flex": null,
            "flex_flow": null,
            "grid_area": null,
            "grid_auto_columns": null,
            "grid_auto_flow": null,
            "grid_auto_rows": null,
            "grid_column": null,
            "grid_gap": null,
            "grid_row": null,
            "grid_template_areas": null,
            "grid_template_columns": null,
            "grid_template_rows": null,
            "height": null,
            "justify_content": null,
            "justify_items": null,
            "left": null,
            "margin": null,
            "max_height": null,
            "max_width": null,
            "min_height": null,
            "min_width": null,
            "object_fit": null,
            "object_position": null,
            "order": null,
            "overflow": null,
            "overflow_x": null,
            "overflow_y": null,
            "padding": null,
            "right": null,
            "top": null,
            "visibility": null,
            "width": null
          }
        },
        "440dabea1170411bade572bc12bd3148": {
          "model_module": "@jupyter-widgets/base",
          "model_name": "LayoutModel",
          "model_module_version": "1.2.0",
          "state": {
            "_model_module": "@jupyter-widgets/base",
            "_model_module_version": "1.2.0",
            "_model_name": "LayoutModel",
            "_view_count": null,
            "_view_module": "@jupyter-widgets/base",
            "_view_module_version": "1.2.0",
            "_view_name": "LayoutView",
            "align_content": null,
            "align_items": null,
            "align_self": null,
            "border": null,
            "bottom": null,
            "display": null,
            "flex": null,
            "flex_flow": null,
            "grid_area": null,
            "grid_auto_columns": null,
            "grid_auto_flow": null,
            "grid_auto_rows": null,
            "grid_column": null,
            "grid_gap": null,
            "grid_row": null,
            "grid_template_areas": null,
            "grid_template_columns": null,
            "grid_template_rows": null,
            "height": null,
            "justify_content": null,
            "justify_items": null,
            "left": null,
            "margin": null,
            "max_height": null,
            "max_width": null,
            "min_height": null,
            "min_width": null,
            "object_fit": null,
            "object_position": null,
            "order": null,
            "overflow": null,
            "overflow_x": null,
            "overflow_y": null,
            "padding": null,
            "right": null,
            "top": null,
            "visibility": null,
            "width": null
          }
        },
        "b94ec7ff5b4f409aa8e008ff860b8f47": {
          "model_module": "@jupyter-widgets/controls",
          "model_name": "DescriptionStyleModel",
          "model_module_version": "1.5.0",
          "state": {
            "_model_module": "@jupyter-widgets/controls",
            "_model_module_version": "1.5.0",
            "_model_name": "DescriptionStyleModel",
            "_view_count": null,
            "_view_module": "@jupyter-widgets/base",
            "_view_module_version": "1.2.0",
            "_view_name": "StyleView",
            "description_width": ""
          }
        },
        "36371971f6094439a630adee26e49cec": {
          "model_module": "@jupyter-widgets/base",
          "model_name": "LayoutModel",
          "model_module_version": "1.2.0",
          "state": {
            "_model_module": "@jupyter-widgets/base",
            "_model_module_version": "1.2.0",
            "_model_name": "LayoutModel",
            "_view_count": null,
            "_view_module": "@jupyter-widgets/base",
            "_view_module_version": "1.2.0",
            "_view_name": "LayoutView",
            "align_content": null,
            "align_items": null,
            "align_self": null,
            "border": null,
            "bottom": null,
            "display": null,
            "flex": null,
            "flex_flow": null,
            "grid_area": null,
            "grid_auto_columns": null,
            "grid_auto_flow": null,
            "grid_auto_rows": null,
            "grid_column": null,
            "grid_gap": null,
            "grid_row": null,
            "grid_template_areas": null,
            "grid_template_columns": null,
            "grid_template_rows": null,
            "height": null,
            "justify_content": null,
            "justify_items": null,
            "left": null,
            "margin": null,
            "max_height": null,
            "max_width": null,
            "min_height": null,
            "min_width": null,
            "object_fit": null,
            "object_position": null,
            "order": null,
            "overflow": null,
            "overflow_x": null,
            "overflow_y": null,
            "padding": null,
            "right": null,
            "top": null,
            "visibility": null,
            "width": null
          }
        },
        "bcaa7dd45c3a42b9ace0dcaff97f27a0": {
          "model_module": "@jupyter-widgets/controls",
          "model_name": "ProgressStyleModel",
          "model_module_version": "1.5.0",
          "state": {
            "_model_module": "@jupyter-widgets/controls",
            "_model_module_version": "1.5.0",
            "_model_name": "ProgressStyleModel",
            "_view_count": null,
            "_view_module": "@jupyter-widgets/base",
            "_view_module_version": "1.2.0",
            "_view_name": "StyleView",
            "bar_color": null,
            "description_width": ""
          }
        },
        "55a0a8d2eb9b42dbb681db457a10b52b": {
          "model_module": "@jupyter-widgets/base",
          "model_name": "LayoutModel",
          "model_module_version": "1.2.0",
          "state": {
            "_model_module": "@jupyter-widgets/base",
            "_model_module_version": "1.2.0",
            "_model_name": "LayoutModel",
            "_view_count": null,
            "_view_module": "@jupyter-widgets/base",
            "_view_module_version": "1.2.0",
            "_view_name": "LayoutView",
            "align_content": null,
            "align_items": null,
            "align_self": null,
            "border": null,
            "bottom": null,
            "display": null,
            "flex": null,
            "flex_flow": null,
            "grid_area": null,
            "grid_auto_columns": null,
            "grid_auto_flow": null,
            "grid_auto_rows": null,
            "grid_column": null,
            "grid_gap": null,
            "grid_row": null,
            "grid_template_areas": null,
            "grid_template_columns": null,
            "grid_template_rows": null,
            "height": null,
            "justify_content": null,
            "justify_items": null,
            "left": null,
            "margin": null,
            "max_height": null,
            "max_width": null,
            "min_height": null,
            "min_width": null,
            "object_fit": null,
            "object_position": null,
            "order": null,
            "overflow": null,
            "overflow_x": null,
            "overflow_y": null,
            "padding": null,
            "right": null,
            "top": null,
            "visibility": null,
            "width": null
          }
        },
        "a417e2b44f0342ccbe9501710ca855c3": {
          "model_module": "@jupyter-widgets/controls",
          "model_name": "DescriptionStyleModel",
          "model_module_version": "1.5.0",
          "state": {
            "_model_module": "@jupyter-widgets/controls",
            "_model_module_version": "1.5.0",
            "_model_name": "DescriptionStyleModel",
            "_view_count": null,
            "_view_module": "@jupyter-widgets/base",
            "_view_module_version": "1.2.0",
            "_view_name": "StyleView",
            "description_width": ""
          }
        }
      }
    },
    "gpuClass": "standard"
  },
  "cells": [
    {
      "cell_type": "markdown",
      "metadata": {
        "id": "aO-7t1Y7-hV4"
      },
      "source": [
        "# Import Libraries"
      ]
    },
    {
      "cell_type": "markdown",
      "source": [
        "#Assignment Target\n",
        "\n",
        "Test Accuracy: 99.4\n",
        "\n",
        "Total Number of Parameters: 8000"
      ],
      "metadata": {
        "id": "w0VvMj7M8hJh"
      }
    },
    {
      "cell_type": "markdown",
      "source": [
        "#Results obtained in Second Submission\n",
        "\n",
        "Best Test Accuracy: 98.24\n",
        "\n",
        "Number of Parameters Used: 7530"
      ],
      "metadata": {
        "id": "PqF_kO1D86l5"
      }
    },
    {
      "cell_type": "markdown",
      "source": [
        "#Analysis - Receptive Field & other dimension calculations\n",
        "\n",
        "![RFCalculation.png](data:image/png;base64,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)"
      ],
      "metadata": {
        "id": "wUglmcLq9kBB"
      }
    },
    {
      "cell_type": "markdown",
      "source": [
        "#Analysis - Train vs Test Accuracy\n",
        "\n",
        "![TrainVsTestAccuracy.png](data:image/png;base64,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)"
      ],
      "metadata": {
        "id": "k4J39faMBIHb"
      }
    },
    {
      "cell_type": "markdown",
      "source": [
        "#Comments\n",
        "\n",
        "1. If we closely follow the training and test accuracy progression, we would see that the model is learning but apparently slowly. We do not see any sign of overfitting but looks like the model is underfitted.\n",
        "\n",
        "2. Steady increase of train and test accuracy further states that the skeleton of the model is correct, but we would have to add few more components for faster convergence.\n",
        "\n",
        "3. At the end of last epoch, we have a training accuracy of 98.28, so the model should still learn and there is enough chance that test accuracy might improve if we take few more epochs.\n",
        "\n",
        "4. Its good that we could keep the number of parameters below 8000. Currently the number of parameters used are 7530. We assume, this might increase a bit while we would add the batch normalization (for keeping mean, std etc.) in next set of submissions, but we hope, we would be able to keep the number of parameters within 8000."
      ],
      "metadata": {
        "id": "OlRPFYkGBbNQ"
      }
    },
    {
      "cell_type": "code",
      "metadata": {
        "id": "8kH16rnZ7wt_"
      },
      "source": [
        "from __future__ import print_function\n",
        "import torch\n",
        "import torch.nn as nn\n",
        "import torch.nn.functional as F\n",
        "import torch.optim as optim\n",
        "from torchvision import datasets, transforms"
      ],
      "execution_count": 1,
      "outputs": []
    },
    {
      "cell_type": "markdown",
      "metadata": {
        "id": "ky3f_Odl-7um"
      },
      "source": [
        "## Data Transformations"
      ]
    },
    {
      "cell_type": "code",
      "metadata": {
        "id": "YtssFUKb-jqx"
      },
      "source": [
        "# Train Phase transformations\n",
        "train_transforms = transforms.Compose([\n",
        "                                      #  transforms.Resize((28, 28)),\n",
        "                                      #  transforms.ColorJitter(brightness=0.10, contrast=0.1, saturation=0.10, hue=0.1),\n",
        "                                       transforms.ToTensor(),\n",
        "                                       transforms.Normalize((0.1307,), (0.3081,)) # The mean and std have to be sequences (e.g., tuples), therefore you should add a comma after the values. \n",
        "                                       # Note the difference between (0.1307) and (0.1307,)\n",
        "                                       ])\n",
        "\n",
        "# Test Phase transformations\n",
        "test_transforms = transforms.Compose([\n",
        "                                      #  transforms.Resize((28, 28)),\n",
        "                                      #  transforms.ColorJitter(brightness=0.10, contrast=0.1, saturation=0.10, hue=0.1),\n",
        "                                       transforms.ToTensor(),\n",
        "                                       transforms.Normalize((0.1307,), (0.3081,))\n",
        "                                       ])\n"
      ],
      "execution_count": 2,
      "outputs": []
    },
    {
      "cell_type": "markdown",
      "metadata": {
        "id": "oQciFYo2B1mO"
      },
      "source": [
        "# Dataset and Creating Train/Test Split"
      ]
    },
    {
      "cell_type": "code",
      "metadata": {
        "id": "_4A84rlfDA23",
        "colab": {
          "base_uri": "https://localhost:8080/",
          "height": 423,
          "referenced_widgets": [
            "20573bcd2024438292e04aba6896965c",
            "393eff3fb1344ad7b93ae8e61532bc84",
            "5a42adf943024425a721d66423795239",
            "153c357f173a4a459a1723ea47088c1e",
            "af9d90896a1343bb991d1e2aeaa15f31",
            "7dc37b478d8049a5993fb904883ef403",
            "ecbfa020adc4495cbb09496464bc8ea6",
            "e7e125edce1142b38aeba8ae86895d90",
            "c1c6b2b557eb4fcb850fb06d63a8b031",
            "16c587bd9c04418d9ecc427997c82d35",
            "66e03065e7024f13b67adf36f10cc638",
            "bb2f8239f5c1414f824cd8478d9d1f0d",
            "732f9cc3884b4f66bf0c248283a1077d",
            "46a416fdd52d4fb6803fe0cbb829a05c",
            "4bad33e89e6a4d42aaed6fa6ec242762",
            "1e5ce985a8b545d0b2b336d8a374c50e",
            "d1942bd8263247b3bf7c2fb2f172afed",
            "657c46183a6149ab9d6b49b0b2f632a6",
            "c3b93ea26b4d4ddeb7907194fe784120",
            "2fa5d8d29ba6406896df972647e9799e",
            "00fcfd551fd0462ca257abfdb2afb1b9",
            "e62c48f452d842439574ac88f7091740",
            "0d8d9195f31d439eb56a2a64d9f9cb43",
            "eeb92eaf80214fcebf1f3f4046edc7a7",
            "221fdea8d0c64437b98b55f204966f0c",
            "ae8743391a7b426f87cbf074b404d67d",
            "521c798858d54fb8b5323030db16b2df",
            "54605646fc58469a9225575a07d0a8da",
            "69f67942b31148c0ba74daf242f1075b",
            "144ebca11c3747b39f39058d9aeffb97",
            "c297d5eff85b466c9c6a0729aca59d26",
            "b55a52bd228e4575b6e2e5f6f38271c7",
            "a90e7771741141708f411538a3668ae4",
            "99e15c7138c24ea78fa0c58042d573b1",
            "be68aaa00e9841e6a1bba68d55e9e1ca",
            "8984f37949324c60932f23045b825a81",
            "26a11b2164d84a74b89c022f4102a6dd",
            "1398ac54c92d4bdc8e5de41d1f747781",
            "440dabea1170411bade572bc12bd3148",
            "b94ec7ff5b4f409aa8e008ff860b8f47",
            "36371971f6094439a630adee26e49cec",
            "bcaa7dd45c3a42b9ace0dcaff97f27a0",
            "55a0a8d2eb9b42dbb681db457a10b52b",
            "a417e2b44f0342ccbe9501710ca855c3"
          ]
        },
        "outputId": "aaf72cdd-17a4-4183-927c-6b42091ec211"
      },
      "source": [
        "train = datasets.MNIST('./data', train=True, download=True, transform=train_transforms)\n",
        "test = datasets.MNIST('./data', train=False, download=True, transform=test_transforms)"
      ],
      "execution_count": 3,
      "outputs": [
        {
          "output_type": "stream",
          "name": "stdout",
          "text": [
            "Downloading http://yann.lecun.com/exdb/mnist/train-images-idx3-ubyte.gz\n",
            "Downloading http://yann.lecun.com/exdb/mnist/train-images-idx3-ubyte.gz to ./data/MNIST/raw/train-images-idx3-ubyte.gz\n"
          ]
        },
        {
          "output_type": "display_data",
          "data": {
            "text/plain": [
              "  0%|          | 0/9912422 [00:00<?, ?it/s]"
            ],
            "application/vnd.jupyter.widget-view+json": {
              "version_major": 2,
              "version_minor": 0,
              "model_id": "20573bcd2024438292e04aba6896965c"
            }
          },
          "metadata": {}
        },
        {
          "output_type": "stream",
          "name": "stdout",
          "text": [
            "Extracting ./data/MNIST/raw/train-images-idx3-ubyte.gz to ./data/MNIST/raw\n",
            "\n",
            "Downloading http://yann.lecun.com/exdb/mnist/train-labels-idx1-ubyte.gz\n",
            "Downloading http://yann.lecun.com/exdb/mnist/train-labels-idx1-ubyte.gz to ./data/MNIST/raw/train-labels-idx1-ubyte.gz\n"
          ]
        },
        {
          "output_type": "display_data",
          "data": {
            "text/plain": [
              "  0%|          | 0/28881 [00:00<?, ?it/s]"
            ],
            "application/vnd.jupyter.widget-view+json": {
              "version_major": 2,
              "version_minor": 0,
              "model_id": "bb2f8239f5c1414f824cd8478d9d1f0d"
            }
          },
          "metadata": {}
        },
        {
          "output_type": "stream",
          "name": "stdout",
          "text": [
            "Extracting ./data/MNIST/raw/train-labels-idx1-ubyte.gz to ./data/MNIST/raw\n",
            "\n",
            "Downloading http://yann.lecun.com/exdb/mnist/t10k-images-idx3-ubyte.gz\n",
            "Downloading http://yann.lecun.com/exdb/mnist/t10k-images-idx3-ubyte.gz to ./data/MNIST/raw/t10k-images-idx3-ubyte.gz\n"
          ]
        },
        {
          "output_type": "display_data",
          "data": {
            "text/plain": [
              "  0%|          | 0/1648877 [00:00<?, ?it/s]"
            ],
            "application/vnd.jupyter.widget-view+json": {
              "version_major": 2,
              "version_minor": 0,
              "model_id": "0d8d9195f31d439eb56a2a64d9f9cb43"
            }
          },
          "metadata": {}
        },
        {
          "output_type": "stream",
          "name": "stdout",
          "text": [
            "Extracting ./data/MNIST/raw/t10k-images-idx3-ubyte.gz to ./data/MNIST/raw\n",
            "\n",
            "Downloading http://yann.lecun.com/exdb/mnist/t10k-labels-idx1-ubyte.gz\n",
            "Downloading http://yann.lecun.com/exdb/mnist/t10k-labels-idx1-ubyte.gz to ./data/MNIST/raw/t10k-labels-idx1-ubyte.gz\n"
          ]
        },
        {
          "output_type": "display_data",
          "data": {
            "text/plain": [
              "  0%|          | 0/4542 [00:00<?, ?it/s]"
            ],
            "application/vnd.jupyter.widget-view+json": {
              "version_major": 2,
              "version_minor": 0,
              "model_id": "99e15c7138c24ea78fa0c58042d573b1"
            }
          },
          "metadata": {}
        },
        {
          "output_type": "stream",
          "name": "stdout",
          "text": [
            "Extracting ./data/MNIST/raw/t10k-labels-idx1-ubyte.gz to ./data/MNIST/raw\n",
            "\n"
          ]
        }
      ]
    },
    {
      "cell_type": "markdown",
      "metadata": {
        "id": "qgldp_3-Dn0c"
      },
      "source": [
        "# Dataloader Arguments & Test/Train Dataloaders\n"
      ]
    },
    {
      "cell_type": "code",
      "metadata": {
        "id": "C8OLDR79DrHG",
        "colab": {
          "base_uri": "https://localhost:8080/"
        },
        "outputId": "69243c04-5299-476b-9a2e-e705e82b5222"
      },
      "source": [
        "SEED = 1\n",
        "\n",
        "# CUDA?\n",
        "cuda = torch.cuda.is_available()\n",
        "print(\"CUDA Available?\", cuda)\n",
        "\n",
        "# For reproducibility\n",
        "torch.manual_seed(SEED)\n",
        "\n",
        "if cuda:\n",
        "    torch.cuda.manual_seed(SEED)\n",
        "\n",
        "# dataloader arguments - something you'll fetch these from cmdprmt\n",
        "dataloader_args = dict(shuffle=True, batch_size=128, num_workers=4, pin_memory=True) if cuda else dict(shuffle=True, batch_size=64)\n",
        "\n",
        "# train dataloader\n",
        "train_loader = torch.utils.data.DataLoader(train, **dataloader_args)\n",
        "\n",
        "# test dataloader\n",
        "test_loader = torch.utils.data.DataLoader(test, **dataloader_args)"
      ],
      "execution_count": 4,
      "outputs": [
        {
          "output_type": "stream",
          "name": "stdout",
          "text": [
            "CUDA Available? True\n"
          ]
        },
        {
          "output_type": "stream",
          "name": "stderr",
          "text": [
            "/usr/local/lib/python3.8/dist-packages/torch/utils/data/dataloader.py:554: UserWarning: This DataLoader will create 4 worker processes in total. Our suggested max number of worker in current system is 2, which is smaller than what this DataLoader is going to create. Please be aware that excessive worker creation might get DataLoader running slow or even freeze, lower the worker number to avoid potential slowness/freeze if necessary.\n",
            "  warnings.warn(_create_warning_msg(\n"
          ]
        }
      ]
    },
    {
      "cell_type": "markdown",
      "metadata": {
        "id": "-TFjoFekE_va"
      },
      "source": [
        "# Data Statistics"
      ]
    },
    {
      "cell_type": "code",
      "metadata": {
        "id": "hWZPPo3yEHDW",
        "colab": {
          "base_uri": "https://localhost:8080/",
          "height": 491
        },
        "outputId": "3dea6b59-a8ff-4caf-af32-307ec683e662"
      },
      "source": [
        "# We'd need to convert it into Numpy! Remember above we have converted it into tensors already\n",
        "train_data = train.train_data\n",
        "train_data = train.transform(train_data.numpy())\n",
        "\n",
        "print('[Train]')\n",
        "print(' - Numpy Shape:', train.train_data.cpu().numpy().shape)\n",
        "print(' - Tensor Shape:', train.train_data.size())\n",
        "print(' - min:', torch.min(train_data))\n",
        "print(' - max:', torch.max(train_data))\n",
        "print(' - mean:', torch.mean(train_data))\n",
        "print(' - std:', torch.std(train_data))\n",
        "print(' - var:', torch.var(train_data))\n",
        "\n",
        "dataiter = iter(train_loader)\n",
        "images, labels = next(dataiter)\n",
        "\n",
        "print(images.shape)\n",
        "print(labels.shape)\n",
        "\n",
        "# Let's visualize some of the images\n",
        "%matplotlib inline\n",
        "import matplotlib.pyplot as plt\n",
        "\n",
        "plt.imshow(images[0].numpy().squeeze(), cmap='gray_r')\n"
      ],
      "execution_count": 5,
      "outputs": [
        {
          "output_type": "stream",
          "name": "stderr",
          "text": [
            "/usr/local/lib/python3.8/dist-packages/torchvision/datasets/mnist.py:75: UserWarning: train_data has been renamed data\n",
            "  warnings.warn(\"train_data has been renamed data\")\n"
          ]
        },
        {
          "output_type": "stream",
          "name": "stdout",
          "text": [
            "[Train]\n",
            " - Numpy Shape: (60000, 28, 28)\n",
            " - Tensor Shape: torch.Size([60000, 28, 28])\n",
            " - min: tensor(-0.4242)\n",
            " - max: tensor(2.8215)\n",
            " - mean: tensor(-0.0001)\n",
            " - std: tensor(1.0000)\n",
            " - var: tensor(1.0001)\n",
            "torch.Size([128, 1, 28, 28])\n",
            "torch.Size([128])\n"
          ]
        },
        {
          "output_type": "execute_result",
          "data": {
            "text/plain": [
              "<matplotlib.image.AxesImage at 0x7f4e457a6b50>"
            ]
          },
          "metadata": {},
          "execution_count": 5
        },
        {
          "output_type": "display_data",
          "data": {
            "text/plain": [
              "<Figure size 432x288 with 1 Axes>"
            ],
            "image/png": "[encoded data removed]"
          },
          "metadata": {
            "needs_background": "light"
          }
        }
      ]
    },
    {
      "cell_type": "markdown",
      "metadata": {
        "id": "7l9lNaWYKuik"
      },
      "source": [
        "## MORE\n",
        "\n",
        "It is important that we view as many images as possible."
      ]
    },
    {
      "cell_type": "code",
      "metadata": {
        "id": "hXXAg8hbK16u",
        "colab": {
          "base_uri": "https://localhost:8080/",
          "height": 246
        },
        "outputId": "31a1f41c-6995-4c12-f407-2fefd33363c9"
      },
      "source": [
        "figure = plt.figure()\n",
        "num_of_images = 60\n",
        "for index in range(1, num_of_images + 1):\n",
        "    plt.subplot(6, 10, index)\n",
        "    plt.axis('off')\n",
        "    plt.imshow(images[index].numpy().squeeze(), cmap='gray_r')"
      ],
      "execution_count": 6,
      "outputs": [
        {
          "output_type": "display_data",
          "data": {
            "text/plain": [
              "<Figure size 432x288 with 60 Axes>"
            ],
            "image/png": "[encoded data removed]"
          },
          "metadata": {
            "needs_background": "light"
          }
        }
      ]
    },
    {
      "cell_type": "markdown",
      "metadata": {
        "id": "JF5-8_I3G6ix"
      },
      "source": [
        "# How did we get those mean and std values which we used above?\n",
        "\n"
      ]
    },
    {
      "cell_type": "code",
      "metadata": {
        "id": "yooPHm_aFc5A",
        "colab": {
          "base_uri": "https://localhost:8080/"
        },
        "outputId": "01a04c68-9498-4594-c54f-6fb55fb03732"
      },
      "source": [
        "# simple transform\n",
        "simple_transforms = transforms.Compose([\n",
        "                                      #  transforms.Resize((28, 28)),\n",
        "                                      #  transforms.ColorJitter(brightness=0.10, contrast=0.1, saturation=0.10, hue=0.1),\n",
        "                                       transforms.ToTensor(),\n",
        "                                      #  transforms.Normalize((0.1307,), (0.3081,)) # The mean and std have to be sequences (e.g., tuples), therefore you should add a comma after the values. \n",
        "                                       # Note the difference between (0.1307) and (0.1307,)\n",
        "                                       ])\n",
        "exp = datasets.MNIST('./data', train=True, download=True, transform=simple_transforms)\n",
        "exp_data = exp.train_data\n",
        "exp_data = exp.transform(exp_data.numpy())\n",
        "\n",
        "print('[Train]')\n",
        "print(' - Numpy Shape:', exp.train_data.cpu().numpy().shape)\n",
        "print(' - Tensor Shape:', exp.train_data.size())\n",
        "print(' - min:', torch.min(exp_data))\n",
        "print(' - max:', torch.max(exp_data))\n",
        "print(' - mean:', torch.mean(exp_data))\n",
        "print(' - std:', torch.std(exp_data))\n",
        "print(' - var:', torch.var(exp_data))"
      ],
      "execution_count": 7,
      "outputs": [
        {
          "output_type": "stream",
          "name": "stdout",
          "text": [
            "[Train]\n",
            " - Numpy Shape: (60000, 28, 28)\n",
            " - Tensor Shape: torch.Size([60000, 28, 28])\n",
            " - min: tensor(0.)\n",
            " - max: tensor(1.)\n",
            " - mean: tensor(0.1307)\n",
            " - std: tensor(0.3081)\n",
            " - var: tensor(0.0949)\n"
          ]
        }
      ]
    },
    {
      "cell_type": "markdown",
      "metadata": {
        "id": "ubQL3H6RJL3h"
      },
      "source": [
        "# The model\n"
      ]
    },
    {
      "cell_type": "code",
      "metadata": {
        "id": "7FXQlB9kH1ov"
      },
      "source": [
        "class Net(nn.Module):\n",
        "    def __init__(self):\n",
        "        super(Net, self).__init__()\n",
        "        self.conv1 = nn.Conv2d(1, 8, 3) # 26 * 26 * 8\n",
        "        self.conv2 = nn.Conv2d(8, 16, 3) # 24 * 24 * 16\n",
        "        self.pool1 = nn.MaxPool2d(2, 2) # 12 * 12 * 16\n",
        "        self.conv3 = nn.Conv2d(16, 8, 1) # 12 * 12 * 8\n",
        "\n",
        "        self.conv4 = nn.Conv2d(8, 16, 3) # 10 * 10 * 16\n",
        "        self.conv5 = nn.Conv2d(16, 24, 3) # 8 * 8 * 24\n",
        "        self.pool2 = nn.AvgPool2d(8) # 1 * 1 * 24\n",
        "\n",
        "        self.conv6 = nn.Conv2d(24, 32, 1) # 1 * 1 * 32\n",
        "        self.conv7 = nn.Conv2d(32, 16, 1) # 1 * 1 * 16\n",
        "        self.conv8 = nn.Conv2d(16, 10, 1) # 1 * 1 * 10\n",
        "\n",
        "    def forward(self, x):\n",
        "        x = self.conv3(self.pool1(self.conv2(F.relu(self.conv1(x)))))\n",
        "        x = self.pool2(F.relu(self.conv5(F.relu(self.conv4(x)))))\n",
        "        x = self.conv8(F.relu(self.conv7(F.relu(self.conv6(x)))))\n",
        "        x = x.view(-1, 10)\n",
        "        return F.log_softmax(x, dim=-1)"
      ],
      "execution_count": 8,
      "outputs": []
    },
    {
      "cell_type": "markdown",
      "metadata": {
        "id": "M3-vp8X9LCWo"
      },
      "source": [
        "# Model Params"
      ]
    },
    {
      "cell_type": "code",
      "metadata": {
        "id": "5skB97zIJQQe",
        "colab": {
          "base_uri": "https://localhost:8080/"
        },
        "outputId": "ebb4044f-18a7-478f-dd35-92ba4219e281"
      },
      "source": [
        "!pip install torchsummary\n",
        "from torchsummary import summary\n",
        "use_cuda = torch.cuda.is_available()\n",
        "device = torch.device(\"cuda\" if use_cuda else \"cpu\")\n",
        "print(device)\n",
        "model = Net().to(device)\n",
        "summary(model, input_size=(1, 28, 28))"
      ],
      "execution_count": 9,
      "outputs": [
        {
          "output_type": "stream",
          "name": "stdout",
          "text": [
            "Looking in indexes: https://pypi.org/simple, https://us-python.pkg.dev/colab-wheels/public/simple/\n",
            "Requirement already satisfied: torchsummary in /usr/local/lib/python3.8/dist-packages (1.5.1)\n",
            "cuda\n",
            "----------------------------------------------------------------\n",
            "        Layer (type)               Output Shape         Param #\n",
            "================================================================\n",
            "            Conv2d-1            [-1, 8, 26, 26]              80\n",
            "            Conv2d-2           [-1, 16, 24, 24]           1,168\n",
            "         MaxPool2d-3           [-1, 16, 12, 12]               0\n",
            "            Conv2d-4            [-1, 8, 12, 12]             136\n",
            "            Conv2d-5           [-1, 16, 10, 10]           1,168\n",
            "            Conv2d-6             [-1, 24, 8, 8]           3,480\n",
            "         AvgPool2d-7             [-1, 24, 1, 1]               0\n",
            "            Conv2d-8             [-1, 32, 1, 1]             800\n",
            "            Conv2d-9             [-1, 16, 1, 1]             528\n",
            "           Conv2d-10             [-1, 10, 1, 1]             170\n",
            "================================================================\n",
            "Total params: 7,530\n",
            "Trainable params: 7,530\n",
            "Non-trainable params: 0\n",
            "----------------------------------------------------------------\n",
            "Input size (MB): 0.00\n",
            "Forward/backward pass size (MB): 0.16\n",
            "Params size (MB): 0.03\n",
            "Estimated Total Size (MB): 0.19\n",
            "----------------------------------------------------------------\n"
          ]
        }
      ]
    },
    {
      "cell_type": "markdown",
      "metadata": {
        "id": "1__x_SbrL7z3"
      },
      "source": [
        "# Training and Testing"
      ]
    },
    {
      "cell_type": "code",
      "metadata": {
        "id": "fbkF2nN_LYIb"
      },
      "source": [
        "from tqdm import tqdm\n",
        "\n",
        "train_losses = []\n",
        "test_losses = []\n",
        "train_acc = []\n",
        "test_acc = []\n",
        "\n",
        "def train(model, device, train_loader, optimizer, epoch):\n",
        "  model.train()\n",
        "  pbar = tqdm(train_loader)\n",
        "  correct = 0\n",
        "  processed = 0\n",
        "  for batch_idx, (data, target) in enumerate(pbar):\n",
        "    # get samples\n",
        "    data, target = data.to(device), target.to(device)\n",
        "\n",
        "    # Init\n",
        "    optimizer.zero_grad()\n",
        "    # In PyTorch, we need to set the gradients to zero before starting to do backpropragation because PyTorch accumulates the gradients on subsequent backward passes. \n",
        "    # Because of this, when you start your training loop, ideally you should zero out the gradients so that you do the parameter update correctly.\n",
        "\n",
        "    # Predict\n",
        "    y_pred = model(data)\n",
        "\n",
        "    # Calculate loss\n",
        "    loss = F.nll_loss(y_pred, target)\n",
        "    train_losses.append(loss)\n",
        "\n",
        "    # Backpropagation\n",
        "    loss.backward()\n",
        "    optimizer.step()\n",
        "\n",
        "    # Update pbar-tqdm\n",
        "    \n",
        "    pred = y_pred.argmax(dim=1, keepdim=True)  # get the index of the max log-probability\n",
        "    correct += pred.eq(target.view_as(pred)).sum().item()\n",
        "    processed += len(data)\n",
        "\n",
        "    pbar.set_description(desc= f'Loss={loss.item()} Batch_id={batch_idx} Accuracy={100*correct/processed:0.2f}')\n",
        "    train_acc.append(100*correct/processed)\n",
        "\n",
        "def test(model, device, test_loader):\n",
        "    model.eval()\n",
        "    test_loss = 0\n",
        "    correct = 0\n",
        "    with torch.no_grad():\n",
        "        for data, target in test_loader:\n",
        "            data, target = data.to(device), target.to(device)\n",
        "            output = model(data)\n",
        "            test_loss += F.nll_loss(output, target, reduction='sum').item()  # sum up batch loss\n",
        "            pred = output.argmax(dim=1, keepdim=True)  # get the index of the max log-probability\n",
        "            correct += pred.eq(target.view_as(pred)).sum().item()\n",
        "\n",
        "    test_loss /= len(test_loader.dataset)\n",
        "    test_losses.append(test_loss)\n",
        "\n",
        "    print('\\nTest set: Average loss: {:.4f}, Accuracy: {}/{} ({:.2f}%)\\n'.format(\n",
        "        test_loss, correct, len(test_loader.dataset),\n",
        "        100. * correct / len(test_loader.dataset)))\n",
        "    \n",
        "    test_acc.append(100. * correct / len(test_loader.dataset))"
      ],
      "execution_count": 10,
      "outputs": []
    },
    {
      "cell_type": "markdown",
      "metadata": {
        "id": "drokW8wWODKq"
      },
      "source": [
        "# Let's Train and test our model"
      ]
    },
    {
      "cell_type": "code",
      "metadata": {
        "id": "xMCFxeAKOB53",
        "colab": {
          "base_uri": "https://localhost:8080/"
        },
        "outputId": "bcd3be92-cc1a-488b-e1e9-0d4ae4123759"
      },
      "source": [
        "model =  Net().to(device)\n",
        "optimizer = optim.SGD(model.parameters(), lr=0.01, momentum=0.9)\n",
        "EPOCHS = 15\n",
        "for epoch in range(EPOCHS):\n",
        "    print(\"EPOCH:\", epoch)\n",
        "    train(model, device, train_loader, optimizer, epoch)\n",
        "    test(model, device, test_loader)"
      ],
      "execution_count": 11,
      "outputs": [
        {
          "output_type": "stream",
          "name": "stdout",
          "text": [
            "EPOCH: 0\n"
          ]
        },
        {
          "output_type": "stream",
          "name": "stderr",
          "text": [
            "Loss=2.2949304580688477 Batch_id=468 Accuracy=10.97: 100%|██████████| 469/469 [00:16<00:00, 28.29it/s]\n"
          ]
        },
        {
          "output_type": "stream",
          "name": "stdout",
          "text": [
            "\n",
            "Test set: Average loss: 2.3009, Accuracy: 1135/10000 (11.35%)\n",
            "\n",
            "EPOCH: 1\n"
          ]
        },
        {
          "output_type": "stream",
          "name": "stderr",
          "text": [
            "Loss=2.2900540828704834 Batch_id=468 Accuracy=11.24: 100%|██████████| 469/469 [00:15<00:00, 30.28it/s]\n"
          ]
        },
        {
          "output_type": "stream",
          "name": "stdout",
          "text": [
            "\n",
            "Test set: Average loss: 2.2992, Accuracy: 1135/10000 (11.35%)\n",
            "\n",
            "EPOCH: 2\n"
          ]
        },
        {
          "output_type": "stream",
          "name": "stderr",
          "text": [
            "Loss=1.88473641872406 Batch_id=468 Accuracy=17.65: 100%|██████████| 469/469 [00:14<00:00, 32.96it/s]\n"
          ]
        },
        {
          "output_type": "stream",
          "name": "stdout",
          "text": [
            "\n",
            "Test set: Average loss: 1.9821, Accuracy: 2486/10000 (24.86%)\n",
            "\n",
            "EPOCH: 3\n"
          ]
        },
        {
          "output_type": "stream",
          "name": "stderr",
          "text": [
            "Loss=0.9276673197746277 Batch_id=468 Accuracy=47.84: 100%|██████████| 469/469 [00:14<00:00, 32.59it/s]\n"
          ]
        },
        {
          "output_type": "stream",
          "name": "stdout",
          "text": [
            "\n",
            "Test set: Average loss: 0.7377, Accuracy: 7504/10000 (75.04%)\n",
            "\n",
            "EPOCH: 4\n"
          ]
        },
        {
          "output_type": "stream",
          "name": "stderr",
          "text": [
            "Loss=0.3634425103664398 Batch_id=468 Accuracy=80.71: 100%|██████████| 469/469 [00:14<00:00, 32.90it/s]\n"
          ]
        },
        {
          "output_type": "stream",
          "name": "stdout",
          "text": [
            "\n",
            "Test set: Average loss: 0.3860, Accuracy: 8780/10000 (87.80%)\n",
            "\n",
            "EPOCH: 5\n"
          ]
        },
        {
          "output_type": "stream",
          "name": "stderr",
          "text": [
            "Loss=0.25479447841644287 Batch_id=468 Accuracy=90.87: 100%|██████████| 469/469 [00:14<00:00, 32.58it/s]\n"
          ]
        },
        {
          "output_type": "stream",
          "name": "stdout",
          "text": [
            "\n",
            "Test set: Average loss: 0.1794, Accuracy: 9448/10000 (94.48%)\n",
            "\n",
            "EPOCH: 6\n"
          ]
        },
        {
          "output_type": "stream",
          "name": "stderr",
          "text": [
            "Loss=0.06549306958913803 Batch_id=468 Accuracy=94.83: 100%|██████████| 469/469 [00:15<00:00, 30.35it/s]\n"
          ]
        },
        {
          "output_type": "stream",
          "name": "stdout",
          "text": [
            "\n",
            "Test set: Average loss: 0.1452, Accuracy: 9538/10000 (95.38%)\n",
            "\n",
            "EPOCH: 7\n"
          ]
        },
        {
          "output_type": "stream",
          "name": "stderr",
          "text": [
            "Loss=0.1386694461107254 Batch_id=468 Accuracy=95.99: 100%|██████████| 469/469 [00:14<00:00, 32.80it/s]\n"
          ]
        },
        {
          "output_type": "stream",
          "name": "stdout",
          "text": [
            "\n",
            "Test set: Average loss: 0.1100, Accuracy: 9658/10000 (96.58%)\n",
            "\n",
            "EPOCH: 8\n"
          ]
        },
        {
          "output_type": "stream",
          "name": "stderr",
          "text": [
            "Loss=0.052027519792318344 Batch_id=468 Accuracy=96.81: 100%|██████████| 469/469 [00:14<00:00, 33.40it/s]\n"
          ]
        },
        {
          "output_type": "stream",
          "name": "stdout",
          "text": [
            "\n",
            "Test set: Average loss: 0.1261, Accuracy: 9595/10000 (95.95%)\n",
            "\n",
            "EPOCH: 9\n"
          ]
        },
        {
          "output_type": "stream",
          "name": "stderr",
          "text": [
            "Loss=0.0959506630897522 Batch_id=468 Accuracy=97.30: 100%|██████████| 469/469 [00:14<00:00, 32.75it/s]\n"
          ]
        },
        {
          "output_type": "stream",
          "name": "stdout",
          "text": [
            "\n",
            "Test set: Average loss: 0.0672, Accuracy: 9786/10000 (97.86%)\n",
            "\n",
            "EPOCH: 10\n"
          ]
        },
        {
          "output_type": "stream",
          "name": "stderr",
          "text": [
            "Loss=0.04913612827658653 Batch_id=468 Accuracy=97.68: 100%|██████████| 469/469 [00:14<00:00, 32.63it/s]\n"
          ]
        },
        {
          "output_type": "stream",
          "name": "stdout",
          "text": [
            "\n",
            "Test set: Average loss: 0.0744, Accuracy: 9786/10000 (97.86%)\n",
            "\n",
            "EPOCH: 11\n"
          ]
        },
        {
          "output_type": "stream",
          "name": "stderr",
          "text": [
            "Loss=0.15558584034442902 Batch_id=468 Accuracy=97.91: 100%|██████████| 469/469 [00:14<00:00, 33.17it/s]\n"
          ]
        },
        {
          "output_type": "stream",
          "name": "stdout",
          "text": [
            "\n",
            "Test set: Average loss: 0.0707, Accuracy: 9770/10000 (97.70%)\n",
            "\n",
            "EPOCH: 12\n"
          ]
        },
        {
          "output_type": "stream",
          "name": "stderr",
          "text": [
            "Loss=0.10839885473251343 Batch_id=468 Accuracy=97.98: 100%|██████████| 469/469 [00:14<00:00, 33.01it/s]\n"
          ]
        },
        {
          "output_type": "stream",
          "name": "stdout",
          "text": [
            "\n",
            "Test set: Average loss: 0.0608, Accuracy: 9813/10000 (98.13%)\n",
            "\n",
            "EPOCH: 13\n"
          ]
        },
        {
          "output_type": "stream",
          "name": "stderr",
          "text": [
            "Loss=0.03812249377369881 Batch_id=468 Accuracy=98.08: 100%|██████████| 469/469 [00:14<00:00, 32.79it/s]\n"
          ]
        },
        {
          "output_type": "stream",
          "name": "stdout",
          "text": [
            "\n",
            "Test set: Average loss: 0.0599, Accuracy: 9813/10000 (98.13%)\n",
            "\n",
            "EPOCH: 14\n"
          ]
        },
        {
          "output_type": "stream",
          "name": "stderr",
          "text": [
            "Loss=0.08262475579977036 Batch_id=468 Accuracy=98.28: 100%|██████████| 469/469 [00:15<00:00, 30.27it/s]\n"
          ]
        },
        {
          "output_type": "stream",
          "name": "stdout",
          "text": [
            "\n",
            "Test set: Average loss: 0.0547, Accuracy: 9824/10000 (98.24%)\n",
            "\n"
          ]
        }
      ]
    },
    {
      "cell_type": "code",
      "metadata": {
        "id": "odozjbIvY12p"
      },
      "source": [],
      "execution_count": null,
      "outputs": []
    }
  ]
}